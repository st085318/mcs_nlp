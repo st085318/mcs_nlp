{
 "cells": [
  {
   "cell_type": "code",
   "execution_count": 1,
   "id": "a94fb684",
   "metadata": {},
   "outputs": [],
   "source": [
    "import torch\n",
    "import torch.nn as nn\n",
    "import torch.nn.functional as F\n",
    "import torch.optim as optim\n",
    "\n",
    "import numpy as np\n",
    "import pandas as pd\n",
    "\n",
    "import time\n",
    "import random\n",
    "import re\n",
    "\n",
    "from sklearn.metrics import classification_report\n",
    "from sklearn.model_selection import train_test_split\n",
    "from sklearn.utils import shuffle\n",
    "\n",
    "from tqdm import tqdm"
   ]
  },
  {
   "cell_type": "code",
   "execution_count": 2,
   "id": "4896708e",
   "metadata": {},
   "outputs": [],
   "source": [
    "data_path = 'gecodb_v01.tsv'"
   ]
  },
  {
   "cell_type": "markdown",
   "id": "10711dec",
   "metadata": {},
   "source": [
    "### Отбор данных [1 балл]"
   ]
  },
  {
   "cell_type": "code",
   "execution_count": 3,
   "id": "7115ff07",
   "metadata": {},
   "outputs": [],
   "source": [
    "df = pd.read_csv(data_path, sep='\\t', header=None)"
   ]
  },
  {
   "cell_type": "code",
   "execution_count": 4,
   "id": "0979cf3a",
   "metadata": {},
   "outputs": [],
   "source": [
    "df.columns = ['Word', 'Count']"
   ]
  },
  {
   "cell_type": "code",
   "execution_count": 5,
   "id": "f4408664",
   "metadata": {},
   "outputs": [
    {
     "data": {
      "text/html": [
       "<div>\n",
       "<style scoped>\n",
       "    .dataframe tbody tr th:only-of-type {\n",
       "        vertical-align: middle;\n",
       "    }\n",
       "\n",
       "    .dataframe tbody tr th {\n",
       "        vertical-align: top;\n",
       "    }\n",
       "\n",
       "    .dataframe thead th {\n",
       "        text-align: right;\n",
       "    }\n",
       "</style>\n",
       "<table border=\"1\" class=\"dataframe\">\n",
       "  <thead>\n",
       "    <tr style=\"text-align: right;\">\n",
       "      <th></th>\n",
       "      <th>Word</th>\n",
       "      <th>Count</th>\n",
       "    </tr>\n",
       "  </thead>\n",
       "  <tbody>\n",
       "    <tr>\n",
       "      <th>0</th>\n",
       "      <td>Zeit_Punkt</td>\n",
       "      <td>825790</td>\n",
       "    </tr>\n",
       "    <tr>\n",
       "      <th>1</th>\n",
       "      <td>Web_Seite</td>\n",
       "      <td>532934</td>\n",
       "    </tr>\n",
       "    <tr>\n",
       "      <th>2</th>\n",
       "      <td>Bund_+es_Regierung</td>\n",
       "      <td>437277</td>\n",
       "    </tr>\n",
       "    <tr>\n",
       "      <th>3</th>\n",
       "      <td>Welt_Krieg</td>\n",
       "      <td>419007</td>\n",
       "    </tr>\n",
       "    <tr>\n",
       "      <th>4</th>\n",
       "      <td>Mittel_Punkt</td>\n",
       "      <td>415822</td>\n",
       "    </tr>\n",
       "  </tbody>\n",
       "</table>\n",
       "</div>"
      ],
      "text/plain": [
       "                 Word   Count\n",
       "0          Zeit_Punkt  825790\n",
       "1           Web_Seite  532934\n",
       "2  Bund_+es_Regierung  437277\n",
       "3          Welt_Krieg  419007\n",
       "4        Mittel_Punkt  415822"
      ]
     },
     "execution_count": 5,
     "metadata": {},
     "output_type": "execute_result"
    }
   ],
   "source": [
    "df.head()"
   ]
  },
  {
   "cell_type": "code",
   "execution_count": 6,
   "id": "9f7b97d7",
   "metadata": {},
   "outputs": [
    {
     "data": {
      "text/plain": [
       "(22380133, 2)"
      ]
     },
     "execution_count": 6,
     "metadata": {},
     "output_type": "execute_result"
    }
   ],
   "source": [
    "df.shape"
   ]
  },
  {
   "cell_type": "markdown",
   "id": "74d493c1",
   "metadata": {},
   "source": [
    "Для начала отберём из множества слов только те, которые в качестве разделителя имеют ТОЛЬКО нижнее подчёркивание. Также не забываем о существовании букв немецкого алфавита. Регулярные выражения вам в помощь! :)"
   ]
  },
  {
   "cell_type": "code",
   "execution_count": 7,
   "id": "17cc56a3",
   "metadata": {},
   "outputs": [
    {
     "data": {
      "text/plain": [
       "(5657833, 2)"
      ]
     },
     "execution_count": 7,
     "metadata": {},
     "output_type": "execute_result"
    }
   ],
   "source": [
    "data = ...\n",
    "data.shape"
   ]
  },
  {
   "cell_type": "markdown",
   "id": "b21d8c32",
   "metadata": {},
   "source": [
    "Разумеется, вы можете взять больше слов, всё зависит от возможностей вашего компьютера. В нашем случае мы берём миллион слов."
   ]
  },
  {
   "cell_type": "code",
   "execution_count": 8,
   "id": "a2354f5b",
   "metadata": {},
   "outputs": [],
   "source": [
    "data = data.sample(n=1000000)"
   ]
  },
  {
   "cell_type": "markdown",
   "id": "c05a1c25",
   "metadata": {},
   "source": [
    "Теперь посмотрим на количество нижних подчёркиваний в словах. Такая информация нам пригодится для разделения данных на тренировочную и тестовую выборки. Обе выборки должны получиться репрезентативными."
   ]
  },
  {
   "cell_type": "code",
   "execution_count": 9,
   "id": "e633e49b",
   "metadata": {},
   "outputs": [],
   "source": [
    "underscores_counts = ..."
   ]
  },
  {
   "cell_type": "code",
   "execution_count": 10,
   "id": "54beb431",
   "metadata": {},
   "outputs": [
    {
     "data": {
      "text/plain": [
       "count    1000000.000000\n",
       "mean           1.294369\n",
       "std            0.495308\n",
       "min            0.000000\n",
       "25%            1.000000\n",
       "50%            1.000000\n",
       "75%            2.000000\n",
       "max            6.000000\n",
       "dtype: float64"
      ]
     },
     "execution_count": 10,
     "metadata": {},
     "output_type": "execute_result"
    }
   ],
   "source": [
    "underscores_counts.describe()"
   ]
  },
  {
   "cell_type": "code",
   "execution_count": 11,
   "id": "e09b0798",
   "metadata": {},
   "outputs": [
    {
     "data": {
      "text/plain": [
       "<AxesSubplot:>"
      ]
     },
     "execution_count": 11,
     "metadata": {},
     "output_type": "execute_result"
    },
    {
     "data": {
      "image/png": "[encoded data removed]",
      "text/plain": [
       "<Figure size 640x480 with 1 Axes>"
      ]
     },
     "metadata": {},
     "output_type": "display_data"
    }
   ],
   "source": [
    "underscores_counts.hist()"
   ]
  },
  {
   "cell_type": "code",
   "execution_count": 12,
   "id": "3cd486b2",
   "metadata": {},
   "outputs": [
    {
     "data": {
      "text/plain": [
       "<AxesSubplot:>"
      ]
     },
     "execution_count": 12,
     "metadata": {},
     "output_type": "execute_result"
    },
    {
     "data": {
      "image/png": "[encoded data removed]",
      "text/plain": [
       "<Figure size 640x480 with 1 Axes>"
      ]
     },
     "metadata": {},
     "output_type": "display_data"
    }
   ],
   "source": [
    "pd.DataFrame({'underscores_counts': underscores_counts}).boxplot()"
   ]
  },
  {
   "cell_type": "code",
   "execution_count": 13,
   "id": "3ab0de6e",
   "metadata": {},
   "outputs": [
    {
     "data": {
      "text/plain": [
       "1    723552\n",
       "2    259342\n",
       "3     16336\n",
       "4       721\n",
       "5        41\n",
       "6         6\n",
       "0         2\n",
       "dtype: int64"
      ]
     },
     "execution_count": 13,
     "metadata": {},
     "output_type": "execute_result"
    }
   ],
   "source": [
    "underscores_counts.value_counts()"
   ]
  },
  {
   "cell_type": "markdown",
   "id": "a4a4769f",
   "metadata": {},
   "source": [
    "Создадим словари символов и тегов"
   ]
  },
  {
   "cell_type": "code",
   "execution_count": 14,
   "id": "6cc1f82d",
   "metadata": {
    "scrolled": true
   },
   "outputs": [
    {
     "data": {
      "text/plain": [
       "30"
      ]
     },
     "execution_count": 14,
     "metadata": {},
     "output_type": "execute_result"
    }
   ],
   "source": [
    "chars = set([ch.lower() for word in data['Word'].values for ch in word if ch not in '_+'])\n",
    "len(chars)"
   ]
  },
  {
   "cell_type": "code",
   "execution_count": 15,
   "id": "2c22ee79",
   "metadata": {},
   "outputs": [],
   "source": [
    "TAGS = (0, 1, 2)\n",
    "\n",
    "char2index = {ch: i + 2 for i, ch in enumerate(list(chars))}\n",
    "char2index['-OOV-'] = 1\n",
    "char2index['-PAD-'] = 0\n",
    "char2index[None] = 1"
   ]
  },
  {
   "cell_type": "code",
   "execution_count": 16,
   "id": "39d7098c",
   "metadata": {},
   "outputs": [
    {
     "data": {
      "text/plain": [
       "33"
      ]
     },
     "execution_count": 16,
     "metadata": {},
     "output_type": "execute_result"
    }
   ],
   "source": [
    "len(char2index)"
   ]
  },
  {
   "cell_type": "markdown",
   "id": "65dddf97",
   "metadata": {},
   "source": [
    "### Простая разметка и разбиение данных на обучающую и тестовую выборку [2 балла]"
   ]
  },
  {
   "cell_type": "markdown",
   "id": "bb7a90ff",
   "metadata": {},
   "source": [
    "Теперь будем кодировать слова."
   ]
  },
  {
   "cell_type": "markdown",
   "id": "5ac9996a",
   "metadata": {},
   "source": [
    "Для начала будем считать, что выходная последовательность состоит из двух чисел. Цифрой `1` будем указывать границу подстроки, то есть символ, стоящий перед `_`. В остальных случаях заполняем последовательность нулями."
   ]
  },
  {
   "cell_type": "markdown",
   "id": "66faf6f7",
   "metadata": {},
   "source": [
    "Итак, заполним позиции символов следующим образом:\n",
    "\n",
    "`0 - <Word-In>`\n",
    "\n",
    "`1 - <Word-End>`"
   ]
  },
  {
   "cell_type": "code",
   "execution_count": 2,
   "id": "035e3461",
   "metadata": {},
   "outputs": [],
   "source": [
    "def simple_compound_annotation(word):\n",
    "    seq = []\n",
    "    # YOUR CODE HERE\n",
    "    return str(seq)"
   ]
  },
  {
   "cell_type": "code",
   "execution_count": 18,
   "id": "296bf816",
   "metadata": {},
   "outputs": [
    {
     "data": {
      "text/plain": [
       "'[0, 0, 0, 1, 0, 0, 0, 0, 0]'"
      ]
     },
     "execution_count": 18,
     "metadata": {},
     "output_type": "execute_result"
    }
   ],
   "source": [
    "simple_compound_annotation('Zeit_Punkt')"
   ]
  },
  {
   "cell_type": "code",
   "execution_count": 19,
   "id": "85bef865",
   "metadata": {},
   "outputs": [],
   "source": [
    "data['Annotation'] = data['Word'].apply(simple_compound_annotation)"
   ]
  },
  {
   "cell_type": "code",
   "execution_count": 21,
   "id": "c8781da0",
   "metadata": {},
   "outputs": [],
   "source": [
    "data['Underscores'] = ..."
   ]
  },
  {
   "cell_type": "code",
   "execution_count": 22,
   "id": "e3c5c644",
   "metadata": {},
   "outputs": [
    {
     "data": {
      "text/html": [
       "<div>\n",
       "<style scoped>\n",
       "    .dataframe tbody tr th:only-of-type {\n",
       "        vertical-align: middle;\n",
       "    }\n",
       "\n",
       "    .dataframe tbody tr th {\n",
       "        vertical-align: top;\n",
       "    }\n",
       "\n",
       "    .dataframe thead th {\n",
       "        text-align: right;\n",
       "    }\n",
       "</style>\n",
       "<table border=\"1\" class=\"dataframe\">\n",
       "  <thead>\n",
       "    <tr style=\"text-align: right;\">\n",
       "      <th></th>\n",
       "      <th>Word</th>\n",
       "      <th>Count</th>\n",
       "      <th>Annotation</th>\n",
       "      <th>Underscores</th>\n",
       "    </tr>\n",
       "  </thead>\n",
       "  <tbody>\n",
       "    <tr>\n",
       "      <th>6852014</th>\n",
       "      <td>Raum_Vergeudung</td>\n",
       "      <td>2</td>\n",
       "      <td>[0, 0, 0, 1, 0, 0, 0, 0, 0, 0, 0, 0, 0, 0]</td>\n",
       "      <td>1</td>\n",
       "    </tr>\n",
       "    <tr>\n",
       "      <th>17324266</th>\n",
       "      <td>Holz_Papier_Produktion</td>\n",
       "      <td>1</td>\n",
       "      <td>[0, 0, 0, 1, 0, 0, 0, 0, 0, 1, 0, 0, 0, 0, 0, ...</td>\n",
       "      <td>2</td>\n",
       "    </tr>\n",
       "    <tr>\n",
       "      <th>4824675</th>\n",
       "      <td>Spiel_Tag_Info</td>\n",
       "      <td>3</td>\n",
       "      <td>[0, 0, 0, 0, 1, 0, 0, 1, 0, 0, 0, 0]</td>\n",
       "      <td>2</td>\n",
       "    </tr>\n",
       "  </tbody>\n",
       "</table>\n",
       "</div>"
      ],
      "text/plain": [
       "                            Word  Count  \\\n",
       "6852014          Raum_Vergeudung      2   \n",
       "17324266  Holz_Papier_Produktion      1   \n",
       "4824675           Spiel_Tag_Info      3   \n",
       "\n",
       "                                                 Annotation  Underscores  \n",
       "6852014          [0, 0, 0, 1, 0, 0, 0, 0, 0, 0, 0, 0, 0, 0]            1  \n",
       "17324266  [0, 0, 0, 1, 0, 0, 0, 0, 0, 1, 0, 0, 0, 0, 0, ...            2  \n",
       "4824675                [0, 0, 0, 0, 1, 0, 0, 1, 0, 0, 0, 0]            2  "
      ]
     },
     "execution_count": 22,
     "metadata": {},
     "output_type": "execute_result"
    }
   ],
   "source": [
    "data.head(3)"
   ]
  },
  {
   "cell_type": "markdown",
   "id": "cba0a625",
   "metadata": {},
   "source": [
    "Перемешаем слова, чтобы они не следовали в алфавитном порядке."
   ]
  },
  {
   "cell_type": "code",
   "execution_count": 20,
   "id": "c795413f",
   "metadata": {},
   "outputs": [
    {
     "data": {
      "text/html": [
       "<div>\n",
       "<style scoped>\n",
       "    .dataframe tbody tr th:only-of-type {\n",
       "        vertical-align: middle;\n",
       "    }\n",
       "\n",
       "    .dataframe tbody tr th {\n",
       "        vertical-align: top;\n",
       "    }\n",
       "\n",
       "    .dataframe thead th {\n",
       "        text-align: right;\n",
       "    }\n",
       "</style>\n",
       "<table border=\"1\" class=\"dataframe\">\n",
       "  <thead>\n",
       "    <tr style=\"text-align: right;\">\n",
       "      <th></th>\n",
       "      <th>Word</th>\n",
       "      <th>Count</th>\n",
       "      <th>Annotation</th>\n",
       "    </tr>\n",
       "  </thead>\n",
       "  <tbody>\n",
       "    <tr>\n",
       "      <th>6852014</th>\n",
       "      <td>Raum_Vergeudung</td>\n",
       "      <td>2</td>\n",
       "      <td>[0, 0, 0, 1, 0, 0, 0, 0, 0, 0, 0, 0, 0, 0]</td>\n",
       "    </tr>\n",
       "    <tr>\n",
       "      <th>17324266</th>\n",
       "      <td>Holz_Papier_Produktion</td>\n",
       "      <td>1</td>\n",
       "      <td>[0, 0, 0, 1, 0, 0, 0, 0, 0, 1, 0, 0, 0, 0, 0, ...</td>\n",
       "    </tr>\n",
       "    <tr>\n",
       "      <th>4824675</th>\n",
       "      <td>Spiel_Tag_Info</td>\n",
       "      <td>3</td>\n",
       "      <td>[0, 0, 0, 0, 1, 0, 0, 1, 0, 0, 0, 0]</td>\n",
       "    </tr>\n",
       "    <tr>\n",
       "      <th>12674489</th>\n",
       "      <td>Router_Vorschlag</td>\n",
       "      <td>1</td>\n",
       "      <td>[0, 0, 0, 0, 0, 1, 0, 0, 0, 0, 0, 0, 0, 0, 0]</td>\n",
       "    </tr>\n",
       "    <tr>\n",
       "      <th>737480</th>\n",
       "      <td>Tür_Beleuchtung</td>\n",
       "      <td>41</td>\n",
       "      <td>[0, 0, 1, 0, 0, 0, 0, 0, 0, 0, 0, 0, 0, 0]</td>\n",
       "    </tr>\n",
       "    <tr>\n",
       "      <th>1552836</th>\n",
       "      <td>Lot_Strecke</td>\n",
       "      <td>15</td>\n",
       "      <td>[0, 0, 1, 0, 0, 0, 0, 0, 0, 0]</td>\n",
       "    </tr>\n",
       "    <tr>\n",
       "      <th>1058363</th>\n",
       "      <td>Symbol_Befehl</td>\n",
       "      <td>25</td>\n",
       "      <td>[0, 0, 0, 0, 0, 1, 0, 0, 0, 0, 0, 0]</td>\n",
       "    </tr>\n",
       "    <tr>\n",
       "      <th>2911165</th>\n",
       "      <td>Trojaner_Signatur</td>\n",
       "      <td>6</td>\n",
       "      <td>[0, 0, 0, 0, 0, 0, 0, 1, 0, 0, 0, 0, 0, 0, 0, 0]</td>\n",
       "    </tr>\n",
       "    <tr>\n",
       "      <th>4836133</th>\n",
       "      <td>Sound_Choreographie</td>\n",
       "      <td>3</td>\n",
       "      <td>[0, 0, 0, 0, 1, 0, 0, 0, 0, 0, 0, 0, 0, 0, 0, ...</td>\n",
       "    </tr>\n",
       "    <tr>\n",
       "      <th>8102670</th>\n",
       "      <td>frisch_Käse_Laib</td>\n",
       "      <td>2</td>\n",
       "      <td>[0, 0, 0, 0, 0, 1, 0, 0, 0, 1, 0, 0, 0, 0]</td>\n",
       "    </tr>\n",
       "  </tbody>\n",
       "</table>\n",
       "</div>"
      ],
      "text/plain": [
       "                            Word  Count  \\\n",
       "6852014          Raum_Vergeudung      2   \n",
       "17324266  Holz_Papier_Produktion      1   \n",
       "4824675           Spiel_Tag_Info      3   \n",
       "12674489        Router_Vorschlag      1   \n",
       "737480           Tür_Beleuchtung     41   \n",
       "1552836              Lot_Strecke     15   \n",
       "1058363            Symbol_Befehl     25   \n",
       "2911165        Trojaner_Signatur      6   \n",
       "4836133      Sound_Choreographie      3   \n",
       "8102670         frisch_Käse_Laib      2   \n",
       "\n",
       "                                                 Annotation  \n",
       "6852014          [0, 0, 0, 1, 0, 0, 0, 0, 0, 0, 0, 0, 0, 0]  \n",
       "17324266  [0, 0, 0, 1, 0, 0, 0, 0, 0, 1, 0, 0, 0, 0, 0, ...  \n",
       "4824675                [0, 0, 0, 0, 1, 0, 0, 1, 0, 0, 0, 0]  \n",
       "12674489      [0, 0, 0, 0, 0, 1, 0, 0, 0, 0, 0, 0, 0, 0, 0]  \n",
       "737480           [0, 0, 1, 0, 0, 0, 0, 0, 0, 0, 0, 0, 0, 0]  \n",
       "1552836                      [0, 0, 1, 0, 0, 0, 0, 0, 0, 0]  \n",
       "1058363                [0, 0, 0, 0, 0, 1, 0, 0, 0, 0, 0, 0]  \n",
       "2911165    [0, 0, 0, 0, 0, 0, 0, 1, 0, 0, 0, 0, 0, 0, 0, 0]  \n",
       "4836133   [0, 0, 0, 0, 1, 0, 0, 0, 0, 0, 0, 0, 0, 0, 0, ...  \n",
       "8102670          [0, 0, 0, 0, 0, 1, 0, 0, 0, 1, 0, 0, 0, 0]  "
      ]
     },
     "execution_count": 20,
     "metadata": {},
     "output_type": "execute_result"
    }
   ],
   "source": [
    "data = shuffle(data)\n",
    "data.head(10)"
   ]
  },
  {
   "cell_type": "markdown",
   "id": "15db3b36",
   "metadata": {},
   "source": [
    "Разделим выборку на тренировочную и тестовую. Обратим внимание, что в распределении больше всего двусложных и трёхсложных слов. Поэтому мы их в первую очередь и возьмём в обучающие данные. А большую часть многосложных слов (особенно если их совсем немного) отправим в тестовую выборку.\n",
    "\n",
    "На всякий случай, мы не берём в выборку слова, которые не содержат никаких подчёркиваний :)"
   ]
  },
  {
   "cell_type": "markdown",
   "id": "711834d9",
   "metadata": {},
   "source": [
    "Также никто не мешает вам создать валидационную выборку и потом корректировать по ней качество модели :)"
   ]
  },
  {
   "cell_type": "code",
   "execution_count": 27,
   "id": "90cee1b1",
   "metadata": {},
   "outputs": [],
   "source": [
    "train = ...\n",
    "val = ...\n",
    "test = ..."
   ]
  },
  {
   "cell_type": "code",
   "execution_count": 28,
   "id": "d5b359ec",
   "metadata": {},
   "outputs": [
    {
     "data": {
      "text/plain": [
       "((699461, 4), (300537, 4))"
      ]
     },
     "execution_count": 28,
     "metadata": {},
     "output_type": "execute_result"
    }
   ],
   "source": [
    "train.shape, test.shape"
   ]
  },
  {
   "cell_type": "code",
   "execution_count": 29,
   "id": "dac63af2",
   "metadata": {},
   "outputs": [],
   "source": [
    "train = shuffle(train)\n",
    "test = shuffle(test)"
   ]
  },
  {
   "cell_type": "code",
   "execution_count": 30,
   "id": "bd6aa7f0",
   "metadata": {},
   "outputs": [
    {
     "data": {
      "text/plain": [
       "1    506632\n",
       "2    181323\n",
       "3     11506\n",
       "Name: Underscores, dtype: int64"
      ]
     },
     "execution_count": 30,
     "metadata": {},
     "output_type": "execute_result"
    }
   ],
   "source": [
    "train.Underscores.value_counts()"
   ]
  },
  {
   "cell_type": "code",
   "execution_count": 31,
   "id": "840755b1",
   "metadata": {},
   "outputs": [
    {
     "data": {
      "text/plain": [
       "1    216920\n",
       "2     78019\n",
       "3      4830\n",
       "4       721\n",
       "5        41\n",
       "6         6\n",
       "Name: Underscores, dtype: int64"
      ]
     },
     "execution_count": 31,
     "metadata": {},
     "output_type": "execute_result"
    }
   ],
   "source": [
    "test.Underscores.value_counts()"
   ]
  },
  {
   "cell_type": "code",
   "execution_count": 70,
   "id": "20b2a5fe",
   "metadata": {},
   "outputs": [],
   "source": [
    "def list2tensor(l):\n",
    "    return torch.tensor(l, dtype=torch.long)\n",
    "\n",
    "def encode_sentences(words):\n",
    "    \"\"\"\n",
    "    Напишите функцию, кодирующую слова в последовательности символьных кодов\n",
    "    Обратите внимание на то, чтобы функция умела обрабатывать символы, которых нет в словаре.\n",
    "    Также не забываёте о том, что все нижние подчёркивания и маркеры для инфиксов должны быть удалены из слов.\n",
    "    Чтобы быстрее обрабатывать слова, рекомендуется вместо питоновских списков использвать функцию np.zeros(...) \n",
    "    и затем добавлять код символа по индексу\n",
    "    \n",
    "    :param words: список слов\n",
    "    \":return массив с тензорами, состоящими из символьных кодов\"\n",
    "    \"\"\"\n",
    "    words_X = []\n",
    "    # YOUR CODE HERE\n",
    "    return words_X\n",
    "\n",
    "def encode_tags(tags):\n",
    "    return [list2tensor(eval(ts)) for ts in tags]"
   ]
  },
  {
   "cell_type": "code",
   "execution_count": 33,
   "id": "9f00d6f2",
   "metadata": {
    "scrolled": true
   },
   "outputs": [],
   "source": [
    "train_x, train_y = encode_sentences(train['Word'].values), encode_tags(train['Annotation'].values)"
   ]
  },
  {
   "cell_type": "code",
   "execution_count": 34,
   "id": "09b53c40",
   "metadata": {},
   "outputs": [],
   "source": [
    "test_x, test_y = encode_sentences(test['Word'].values), encode_tags(test['Annotation'].values)"
   ]
  },
  {
   "cell_type": "markdown",
   "id": "683c7b7b",
   "metadata": {},
   "source": [
    "### Разделитель слов [2 балла] (+1 за валидационную выборку)"
   ]
  },
  {
   "cell_type": "markdown",
   "id": "1fc1debc",
   "metadata": {},
   "source": [
    "Построим сегментатор на основе символьной языковой модели."
   ]
  },
  {
   "cell_type": "code",
   "execution_count": 35,
   "id": "cbfa9691",
   "metadata": {},
   "outputs": [],
   "source": [
    "class BiLSTMTagger(nn.Module):\n",
    "    def __init__(self, embedding_dim, hidden_dim, vocab_size, tagset_size, dropout=0.2):\n",
    "        super(BiLSTMTagger, self).__init__()\n",
    "        self.hidden_dim = hidden_dim\n",
    "\n",
    "        self.embeddings = ... # строим symbol2vec-матрицу\n",
    "        self.bilstm = ... # двунаправленный LSTM-слой\n",
    "        self.dense = ... # обычный fc-layer\n",
    "        self.dropout = ...\n",
    "\n",
    "    def forward(self, word):\n",
    "        \"\"\"\n",
    "        Напишите код для архитектуры сети\n",
    "        В конце вам может пригодиться softmax\n",
    "        \"\"\"\n",
    "        # YOUR CODE HERE\n",
    "        return tag_scores"
   ]
  },
  {
   "cell_type": "markdown",
   "id": "e7a95838",
   "metadata": {},
   "source": [
    "Обучение"
   ]
  },
  {
   "cell_type": "code",
   "execution_count": 40,
   "id": "0ea82036",
   "metadata": {},
   "outputs": [],
   "source": [
    "EMBEDDING_DIM = 32\n",
    "HIDDEN_DIM = 32\n",
    "N_EPOCHS = 3\n",
    "N_TAGS = 2"
   ]
  },
  {
   "cell_type": "code",
   "execution_count": 41,
   "id": "c7d67ddd",
   "metadata": {},
   "outputs": [],
   "source": [
    "model = BiLSTMTagger(EMBEDDING_DIM, HIDDEN_DIM, len(char2index), N_TAGS)\n",
    "loss_function = nn.NLLLoss()\n",
    "optimizer = optim.SGD(model.parameters(), lr=0.01)"
   ]
  },
  {
   "cell_type": "code",
   "execution_count": 42,
   "id": "c5f66f4c",
   "metadata": {},
   "outputs": [
    {
     "data": {
      "text/plain": [
       "18082"
      ]
     },
     "execution_count": 42,
     "metadata": {},
     "output_type": "execute_result"
    }
   ],
   "source": [
    "sum(p.numel() for p in model.parameters())"
   ]
  },
  {
   "cell_type": "code",
   "execution_count": null,
   "id": "7a6cc787",
   "metadata": {},
   "outputs": [],
   "source": [
    "@torch.no_grad()\n",
    "def print_metrics(model, data, batch_size=BATCH_SIZE, name=\"\", **kw):\n",
    "    model.eval()\n",
    "    # YOUR CODE HERE\n",
    "    # Берите любые метрики, которые хотите оценивать на валидационной выборке"
   ]
  },
  {
   "cell_type": "code",
   "execution_count": 43,
   "id": "aa75999a",
   "metadata": {
    "scrolled": true
   },
   "outputs": [
    {
     "name": "stdout",
     "output_type": "stream",
     "text": [
      "[1, 10000/699461] loss: 0.288\n",
      "[1, 20000/699461] loss: 0.250\n",
      "[1, 30000/699461] loss: 0.219\n",
      "[1, 40000/699461] loss: 0.200\n",
      "[1, 50000/699461] loss: 0.188\n",
      "[1, 60000/699461] loss: 0.173\n",
      "[1, 70000/699461] loss: 0.162\n",
      "[1, 80000/699461] loss: 0.153\n",
      "[1, 90000/699461] loss: 0.145\n",
      "[1, 100000/699461] loss: 0.138\n",
      "[1, 110000/699461] loss: 0.134\n",
      "[1, 120000/699461] loss: 0.131\n",
      "[1, 130000/699461] loss: 0.128\n",
      "[1, 140000/699461] loss: 0.124\n",
      "[1, 150000/699461] loss: 0.123\n",
      "[1, 160000/699461] loss: 0.116\n",
      "[1, 170000/699461] loss: 0.115\n",
      "[1, 180000/699461] loss: 0.115\n",
      "[1, 190000/699461] loss: 0.111\n",
      "[1, 200000/699461] loss: 0.109\n",
      "[1, 210000/699461] loss: 0.107\n",
      "[1, 220000/699461] loss: 0.107\n",
      "[1, 230000/699461] loss: 0.102\n",
      "[1, 240000/699461] loss: 0.102\n",
      "[1, 250000/699461] loss: 0.102\n",
      "[1, 260000/699461] loss: 0.102\n",
      "[1, 270000/699461] loss: 0.098\n",
      "[1, 280000/699461] loss: 0.098\n",
      "[1, 290000/699461] loss: 0.097\n",
      "[1, 300000/699461] loss: 0.097\n",
      "[1, 310000/699461] loss: 0.094\n",
      "[1, 320000/699461] loss: 0.094\n",
      "[1, 330000/699461] loss: 0.094\n",
      "[1, 340000/699461] loss: 0.094\n",
      "[1, 350000/699461] loss: 0.091\n",
      "[1, 360000/699461] loss: 0.091\n",
      "[1, 370000/699461] loss: 0.092\n",
      "[1, 380000/699461] loss: 0.090\n",
      "[1, 390000/699461] loss: 0.088\n",
      "[1, 400000/699461] loss: 0.088\n",
      "[1, 410000/699461] loss: 0.088\n",
      "[1, 420000/699461] loss: 0.086\n",
      "[1, 430000/699461] loss: 0.087\n",
      "[1, 440000/699461] loss: 0.087\n",
      "[1, 450000/699461] loss: 0.084\n",
      "[1, 460000/699461] loss: 0.083\n",
      "[1, 470000/699461] loss: 0.084\n",
      "[1, 480000/699461] loss: 0.084\n",
      "[1, 490000/699461] loss: 0.081\n",
      "[1, 500000/699461] loss: 0.082\n",
      "[1, 510000/699461] loss: 0.082\n",
      "[1, 520000/699461] loss: 0.081\n",
      "[1, 530000/699461] loss: 0.082\n",
      "[1, 540000/699461] loss: 0.081\n",
      "[1, 550000/699461] loss: 0.080\n",
      "[1, 560000/699461] loss: 0.080\n",
      "[1, 570000/699461] loss: 0.079\n",
      "[1, 580000/699461] loss: 0.077\n",
      "[1, 590000/699461] loss: 0.079\n",
      "[1, 600000/699461] loss: 0.079\n",
      "[1, 610000/699461] loss: 0.077\n",
      "[1, 620000/699461] loss: 0.076\n",
      "[1, 630000/699461] loss: 0.076\n",
      "[1, 640000/699461] loss: 0.076\n",
      "[1, 650000/699461] loss: 0.077\n",
      "[1, 660000/699461] loss: 0.075\n",
      "[1, 670000/699461] loss: 0.076\n",
      "[1, 680000/699461] loss: 0.075\n",
      "[1, 690000/699461] loss: 0.074\n",
      "[2, 10000/699461] loss: 0.072\n",
      "[2, 20000/699461] loss: 0.072\n",
      "[2, 30000/699461] loss: 0.073\n",
      "[2, 40000/699461] loss: 0.073\n",
      "[2, 50000/699461] loss: 0.072\n",
      "[2, 60000/699461] loss: 0.071\n",
      "[2, 70000/699461] loss: 0.072\n",
      "[2, 80000/699461] loss: 0.072\n",
      "[2, 90000/699461] loss: 0.072\n",
      "[2, 100000/699461] loss: 0.071\n",
      "[2, 110000/699461] loss: 0.071\n",
      "[2, 120000/699461] loss: 0.071\n",
      "[2, 130000/699461] loss: 0.070\n",
      "[2, 140000/699461] loss: 0.069\n",
      "[2, 150000/699461] loss: 0.070\n",
      "[2, 160000/699461] loss: 0.068\n",
      "[2, 170000/699461] loss: 0.068\n",
      "[2, 180000/699461] loss: 0.069\n",
      "[2, 190000/699461] loss: 0.068\n",
      "[2, 200000/699461] loss: 0.068\n",
      "[2, 210000/699461] loss: 0.067\n",
      "[2, 220000/699461] loss: 0.068\n",
      "[2, 230000/699461] loss: 0.065\n",
      "[2, 240000/699461] loss: 0.067\n",
      "[2, 250000/699461] loss: 0.068\n",
      "[2, 260000/699461] loss: 0.067\n",
      "[2, 270000/699461] loss: 0.064\n",
      "[2, 280000/699461] loss: 0.066\n",
      "[2, 290000/699461] loss: 0.065\n",
      "[2, 300000/699461] loss: 0.066\n",
      "[2, 310000/699461] loss: 0.065\n",
      "[2, 320000/699461] loss: 0.065\n",
      "[2, 330000/699461] loss: 0.067\n",
      "[2, 340000/699461] loss: 0.066\n",
      "[2, 350000/699461] loss: 0.063\n",
      "[2, 360000/699461] loss: 0.064\n",
      "[2, 370000/699461] loss: 0.065\n",
      "[2, 380000/699461] loss: 0.065\n",
      "[2, 390000/699461] loss: 0.064\n",
      "[2, 400000/699461] loss: 0.065\n",
      "[2, 410000/699461] loss: 0.064\n",
      "[2, 420000/699461] loss: 0.062\n",
      "[2, 430000/699461] loss: 0.064\n",
      "[2, 440000/699461] loss: 0.065\n",
      "[2, 450000/699461] loss: 0.062\n",
      "[2, 460000/699461] loss: 0.062\n",
      "[2, 470000/699461] loss: 0.063\n",
      "[2, 480000/699461] loss: 0.063\n",
      "[2, 490000/699461] loss: 0.061\n",
      "[2, 500000/699461] loss: 0.064\n",
      "[2, 510000/699461] loss: 0.062\n",
      "[2, 520000/699461] loss: 0.062\n",
      "[2, 530000/699461] loss: 0.062\n",
      "[2, 540000/699461] loss: 0.062\n",
      "[2, 550000/699461] loss: 0.062\n",
      "[2, 560000/699461] loss: 0.061\n",
      "[2, 570000/699461] loss: 0.062\n",
      "[2, 580000/699461] loss: 0.060\n",
      "[2, 590000/699461] loss: 0.061\n",
      "[2, 600000/699461] loss: 0.061\n",
      "[2, 610000/699461] loss: 0.060\n",
      "[2, 620000/699461] loss: 0.060\n",
      "[2, 630000/699461] loss: 0.060\n",
      "[2, 640000/699461] loss: 0.059\n",
      "[2, 650000/699461] loss: 0.060\n",
      "[2, 660000/699461] loss: 0.059\n",
      "[2, 670000/699461] loss: 0.060\n",
      "[2, 680000/699461] loss: 0.059\n",
      "[2, 690000/699461] loss: 0.059\n",
      "[3, 10000/699461] loss: 0.058\n",
      "[3, 20000/699461] loss: 0.057\n",
      "[3, 30000/699461] loss: 0.058\n",
      "[3, 40000/699461] loss: 0.058\n",
      "[3, 50000/699461] loss: 0.058\n",
      "[3, 60000/699461] loss: 0.057\n",
      "[3, 70000/699461] loss: 0.059\n",
      "[3, 80000/699461] loss: 0.059\n",
      "[3, 90000/699461] loss: 0.058\n",
      "[3, 100000/699461] loss: 0.057\n",
      "[3, 110000/699461] loss: 0.058\n",
      "[3, 120000/699461] loss: 0.057\n",
      "[3, 130000/699461] loss: 0.057\n",
      "[3, 140000/699461] loss: 0.056\n",
      "[3, 150000/699461] loss: 0.058\n",
      "[3, 160000/699461] loss: 0.055\n",
      "[3, 170000/699461] loss: 0.056\n",
      "[3, 180000/699461] loss: 0.057\n",
      "[3, 190000/699461] loss: 0.057\n",
      "[3, 200000/699461] loss: 0.056\n",
      "[3, 210000/699461] loss: 0.055\n",
      "[3, 220000/699461] loss: 0.057\n",
      "[3, 230000/699461] loss: 0.054\n",
      "[3, 240000/699461] loss: 0.055\n",
      "[3, 250000/699461] loss: 0.056\n",
      "[3, 260000/699461] loss: 0.056\n",
      "[3, 270000/699461] loss: 0.053\n",
      "[3, 280000/699461] loss: 0.055\n",
      "[3, 290000/699461] loss: 0.054\n",
      "[3, 300000/699461] loss: 0.056\n",
      "[3, 310000/699461] loss: 0.055\n",
      "[3, 320000/699461] loss: 0.055\n",
      "[3, 330000/699461] loss: 0.055\n",
      "[3, 340000/699461] loss: 0.055\n",
      "[3, 350000/699461] loss: 0.053\n",
      "[3, 360000/699461] loss: 0.054\n",
      "[3, 370000/699461] loss: 0.055\n",
      "[3, 380000/699461] loss: 0.055\n",
      "[3, 390000/699461] loss: 0.054\n",
      "[3, 400000/699461] loss: 0.056\n",
      "[3, 410000/699461] loss: 0.055\n",
      "[3, 420000/699461] loss: 0.053\n",
      "[3, 430000/699461] loss: 0.055\n",
      "[3, 440000/699461] loss: 0.056\n",
      "[3, 450000/699461] loss: 0.053\n",
      "[3, 460000/699461] loss: 0.053\n",
      "[3, 470000/699461] loss: 0.054\n",
      "[3, 480000/699461] loss: 0.053\n",
      "[3, 490000/699461] loss: 0.053\n",
      "[3, 500000/699461] loss: 0.053\n",
      "[3, 510000/699461] loss: 0.054\n",
      "[3, 520000/699461] loss: 0.053\n",
      "[3, 530000/699461] loss: 0.053\n",
      "[3, 540000/699461] loss: 0.054\n",
      "[3, 550000/699461] loss: 0.052\n",
      "[3, 560000/699461] loss: 0.052\n",
      "[3, 570000/699461] loss: 0.053\n",
      "[3, 580000/699461] loss: 0.052\n",
      "[3, 590000/699461] loss: 0.053\n",
      "[3, 600000/699461] loss: 0.054\n",
      "[3, 610000/699461] loss: 0.053\n",
      "[3, 620000/699461] loss: 0.052\n",
      "[3, 630000/699461] loss: 0.051\n",
      "[3, 640000/699461] loss: 0.052\n",
      "[3, 650000/699461] loss: 0.052\n",
      "[3, 660000/699461] loss: 0.051\n",
      "[3, 670000/699461] loss: 0.052\n",
      "[3, 680000/699461] loss: 0.051\n",
      "[3, 690000/699461] loss: 0.052\n"
     ]
    }
   ],
   "source": [
    "for epoch in range(N_EPOCHS): \n",
    "    model.train()\n",
    "    running_loss = 0.0\n",
    "    for i, (word_in, targets) in enumerate(zip(train_x, train_y)):\n",
    "        model.zero_grad()\n",
    "        tag_scores = model(word_in)\n",
    "        loss = loss_function(tag_scores, targets)\n",
    "        loss.backward()\n",
    "        optimizer.step()\n",
    "        \n",
    "        # print statistics\n",
    "        \n",
    "        running_loss += loss.item()\n",
    "        if i % 10000 == 9999:\n",
    "            print(f'[{epoch + 1}, {i + 1:5d}/{len(train_x)}] loss: {running_loss / 10000:.3f}')\n",
    "            running_loss = 0.0\n",
    "            \n",
    "    ### ЗДЕСЬ МОЖЕТ БЫТЬ ВАША (РЕКЛАМА!) ВАЛИДАЦИОННАЯ ВЫБОРКА\n",
    "    print_metrics(model, val_data, max_len=128)"
   ]
  },
  {
   "cell_type": "code",
   "execution_count": 44,
   "id": "3ff9785e",
   "metadata": {},
   "outputs": [
    {
     "name": "stderr",
     "output_type": "stream",
     "text": [
      " 71%|█████████████████████████████████████████████████████████████████████████████████████████████████████████████████████▍                                               | 213874/300537 [05:07<02:02, 707.92it/s]IOPub message rate exceeded.\n",
      "The notebook server will temporarily stop sending output\n",
      "to the client in order to avoid crashing it.\n",
      "To change this limit, set the config variable\n",
      "`--NotebookApp.iopub_msg_rate_limit`.\n",
      "\n",
      "Current values:\n",
      "NotebookApp.iopub_msg_rate_limit=1000.0 (msgs/sec)\n",
      "NotebookApp.rate_limit_window=3.0 (secs)\n",
      "\n"
     ]
    }
   ],
   "source": [
    "predicts = ..."
   ]
  },
  {
   "cell_type": "code",
   "execution_count": 45,
   "id": "7921f493",
   "metadata": {},
   "outputs": [],
   "source": [
    "y_true = [l for seq in test_y for l in seq]\n",
    "y_pred = [l for seq in predicts for l in seq]"
   ]
  },
  {
   "cell_type": "code",
   "execution_count": 46,
   "id": "cece0fde",
   "metadata": {},
   "outputs": [
    {
     "name": "stdout",
     "output_type": "stream",
     "text": [
      "              precision    recall  f1-score   support\n",
      "\n",
      "     Word-In       0.99      0.99      0.99   3961250\n",
      "    Word-End       0.91      0.88      0.89    390573\n",
      "\n",
      "    accuracy                           0.98   4351823\n",
      "   macro avg       0.95      0.94      0.94   4351823\n",
      "weighted avg       0.98      0.98      0.98   4351823\n",
      "\n"
     ]
    }
   ],
   "source": [
    "target_names = ('Word-In', 'Word-End')\n",
    "\n",
    "print(classification_report(y_true, y_pred, target_names=target_names))"
   ]
  },
  {
   "cell_type": "markdown",
   "id": "a023694a",
   "metadata": {},
   "source": [
    "### Усложним нашу разметку для инфиксов [1 балл]"
   ]
  },
  {
   "cell_type": "markdown",
   "id": "e53f7010",
   "metadata": {},
   "source": [
    "Пусть нашему инфиксу будет присваиваться код 2 (`Infix-End`). В итоге мы будем иметь три тега."
   ]
  },
  {
   "cell_type": "code",
   "execution_count": 84,
   "id": "6d86e7a6",
   "metadata": {},
   "outputs": [],
   "source": [
    "def encode_complex_compound_annotation(word):\n",
    "    seq = []\n",
    "    # YOUR CODE HERE\n",
    "    return str(seq)"
   ]
  },
  {
   "cell_type": "code",
   "execution_count": 85,
   "id": "ad160434",
   "metadata": {},
   "outputs": [
    {
     "data": {
      "text/plain": [
       "'[0, 0, 0, 0, 0, 0, 0, 1, 2, 0, 0, 0, 1, 0, 0, 0, 0, 0, 0, 0]'"
      ]
     },
     "execution_count": 85,
     "metadata": {},
     "output_type": "execute_result"
    }
   ],
   "source": [
    "encode_complex_compound_annotation('Vertrieb_+s_Netz_Planung')"
   ]
  },
  {
   "cell_type": "markdown",
   "id": "177fc290",
   "metadata": {},
   "source": [
    "### Обучите ту же модель для новой разметки [4 балла] (+1 за валидационную выборку)"
   ]
  },
  {
   "cell_type": "markdown",
   "id": "c153e2c1",
   "metadata": {},
   "source": [
    "1. Объединим первую обучающую выборку с подвыборкой, в которой находятся инфиксы. Размер подвыборки с инфиксами возьмите в таком расчёте: `x = (количество_слов_с_инфиксами * N_sample)/(количество_слов_только_с_подчёркиванием)`, где `N_sample` - число слов только с подчёркиванием, которые мы взяли в первой выборке\n",
    "\n",
    " - N_sample в нашем случае равен 1000000\n",
    " - количество_слов_только_с_подчёркиванием, количество_слов_с_инфиксами - ответ находится в команде shape\n",
    " \n",
    "2. Запускаем обучение\n",
    "3. Оцениваем качество и описываем выводы\n",
    "\n",
    "В пункте 1 не забываем разделить выборку на train и test :)"
   ]
  },
  {
   "cell_type": "code",
   "execution_count": 100,
   "id": "ea94f855",
   "metadata": {},
   "outputs": [],
   "source": [
    "infixes_data['Annotation'] = infixes_data['Word'].apply(encode_complex_compound_annotation)"
   ]
  },
  {
   "cell_type": "code",
   "execution_count": 102,
   "id": "7a6fb305",
   "metadata": {},
   "outputs": [],
   "source": [
    "full_train = ...\n",
    "full_val = ...\n",
    "full_test = ..."
   ]
  },
  {
   "cell_type": "markdown",
   "id": "8000ea63",
   "metadata": {},
   "source": [
    "Обучение"
   ]
  },
  {
   "cell_type": "code",
   "execution_count": 113,
   "id": "57037b03",
   "metadata": {},
   "outputs": [],
   "source": [
    "EMBEDDING_DIM = 32\n",
    "HIDDEN_DIM = 32\n",
    "N_EPOCHS = 3\n",
    "N_TAGS = 3"
   ]
  },
  {
   "cell_type": "code",
   "execution_count": 114,
   "id": "0e57451f",
   "metadata": {},
   "outputs": [],
   "source": [
    "model = BiLSTMTagger(EMBEDDING_DIM, HIDDEN_DIM, len(char2index), N_TAGS)\n",
    "loss_function = nn.NLLLoss()\n",
    "optimizer = optim.SGD(model.parameters(), lr=0.01)"
   ]
  },
  {
   "cell_type": "code",
   "execution_count": null,
   "id": "75f7cbda",
   "metadata": {},
   "outputs": [],
   "source": [
    "sum(p.numel() for p in model.parameters())"
   ]
  },
  {
   "cell_type": "code",
   "execution_count": null,
   "id": "dcf4d0fc",
   "metadata": {},
   "outputs": [],
   "source": []
  }
 ],
 "metadata": {
  "kernelspec": {
   "display_name": "Python 3 (ipykernel)",
   "language": "python",
   "name": "python3"
  },
  "language_info": {
   "codemirror_mode": {
    "name": "ipython",
    "version": 3
   },
   "file_extension": ".py",
   "mimetype": "text/x-python",
   "name": "python",
   "nbconvert_exporter": "python",
   "pygments_lexer": "ipython3",
   "version": "3.10.6"
  }
 },
 "nbformat": 4,
 "nbformat_minor": 5
}
