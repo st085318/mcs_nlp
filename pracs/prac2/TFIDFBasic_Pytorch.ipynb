{
  "cells": [
    {
      "cell_type": "code",
      "execution_count": null,
      "metadata": {
        "collapsed": true,
        "id": "amTsOwHDr0mA"
      },
      "outputs": [],
      "source": [
        "import nltk\n",
        "from nltk.stem import WordNetLemmatizer\n",
        "from nltk.corpus import stopwords\n",
        "from pathlib import Path\n",
        "from typing import Iterable, Tuple, List, Any\n",
        "import csv\n",
        "from sklearn.model_selection import train_test_split\n",
        "from sklearn.metrics import classification_report\n",
        "import torch\n",
        "import torch.nn as nn"
      ]
    },
    {
      "cell_type": "markdown",
      "metadata": {
        "id": "1pRbzpk_r0mJ"
      },
      "source": [
        "Начнем изучение NLP с понятной задачи - предсказание сантимента. "
      ]
    },
    {
      "cell_type": "markdown",
      "metadata": {
        "id": "E3_3hKzar0mL"
      },
      "source": [
        "## Prepare Data [ 1 балла]"
      ]
    },
    {
      "cell_type": "markdown",
      "metadata": {
        "id": "h52bF_mtr0mL"
      },
      "source": [
        "- Для начала необходимо преобразовать данные \n",
        "- Напишите функцию, которая читает файл и возвращает объект класса SentimentData (Постарайтесь сделать функцию-итератор, которая бы не клала объекты в память)\n",
        "- Напишите функцию preprocess (минимальный объем препроцессинга в комментарии к функции)"
      ]
    },
    {
      "cell_type": "code",
      "execution_count": null,
      "metadata": {
        "collapsed": true,
        "id": "gno8zWpor0mM"
      },
      "outputs": [],
      "source": [
        "data_path = Path(\".path/to/animal-crossing_reviews.csv\")"
      ]
    },
    {
      "cell_type": "code",
      "execution_count": null,
      "metadata": {
        "collapsed": true,
        "id": "sV23mg92r0mN"
      },
      "outputs": [],
      "source": [
        "from dataclasses import dataclass\n",
        "\n",
        "@dataclass\n",
        "class SentimentData:\n",
        "    sentence: str\n",
        "    sentiment: int"
      ]
    },
    {
      "cell_type": "code",
      "execution_count": null,
      "metadata": {
        "collapsed": true,
        "id": "k-YZsQXfr0mN"
      },
      "outputs": [],
      "source": [
        "def extract_lines(path: Path) -> Iterable[SentimentData]:\n",
        "    with open(path) as src:\n",
        "        reader = csv.reader(src, delimiter=',')\n",
        "        # TODO "
      ]
    },
    {
      "cell_type": "code",
      "execution_count": null,
      "metadata": {
        "collapsed": true,
        "id": "VJbzHTlJr0mO"
      },
      "outputs": [],
      "source": [
        "import string\n",
        "def preprocess(lines: Iterable[SentimentData]) -> Iterable[str]:\n",
        "    \"\"\"\n",
        "    - Lowercase sentence\n",
        "    - Do tokenization with nltk.wordpunct_tokenize\n",
        "    - normalize words\n",
        "    - delete stop words\n",
        "    - join using tokens with space\n",
        "    - yield it to next generator\n",
        "    \"\"\"\n",
        "    ## TODO"
      ]
    },
    {
      "cell_type": "code",
      "execution_count": null,
      "metadata": {
        "collapsed": true,
        "id": "HcSdmKOur0mP"
      },
      "outputs": [],
      "source": [
        "writer = extract_lines(data_path)\n",
        "preprocessed = preprocess(writer)"
      ]
    },
    {
      "cell_type": "code",
      "execution_count": null,
      "metadata": {
        "collapsed": true,
        "id": "eJLhsJ8Dr0mQ"
      },
      "outputs": [],
      "source": [
        "sentences = list(preprocessed)"
      ]
    },
    {
      "cell_type": "code",
      "execution_count": null,
      "metadata": {
        "collapsed": true,
        "id": "xUIlNgtbr0mQ"
      },
      "outputs": [],
      "source": [
        "assert [sent.sentence for sent in sentences[::1000]] == ['gf started playing option create island guy 2nd player start console suck !!!! miss much 1st player get term activity resource etc absolutely terrible buy 2nd console one person household want get full game experience unacceptable',\n",
        "                                                         'game undeniably adorable super fun unless like second player switch system game lock consequential decision wait player one progress passive resident island way get full experience another switch system absolutely acceptable ha destroyedthis game undeniably adorable super fun unless like second player switch system game lock consequential decision wait player one progress passive resident island way get full experience another switch system absolutely acceptable ha destroyed fun wa game .… expand',\n",
        "                                                         'sad find second player like slave first player stop playing get fixed']"
      ]
    },
    {
      "cell_type": "markdown",
      "metadata": {
        "id": "pRuXfOy7r0mR"
      },
      "source": [
        "- Пора разбить данные на тренировочную и тестовую выборку"
      ]
    },
    {
      "cell_type": "code",
      "execution_count": null,
      "metadata": {
        "collapsed": true,
        "id": "drYTpei9r0mR"
      },
      "outputs": [],
      "source": [
        "train, test = train_test_split(sentences, test_size=0.2, random_state=42)"
      ]
    },
    {
      "cell_type": "markdown",
      "metadata": {
        "id": "b2otyd32r0mR"
      },
      "source": [
        "## TFIDF + Logistic Regression [ 2 балла]"
      ]
    },
    {
      "cell_type": "markdown",
      "metadata": {
        "id": "AKtViyvQr0mS"
      },
      "source": [
        "![photo_2023-02-09_22-30-07.jpg](data:image/jpeg;base64,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)"
      ]
    },
    {
      "cell_type": "markdown",
      "metadata": {
        "id": "x8zmuV5Lr0mS"
      },
      "source": [
        "#### TF-IDF\n",
        "$TF$ - частота встречания терма (term frequency)<br>\n",
        "$IDF$ - обратная частота встречания терма в документах (invert document frequency)\n",
        "\n",
        "$$tf_{i, j} = \\frac{N_i}{\\sum\\limits_j N_j}$$<br>\n",
        "$$idf_{i} = log(\\frac{|D|}{|\\{d_k \\in D | i \\in d_k \\}|}) \\approx log (\\frac{|D|}{df(i) + 1}) \\approx log (\\frac{|D| + 1}{df(i) + 1}) + 1$$"
      ]
    },
    {
      "cell_type": "code",
      "execution_count": null,
      "metadata": {
        "collapsed": true,
        "id": "RirE-nvAr0mS"
      },
      "outputs": [],
      "source": [
        "def split_on_x_y(data: List[SentimentData]) -> Tuple[List[str], List[int]]:\n",
        "    X, y = [], []\n",
        "    #TODO\n",
        "    return X, y"
      ]
    },
    {
      "cell_type": "code",
      "execution_count": null,
      "metadata": {
        "collapsed": true,
        "id": "C8qndYqer0mT"
      },
      "outputs": [],
      "source": [
        "X_train, y_train = split_on_x_y(train)\n",
        "X_test, y_test = split_on_x_y(test)"
      ]
    },
    {
      "cell_type": "markdown",
      "metadata": {
        "id": "MNhohw1Er0mT"
      },
      "source": [
        "![photo_2023-02-09_22-30-12.jpg](data:image/jpeg;base64,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)"
      ]
    },
    {
      "cell_type": "markdown",
      "metadata": {
        "id": "MaN3unLvr0mT"
      },
      "source": [
        "$$Q(w) = \\sum_{i = 0}^{|D|} log(1 + exp(-y_i<x_i * w>)) -> min_w$$ - функция потерь\n",
        "\n",
        "$$p(y|x) = \\sigma(x,w) = \\frac{1}{1 + e^{-xw}}$$ - апостериорная вероятность класса"
      ]
    },
    {
      "cell_type": "markdown",
      "metadata": {
        "id": "N1cr4fPGr0mT"
      },
      "source": [
        "- Создайте sklearn'вский pipeline с предобработкой текста и LogisticRegression\n",
        "- Добавьте GridSearchCV для настройки коэффициентов LR"
      ]
    },
    {
      "cell_type": "code",
      "execution_count": null,
      "metadata": {
        "collapsed": true,
        "id": "_6-xW6Egr0mU"
      },
      "outputs": [],
      "source": [
        "from sklearn.pipeline import Pipeline\n",
        "from sklearn.feature_extraction.text import CountVectorizer\n",
        "from sklearn.feature_extraction.text import TfidfTransformer\n",
        "from sklearn.linear_model import LogisticRegression\n",
        "from sklearn.model_selection import GridSearchCV\n",
        "pipeline = Pipeline(\n",
        "    #TODO\n",
        ")"
      ]
    },
    {
      "cell_type": "code",
      "execution_count": null,
      "metadata": {
        "id": "ym2D69PRr0mU",
        "outputId": "efc487fe-bd96-417d-a14d-393ebe2c1413"
      },
      "outputs": [
        {
          "name": "stdout",
          "output_type": "stream",
          "text": [
            "Fitting 3 folds for each of 5 candidates, totalling 15 fits\n"
          ]
        },
        {
          "name": "stderr",
          "output_type": "stream",
          "text": [
            "[Parallel(n_jobs=1)]: Using backend SequentialBackend with 1 concurrent workers.\n",
            "[Parallel(n_jobs=1)]: Done  15 out of  15 | elapsed:    0.4s finished\n"
          ]
        },
        {
          "data": {
            "text/plain": [
              "Pipeline(memory=None,\n",
              "         steps=[('vect',\n",
              "                 CountVectorizer(analyzer='word', binary=False,\n",
              "                                 decode_error='strict',\n",
              "                                 dtype=<class 'numpy.int64'>, encoding='utf-8',\n",
              "                                 input='content', lowercase=True, max_df=1.0,\n",
              "                                 max_features=None, min_df=1,\n",
              "                                 ngram_range=(1, 1), preprocessor=None,\n",
              "                                 stop_words=None, strip_accents=None,\n",
              "                                 token_pattern='(?u)\\\\b\\\\w\\\\w+\\\\b',\n",
              "                                 tokenizer=None, vocabulary=Non...\n",
              "                                                           dual=False,\n",
              "                                                           fit_intercept=True,\n",
              "                                                           intercept_scaling=1,\n",
              "                                                           l1_ratio=None,\n",
              "                                                           max_iter=100,\n",
              "                                                           multi_class='auto',\n",
              "                                                           n_jobs=None,\n",
              "                                                           penalty='l2',\n",
              "                                                           random_state=0,\n",
              "                                                           solver='lbfgs',\n",
              "                                                           tol=0.0001,\n",
              "                                                           verbose=0,\n",
              "                                                           warm_start=False),\n",
              "                              iid='deprecated', n_jobs=None,\n",
              "                              param_grid={'C': [0.1, 0.5, 1, 5, 10.0]},\n",
              "                              pre_dispatch='2*n_jobs', refit=True,\n",
              "                              return_train_score=False, scoring=None,\n",
              "                              verbose=True))],\n",
              "         verbose=False)"
            ]
          },
          "execution_count": 12,
          "metadata": {},
          "output_type": "execute_result"
        }
      ],
      "source": [
        "pipeline.fit(X_train, y_train)"
      ]
    },
    {
      "cell_type": "code",
      "execution_count": null,
      "metadata": {
        "collapsed": true,
        "id": "izc2dL8wr0mV"
      },
      "outputs": [],
      "source": [
        "y_pred = pipeline.predict(X_test)"
      ]
    },
    {
      "cell_type": "code",
      "execution_count": null,
      "metadata": {
        "id": "XCiv38zQr0mV",
        "outputId": "9b849afa-e718-4344-fe5c-333cbb188e17"
      },
      "outputs": [
        {
          "name": "stdout",
          "output_type": "stream",
          "text": [
            "              precision    recall  f1-score   support\n",
            "\n",
            "    negative       0.81      0.89      0.85       316\n",
            "    positive       0.86      0.77      0.82       284\n",
            "\n",
            "    accuracy                           0.83       600\n",
            "   macro avg       0.84      0.83      0.83       600\n",
            "weighted avg       0.84      0.83      0.83       600\n",
            "\n"
          ]
        }
      ],
      "source": [
        "print(classification_report(y_test, y_pred, target_names=[\"negative\", \"positive\"]))"
      ]
    },
    {
      "cell_type": "markdown",
      "metadata": {
        "id": "pe1MCxxGr0mV"
      },
      "source": [
        "- Если Вы никогда не имели дело с PyTorch, то переходим в ноутбук PyTorch Intro.ipnyb"
      ]
    },
    {
      "cell_type": "markdown",
      "metadata": {
        "id": "fi72Zwr6r0mV"
      },
      "source": [
        "## Going to Pytorch [ 3 балла ]"
      ]
    },
    {
      "cell_type": "markdown",
      "metadata": {
        "id": "BqJ3gDk0r0mW"
      },
      "source": [
        "- Давайте создадим кастомный датасет для удобной загрузки данных"
      ]
    },
    {
      "cell_type": "code",
      "execution_count": null,
      "metadata": {
        "collapsed": true,
        "id": "UE-QbQnJr0mW"
      },
      "outputs": [],
      "source": [
        "from torch.utils.data import Dataset\n",
        "class CustomTagDataset(Dataset):\n",
        "    \"\"\"\n",
        "    - CustomTagDataset должен быть наследником torch.utils.data.Dataset, чтобы в полной мере наследовать все возможности\n",
        "    - Датасет должен принимать sentences: List[str], target: List[int] и feature_extractor: Pipeline - pipeline для выделения признаков из текста\n",
        "    - Напишите функцию __len__ объявляющие длину вашего датасета\n",
        "    - Напишите функцию _extract_features\n",
        "    - Напишите функцию __getitem__ которая будет по индексу возвращаться словарь {'feat': tensor_of_features, 'target': tensor_of_target} все dtype=torch.float\n",
        "    \n",
        "    \"\"\"\n",
        "    def __init__(self, sentences: List[str], target: List[int], feature_extractor: Pipeline, test: bool = False):\n",
        "        self._data = sentences\n",
        "        self._target = target\n",
        "        self._features_pipeline = feature_extractor\n",
        "        self._features = self._extract_features(test)\n",
        "\n",
        "    def __getitem__(self, idx: int):\n",
        "        \n",
        "        #TODO\n",
        "        \n",
        "        return {\"feat\": ...,\n",
        "                \"target\": ...\n",
        "               }\n",
        "    \n",
        "    def _extract_features(self, is_test):\n",
        "        #TODO\n",
        "    \n",
        "    def __len__(self):\n",
        "        return len(self._data)"
      ]
    },
    {
      "cell_type": "code",
      "execution_count": null,
      "metadata": {
        "collapsed": true,
        "id": "A6e08DgCr0mW"
      },
      "outputs": [],
      "source": [
        "from torch.utils.data import DataLoader\n",
        "features = Pipeline(\n",
        "    #TODO\n",
        ")\n",
        "data_train = DataLoader(CustomTagDataset(X_train, y_train, features, test=False), batch_size=16, shuffle=True)\n",
        "data_test = DataLoader(CustomTagDataset(X_test, y_test, features, test=True), batch_size=16, shuffle=True)"
      ]
    },
    {
      "cell_type": "code",
      "execution_count": null,
      "metadata": {
        "collapsed": true,
        "id": "23mQUQAAr0mW"
      },
      "outputs": [],
      "source": [
        "class SimpleNNForClassification(nn.Module):\n",
        "    \"\"\"\n",
        "    - Напишите слои нейронной сети\n",
        "      - Линейный слой из tfidf_feature_size в out_features\n",
        "      - ReLU\n",
        "      - Линейный слой преобразующий in_features в out_features\n",
        "      - ReLU\n",
        "      - Линейный слой преобразующий in_features в тензор размеров 1 \n",
        "    - Напишите forward \n",
        "    \"\"\"\n",
        "    def __init__(self, tfidf_feature_size: int):\n",
        "        super(SimpleNNForClassification, self).__init__()\n",
        "        self.layer1 = ...\n",
        "        self.layer2 = ...\n",
        "        self.fc = ...\n",
        "        \n",
        "    def forward(self, x):\n",
        "        #TODO\n",
        "        return ..."
      ]
    },
    {
      "cell_type": "code",
      "execution_count": null,
      "metadata": {
        "collapsed": true,
        "id": "oEL_9Pnlr0mX"
      },
      "outputs": [],
      "source": [
        "import tqdm\n",
        "\n",
        "BATCH_SIZE = 16\n",
        "EPOCHS = 5\n",
        "DEVICE = torch.device('cpu')"
      ]
    },
    {
      "cell_type": "code",
      "execution_count": null,
      "metadata": {
        "collapsed": true,
        "id": "ZX9WY8Ijr0mX"
      },
      "outputs": [],
      "source": [
        "@torch.no_grad()\n",
        "def print_metrics(model, test_data):\n",
        "    \"\"\"\n",
        "    - напишите часть инференса\n",
        "      - передайте в модель батч с признаками\n",
        "      - чтобы превратить logit-вектора в 'вероятности' примените сигмоидную функцию\n",
        "      - посчитайте получившиеся значения сантиментов с помощью трешхолда = 0.5\n",
        "    \"\"\"\n",
        "    preds = []\n",
        "    target = []\n",
        "    sigm = nn.Sigmoid()\n",
        "    for i, batch in tqdm.notebook.tqdm(enumerate(test_data)):\n",
        "        pred = ...\n",
        "        target += batch['target'].type(torch.long)\n",
        "    print(classification_report(target, preds, target_names=[\"negative\", \"positive\"]))"
      ]
    },
    {
      "cell_type": "code",
      "execution_count": null,
      "metadata": {
        "collapsed": true,
        "id": "AMgltxkAr0mX"
      },
      "outputs": [],
      "source": [
        "def train(model: nn.Module,\n",
        "          train_data: List[Any], \n",
        "          test_data: List[Any] = None, \n",
        "          epochs: int = 5, \n",
        "          batch_size: int = 16):\n",
        "    \"\"\"\n",
        "    - напишите часть обучения для модели \n",
        "      - передайте в модель батч с признаками\n",
        "      - посчитайте лосс\n",
        "      - вызовите backward propagation\n",
        "    \"\"\"\n",
        "    \n",
        "    model.to(DEVICE)\n",
        "    criterion = ...\n",
        "    optimizer = torch.optim.Adam(model.parameters(), lr=1e-3)\n",
        "    \n",
        "    if test_data is not None:\n",
        "        print_metrics(model, test_data)\n",
        "    \n",
        "    for epoch in range(EPOCHS):\n",
        "        print(f\"epoch: {epoch}\")\n",
        "        model.train()\n",
        "        for i, batch in tqdm.notebook.tqdm(enumerate(train_data)):\n",
        "            #TODO\n",
        "            pred = ...\n",
        "            loss = ...\n",
        "        if test_data is not None:\n",
        "            print_metrics(model, test_data)\n",
        "        "
      ]
    },
    {
      "cell_type": "code",
      "execution_count": null,
      "metadata": {
        "id": "C6zFdPBXr0mX",
        "outputId": "36618086-da32-4f29-cc62-39fbd5d377be"
      },
      "outputs": [
        {
          "data": {
            "text/plain": [
              "HBox(children=(FloatProgress(value=1.0, bar_style='info', max=1.0), HTML(value='')))"
            ]
          },
          "metadata": {},
          "output_type": "display_data"
        },
        {
          "name": "stdout",
          "output_type": "stream",
          "text": [
            "\n",
            "              precision    recall  f1-score   support\n",
            "\n",
            "    negative       0.53      1.00      0.69       316\n",
            "    positive       0.00      0.00      0.00       284\n",
            "\n",
            "    accuracy                           0.53       600\n",
            "   macro avg       0.26      0.50      0.34       600\n",
            "weighted avg       0.28      0.53      0.36       600\n",
            "\n",
            "epoch: 0\n"
          ]
        },
        {
          "name": "stderr",
          "output_type": "stream",
          "text": [
            "/Users/Ivan.Dolgov/opt/anaconda3/lib/python3.7/site-packages/sklearn/metrics/_classification.py:1272: UndefinedMetricWarning: Precision and F-score are ill-defined and being set to 0.0 in labels with no predicted samples. Use `zero_division` parameter to control this behavior.\n",
            "  _warn_prf(average, modifier, msg_start, len(result))\n"
          ]
        },
        {
          "data": {
            "text/plain": [
              "HBox(children=(FloatProgress(value=1.0, bar_style='info', max=1.0), HTML(value='')))"
            ]
          },
          "metadata": {},
          "output_type": "display_data"
        },
        {
          "name": "stdout",
          "output_type": "stream",
          "text": [
            "\n"
          ]
        },
        {
          "data": {
            "text/plain": [
              "HBox(children=(FloatProgress(value=1.0, bar_style='info', max=1.0), HTML(value='')))"
            ]
          },
          "metadata": {},
          "output_type": "display_data"
        },
        {
          "name": "stdout",
          "output_type": "stream",
          "text": [
            "\n",
            "              precision    recall  f1-score   support\n",
            "\n",
            "    negative       0.82      0.89      0.85       316\n",
            "    positive       0.86      0.78      0.82       284\n",
            "\n",
            "    accuracy                           0.84       600\n",
            "   macro avg       0.84      0.83      0.84       600\n",
            "weighted avg       0.84      0.84      0.84       600\n",
            "\n",
            "epoch: 1\n"
          ]
        },
        {
          "data": {
            "text/plain": [
              "HBox(children=(FloatProgress(value=1.0, bar_style='info', max=1.0), HTML(value='')))"
            ]
          },
          "metadata": {},
          "output_type": "display_data"
        },
        {
          "name": "stdout",
          "output_type": "stream",
          "text": [
            "\n"
          ]
        },
        {
          "data": {
            "text/plain": [
              "HBox(children=(FloatProgress(value=1.0, bar_style='info', max=1.0), HTML(value='')))"
            ]
          },
          "metadata": {},
          "output_type": "display_data"
        },
        {
          "name": "stdout",
          "output_type": "stream",
          "text": [
            "\n",
            "              precision    recall  f1-score   support\n",
            "\n",
            "    negative       0.79      0.90      0.84       316\n",
            "    positive       0.87      0.73      0.79       284\n",
            "\n",
            "    accuracy                           0.82       600\n",
            "   macro avg       0.83      0.82      0.82       600\n",
            "weighted avg       0.83      0.82      0.82       600\n",
            "\n",
            "epoch: 2\n"
          ]
        },
        {
          "data": {
            "text/plain": [
              "HBox(children=(FloatProgress(value=1.0, bar_style='info', max=1.0), HTML(value='')))"
            ]
          },
          "metadata": {},
          "output_type": "display_data"
        },
        {
          "name": "stdout",
          "output_type": "stream",
          "text": [
            "\n"
          ]
        },
        {
          "data": {
            "text/plain": [
              "HBox(children=(FloatProgress(value=1.0, bar_style='info', max=1.0), HTML(value='')))"
            ]
          },
          "metadata": {},
          "output_type": "display_data"
        },
        {
          "name": "stdout",
          "output_type": "stream",
          "text": [
            "\n",
            "              precision    recall  f1-score   support\n",
            "\n",
            "    negative       0.81      0.82      0.82       316\n",
            "    positive       0.80      0.78      0.79       284\n",
            "\n",
            "    accuracy                           0.80       600\n",
            "   macro avg       0.80      0.80      0.80       600\n",
            "weighted avg       0.80      0.80      0.80       600\n",
            "\n",
            "epoch: 3\n"
          ]
        },
        {
          "data": {
            "text/plain": [
              "HBox(children=(FloatProgress(value=1.0, bar_style='info', max=1.0), HTML(value='')))"
            ]
          },
          "metadata": {},
          "output_type": "display_data"
        },
        {
          "name": "stdout",
          "output_type": "stream",
          "text": [
            "\n"
          ]
        },
        {
          "data": {
            "text/plain": [
              "HBox(children=(FloatProgress(value=1.0, bar_style='info', max=1.0), HTML(value='')))"
            ]
          },
          "metadata": {},
          "output_type": "display_data"
        },
        {
          "name": "stdout",
          "output_type": "stream",
          "text": [
            "\n",
            "              precision    recall  f1-score   support\n",
            "\n",
            "    negative       0.81      0.84      0.83       316\n",
            "    positive       0.81      0.79      0.80       284\n",
            "\n",
            "    accuracy                           0.81       600\n",
            "   macro avg       0.81      0.81      0.81       600\n",
            "weighted avg       0.81      0.81      0.81       600\n",
            "\n",
            "epoch: 4\n"
          ]
        },
        {
          "data": {
            "text/plain": [
              "HBox(children=(FloatProgress(value=1.0, bar_style='info', max=1.0), HTML(value='')))"
            ]
          },
          "metadata": {},
          "output_type": "display_data"
        },
        {
          "name": "stdout",
          "output_type": "stream",
          "text": [
            "\n"
          ]
        },
        {
          "data": {
            "text/plain": [
              "HBox(children=(FloatProgress(value=1.0, bar_style='info', max=1.0), HTML(value='')))"
            ]
          },
          "metadata": {},
          "output_type": "display_data"
        },
        {
          "name": "stdout",
          "output_type": "stream",
          "text": [
            "\n",
            "              precision    recall  f1-score   support\n",
            "\n",
            "    negative       0.80      0.85      0.83       316\n",
            "    positive       0.82      0.77      0.79       284\n",
            "\n",
            "    accuracy                           0.81       600\n",
            "   macro avg       0.81      0.81      0.81       600\n",
            "weighted avg       0.81      0.81      0.81       600\n",
            "\n"
          ]
        }
      ],
      "source": [
        "model = SimpleNNForClassification(features[\"tfidf\"].idf_.shape[0])\n",
        "train(model, data_train, data_test)"
      ]
    },
    {
      "cell_type": "markdown",
      "metadata": {
        "id": "bVsScJEhr0mY"
      },
      "source": [
        "### Prevent Overfitting [ 2 балла ]"
      ]
    },
    {
      "cell_type": "markdown",
      "metadata": {
        "id": "D16npp4mr0mY"
      },
      "source": [
        "- Как видно выше модель очень быстро переобучается, так давайте применим все те широкоизвестные методы,чтобы этого избежать\n",
        "- Считайте качество на валидационной выборке\n",
        "- Можете воспользоваться Early Stopping'ом\n",
        "- Добавить регуляризацию в модель\n",
        "- Все что Ваша фантазия Вам позволяет - делайте"
      ]
    },
    {
      "cell_type": "markdown",
      "metadata": {
        "id": "cBDt3RJXr0mZ"
      },
      "source": [
        "### Beat Logistic Regression [ 2 балла ]"
      ]
    },
    {
      "cell_type": "markdown",
      "metadata": {
        "id": "H8C6fbs0r0mZ"
      },
      "source": [
        "- Задание одной картинкой"
      ]
    },
    {
      "cell_type": "markdown",
      "metadata": {
        "id": "qzi7NtsCr0mZ"
      },
      "source": [
        "![photo_2023-02-09_22-30-17.jpg](data:image/jpeg;base64,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)"
      ]
    },
    {
      "cell_type": "markdown",
      "metadata": {
        "id": "1cfk0sTXr0ma"
      },
      "source": [
        "На самом деле нет\n",
        "- Подумайте как можно улучшить выделение признаков из текста\n",
        "- Stack More Layers"
      ]
    },
    {
      "cell_type": "code",
      "execution_count": null,
      "metadata": {
        "collapsed": true,
        "id": "B-VOFu9or0ma"
      },
      "outputs": [],
      "source": []
    }
  ],
  "metadata": {
    "kernelspec": {
      "display_name": "Python 3",
      "language": "python",
      "name": "python3"
    },
    "language_info": {
      "codemirror_mode": {
        "name": "ipython",
        "version": 3
      },
      "file_extension": ".py",
      "mimetype": "text/x-python",
      "name": "python",
      "nbconvert_exporter": "python",
      "pygments_lexer": "ipython3",
      "version": "3.6.2"
    },
    "colab": {
      "provenance": []
    }
  },
  "nbformat": 4,
  "nbformat_minor": 0
}