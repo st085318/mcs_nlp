{
  "nbformat": 4,
  "nbformat_minor": 0,
  "metadata": {
    "colab": {
      "provenance": []
    },
    "kernelspec": {
      "name": "python3",
      "display_name": "Python 3"
    },
    "language_info": {
      "name": "python"
    }
  },
  "cells": [
    {
      "cell_type": "code",
      "execution_count": null,
      "metadata": {
        "id": "sRM-27m-rgfY"
      },
      "outputs": [],
      "source": [
        "from pathlib import Path\n",
        "from typing import List, Set"
      ]
    },
    {
      "cell_type": "code",
      "source": [
        "import editdistance\n",
        "import jellyfish\n",
        "import re\n",
        "import math\n",
        "import codecs\n",
        "import random\n",
        "import time\n",
        "import numpy as np\n",
        "import pandas as pd\n",
        "\n",
        "from sklearn.feature_extraction.text import CountVectorizer\n",
        "from sklearn.neighbors import NearestNeighbors\n",
        "from collections import Counter\n",
        "from collections import defaultdict\n",
        "from functools import lru_cache"
      ],
      "metadata": {
        "id": "6siefoy517YP"
      },
      "execution_count": null,
      "outputs": []
    },
    {
      "cell_type": "markdown",
      "source": [
        "### Поготовим данные"
      ],
      "metadata": {
        "id": "OkzA1Rbb2yWu"
      }
    },
    {
      "cell_type": "code",
      "source": [
        "words_path = Path(\"/content/words2.txt\")\n",
        "broken_texts_path = Path(\"/content/broken_texts.csv\")\n",
        "correct_texts_path = Path(\"/content/derived.csv\")"
      ],
      "metadata": {
        "id": "nQx0_4zY17a7"
      },
      "execution_count": null,
      "outputs": []
    },
    {
      "cell_type": "code",
      "source": [
        "df = pd.read_csv(broken_texts_path)"
      ],
      "metadata": {
        "id": "3hjSVkPx17dw"
      },
      "execution_count": null,
      "outputs": []
    },
    {
      "cell_type": "code",
      "source": [
        "df.head()"
      ],
      "metadata": {
        "id": "dmSOWhuW17j7",
        "colab": {
          "base_uri": "https://localhost:8080/",
          "height": 206
        },
        "outputId": "8134986e-7f10-46ca-a9a0-0cd3404a9062"
      },
      "execution_count": null,
      "outputs": [
        {
          "output_type": "execute_result",
          "data": {
            "text/plain": [
              "   id                                               text\n",
              "0   0  не обнаруживается различий в общем объеме серо...\n",
              "1   1  интегумент ( от - покрывало , покров ) - терми...\n",
              "2   2  22 июня 2013 года решениме большинстав судей ,...\n",
              "3   3          в 1987 mi выпустила альбом all the best !\n",
              "4   4  путевая машинная станция 79 была создана 16 фе..."
            ],
            "text/html": [
              "\n",
              "  <div id=\"df-985be5ba-8d1a-4f13-9c9f-b794bd529dae\">\n",
              "    <div class=\"colab-df-container\">\n",
              "      <div>\n",
              "<style scoped>\n",
              "    .dataframe tbody tr th:only-of-type {\n",
              "        vertical-align: middle;\n",
              "    }\n",
              "\n",
              "    .dataframe tbody tr th {\n",
              "        vertical-align: top;\n",
              "    }\n",
              "\n",
              "    .dataframe thead th {\n",
              "        text-align: right;\n",
              "    }\n",
              "</style>\n",
              "<table border=\"1\" class=\"dataframe\">\n",
              "  <thead>\n",
              "    <tr style=\"text-align: right;\">\n",
              "      <th></th>\n",
              "      <th>id</th>\n",
              "      <th>text</th>\n",
              "    </tr>\n",
              "  </thead>\n",
              "  <tbody>\n",
              "    <tr>\n",
              "      <th>0</th>\n",
              "      <td>0</td>\n",
              "      <td>не обнаруживается различий в общем объеме серо...</td>\n",
              "    </tr>\n",
              "    <tr>\n",
              "      <th>1</th>\n",
              "      <td>1</td>\n",
              "      <td>интегумент ( от - покрывало , покров ) - терми...</td>\n",
              "    </tr>\n",
              "    <tr>\n",
              "      <th>2</th>\n",
              "      <td>2</td>\n",
              "      <td>22 июня 2013 года решениме большинстав судей ,...</td>\n",
              "    </tr>\n",
              "    <tr>\n",
              "      <th>3</th>\n",
              "      <td>3</td>\n",
              "      <td>в 1987 mi выпустила альбом all the best !</td>\n",
              "    </tr>\n",
              "    <tr>\n",
              "      <th>4</th>\n",
              "      <td>4</td>\n",
              "      <td>путевая машинная станция 79 была создана 16 фе...</td>\n",
              "    </tr>\n",
              "  </tbody>\n",
              "</table>\n",
              "</div>\n",
              "      <button class=\"colab-df-convert\" onclick=\"convertToInteractive('df-985be5ba-8d1a-4f13-9c9f-b794bd529dae')\"\n",
              "              title=\"Convert this dataframe to an interactive table.\"\n",
              "              style=\"display:none;\">\n",
              "        \n",
              "  <svg xmlns=\"http://www.w3.org/2000/svg\" height=\"24px\"viewBox=\"0 0 24 24\"\n",
              "       width=\"24px\">\n",
              "    <path d=\"M0 0h24v24H0V0z\" fill=\"none\"/>\n",
              "    <path d=\"M18.56 5.44l.94 2.06.94-2.06 2.06-.94-2.06-.94-.94-2.06-.94 2.06-2.06.94zm-11 1L8.5 8.5l.94-2.06 2.06-.94-2.06-.94L8.5 2.5l-.94 2.06-2.06.94zm10 10l.94 2.06.94-2.06 2.06-.94-2.06-.94-.94-2.06-.94 2.06-2.06.94z\"/><path d=\"M17.41 7.96l-1.37-1.37c-.4-.4-.92-.59-1.43-.59-.52 0-1.04.2-1.43.59L10.3 9.45l-7.72 7.72c-.78.78-.78 2.05 0 2.83L4 21.41c.39.39.9.59 1.41.59.51 0 1.02-.2 1.41-.59l7.78-7.78 2.81-2.81c.8-.78.8-2.07 0-2.86zM5.41 20L4 18.59l7.72-7.72 1.47 1.35L5.41 20z\"/>\n",
              "  </svg>\n",
              "      </button>\n",
              "      \n",
              "  <style>\n",
              "    .colab-df-container {\n",
              "      display:flex;\n",
              "      flex-wrap:wrap;\n",
              "      gap: 12px;\n",
              "    }\n",
              "\n",
              "    .colab-df-convert {\n",
              "      background-color: #E8F0FE;\n",
              "      border: none;\n",
              "      border-radius: 50%;\n",
              "      cursor: pointer;\n",
              "      display: none;\n",
              "      fill: #1967D2;\n",
              "      height: 32px;\n",
              "      padding: 0 0 0 0;\n",
              "      width: 32px;\n",
              "    }\n",
              "\n",
              "    .colab-df-convert:hover {\n",
              "      background-color: #E2EBFA;\n",
              "      box-shadow: 0px 1px 2px rgba(60, 64, 67, 0.3), 0px 1px 3px 1px rgba(60, 64, 67, 0.15);\n",
              "      fill: #174EA6;\n",
              "    }\n",
              "\n",
              "    [theme=dark] .colab-df-convert {\n",
              "      background-color: #3B4455;\n",
              "      fill: #D2E3FC;\n",
              "    }\n",
              "\n",
              "    [theme=dark] .colab-df-convert:hover {\n",
              "      background-color: #434B5C;\n",
              "      box-shadow: 0px 1px 3px 1px rgba(0, 0, 0, 0.15);\n",
              "      filter: drop-shadow(0px 1px 2px rgba(0, 0, 0, 0.3));\n",
              "      fill: #FFFFFF;\n",
              "    }\n",
              "  </style>\n",
              "\n",
              "      <script>\n",
              "        const buttonEl =\n",
              "          document.querySelector('#df-985be5ba-8d1a-4f13-9c9f-b794bd529dae button.colab-df-convert');\n",
              "        buttonEl.style.display =\n",
              "          google.colab.kernel.accessAllowed ? 'block' : 'none';\n",
              "\n",
              "        async function convertToInteractive(key) {\n",
              "          const element = document.querySelector('#df-985be5ba-8d1a-4f13-9c9f-b794bd529dae');\n",
              "          const dataTable =\n",
              "            await google.colab.kernel.invokeFunction('convertToInteractive',\n",
              "                                                     [key], {});\n",
              "          if (!dataTable) return;\n",
              "\n",
              "          const docLinkHtml = 'Like what you see? Visit the ' +\n",
              "            '<a target=\"_blank\" href=https://colab.research.google.com/notebooks/data_table.ipynb>data table notebook</a>'\n",
              "            + ' to learn more about interactive tables.';\n",
              "          element.innerHTML = '';\n",
              "          dataTable['output_type'] = 'display_data';\n",
              "          await google.colab.output.renderOutput(dataTable, element);\n",
              "          const docLink = document.createElement('div');\n",
              "          docLink.innerHTML = docLinkHtml;\n",
              "          element.appendChild(docLink);\n",
              "        }\n",
              "      </script>\n",
              "    </div>\n",
              "  </div>\n",
              "  "
            ]
          },
          "metadata": {},
          "execution_count": 10
        }
      ]
    },
    {
      "cell_type": "code",
      "source": [
        "texts = df[\"text\"].tolist()"
      ],
      "metadata": {
        "id": "fsyRdxs317mC"
      },
      "execution_count": null,
      "outputs": []
    },
    {
      "cell_type": "code",
      "source": [
        "with open(words_path, 'r') as f:\n",
        "  words_list = sorted(set(word.strip() for word in f.readlines()))"
      ],
      "metadata": {
        "id": "jZ2-a6eC262N"
      },
      "execution_count": null,
      "outputs": []
    },
    {
      "cell_type": "code",
      "source": [
        "words_list[::20000]"
      ],
      "metadata": {
        "id": "dcrqWt5o264c",
        "colab": {
          "base_uri": "https://localhost:8080/"
        },
        "outputId": "84508898-f41b-41f0-a19a-1550c301d042"
      },
      "execution_count": null,
      "outputs": [
        {
          "output_type": "execute_result",
          "data": {
            "text/plain": [
              "['!',\n",
              " 'daewoo',\n",
              " 'агенобарб',\n",
              " 'биотопа',\n",
              " 'восхитительный',\n",
              " 'дебальцево',\n",
              " 'зафрахтованные',\n",
              " 'километровой',\n",
              " 'лесными',\n",
              " 'московщина',\n",
              " 'овдовевшего',\n",
              " 'пионер-11',\n",
              " 'провозглашавшая',\n",
              " 'рыжиков',\n",
              " 'спокоен',\n",
              " 'тэйна',\n",
              " 'хэй']"
            ]
          },
          "metadata": {},
          "execution_count": 13
        }
      ]
    },
    {
      "cell_type": "code",
      "source": [
        "corrected_df = pd.read_csv(correct_texts_path)"
      ],
      "metadata": {
        "id": "sHBVP_h4266z"
      },
      "execution_count": null,
      "outputs": []
    },
    {
      "cell_type": "code",
      "source": [
        "corrected_df.shape"
      ],
      "metadata": {
        "id": "DAhBWrS0269d",
        "colab": {
          "base_uri": "https://localhost:8080/"
        },
        "outputId": "738aa55a-3572-46ac-fd8a-c6d02383a38a"
      },
      "execution_count": null,
      "outputs": [
        {
          "output_type": "execute_result",
          "data": {
            "text/plain": [
              "(20000, 2)"
            ]
          },
          "metadata": {},
          "execution_count": 16
        }
      ]
    },
    {
      "cell_type": "code",
      "source": [
        "corrected_df.head()"
      ],
      "metadata": {
        "id": "-x8ByGHm17os",
        "colab": {
          "base_uri": "https://localhost:8080/",
          "height": 206
        },
        "outputId": "0bca8152-44b4-433a-d1a1-d1797719f5e0"
      },
      "execution_count": null,
      "outputs": [
        {
          "output_type": "execute_result",
          "data": {
            "text/plain": [
              "   id                                               text\n",
              "0   0  не обнаруживается различий в общем объеме серо...\n",
              "1   1  интегумент ( от - покрывало , покров ) - терми...\n",
              "2   2  22 июня 2013 года решением большинства судей ,...\n",
              "3   3         в 1987 emi выпустила альбом all the best !\n",
              "4   4  путевая машинная станция 79 была создана 16 фе..."
            ],
            "text/html": [
              "\n",
              "  <div id=\"df-01950964-89fd-49af-b143-f5b7a5c5e0b2\">\n",
              "    <div class=\"colab-df-container\">\n",
              "      <div>\n",
              "<style scoped>\n",
              "    .dataframe tbody tr th:only-of-type {\n",
              "        vertical-align: middle;\n",
              "    }\n",
              "\n",
              "    .dataframe tbody tr th {\n",
              "        vertical-align: top;\n",
              "    }\n",
              "\n",
              "    .dataframe thead th {\n",
              "        text-align: right;\n",
              "    }\n",
              "</style>\n",
              "<table border=\"1\" class=\"dataframe\">\n",
              "  <thead>\n",
              "    <tr style=\"text-align: right;\">\n",
              "      <th></th>\n",
              "      <th>id</th>\n",
              "      <th>text</th>\n",
              "    </tr>\n",
              "  </thead>\n",
              "  <tbody>\n",
              "    <tr>\n",
              "      <th>0</th>\n",
              "      <td>0</td>\n",
              "      <td>не обнаруживается различий в общем объеме серо...</td>\n",
              "    </tr>\n",
              "    <tr>\n",
              "      <th>1</th>\n",
              "      <td>1</td>\n",
              "      <td>интегумент ( от - покрывало , покров ) - терми...</td>\n",
              "    </tr>\n",
              "    <tr>\n",
              "      <th>2</th>\n",
              "      <td>2</td>\n",
              "      <td>22 июня 2013 года решением большинства судей ,...</td>\n",
              "    </tr>\n",
              "    <tr>\n",
              "      <th>3</th>\n",
              "      <td>3</td>\n",
              "      <td>в 1987 emi выпустила альбом all the best !</td>\n",
              "    </tr>\n",
              "    <tr>\n",
              "      <th>4</th>\n",
              "      <td>4</td>\n",
              "      <td>путевая машинная станция 79 была создана 16 фе...</td>\n",
              "    </tr>\n",
              "  </tbody>\n",
              "</table>\n",
              "</div>\n",
              "      <button class=\"colab-df-convert\" onclick=\"convertToInteractive('df-01950964-89fd-49af-b143-f5b7a5c5e0b2')\"\n",
              "              title=\"Convert this dataframe to an interactive table.\"\n",
              "              style=\"display:none;\">\n",
              "        \n",
              "  <svg xmlns=\"http://www.w3.org/2000/svg\" height=\"24px\"viewBox=\"0 0 24 24\"\n",
              "       width=\"24px\">\n",
              "    <path d=\"M0 0h24v24H0V0z\" fill=\"none\"/>\n",
              "    <path d=\"M18.56 5.44l.94 2.06.94-2.06 2.06-.94-2.06-.94-.94-2.06-.94 2.06-2.06.94zm-11 1L8.5 8.5l.94-2.06 2.06-.94-2.06-.94L8.5 2.5l-.94 2.06-2.06.94zm10 10l.94 2.06.94-2.06 2.06-.94-2.06-.94-.94-2.06-.94 2.06-2.06.94z\"/><path d=\"M17.41 7.96l-1.37-1.37c-.4-.4-.92-.59-1.43-.59-.52 0-1.04.2-1.43.59L10.3 9.45l-7.72 7.72c-.78.78-.78 2.05 0 2.83L4 21.41c.39.39.9.59 1.41.59.51 0 1.02-.2 1.41-.59l7.78-7.78 2.81-2.81c.8-.78.8-2.07 0-2.86zM5.41 20L4 18.59l7.72-7.72 1.47 1.35L5.41 20z\"/>\n",
              "  </svg>\n",
              "      </button>\n",
              "      \n",
              "  <style>\n",
              "    .colab-df-container {\n",
              "      display:flex;\n",
              "      flex-wrap:wrap;\n",
              "      gap: 12px;\n",
              "    }\n",
              "\n",
              "    .colab-df-convert {\n",
              "      background-color: #E8F0FE;\n",
              "      border: none;\n",
              "      border-radius: 50%;\n",
              "      cursor: pointer;\n",
              "      display: none;\n",
              "      fill: #1967D2;\n",
              "      height: 32px;\n",
              "      padding: 0 0 0 0;\n",
              "      width: 32px;\n",
              "    }\n",
              "\n",
              "    .colab-df-convert:hover {\n",
              "      background-color: #E2EBFA;\n",
              "      box-shadow: 0px 1px 2px rgba(60, 64, 67, 0.3), 0px 1px 3px 1px rgba(60, 64, 67, 0.15);\n",
              "      fill: #174EA6;\n",
              "    }\n",
              "\n",
              "    [theme=dark] .colab-df-convert {\n",
              "      background-color: #3B4455;\n",
              "      fill: #D2E3FC;\n",
              "    }\n",
              "\n",
              "    [theme=dark] .colab-df-convert:hover {\n",
              "      background-color: #434B5C;\n",
              "      box-shadow: 0px 1px 3px 1px rgba(0, 0, 0, 0.15);\n",
              "      filter: drop-shadow(0px 1px 2px rgba(0, 0, 0, 0.3));\n",
              "      fill: #FFFFFF;\n",
              "    }\n",
              "  </style>\n",
              "\n",
              "      <script>\n",
              "        const buttonEl =\n",
              "          document.querySelector('#df-01950964-89fd-49af-b143-f5b7a5c5e0b2 button.colab-df-convert');\n",
              "        buttonEl.style.display =\n",
              "          google.colab.kernel.accessAllowed ? 'block' : 'none';\n",
              "\n",
              "        async function convertToInteractive(key) {\n",
              "          const element = document.querySelector('#df-01950964-89fd-49af-b143-f5b7a5c5e0b2');\n",
              "          const dataTable =\n",
              "            await google.colab.kernel.invokeFunction('convertToInteractive',\n",
              "                                                     [key], {});\n",
              "          if (!dataTable) return;\n",
              "\n",
              "          const docLinkHtml = 'Like what you see? Visit the ' +\n",
              "            '<a target=\"_blank\" href=https://colab.research.google.com/notebooks/data_table.ipynb>data table notebook</a>'\n",
              "            + ' to learn more about interactive tables.';\n",
              "          element.innerHTML = '';\n",
              "          dataTable['output_type'] = 'display_data';\n",
              "          await google.colab.output.renderOutput(dataTable, element);\n",
              "          const docLink = document.createElement('div');\n",
              "          docLink.innerHTML = docLinkHtml;\n",
              "          element.appendChild(docLink);\n",
              "        }\n",
              "      </script>\n",
              "    </div>\n",
              "  </div>\n",
              "  "
            ]
          },
          "metadata": {},
          "execution_count": 17
        }
      ]
    },
    {
      "cell_type": "markdown",
      "source": [
        "### Изучим некоторые трюки SpellChecker на основе его компонент"
      ],
      "metadata": {
        "id": "VpJlgc7_B0LY"
      }
    },
    {
      "cell_type": "markdown",
      "source": [
        "Инвертированный индекс"
      ],
      "metadata": {
        "id": "AUu_mAg_CEj8"
      }
    },
    {
      "cell_type": "code",
      "source": [
        "class SimpleSpeller:\n",
        "    \"\"\"\n",
        "    Поиск слов, наиболее близких по числу общих n-грамм и\n",
        "    последующее ранжирование по эвристике-близости\n",
        "    \"\"\"\n",
        "\n",
        "    def __init__(self, n_candidates_search=20):\n",
        "        \"\"\"\n",
        "        :param n_candidates_search: число кандидатов-строк при поиске\n",
        "        \"\"\"\n",
        "        self.n_candidates = n_candidates_search\n",
        "\n",
        "        self.vectorizer = CountVectorizer(analyzer=\"char_wb\", ngram_range=(2, 2), binary=True)\n",
        "        self.index = defaultdict(set)\n",
        "\n",
        "    def fit(self, words_list):\n",
        "        \"\"\"\n",
        "        Подгонка спеллера\n",
        "        :param words_list: наш словарь\n",
        "        \"\"\"\n",
        "\n",
        "        checkpoint = time.time()\n",
        "        self.words_list = words_list\n",
        "\n",
        "        encoded_words = self.vectorizer.fit_transform(words_list).tocoo()\n",
        "\n",
        "        # строим словарь, отображающий идентификатор нграммы в множество термов\n",
        "        for i in zip(encoded_words.row, encoded_words.col):\n",
        "            self.index[i[1]].add(i[0])\n",
        "\n",
        "        print(\"Speller fitted in\", time.time() - checkpoint)\n",
        "\n",
        "        return self\n",
        "\n",
        "    def predict(self, word: str) -> str:\n",
        "        # TODO\n",
        "        # 1. Отобрать наиболее подходящие слова-кандидаты, пользуясь инвертированным индексом\n",
        "        suggests = self.__get_candidates(word)\n",
        "\n",
        "        # 2. Отобрать наиболее близкие ответы, пользуясь редакционным расстоянием\n",
        "        closest_word = ''\n",
        "        return closest_word\n",
        "\n",
        "    def __get_candidates(self, word: str) -> List[str]:\n",
        "        \"\"\"\n",
        "        Отбираем наиболее подходящих кандидатов с помощью нграм битого слова\n",
        "        :param word: битое слово\n",
        "        :return candidates список слов из словаря\n",
        "        \"\"\"\n",
        "\n",
        "        candidates = []\n",
        "        # TODO\n",
        "        # требуется пройтись по нграмам входного слова и найти по ним в индексе подходящих кандидатов\n",
        "        # для подсчёта слов здесь удобнее всего использовать Counter\n",
        "        return candidates"
      ],
      "metadata": {
        "id": "ky-KuTbU17q7"
      },
      "execution_count": null,
      "outputs": []
    },
    {
      "cell_type": "code",
      "source": [
        "class Rectifier:\n",
        "    def __init__(self, words: Set[str], speller: Speller):\n",
        "        self._words = words\n",
        "        self._speller = speller\n",
        "\n",
        "    def rectify(self, data: List[str]) -> List[str]:\n",
        "        \"\"\"\n",
        "        Напишите функцию, которая возвращает исправленные тексты\n",
        "        :param data: список битых строк\n",
        "        : return corrected список исправленных строк\n",
        "        \"\"\"\n",
        "        # сделаем допущение, что длины списков с токенами в data совпадают с длинами финальных списков из corrected \n",
        "        corrected = []\n",
        "        # YOUR CODE HERE\n",
        "        return corrected\n"
      ],
      "metadata": {
        "id": "qmEhkWOiCvdv"
      },
      "execution_count": null,
      "outputs": []
    },
    {
      "cell_type": "code",
      "source": [
        "def mesure_metric(gt: List[str], broken: List[str], corrected: List[str]) -> float:\n",
        "    all_tokens = 0\n",
        "    correct = 0\n",
        "    for gt_sentence, broken_sentence, corrected_sentence in zip(gt, broken, corrected):\n",
        "        for gt_token, broken_token, corrected_token in zip(gt_sentence.split(), broken_sentence.split(), corrected_sentence.split()):\n",
        "            if gt_token != broken_token:\n",
        "                all_tokens += 1\n",
        "                if gt_token == corrected_token:\n",
        "                    correct += 1\n",
        "    return correct / all_tokens"
      ],
      "metadata": {
        "id": "ftum4lrHt2YZ"
      },
      "execution_count": null,
      "outputs": []
    },
    {
      "cell_type": "code",
      "source": [
        "gt = corrected_df['text']"
      ],
      "metadata": {
        "id": "JdPiKwn6uDVJ"
      },
      "execution_count": null,
      "outputs": []
    },
    {
      "cell_type": "code",
      "source": [
        "rectifier = Rectifier(set(words_list), SimpleSpeller().fit(words_list))"
      ],
      "metadata": {
        "id": "vciMaG03tihM"
      },
      "execution_count": null,
      "outputs": []
    },
    {
      "cell_type": "code",
      "source": [
        "corrected_text = rectifier.rectify(texts)"
      ],
      "metadata": {
        "id": "IDWysq5Qtiqq"
      },
      "execution_count": null,
      "outputs": []
    },
    {
      "cell_type": "code",
      "source": [
        "mesure_metric(gt, texts, corrected_text)"
      ],
      "metadata": {
        "id": "4XEH6SEuts2J"
      },
      "execution_count": null,
      "outputs": []
    },
    {
      "cell_type": "markdown",
      "source": [
        "#### Какие бывают метрики?"
      ],
      "metadata": {
        "id": "B5sBPkLQDWlH"
      }
    },
    {
      "cell_type": "code",
      "source": [
        "import editdistance\n",
        "import jellyfish\n",
        "import re\n",
        "import math\n",
        "import codecs\n",
        "import random\n",
        "import time\n",
        "import numpy as np\n",
        "import pandas as pd"
      ],
      "metadata": {
        "id": "v8aiQKJtRXfn"
      },
      "execution_count": null,
      "outputs": []
    },
    {
      "cell_type": "code",
      "source": [
        "a, b = 'машина', 'калина'"
      ],
      "metadata": {
        "id": "QJK8w-YTosCS"
      },
      "execution_count": null,
      "outputs": []
    },
    {
      "cell_type": "code",
      "source": [
        "jellyfish.hamming_distance(a, b)"
      ],
      "metadata": {
        "colab": {
          "base_uri": "https://localhost:8080/"
        },
        "id": "fkDRI9kkuJyL",
        "outputId": "310859e5-99cf-4da7-9e2d-10fb43710451"
      },
      "execution_count": null,
      "outputs": [
        {
          "output_type": "execute_result",
          "data": {
            "text/plain": [
              "2"
            ]
          },
          "metadata": {},
          "execution_count": 33
        }
      ]
    },
    {
      "cell_type": "markdown",
      "source": [
        "Расстояние Левенштейна"
      ],
      "metadata": {
        "id": "8wejeO8qojch"
      }
    },
    {
      "cell_type": "markdown",
      "source": [
        "Проверим то, что расстояние Левенштейна действительно является метрикой :)"
      ],
      "metadata": {
        "id": "b7IeAHygo9f-"
      }
    },
    {
      "cell_type": "code",
      "source": [
        "editdistance.eval(a, b)"
      ],
      "metadata": {
        "colab": {
          "base_uri": "https://localhost:8080/"
        },
        "id": "xCF4CfVvCv-j",
        "outputId": "3482b68e-d555-4c4a-b769-7b7e7de29956"
      },
      "execution_count": null,
      "outputs": [
        {
          "output_type": "execute_result",
          "data": {
            "text/plain": [
              "2"
            ]
          },
          "metadata": {},
          "execution_count": 4
        }
      ]
    },
    {
      "cell_type": "code",
      "source": [
        "editdistance.eval(a, a)"
      ],
      "metadata": {
        "colab": {
          "base_uri": "https://localhost:8080/"
        },
        "id": "xTGxuCcWo7l6",
        "outputId": "88b0c160-4ad5-4c0f-d478-d5358e9f0200"
      },
      "execution_count": null,
      "outputs": [
        {
          "output_type": "execute_result",
          "data": {
            "text/plain": [
              "0"
            ]
          },
          "metadata": {},
          "execution_count": 5
        }
      ]
    },
    {
      "cell_type": "code",
      "source": [
        "editdistance.eval(a, b) == editdistance.eval(b, a)"
      ],
      "metadata": {
        "colab": {
          "base_uri": "https://localhost:8080/"
        },
        "id": "t0o6GJKBo7xh",
        "outputId": "98bc5304-2ee6-4980-9cd3-89c45ed0662b"
      },
      "execution_count": null,
      "outputs": [
        {
          "output_type": "execute_result",
          "data": {
            "text/plain": [
              "True"
            ]
          },
          "metadata": {},
          "execution_count": 6
        }
      ]
    },
    {
      "cell_type": "code",
      "source": [
        "c = 'малина'"
      ],
      "metadata": {
        "id": "eTZsxj5So70Z"
      },
      "execution_count": null,
      "outputs": []
    },
    {
      "cell_type": "code",
      "source": [
        "editdistance.eval(a, b), editdistance.eval(a, c) + editdistance.eval(c, b)"
      ],
      "metadata": {
        "colab": {
          "base_uri": "https://localhost:8080/"
        },
        "id": "SK9m-Kcho724",
        "outputId": "853f0fb9-41b1-4e75-ac62-5f72e379ce6a"
      },
      "execution_count": null,
      "outputs": [
        {
          "output_type": "execute_result",
          "data": {
            "text/plain": [
              "(2, 2)"
            ]
          },
          "metadata": {},
          "execution_count": 8
        }
      ]
    },
    {
      "cell_type": "code",
      "source": [
        "editdistance.eval(a, b) <= editdistance.eval(a, c) + editdistance.eval(c, b)"
      ],
      "metadata": {
        "colab": {
          "base_uri": "https://localhost:8080/"
        },
        "id": "TMcI74_4o75p",
        "outputId": "08aad73c-973c-4553-b558-e2af8ae32876"
      },
      "execution_count": null,
      "outputs": [
        {
          "output_type": "execute_result",
          "data": {
            "text/plain": [
              "True"
            ]
          },
          "metadata": {},
          "execution_count": 9
        }
      ]
    },
    {
      "cell_type": "markdown",
      "source": [
        "Аксиомы метрики проверены!"
      ],
      "metadata": {
        "id": "ul2Jm-PGpih4"
      }
    },
    {
      "cell_type": "markdown",
      "source": [
        "NB! Модификация этого расстояния (Дамерау-Левенштейна) может нарушить неравенство треугольника!"
      ],
      "metadata": {
        "id": "IzhYoqAjpsm9"
      }
    },
    {
      "cell_type": "code",
      "source": [
        "from pyxdameraulevenshtein import damerau_levenshtein_distance"
      ],
      "metadata": {
        "id": "iT4LYpo0o8Za"
      },
      "execution_count": null,
      "outputs": []
    },
    {
      "cell_type": "code",
      "source": [
        "a, b, c = 'ca', 'ac', 'abc'"
      ],
      "metadata": {
        "id": "ArYjFH45pglu"
      },
      "execution_count": null,
      "outputs": []
    },
    {
      "cell_type": "code",
      "source": [
        "damerau_levenshtein_distance(a, b), damerau_levenshtein_distance(b, c)"
      ],
      "metadata": {
        "colab": {
          "base_uri": "https://localhost:8080/"
        },
        "id": "QEHJ862ppgoN",
        "outputId": "bdd16aca-8df8-470b-bade-23af5a3fe3f6"
      },
      "execution_count": null,
      "outputs": [
        {
          "output_type": "execute_result",
          "data": {
            "text/plain": [
              "(1, 1)"
            ]
          },
          "metadata": {},
          "execution_count": 25
        }
      ]
    },
    {
      "cell_type": "code",
      "source": [
        "damerau_levenshtein_distance(a, c)"
      ],
      "metadata": {
        "colab": {
          "base_uri": "https://localhost:8080/"
        },
        "id": "sLtCjOpOpgq3",
        "outputId": "2beeb57d-8309-4150-81e7-7257ba0ba80a"
      },
      "execution_count": null,
      "outputs": [
        {
          "output_type": "execute_result",
          "data": {
            "text/plain": [
              "3"
            ]
          },
          "metadata": {},
          "execution_count": 23
        }
      ]
    },
    {
      "cell_type": "code",
      "source": [
        "damerau_levenshtein_distance(a, c) <= damerau_levenshtein_distance(a, b) + damerau_levenshtein_distance(c, b)"
      ],
      "metadata": {
        "colab": {
          "base_uri": "https://localhost:8080/"
        },
        "id": "YOiiPqQEpgtc",
        "outputId": "28eb4713-20c5-46d2-e32f-0dc29a72b4ee"
      },
      "execution_count": null,
      "outputs": [
        {
          "output_type": "execute_result",
          "data": {
            "text/plain": [
              "False"
            ]
          },
          "metadata": {},
          "execution_count": 24
        }
      ]
    },
    {
      "cell_type": "code",
      "source": [
        "print(jellyfish.levenshtein_distance(u'jellyfish', u'jellyfihs'))\n",
        "print(jellyfish.damerau_levenshtein_distance(u'jellyfish', u'jellyfihs'))"
      ],
      "metadata": {
        "colab": {
          "base_uri": "https://localhost:8080/"
        },
        "id": "gm3HLbDlwAmg",
        "outputId": "886a31bd-e8dd-417c-f1a6-2b3507f11b4c"
      },
      "execution_count": null,
      "outputs": [
        {
          "output_type": "stream",
          "name": "stdout",
          "text": [
            "2\n",
            "1\n"
          ]
        }
      ]
    },
    {
      "cell_type": "markdown",
      "source": [
        "#### BK-деревья"
      ],
      "metadata": {
        "id": "FsNYeK_QDbgh"
      }
    },
    {
      "cell_type": "markdown",
      "source": [
        "![bk_tree_rus.png](data:image/png;base64,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)"
      ],
      "metadata": {
        "id": "LF7fTbB7z95j"
      }
    },
    {
      "cell_type": "markdown",
      "source": [
        "BK-дерево определяется следующим образом. В качестве корневого узла выбирается произвольный элемент a. У корневого узла может быть ноль или более поддеревьев. K-е поддерево рекурсивно строится из всех элементов b, таких что: \n",
        "$$ \\displaystyle d (a, b) = k. $$"
      ],
      "metadata": {
        "id": "sAGQ5_GIESaC"
      }
    },
    {
      "cell_type": "markdown",
      "source": [
        "![bk_tree2.png](data:image/png;base64,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)"
      ],
      "metadata": {
        "id": "-ZlYQ3FR1Lw3"
      }
    },
    {
      "cell_type": "markdown",
      "source": [
        "![bk_tree_speed.webp](data:image/webp;base64,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)"
      ],
      "metadata": {
        "id": "xJo3KAX11oDd"
      }
    },
    {
      "cell_type": "markdown",
      "source": [
        "Где найти BK-дерево в Python?"
      ],
      "metadata": {
        "id": "piZFAfpT1vxs"
      }
    },
    {
      "cell_type": "code",
      "source": [
        "import pybktree"
      ],
      "metadata": {
        "id": "bhNLKZq-pgwS"
      },
      "execution_count": null,
      "outputs": []
    },
    {
      "cell_type": "code",
      "source": [
        "class SimpleSpellerBkTree:\n",
        "    \"\"\"\n",
        "    Поиск слов, наиболее близких по числу общих n-грамм и\n",
        "    последующее ранжирование по эвристике-близости\n",
        "    с использованием BK-tree\n",
        "    \"\"\"\n",
        "\n",
        "    def __init__(self, n_candidates_search=20):\n",
        "        \"\"\"\n",
        "        :param n_candidates_search: число кандидатов-строк при поиске\n",
        "        \"\"\"\n",
        "        self.n_candidates = n_candidates_search\n",
        "\n",
        "    def fit(self, words_list):\n",
        "        \"\"\"\n",
        "        Подгонка спеллера\n",
        "        :param words_list: словарь\n",
        "        \"\"\"\n",
        "\n",
        "        checkpoint = time.time()\n",
        "\n",
        "        self.words_list = pybktree.BKTree(editdistance.eval, words_list)\n",
        "\n",
        "        # строим словарь на базе BKTree\n",
        "\n",
        "        print(\"Speller fitted in\", time.time() - checkpoint)\n",
        "\n",
        "        return self\n",
        "\n",
        "    def predict(self, word: str) -> str:\n",
        "        suggests = self.__get_candidates(word)\n",
        "\n",
        "        closest_word = ''\n",
        "        # TODO\n",
        "        return closest_word\n",
        "\n",
        "    def __get_candidates(self, word: str) -> List[str]:\n",
        "        \"\"\"\n",
        "        Отбираем наиболее подходящих кандидатов с помощью BK-дерева\n",
        "        :param word: битое слово\n",
        "        :return candidates список слов из словаря\n",
        "        \"\"\"\n",
        "        return sorted(self.words_list.find(word, 7))"
      ],
      "metadata": {
        "id": "Kw6EnH1qphDH"
      },
      "execution_count": null,
      "outputs": []
    },
    {
      "cell_type": "code",
      "source": [
        "rectifier = Rectifier(set(words_list), SimpleSpellerBkTree().fit(words_list))"
      ],
      "metadata": {
        "id": "ntnd5YIwbfqm"
      },
      "execution_count": null,
      "outputs": []
    },
    {
      "cell_type": "code",
      "source": [
        "corrected_text = rectifier.rectify(texts)"
      ],
      "metadata": {
        "id": "K4c4inM-3uFu"
      },
      "execution_count": null,
      "outputs": []
    },
    {
      "cell_type": "code",
      "source": [
        "mesure_metric(gt, texts, corrected_text)"
      ],
      "metadata": {
        "id": "-osuprU734sv"
      },
      "execution_count": null,
      "outputs": []
    },
    {
      "cell_type": "markdown",
      "source": [
        "Trie, префиксные деревья"
      ],
      "metadata": {
        "id": "BlgO3vZtbgWn"
      }
    },
    {
      "cell_type": "markdown",
      "source": [
        "![Triedatastructure1.png](data:image/png;base64,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)"
      ],
      "metadata": {
        "id": "8rh6uads4A6a"
      }
    },
    {
      "cell_type": "markdown",
      "source": [
        "Например, в Trie можно хранить наш словарь, или список возможных кандидатов для слова.."
      ],
      "metadata": {
        "id": "VcA5b5446kuw"
      }
    },
    {
      "cell_type": "code",
      "source": [
        "from sortedcontainers import SortedDict, SortedListWithKey\n",
        "from typing import List, Optional\n",
        "\n",
        "\n",
        "class SpellingLevensteinTree:\n",
        "    __END = 'is_leaf'\n",
        "\n",
        "    def __init__(self, use_damerau_modification=False):\n",
        "        \"\"\"\n",
        "        Инициализация trie\n",
        "        :param use_damerau_modification Используем метрику Дамерау-Левенштейна distance или обычное расстояние Девенштейна\n",
        "        \"\"\"\n",
        "        self.root = SortedDict()\n",
        "        self.use_damerau_modification = use_damerau_modification\n",
        "\n",
        "    @staticmethod\n",
        "    def __get_row_len(word: str) -> int:\n",
        "        return len(word) + 1\n",
        "\n",
        "    def __add(self, word: str) -> None:\n",
        "        \"\"\"\n",
        "        Добавляем слово в префиксное дерево\n",
        "        :param word строка\n",
        "        :return\n",
        "        \"\"\"\n",
        "        # YOUR CODE HERE\n",
        "\n",
        "    def build_dict(self, words: List[str]) -> None:\n",
        "        \"\"\"\n",
        "        Строим префиесное дерево на основе нашего словаря\n",
        "        :param words список корректных слов\n",
        "        :return\n",
        "        \"\"\"\n",
        "        for word in words:\n",
        "            self.__add(word)\n",
        "\n",
        "    def search(self, word: str, distance=0) -> SortedListWithKey:\n",
        "        \"\"\"\n",
        "        Возвращаем наиболее подходящих кандидатов, чьё расстояние не больше заданного параметра\n",
        "        :param word битое слово\n",
        "        :param distance максимальный порог по отбору кандидатов\n",
        "        :return candidates список пар (слово, расстояние)\n",
        "        \"\"\"\n",
        "        candidates = SortedListWithKey(key=lambda x: x[::-1])\n",
        "        stack = [(children, [letter], None, [*range(self.__get_row_len(word))])\n",
        "                 for letter, children in self.root.items()]\n",
        "\n",
        "        while stack:\n",
        "            node, prefix, pre_prev_row, prev_row = stack.pop()\n",
        "            curr_row, min_dist = self.__calculate_distance(word, prefix, pre_prev_row, prev_row)\n",
        "\n",
        "            if min_dist > distance:\n",
        "                continue\n",
        "\n",
        "            if curr_row[-1] <= distance and self.__END in node:\n",
        "                candidates.add((''.join(prefix), curr_row[-1]))\n",
        "\n",
        "            stack.extend(\n",
        "                (children, prefix + [letter], prev_row if self.use_damerau_modification else None, curr_row)\n",
        "                for letter, children in node.items() if letter != self.__END\n",
        "            )\n",
        "\n",
        "        return candidates\n",
        "\n",
        "    def __calculate_distance(self, word: str, prefix: List[str],\n",
        "                             pre_prev_row: Optional[List[int]], prev_row: List[int]):\n",
        "        \"\"\"\n",
        "        Считаем расстояние Левенштейна (модификацию расстояния) для битого слова и префикса, собранного по дереву от корня по текущий узел,\n",
        "        :param word битое слово\n",
        "        :param prefix текущий префикс от корня по текущий узел дерева\n",
        "        :param pre_prev_row Массив для модификационного расстояния\n",
        "        :param prev_row первый массив для расстояния Левенштейна\n",
        "        :return curr_row, min_dist текущий ряд для расстояния Левенштейна и минимальное из расстояний\n",
        "        \"\"\"\n",
        "        curr_row = [prev_row[0] + 1]\n",
        "        min_dist = curr_row[0]\n",
        "        for i in range(1, self.__get_row_len(word)):\n",
        "            curr_row.append(min(\n",
        "                curr_row[-1] + 1,\n",
        "                prev_row[i] + 1,\n",
        "                prev_row[i - 1] + (word[i - 1] != prefix[-1])\n",
        "            ))\n",
        "\n",
        "            if self.use_damerau_modification:\n",
        "                if len(prefix) > 1 and i >= 1 and word[i - 1] == prefix[-2] and \\\n",
        "                        word[i - 1] != prefix[-1] and word[i - 2] == prefix[-1]:\n",
        "                    curr_row[-1] = min(curr_row[-1], pre_prev_row[i - 2] + 1)\n",
        "\n",
        "            min_dist = min(min_dist, curr_row[-1])\n",
        "        return curr_row, min_dist"
      ],
      "metadata": {
        "id": "0uZEAmWTCwBJ"
      },
      "execution_count": null,
      "outputs": []
    },
    {
      "cell_type": "code",
      "source": [
        "# Test standard Levenstein Trie\n",
        "dictionary = SpellingLevensteinTree()\n",
        "dictionary.build_dict(['hello', 'hallo', 'leetcode', 'hell'])\n",
        "\n",
        "print(dictionary.search('hello'))\n",
        "\n",
        "print(dictionary.search('ehllo', 2))\n",
        "print(dictionary.search('leetcdoe', 2))\n",
        "print(dictionary.search('eletcode', 2))"
      ],
      "metadata": {
        "id": "AjBF3SfM6zmG"
      },
      "execution_count": null,
      "outputs": []
    },
    {
      "cell_type": "code",
      "source": [
        "# Test Damerau-Levenstein Trie\n",
        "dictionary = SpellingLevensteinTree(use_damerau_modification=True)\n",
        "dictionary.build_dict(['hello', 'hallo', 'leetcode', 'hell'])\n",
        "\n",
        "print(dictionary.search('ehllo', 2))\n",
        "print(dictionary.search('leetcdoe', 2))\n",
        "print(dictionary.search('eletcode', 2))"
      ],
      "metadata": {
        "id": "5_p8ifEN7bRl"
      },
      "execution_count": null,
      "outputs": []
    },
    {
      "cell_type": "markdown",
      "source": [
        "Где ещё применяется нечёткий поиск?"
      ],
      "metadata": {
        "id": "vjxMZx_vbO0i"
      }
    },
    {
      "cell_type": "markdown",
      "source": [
        "В таких случаях бывают полезны фонетические алгоритмы. Наиболее популярные из них: Soundex и Metaphone\n"
      ],
      "metadata": {
        "id": "3h3UhCb-9uW7"
      }
    },
    {
      "cell_type": "code",
      "source": [
        "jellyfish.soundex('Klumpz'), jellyfish.soundex('Clumps')"
      ],
      "metadata": {
        "colab": {
          "base_uri": "https://localhost:8080/"
        },
        "id": "gn9mhSMl_n-7",
        "outputId": "66ac5e2b-be6f-48c5-e57b-8b9c723b1a57"
      },
      "execution_count": null,
      "outputs": [
        {
          "output_type": "execute_result",
          "data": {
            "text/plain": [
              "('K451', 'C451')"
            ]
          },
          "metadata": {},
          "execution_count": 53
        }
      ]
    },
    {
      "cell_type": "code",
      "source": [
        "jellyfish.metaphone('Klumpz'), jellyfish.metaphone('Clumps')"
      ],
      "metadata": {
        "colab": {
          "base_uri": "https://localhost:8080/"
        },
        "id": "nkkitHAv96mg",
        "outputId": "4d0c4ffa-b5a6-4c39-947e-b9067e26c2e4"
      },
      "execution_count": null,
      "outputs": [
        {
          "output_type": "execute_result",
          "data": {
            "text/plain": [
              "('KLMPS', 'KLMPS')"
            ]
          },
          "metadata": {},
          "execution_count": 52
        }
      ]
    },
    {
      "cell_type": "code",
      "source": [
        "import fonetika\n",
        "from fonetika.soundex import RussianSoundex"
      ],
      "metadata": {
        "id": "CSgBfM7ACwDy"
      },
      "execution_count": null,
      "outputs": []
    },
    {
      "cell_type": "code",
      "source": [
        "soundex = RussianSoundex(delete_first_letter=True)\n",
        "soundex.transform('ёлочка')"
      ],
      "metadata": {
        "colab": {
          "base_uri": "https://localhost:8080/",
          "height": 35
        },
        "id": "xPzCEkYLCwFt",
        "outputId": "343f7445-58a7-4040-9a28-1137f10294cf"
      },
      "execution_count": null,
      "outputs": [
        {
          "output_type": "execute_result",
          "data": {
            "text/plain": [
              "'J070530'"
            ],
            "application/vnd.google.colaboratory.intrinsic+json": {
              "type": "string"
            }
          },
          "metadata": {},
          "execution_count": 44
        }
      ]
    },
    {
      "cell_type": "code",
      "source": [
        "soundex = RussianSoundex(delete_first_letter=True, delete_zeros=True)\n",
        "soundex.transform('ёлочка')"
      ],
      "metadata": {
        "colab": {
          "base_uri": "https://localhost:8080/",
          "height": 35
        },
        "id": "wyweO0QP-wDd",
        "outputId": "b804cc5a-c15b-4d21-8397-35878c008410"
      },
      "execution_count": null,
      "outputs": [
        {
          "output_type": "execute_result",
          "data": {
            "text/plain": [
              "'J753'"
            ],
            "application/vnd.google.colaboratory.intrinsic+json": {
              "type": "string"
            }
          },
          "metadata": {},
          "execution_count": 48
        }
      ]
    },
    {
      "cell_type": "code",
      "source": [
        "from fonetika.metaphone import RussianMetaphone"
      ],
      "metadata": {
        "id": "5QoZrhkZ-wI2"
      },
      "execution_count": null,
      "outputs": []
    },
    {
      "cell_type": "code",
      "source": [
        "metaphone = RussianMetaphone()\n",
        "metaphone.transform('ёлочка')"
      ],
      "metadata": {
        "colab": {
          "base_uri": "https://localhost:8080/",
          "height": 35
        },
        "id": "VITBWJCW-wMt",
        "outputId": "a6ac1344-5356-4221-9661-e55001819b20"
      },
      "execution_count": null,
      "outputs": [
        {
          "output_type": "execute_result",
          "data": {
            "text/plain": [
              "'JАЛАЧКА'"
            ],
            "application/vnd.google.colaboratory.intrinsic+json": {
              "type": "string"
            }
          },
          "metadata": {},
          "execution_count": 50
        }
      ]
    }
  ]
}