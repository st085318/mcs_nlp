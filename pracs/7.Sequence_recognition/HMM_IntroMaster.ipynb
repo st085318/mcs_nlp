{
  "cells": [
    {
      "cell_type": "code",
      "execution_count": 1,
      "id": "fbf4a4f4",
      "metadata": {
        "id": "fbf4a4f4"
      },
      "outputs": [],
      "source": [
        "import numpy as np\n",
        "import pandas as pd\n",
        "\n",
        "from sklearn.model_selection import train_test_split\n",
        "\n",
        "\n",
        "from collections import Counter, defaultdict\n",
        "from tqdm import tqdm"
      ]
    },
    {
      "cell_type": "code",
      "execution_count": 2,
      "id": "76f3d708",
      "metadata": {
        "colab": {
          "base_uri": "https://localhost:8080/"
        },
        "id": "76f3d708",
        "outputId": "6cdf6eeb-e29d-4c56-d202-d8115ed088c5"
      },
      "outputs": [
        {
          "output_type": "stream",
          "name": "stderr",
          "text": [
            "[nltk_data] Downloading package punkt to /root/nltk_data...\n",
            "[nltk_data]   Unzipping tokenizers/punkt.zip.\n",
            "[nltk_data] Downloading package treebank to /root/nltk_data...\n",
            "[nltk_data]   Unzipping corpora/treebank.zip.\n",
            "[nltk_data] Downloading package universal_tagset to /root/nltk_data...\n",
            "[nltk_data]   Unzipping taggers/universal_tagset.zip.\n"
          ]
        },
        {
          "output_type": "execute_result",
          "data": {
            "text/plain": [
              "True"
            ]
          },
          "metadata": {},
          "execution_count": 2
        }
      ],
      "source": [
        "import ssl\n",
        "ssl._create_default_https_context = ssl._create_unverified_context\n",
        "\n",
        "\n",
        "import nltk\n",
        "from nltk import bigrams, word_tokenize\n",
        "\n",
        "nltk.download('punkt')\n",
        "nltk.download('treebank')\n",
        "nltk.download('universal_tagset')"
      ]
    },
    {
      "cell_type": "code",
      "execution_count": 3,
      "id": "d52aced9",
      "metadata": {
        "colab": {
          "base_uri": "https://localhost:8080/"
        },
        "id": "d52aced9",
        "outputId": "89dafca1-b1ff-49ba-d9a7-1a1c3a73f0f6"
      },
      "outputs": [
        {
          "output_type": "execute_result",
          "data": {
            "text/plain": [
              "[[('Pierre', 'NOUN'),\n",
              "  ('Vinken', 'NOUN'),\n",
              "  (',', '.'),\n",
              "  ('61', 'NUM'),\n",
              "  ('years', 'NOUN'),\n",
              "  ('old', 'ADJ'),\n",
              "  (',', '.'),\n",
              "  ('will', 'VERB'),\n",
              "  ('join', 'VERB'),\n",
              "  ('the', 'DET'),\n",
              "  ('board', 'NOUN'),\n",
              "  ('as', 'ADP'),\n",
              "  ('a', 'DET'),\n",
              "  ('nonexecutive', 'ADJ'),\n",
              "  ('director', 'NOUN'),\n",
              "  ('Nov.', 'NOUN'),\n",
              "  ('29', 'NUM'),\n",
              "  ('.', '.')],\n",
              " [('Mr.', 'NOUN'),\n",
              "  ('Vinken', 'NOUN'),\n",
              "  ('is', 'VERB'),\n",
              "  ('chairman', 'NOUN'),\n",
              "  ('of', 'ADP'),\n",
              "  ('Elsevier', 'NOUN'),\n",
              "  ('N.V.', 'NOUN'),\n",
              "  (',', '.'),\n",
              "  ('the', 'DET'),\n",
              "  ('Dutch', 'NOUN'),\n",
              "  ('publishing', 'VERB'),\n",
              "  ('group', 'NOUN'),\n",
              "  ('.', '.')],\n",
              " [('Rudolph', 'NOUN'),\n",
              "  ('Agnew', 'NOUN'),\n",
              "  (',', '.'),\n",
              "  ('55', 'NUM'),\n",
              "  ('years', 'NOUN'),\n",
              "  ('old', 'ADJ'),\n",
              "  ('and', 'CONJ'),\n",
              "  ('former', 'ADJ'),\n",
              "  ('chairman', 'NOUN'),\n",
              "  ('of', 'ADP'),\n",
              "  ('Consolidated', 'NOUN'),\n",
              "  ('Gold', 'NOUN'),\n",
              "  ('Fields', 'NOUN'),\n",
              "  ('PLC', 'NOUN'),\n",
              "  (',', '.'),\n",
              "  ('was', 'VERB'),\n",
              "  ('named', 'VERB'),\n",
              "  ('*-1', 'X'),\n",
              "  ('a', 'DET'),\n",
              "  ('nonexecutive', 'ADJ'),\n",
              "  ('director', 'NOUN'),\n",
              "  ('of', 'ADP'),\n",
              "  ('this', 'DET'),\n",
              "  ('British', 'ADJ'),\n",
              "  ('industrial', 'ADJ'),\n",
              "  ('conglomerate', 'NOUN'),\n",
              "  ('.', '.')],\n",
              " [('A', 'DET'),\n",
              "  ('form', 'NOUN'),\n",
              "  ('of', 'ADP'),\n",
              "  ('asbestos', 'NOUN'),\n",
              "  ('once', 'ADV'),\n",
              "  ('used', 'VERB'),\n",
              "  ('*', 'X'),\n",
              "  ('*', 'X'),\n",
              "  ('to', 'PRT'),\n",
              "  ('make', 'VERB'),\n",
              "  ('Kent', 'NOUN'),\n",
              "  ('cigarette', 'NOUN'),\n",
              "  ('filters', 'NOUN'),\n",
              "  ('has', 'VERB'),\n",
              "  ('caused', 'VERB'),\n",
              "  ('a', 'DET'),\n",
              "  ('high', 'ADJ'),\n",
              "  ('percentage', 'NOUN'),\n",
              "  ('of', 'ADP'),\n",
              "  ('cancer', 'NOUN'),\n",
              "  ('deaths', 'NOUN'),\n",
              "  ('among', 'ADP'),\n",
              "  ('a', 'DET'),\n",
              "  ('group', 'NOUN'),\n",
              "  ('of', 'ADP'),\n",
              "  ('workers', 'NOUN'),\n",
              "  ('exposed', 'VERB'),\n",
              "  ('*', 'X'),\n",
              "  ('to', 'PRT'),\n",
              "  ('it', 'PRON'),\n",
              "  ('more', 'ADV'),\n",
              "  ('than', 'ADP'),\n",
              "  ('30', 'NUM'),\n",
              "  ('years', 'NOUN'),\n",
              "  ('ago', 'ADP'),\n",
              "  (',', '.'),\n",
              "  ('researchers', 'NOUN'),\n",
              "  ('reported', 'VERB'),\n",
              "  ('0', 'X'),\n",
              "  ('*T*-1', 'X'),\n",
              "  ('.', '.')],\n",
              " [('The', 'DET'),\n",
              "  ('asbestos', 'NOUN'),\n",
              "  ('fiber', 'NOUN'),\n",
              "  (',', '.'),\n",
              "  ('crocidolite', 'NOUN'),\n",
              "  (',', '.'),\n",
              "  ('is', 'VERB'),\n",
              "  ('unusually', 'ADV'),\n",
              "  ('resilient', 'ADJ'),\n",
              "  ('once', 'ADP'),\n",
              "  ('it', 'PRON'),\n",
              "  ('enters', 'VERB'),\n",
              "  ('the', 'DET'),\n",
              "  ('lungs', 'NOUN'),\n",
              "  (',', '.'),\n",
              "  ('with', 'ADP'),\n",
              "  ('even', 'ADV'),\n",
              "  ('brief', 'ADJ'),\n",
              "  ('exposures', 'NOUN'),\n",
              "  ('to', 'PRT'),\n",
              "  ('it', 'PRON'),\n",
              "  ('causing', 'VERB'),\n",
              "  ('symptoms', 'NOUN'),\n",
              "  ('that', 'DET'),\n",
              "  ('*T*-1', 'X'),\n",
              "  ('show', 'VERB'),\n",
              "  ('up', 'PRT'),\n",
              "  ('decades', 'NOUN'),\n",
              "  ('later', 'ADJ'),\n",
              "  (',', '.'),\n",
              "  ('researchers', 'NOUN'),\n",
              "  ('said', 'VERB'),\n",
              "  ('0', 'X'),\n",
              "  ('*T*-2', 'X'),\n",
              "  ('.', '.')],\n",
              " [('Lorillard', 'NOUN'),\n",
              "  ('Inc.', 'NOUN'),\n",
              "  (',', '.'),\n",
              "  ('the', 'DET'),\n",
              "  ('unit', 'NOUN'),\n",
              "  ('of', 'ADP'),\n",
              "  ('New', 'ADJ'),\n",
              "  ('York-based', 'ADJ'),\n",
              "  ('Loews', 'NOUN'),\n",
              "  ('Corp.', 'NOUN'),\n",
              "  ('that', 'DET'),\n",
              "  ('*T*-2', 'X'),\n",
              "  ('makes', 'VERB'),\n",
              "  ('Kent', 'NOUN'),\n",
              "  ('cigarettes', 'NOUN'),\n",
              "  (',', '.'),\n",
              "  ('stopped', 'VERB'),\n",
              "  ('using', 'VERB'),\n",
              "  ('crocidolite', 'NOUN'),\n",
              "  ('in', 'ADP'),\n",
              "  ('its', 'PRON'),\n",
              "  ('Micronite', 'NOUN'),\n",
              "  ('cigarette', 'NOUN'),\n",
              "  ('filters', 'NOUN'),\n",
              "  ('in', 'ADP'),\n",
              "  ('1956', 'NUM'),\n",
              "  ('.', '.')],\n",
              " [('Although', 'ADP'),\n",
              "  ('preliminary', 'ADJ'),\n",
              "  ('findings', 'NOUN'),\n",
              "  ('were', 'VERB'),\n",
              "  ('reported', 'VERB'),\n",
              "  ('*-2', 'X'),\n",
              "  ('more', 'ADV'),\n",
              "  ('than', 'ADP'),\n",
              "  ('a', 'DET'),\n",
              "  ('year', 'NOUN'),\n",
              "  ('ago', 'ADP'),\n",
              "  (',', '.'),\n",
              "  ('the', 'DET'),\n",
              "  ('latest', 'ADJ'),\n",
              "  ('results', 'NOUN'),\n",
              "  ('appear', 'VERB'),\n",
              "  ('in', 'ADP'),\n",
              "  ('today', 'NOUN'),\n",
              "  (\"'s\", 'PRT'),\n",
              "  ('New', 'NOUN'),\n",
              "  ('England', 'NOUN'),\n",
              "  ('Journal', 'NOUN'),\n",
              "  ('of', 'ADP'),\n",
              "  ('Medicine', 'NOUN'),\n",
              "  (',', '.'),\n",
              "  ('a', 'DET'),\n",
              "  ('forum', 'NOUN'),\n",
              "  ('likely', 'ADJ'),\n",
              "  ('*', 'X'),\n",
              "  ('to', 'PRT'),\n",
              "  ('bring', 'VERB'),\n",
              "  ('new', 'ADJ'),\n",
              "  ('attention', 'NOUN'),\n",
              "  ('to', 'PRT'),\n",
              "  ('the', 'DET'),\n",
              "  ('problem', 'NOUN'),\n",
              "  ('.', '.')],\n",
              " [('A', 'DET'),\n",
              "  ('Lorillard', 'NOUN'),\n",
              "  ('spokewoman', 'NOUN'),\n",
              "  ('said', 'VERB'),\n",
              "  (',', '.'),\n",
              "  ('``', '.'),\n",
              "  ('This', 'DET'),\n",
              "  ('is', 'VERB'),\n",
              "  ('an', 'DET'),\n",
              "  ('old', 'ADJ'),\n",
              "  ('story', 'NOUN'),\n",
              "  ('.', '.')],\n",
              " [('We', 'PRON'),\n",
              "  (\"'re\", 'VERB'),\n",
              "  ('talking', 'VERB'),\n",
              "  ('about', 'ADP'),\n",
              "  ('years', 'NOUN'),\n",
              "  ('ago', 'ADP'),\n",
              "  ('before', 'ADP'),\n",
              "  ('anyone', 'NOUN'),\n",
              "  ('heard', 'VERB'),\n",
              "  ('of', 'ADP'),\n",
              "  ('asbestos', 'NOUN'),\n",
              "  ('having', 'VERB'),\n",
              "  ('any', 'DET'),\n",
              "  ('questionable', 'ADJ'),\n",
              "  ('properties', 'NOUN'),\n",
              "  ('.', '.')],\n",
              " [('There', 'DET'),\n",
              "  ('is', 'VERB'),\n",
              "  ('no', 'DET'),\n",
              "  ('asbestos', 'NOUN'),\n",
              "  ('in', 'ADP'),\n",
              "  ('our', 'PRON'),\n",
              "  ('products', 'NOUN'),\n",
              "  ('now', 'ADV'),\n",
              "  ('.', '.'),\n",
              "  (\"''\", '.')]]"
            ]
          },
          "metadata": {},
          "execution_count": 3
        }
      ],
      "source": [
        "nltk_data = list(nltk.corpus.treebank.tagged_sents(tagset='universal'))\n",
        "nltk_data[:10]"
      ]
    },
    {
      "cell_type": "code",
      "execution_count": 4,
      "id": "ec9b79fe",
      "metadata": {
        "colab": {
          "base_uri": "https://localhost:8080/"
        },
        "id": "ec9b79fe",
        "outputId": "f548b571-2475-44e6-9737-9e4c8a79beb9"
      },
      "outputs": [
        {
          "output_type": "execute_result",
          "data": {
            "text/plain": [
              "3914"
            ]
          },
          "metadata": {},
          "execution_count": 4
        }
      ],
      "source": [
        "len(nltk_data)"
      ]
    },
    {
      "cell_type": "code",
      "execution_count": 5,
      "id": "25c2c898",
      "metadata": {
        "id": "25c2c898"
      },
      "outputs": [],
      "source": [
        "train_set, test_set = train_test_split(nltk_data, train_size=0.95)"
      ]
    },
    {
      "cell_type": "code",
      "execution_count": 6,
      "id": "b37cf9a4",
      "metadata": {
        "colab": {
          "base_uri": "https://localhost:8080/"
        },
        "id": "b37cf9a4",
        "outputId": "0b612b06-bd1b-4440-f440-165dc165151a"
      },
      "outputs": [
        {
          "output_type": "execute_result",
          "data": {
            "text/plain": [
              "(3718, 196)"
            ]
          },
          "metadata": {},
          "execution_count": 6
        }
      ],
      "source": [
        "len(train_set), len(test_set)"
      ]
    },
    {
      "cell_type": "markdown",
      "id": "4b498dc3",
      "metadata": {
        "id": "4b498dc3"
      },
      "source": [
        "Основное марковское свойство\n",
        "\n",
        "$$P(x_n | x_{n-1}, x_{n-2}, ..., x_1) = P(X_n | x_{n-1})$$"
      ]
    },
    {
      "cell_type": "markdown",
      "id": "e59210b1",
      "metadata": {
        "id": "e59210b1"
      },
      "source": [
        "Пусть нам дано множество тегов $T = \\{t_1, t_2, ..., t_n\\}$, начальные состояния для тегов $\\pi = \\{\\pi_1, \\pi_2, ..., \\pi_n\\}$ и наблюдения $W = \\{w_1, w_2, ..., w_n\\}$. Мы хотим по входным наблюдениям $w_1...w_n$ предсказать последовательность тегов $t_1...t_n$."
      ]
    },
    {
      "cell_type": "markdown",
      "id": "07649dbf",
      "metadata": {
        "id": "07649dbf"
      },
      "source": [
        "#### Transitions\n",
        "\n",
        "$$P(t_i|t_{i-1}) = \\frac{C(t_{i-1}, t_i)}{C(t_{i-1})}$$\n",
        "\n",
        "\n",
        "#### Emissions\n",
        "\n",
        "$$P(w_i|t_i) = \\frac{C(t_i, w_i)}{C(t_i)}$$"
      ]
    },
    {
      "cell_type": "markdown",
      "id": "87e41037",
      "metadata": {
        "id": "87e41037"
      },
      "source": [
        "#### Алгоритм Витерби"
      ]
    },
    {
      "cell_type": "markdown",
      "id": "d6d39a19",
      "metadata": {
        "id": "d6d39a19"
      },
      "source": [
        "$$\\hat{t}_{1:n} = argmax_{t_1...t_n} P(t_1...t_n|w_1...w_n) \\approx argmax_{t_1...t_n} \\prod\\limits_{i=1}^n P(w_i|t_i) p(t_i|t_{i-1})$$"
      ]
    },
    {
      "cell_type": "code",
      "execution_count": 35,
      "id": "2c63908f",
      "metadata": {
        "id": "2c63908f"
      },
      "outputs": [],
      "source": [
        "class HMMTagger:\n",
        "    def __init__(self, alpha=1):\n",
        "        self.__tag_tag_counts = Counter()\n",
        "        self.__tag_word_counts = Counter()\n",
        "        self.__tag_counts = Counter()\n",
        "        \n",
        "        self.__transition_probabilities = None\n",
        "        self.__emmission_probabilities = None\n",
        "        \n",
        "        self.alpha = alpha\n",
        "        self.start = 'START'\n",
        "        self.end = 'END'\n",
        "\n",
        "        self.words_set_size = None\n",
        "\n",
        "    def fit(self, data):\n",
        "        \"\"\"\n",
        "        Training of the model on texts\n",
        "        :param data: tagged sentences list\n",
        "        \"\"\"\n",
        "\n",
        "        for sentence in tqdm(data, total=len(data)):\n",
        "            # заполняем счётчики числом встретившихся униграмм и биграмм тегов, биграмм <тег,слово>\n",
        "            words, tags = zip(*sentence)\n",
        "            ttags = [self.start] + list(tags) + [self.end]\n",
        "\n",
        "            self.__tag_counts += Counter(ttags)\n",
        "            self.__tag_tag_counts += Counter(bigrams(ttags))\n",
        "\n",
        "            for tag, word in zip(tags, words):\n",
        "                self.__tag_word_counts[(tag, word)] += 1\n",
        "\n",
        "                \n",
        "        self.__transition_probabilities = defaultdict(float)\n",
        "        self.__emmission_probabilities = defaultdict(float)\n",
        "                \n",
        "        self.__fill_transition_probabilties()\n",
        "        self.__fill_emmission_probabilties()\n",
        "\n",
        "        return self\n",
        "    \n",
        "    def __fill_transition_probabilties(self):\n",
        "        for bigram in self.__tag_tag_counts.keys():\n",
        "            self.__transition_probabilities[bigram] = self.__tag_tag_counts[bigram] / self.__tag_counts[bigram[0]]\n",
        "        \n",
        "    def __fill_emmission_probabilties(self, alpha=0):\n",
        "        for (tag, word) in self.__tag_word_counts.keys():\n",
        "            self.__emmission_probabilities[(tag, word)] = self.__tag_word_counts[(tag, word)] / self.__tag_counts[tag]\n",
        "        \n",
        "    def viterbi(self, observable):\n",
        "        \"\"\"\n",
        "        Напишите функцию для алгоритма Витерби\n",
        "        \"\"\"\n",
        "        state = []\n",
        "        T = sorted(list(set(self.__tag_counts.keys())))\n",
        "        T.remove(self.start)\n",
        "        T.remove(self.end)\n",
        "\n",
        "        for key, word in enumerate(observable):\n",
        "            p = []\n",
        "            for tag in T:\n",
        "                if key == 0:\n",
        "                    tr = self.initial_probabilities(tag)\n",
        "                else:\n",
        "                    tr = self.__transition_probabilities[(state[-1], tag)]\n",
        "\n",
        "                em = self.__emmission_probabilities[(tag, word)]\n",
        "                p.append(tr * em)\n",
        "\n",
        "            # print(word, T, p)\n",
        "            pmax = max(p)\n",
        "            if pmax == 0:\n",
        "                s = state[-1] if state else self.start\n",
        "                tr = [self.__transition_probabilities[(s, tag)] for tag in T]\n",
        "                tmax = max(tr)\n",
        "                state_max = T[tr.index(tmax)]\n",
        "            else:\n",
        "                state_max = T[p.index(pmax)]\n",
        "            state.append(state_max)\n",
        "        return list(zip(observable, state))\n",
        "    \n",
        "    def transition_probabilty(self):\n",
        "        return self.__transition_probabilities\n",
        "\n",
        "    def emmission_probabilty(self):\n",
        "        return self.__emmission_probabilities\n",
        "        \n",
        "    def initial_probabilities(self, tag):\n",
        "        return self.__transition_probabilities[(self.start, tag)]\n",
        "    \n",
        "    def get_vocab_size(self):\n",
        "        return self.words_set_size\n",
        "    \n",
        "    def get_tags(self):\n",
        "        return self.__tag_counts\n",
        "    \n",
        "    def get_tag2tag(self):\n",
        "        return self.__tag_tag_counts\n",
        "    \n",
        "    def get_word2tag(self):\n",
        "        return self.__tag_word_counts"
      ]
    },
    {
      "cell_type": "code",
      "execution_count": 36,
      "id": "4d7ebec9",
      "metadata": {
        "id": "4d7ebec9"
      },
      "outputs": [],
      "source": [
        "model = HMMTagger()"
      ]
    },
    {
      "cell_type": "code",
      "execution_count": 37,
      "id": "034876d9",
      "metadata": {
        "colab": {
          "base_uri": "https://localhost:8080/"
        },
        "id": "034876d9",
        "outputId": "56fedf68-9f31-4697-f012-0a2f9690d5fd"
      },
      "outputs": [
        {
          "output_type": "stream",
          "name": "stderr",
          "text": [
            "100%|██████████| 3718/3718 [00:00<00:00, 15767.44it/s]\n"
          ]
        },
        {
          "output_type": "execute_result",
          "data": {
            "text/plain": [
              "<__main__.HMMTagger at 0x7f39c279ed60>"
            ]
          },
          "metadata": {},
          "execution_count": 37
        }
      ],
      "source": [
        "model.fit(train_set)"
      ]
    },
    {
      "cell_type": "code",
      "execution_count": 21,
      "id": "8ee6f9f8",
      "metadata": {
        "colab": {
          "base_uri": "https://localhost:8080/"
        },
        "id": "8ee6f9f8",
        "outputId": "263b0991-6274-46e9-f4fa-14459f096c2e"
      },
      "outputs": [
        {
          "output_type": "execute_result",
          "data": {
            "text/plain": [
              "0.009951586874663798"
            ]
          },
          "metadata": {},
          "execution_count": 21
        }
      ],
      "source": [
        "model.initial_probabilities('VERB')"
      ]
    },
    {
      "cell_type": "code",
      "execution_count": 22,
      "id": "57bd011b",
      "metadata": {
        "colab": {
          "base_uri": "https://localhost:8080/"
        },
        "id": "57bd011b",
        "outputId": "326e2026-a951-4a8e-d38b-12efcd7d7ed3"
      },
      "outputs": [
        {
          "output_type": "execute_result",
          "data": {
            "text/plain": [
              "[(('START', 'NOUN'), 0.2926304464766003),\n",
              " (('NOUN', 'VERB'), 0.1467930029154519),\n",
              " (('VERB', 'NUM'), 0.0225347734866734),\n",
              " (('NUM', 'NOUN'), 0.3484802888955763),\n",
              " (('NOUN', 'PRT'), 0.04369533527696793)]"
            ]
          },
          "metadata": {},
          "execution_count": 22
        }
      ],
      "source": [
        "list(model.transition_probabilty().items())[:5]"
      ]
    },
    {
      "cell_type": "code",
      "execution_count": 23,
      "id": "a2c9512a",
      "metadata": {
        "colab": {
          "base_uri": "https://localhost:8080/"
        },
        "id": "a2c9512a",
        "outputId": "44c9502b-cd70-40ee-a49a-35b9085fe75b"
      },
      "outputs": [
        {
          "output_type": "execute_result",
          "data": {
            "text/plain": [
              "[(('NOUN', 'Revenue'), 0.00010932944606413994),\n",
              " (('VERB', 'declined'), 0.0016318284248970393),\n",
              " (('NUM', '8'), 0.009027986758952753),\n",
              " (('NOUN', '%'), 0.014613702623906705),\n",
              " (('PRT', 'to'), 0.6714801444043321)]"
            ]
          },
          "metadata": {},
          "execution_count": 23
        }
      ],
      "source": [
        "list(model.emmission_probabilty().items())[:5]"
      ]
    },
    {
      "cell_type": "code",
      "execution_count": 24,
      "id": "bd73981a",
      "metadata": {
        "scrolled": true,
        "colab": {
          "base_uri": "https://localhost:8080/"
        },
        "id": "bd73981a",
        "outputId": "cf23ab51-2b66-4241-8664-33f294ca32c5"
      },
      "outputs": [
        {
          "output_type": "execute_result",
          "data": {
            "text/plain": [
              "Counter({'START': 3718,\n",
              "         'NOUN': 27440,\n",
              "         'VERB': 12869,\n",
              "         'NUM': 3323,\n",
              "         'PRT': 3047,\n",
              "         '.': 11129,\n",
              "         'X': 6290,\n",
              "         'ADP': 9338,\n",
              "         'DET': 8264,\n",
              "         'ADJ': 6060,\n",
              "         'END': 3718,\n",
              "         'ADV': 3008,\n",
              "         'PRON': 2594,\n",
              "         'CONJ': 2153})"
            ]
          },
          "metadata": {},
          "execution_count": 24
        }
      ],
      "source": [
        "model.get_tags()"
      ]
    },
    {
      "cell_type": "code",
      "execution_count": 38,
      "id": "1ea88bc0",
      "metadata": {
        "colab": {
          "base_uri": "https://localhost:8080/"
        },
        "id": "1ea88bc0",
        "outputId": "7f3f1a56-7736-49e4-afaa-ef4d7b80ff23"
      },
      "outputs": [
        {
          "output_type": "stream",
          "name": "stdout",
          "text": [
            "[('Android', 'NOUN'), ('is', 'VERB'), ('a', 'DET'), ('mobile', 'ADJ'), ('operating', 'NOUN'), ('system', 'NOUN'), ('developed', 'VERB'), ('by', 'ADP'), ('Google', 'NOUN'), ('.', '.')]\n"
          ]
        }
      ],
      "source": [
        "print(model.viterbi(word_tokenize('Android is a mobile operating system developed by Google.')))"
      ]
    },
    {
      "cell_type": "code",
      "execution_count": 26,
      "id": "9d7aa75f",
      "metadata": {
        "id": "9d7aa75f"
      },
      "outputs": [],
      "source": [
        "# list of tagged words in test set\n",
        "test_run_base = [tup for sent in test_set for tup in sent]\n",
        "\n",
        "# list of  words which are untagged in test set\n",
        "test_tagged_words = [tup[0] for sent in test_set for tup in sent]"
      ]
    },
    {
      "cell_type": "code",
      "execution_count": 39,
      "id": "4fcbe3b5",
      "metadata": {
        "id": "4fcbe3b5"
      },
      "outputs": [],
      "source": [
        "tagged_seq = model.viterbi(test_tagged_words)"
      ]
    },
    {
      "cell_type": "code",
      "execution_count": 40,
      "id": "2444f3ce",
      "metadata": {
        "colab": {
          "base_uri": "https://localhost:8080/"
        },
        "id": "2444f3ce",
        "outputId": "5324ef04-f248-4964-94b5-0c4af5eee9e8"
      },
      "outputs": [
        {
          "output_type": "stream",
          "name": "stdout",
          "text": [
            "0.9418717302848285\n"
          ]
        }
      ],
      "source": [
        "# Get accuracy of model\n",
        "check = [i for i, j in zip(tagged_seq, test_run_base) if i == j] \n",
        "accuracy = len(check)/len(tagged_seq)\n",
        "print(accuracy)"
      ]
    }
  ],
  "metadata": {
    "kernelspec": {
      "display_name": "Python 3 (ipykernel)",
      "language": "python",
      "name": "python3"
    },
    "language_info": {
      "codemirror_mode": {
        "name": "ipython",
        "version": 3
      },
      "file_extension": ".py",
      "mimetype": "text/x-python",
      "name": "python",
      "nbconvert_exporter": "python",
      "pygments_lexer": "ipython3",
      "version": "3.9.13"
    },
    "colab": {
      "provenance": []
    }
  },
  "nbformat": 4,
  "nbformat_minor": 5
}