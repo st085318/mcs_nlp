{
  "cells": [
    {
      "cell_type": "markdown",
      "source": [
        "# PyTorch\n",
        "\n",
        "Основные преимущества:\n",
        "\n",
        "1.   Динамические графы\n",
        "2.   Удобная работа с тензорами\n",
        "3.   Удобное управление вычислениями на cuda, cpu ...\n",
        "4.   Autograd - автоматическое вычисление градиентов\n",
        "\n",
        "\n"
      ],
      "metadata": {
        "id": "eOi8hj6njRao"
      }
    },
    {
      "cell_type": "code",
      "source": [
        "import torch\n",
        "import torch.nn as nn\n",
        "import torchvision\n",
        "import torchvision.transforms as transforms"
      ],
      "metadata": {
        "id": "CgfL0dBLikVf"
      },
      "execution_count": 1,
      "outputs": []
    },
    {
      "cell_type": "markdown",
      "source": [
        "# Базовые операции"
      ],
      "metadata": {
        "id": "85VMSkF-i9T2"
      }
    },
    {
      "cell_type": "code",
      "source": [
        "e  = torch.eye(2)\n",
        "e"
      ],
      "metadata": {
        "colab": {
          "base_uri": "https://localhost:8080/"
        },
        "id": "Dg1bbPx_ikRw",
        "outputId": "c27ef9db-732b-4af4-d62a-3c9a5f63fb7f"
      },
      "execution_count": 2,
      "outputs": [
        {
          "output_type": "execute_result",
          "data": {
            "text/plain": [
              "tensor([[1., 0.],\n",
              "        [0., 1.]])"
            ]
          },
          "metadata": {},
          "execution_count": 2
        }
      ]
    },
    {
      "cell_type": "code",
      "source": [
        "print('Shape:', e.size())\n",
        "print('How many dimensions? - ', e.dim())"
      ],
      "metadata": {
        "colab": {
          "base_uri": "https://localhost:8080/"
        },
        "id": "QKLC8BCTikB1",
        "outputId": "325c6594-d881-48ec-f880-9dd807d382e4"
      },
      "execution_count": 4,
      "outputs": [
        {
          "output_type": "stream",
          "name": "stdout",
          "text": [
            "Shape: torch.Size([2, 2])\n",
            "How many dimensions? -  2\n"
          ]
        }
      ]
    },
    {
      "cell_type": "markdown",
      "source": [
        "В `empty()` создастся \"мусор\""
      ],
      "metadata": {
        "id": "oKkCwsiS_sT8"
      }
    },
    {
      "cell_type": "code",
      "source": [
        "v = torch.empty(10)\n",
        "v"
      ],
      "metadata": {
        "colab": {
          "base_uri": "https://localhost:8080/"
        },
        "id": "qomrliKIkFu5",
        "outputId": "53f82c55-6b9b-4b4f-9e8d-dae794570c75"
      },
      "execution_count": 5,
      "outputs": [
        {
          "output_type": "execute_result",
          "data": {
            "text/plain": [
              "tensor([ 2.2006e+01,  4.5759e-41,  1.3897e-34,  0.0000e+00,  3.8838e+34,\n",
              "         4.5758e-41,  4.6810e-06, -6.4572e+01,  3.8945e+34,  4.5758e-41])"
            ]
          },
          "metadata": {},
          "execution_count": 5
        }
      ]
    },
    {
      "cell_type": "code",
      "source": [
        "z = torch.zeros(10)\n",
        "z"
      ],
      "metadata": {
        "colab": {
          "base_uri": "https://localhost:8080/"
        },
        "id": "kRj0vvJgkFsE",
        "outputId": "f816f73c-707c-4a1b-dbb5-6b6afc16a970"
      },
      "execution_count": 6,
      "outputs": [
        {
          "output_type": "execute_result",
          "data": {
            "text/plain": [
              "tensor([0., 0., 0., 0., 0., 0., 0., 0., 0., 0.])"
            ]
          },
          "metadata": {},
          "execution_count": 6
        }
      ]
    },
    {
      "cell_type": "markdown",
      "source": [
        "Удобный синтаксис для создания N-мерных векторов."
      ],
      "metadata": {
        "id": "DlUKVU_G__s6"
      }
    },
    {
      "cell_type": "code",
      "source": [
        "z = torch.zeros(4, 3)\n",
        "z"
      ],
      "metadata": {
        "colab": {
          "base_uri": "https://localhost:8080/"
        },
        "id": "8AShwwFSkFo8",
        "outputId": "6025e37a-ac5c-45d5-a6f6-422fae6d96e8"
      },
      "execution_count": 7,
      "outputs": [
        {
          "output_type": "execute_result",
          "data": {
            "text/plain": [
              "tensor([[0., 0., 0.],\n",
              "        [0., 0., 0.],\n",
              "        [0., 0., 0.],\n",
              "        [0., 0., 0.]])"
            ]
          },
          "metadata": {},
          "execution_count": 7
        }
      ]
    },
    {
      "cell_type": "markdown",
      "source": [
        "Функции `view` и `reshape`."
      ],
      "metadata": {
        "id": "XCIlr-8jAKHI"
      }
    },
    {
      "cell_type": "code",
      "source": [
        "z = torch.randn(2, 3)\n",
        "z"
      ],
      "metadata": {
        "colab": {
          "base_uri": "https://localhost:8080/"
        },
        "id": "dX105LUQliq9",
        "outputId": "61416d4a-8c26-4047-9a70-68f901e986ea"
      },
      "execution_count": 8,
      "outputs": [
        {
          "output_type": "execute_result",
          "data": {
            "text/plain": [
              "tensor([[ 0.3939,  0.7940,  0.2567],\n",
              "        [ 0.8680, -1.0954,  0.4009]])"
            ]
          },
          "metadata": {},
          "execution_count": 8
        }
      ]
    },
    {
      "cell_type": "code",
      "source": [
        "z.view(6, 1)"
      ],
      "metadata": {
        "colab": {
          "base_uri": "https://localhost:8080/"
        },
        "id": "hJ0UU1ZFkFlW",
        "outputId": "f1453b79-e208-4459-a6a2-4b593b9f28b5"
      },
      "execution_count": 9,
      "outputs": [
        {
          "output_type": "execute_result",
          "data": {
            "text/plain": [
              "tensor([[ 0.3939],\n",
              "        [ 0.7940],\n",
              "        [ 0.2567],\n",
              "        [ 0.8680],\n",
              "        [-1.0954],\n",
              "        [ 0.4009]])"
            ]
          },
          "metadata": {},
          "execution_count": 9
        }
      ]
    },
    {
      "cell_type": "code",
      "source": [
        "z"
      ],
      "metadata": {
        "colab": {
          "base_uri": "https://localhost:8080/"
        },
        "id": "XowN5FHtlviI",
        "outputId": "f08cefbd-0b5a-446f-d756-2d43db2bd089"
      },
      "execution_count": 10,
      "outputs": [
        {
          "output_type": "execute_result",
          "data": {
            "text/plain": [
              "tensor([[ 0.3939,  0.7940,  0.2567],\n",
              "        [ 0.8680, -1.0954,  0.4009]])"
            ]
          },
          "metadata": {},
          "execution_count": 10
        }
      ]
    },
    {
      "cell_type": "code",
      "source": [
        "z.reshape(6, 1)"
      ],
      "metadata": {
        "colab": {
          "base_uri": "https://localhost:8080/"
        },
        "id": "MzirTLnJAW1d",
        "outputId": "a4fe676b-33fe-499f-bbfb-eea120e45f56"
      },
      "execution_count": 11,
      "outputs": [
        {
          "output_type": "execute_result",
          "data": {
            "text/plain": [
              "tensor([[ 0.3939],\n",
              "        [ 0.7940],\n",
              "        [ 0.2567],\n",
              "        [ 0.8680],\n",
              "        [-1.0954],\n",
              "        [ 0.4009]])"
            ]
          },
          "metadata": {},
          "execution_count": 11
        }
      ]
    },
    {
      "cell_type": "code",
      "source": [
        "z"
      ],
      "metadata": {
        "colab": {
          "base_uri": "https://localhost:8080/"
        },
        "id": "6SdCNpfpAW_r",
        "outputId": "f5f78139-8eda-48d4-cffe-860474240aa8"
      },
      "execution_count": 12,
      "outputs": [
        {
          "output_type": "execute_result",
          "data": {
            "text/plain": [
              "tensor([[ 0.3939,  0.7940,  0.2567],\n",
              "        [ 0.8680, -1.0954,  0.4009]])"
            ]
          },
          "metadata": {},
          "execution_count": 12
        }
      ]
    },
    {
      "cell_type": "markdown",
      "source": [
        "Операции с матрицами"
      ],
      "metadata": {
        "id": "XHVanEh_AoPQ"
      }
    },
    {
      "cell_type": "code",
      "source": [
        "x = torch.randn(4, 5)\n",
        "x"
      ],
      "metadata": {
        "colab": {
          "base_uri": "https://localhost:8080/"
        },
        "id": "zjqtyHr8Amd7",
        "outputId": "a52f0560-67cc-4385-befb-7e6916ff1a03"
      },
      "execution_count": 13,
      "outputs": [
        {
          "output_type": "execute_result",
          "data": {
            "text/plain": [
              "tensor([[ 0.1907,  0.0809,  2.8421,  0.7175, -0.2436],\n",
              "        [ 1.3892,  1.0218,  0.1679,  1.1300,  0.2892],\n",
              "        [-0.8004, -0.0906,  0.3114, -0.2665, -0.0548],\n",
              "        [ 0.2561, -0.7805, -0.8311,  1.6108, -0.9476]])"
            ]
          },
          "metadata": {},
          "execution_count": 13
        }
      ]
    },
    {
      "cell_type": "code",
      "source": [
        "x.t()"
      ],
      "metadata": {
        "colab": {
          "base_uri": "https://localhost:8080/"
        },
        "id": "DFjlz-I_lETp",
        "outputId": "7cb81009-6da8-4b3c-c60f-d4a1eeb63096"
      },
      "execution_count": 14,
      "outputs": [
        {
          "output_type": "execute_result",
          "data": {
            "text/plain": [
              "tensor([[ 0.1907,  1.3892, -0.8004,  0.2561],\n",
              "        [ 0.0809,  1.0218, -0.0906, -0.7805],\n",
              "        [ 2.8421,  0.1679,  0.3114, -0.8311],\n",
              "        [ 0.7175,  1.1300, -0.2665,  1.6108],\n",
              "        [-0.2436,  0.2892, -0.0548, -0.9476]])"
            ]
          },
          "metadata": {},
          "execution_count": 14
        }
      ]
    },
    {
      "cell_type": "markdown",
      "source": [
        "Обратите внимание на полезные методы с нижним подчёркиванием в конце. Они позволяют изменять тензоры \"на месте\", без создания копий."
      ],
      "metadata": {
        "id": "gx4KQfKUA8dS"
      }
    },
    {
      "cell_type": "code",
      "source": [
        "x.t_()\n",
        "x"
      ],
      "metadata": {
        "colab": {
          "base_uri": "https://localhost:8080/"
        },
        "id": "ZGVNrFJFA3Hq",
        "outputId": "ba3596ee-d08d-4e13-bb5a-fe6f55496427"
      },
      "execution_count": 15,
      "outputs": [
        {
          "output_type": "execute_result",
          "data": {
            "text/plain": [
              "tensor([[ 0.1907,  1.3892, -0.8004,  0.2561],\n",
              "        [ 0.0809,  1.0218, -0.0906, -0.7805],\n",
              "        [ 2.8421,  0.1679,  0.3114, -0.8311],\n",
              "        [ 0.7175,  1.1300, -0.2665,  1.6108],\n",
              "        [-0.2436,  0.2892, -0.0548, -0.9476]])"
            ]
          },
          "metadata": {},
          "execution_count": 15
        }
      ]
    },
    {
      "cell_type": "markdown",
      "source": [
        "Подобные методы имеются и для сложения и вычитания матриц.\n",
        "\n"
      ],
      "metadata": {
        "id": "AaG8eL8KBQzA"
      }
    },
    {
      "cell_type": "code",
      "source": [
        "a = torch.randn((3, 4))\n",
        "b = torch.randn((4, 5))"
      ],
      "metadata": {
        "id": "hsHdbwVGlVcH"
      },
      "execution_count": 16,
      "outputs": []
    },
    {
      "cell_type": "code",
      "source": [
        "a @ b"
      ],
      "metadata": {
        "colab": {
          "base_uri": "https://localhost:8080/"
        },
        "id": "aitX8aB_lVYi",
        "outputId": "711b8500-dcc0-47b9-9621-d1905642f620"
      },
      "execution_count": 17,
      "outputs": [
        {
          "output_type": "execute_result",
          "data": {
            "text/plain": [
              "tensor([[-1.6782,  3.3915,  1.9474, -1.2195,  1.4262],\n",
              "        [-3.5112, -0.2653, -0.7529,  1.2340, -3.2191],\n",
              "        [-0.2290, -0.7078, -1.7841, -0.1520, -0.1150]])"
            ]
          },
          "metadata": {},
          "execution_count": 17
        }
      ]
    },
    {
      "cell_type": "code",
      "source": [
        "a.matmul(b)"
      ],
      "metadata": {
        "colab": {
          "base_uri": "https://localhost:8080/"
        },
        "id": "m3yz5DMRm8AU",
        "outputId": "bb2a4857-676e-461b-86f9-5abdaa88745f"
      },
      "execution_count": 18,
      "outputs": [
        {
          "output_type": "execute_result",
          "data": {
            "text/plain": [
              "tensor([[-1.6782,  3.3915,  1.9474, -1.2195,  1.4262],\n",
              "        [-3.5112, -0.2653, -0.7529,  1.2340, -3.2191],\n",
              "        [-0.2290, -0.7078, -1.7841, -0.1520, -0.1150]])"
            ]
          },
          "metadata": {},
          "execution_count": 18
        }
      ]
    },
    {
      "cell_type": "code",
      "source": [
        "a = torch.randn(3, 4)\n",
        "b = torch.randn(3, 4)"
      ],
      "metadata": {
        "id": "342JALezlVU2"
      },
      "execution_count": 19,
      "outputs": []
    },
    {
      "cell_type": "code",
      "source": [
        "a + b"
      ],
      "metadata": {
        "colab": {
          "base_uri": "https://localhost:8080/"
        },
        "id": "Dixwkj98lEdg",
        "outputId": "f38c4ce7-8eb1-4d15-fd3f-fe45c5f8ae34"
      },
      "execution_count": 20,
      "outputs": [
        {
          "output_type": "execute_result",
          "data": {
            "text/plain": [
              "tensor([[2.4090, 0.7474, 0.2132, 1.7008],\n",
              "        [1.3075, 1.0717, 0.1434, 0.3755],\n",
              "        [0.7267, 2.0207, 1.1185, 0.0273]])"
            ]
          },
          "metadata": {},
          "execution_count": 20
        }
      ]
    },
    {
      "cell_type": "code",
      "source": [
        "a.add_(b)\n",
        "a"
      ],
      "metadata": {
        "colab": {
          "base_uri": "https://localhost:8080/"
        },
        "id": "iMKzBzNIBwZb",
        "outputId": "e174b30c-8c4b-418d-f412-6c0fcced11bb"
      },
      "execution_count": 21,
      "outputs": [
        {
          "output_type": "execute_result",
          "data": {
            "text/plain": [
              "tensor([[2.4090, 0.7474, 0.2132, 1.7008],\n",
              "        [1.3075, 1.0717, 0.1434, 0.3755],\n",
              "        [0.7267, 2.0207, 1.1185, 0.0273]])"
            ]
          },
          "metadata": {},
          "execution_count": 21
        }
      ]
    },
    {
      "cell_type": "code",
      "source": [
        "a - b"
      ],
      "metadata": {
        "colab": {
          "base_uri": "https://localhost:8080/"
        },
        "id": "8AIDhXbCkFYS",
        "outputId": "87f2a661-4e78-42d4-f218-589f696c350d"
      },
      "execution_count": 22,
      "outputs": [
        {
          "output_type": "execute_result",
          "data": {
            "text/plain": [
              "tensor([[ 1.0568,  0.9122, -0.8319,  1.9972],\n",
              "        [ 0.9869,  0.5860, -0.7614,  0.0843],\n",
              "        [-0.0186,  0.1631,  0.5314, -0.8616]])"
            ]
          },
          "metadata": {},
          "execution_count": 22
        }
      ]
    },
    {
      "cell_type": "code",
      "source": [
        "b.sub_(a)\n",
        "b"
      ],
      "metadata": {
        "colab": {
          "base_uri": "https://localhost:8080/"
        },
        "id": "Ofsds8xmB4rf",
        "outputId": "3cf828f4-7552-49fe-dedf-d390b4f30660"
      },
      "execution_count": 23,
      "outputs": [
        {
          "output_type": "execute_result",
          "data": {
            "text/plain": [
              "tensor([[-1.0568, -0.9122,  0.8319, -1.9972],\n",
              "        [-0.9869, -0.5860,  0.7614, -0.0843],\n",
              "        [ 0.0186, -0.1631, -0.5314,  0.8616]])"
            ]
          },
          "metadata": {},
          "execution_count": 23
        }
      ]
    },
    {
      "cell_type": "markdown",
      "source": [
        "# Перейдём к простым нейронным сетям! :)"
      ],
      "metadata": {
        "id": "lgn9CvqLCFPs"
      }
    },
    {
      "cell_type": "markdown",
      "metadata": {
        "id": "RfntoQId5V7F"
      },
      "source": [
        "### Recap Neural Networks"
      ]
    },
    {
      "cell_type": "markdown",
      "metadata": {
        "id": "5gVT-8Te5V7H"
      },
      "source": [
        "![photo_2023-02-09_22-26-11.jpg](data:image/jpeg;base64,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)"
      ]
    },
    {
      "cell_type": "markdown",
      "metadata": {
        "id": "LxXgj9s65V7I"
      },
      "source": [
        "Как и почти каждая supervised задача в ML - это задача оптимизации и для этого необходимо определить loss-функцию.\n",
        "\n",
        "В данном случае представлена классическая для задач классификации - функция кросс-энтропии. "
      ]
    },
    {
      "cell_type": "markdown",
      "source": [
        "# **$$J = -\\sum\\limits_{(X, y_k) \\in S} \\sum\\limits_{k=1}^K {\\log {\\widehat{y_k}} (X, w)}.$$**"
      ],
      "metadata": {
        "id": "2tPl0VGlgTdM"
      }
    },
    {
      "cell_type": "markdown",
      "metadata": {
        "id": "vOfyBx3Q5V7J"
      },
      "source": [
        "Для того, чтобы посчитать градиент loss-функции по каждому параметру, можно воспользоваться правилом дифференцирования сложной функции (chain rule)"
      ]
    },
    {
      "cell_type": "markdown",
      "source": [
        "# $$\\frac{\\partial z}{\\partial x_i} = \\sum\\limits_j {\\frac{\\partial z}{\\partial y_j} \\frac{\\partial y_j}{\\partial x_i}}$$"
      ],
      "metadata": {
        "id": "Dbl74OxiLRE9"
      }
    },
    {
      "cell_type": "markdown",
      "metadata": {
        "id": "ovSkvRhe5V7J"
      },
      "source": [
        "Формальный алгоритм BackProp"
      ]
    },
    {
      "cell_type": "markdown",
      "metadata": {
        "id": "BWr10jZk5V7K"
      },
      "source": [
        "![photo_2023-02-09_22-26-31.jpg](data:image/jpeg;base64,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)"
      ]
    },
    {
      "cell_type": "markdown",
      "metadata": {
        "id": "9P7uJ5Eu5V7K"
      },
      "source": [
        "Не забываем обновить веса"
      ]
    },
    {
      "cell_type": "markdown",
      "source": [
        "\n",
        "# $$w = w - 𝞰 \\nabla _ w J(w; X, y)$$<br>\n",
        "\n",
        "\n",
        "\n",
        "\n",
        "\n",
        "\n"
      ],
      "metadata": {
        "id": "emZ40TqfbCFb"
      }
    },
    {
      "cell_type": "markdown",
      "source": [
        "Иллюстрация алгоритма на небольшом примере\n",
        "\n",
        "$$y = \\sin \\left(x_2^2(x_1 + x_2)\\right)$$\n",
        "\n",
        "<img src=\"https://ars.els-cdn.com/content/image/1-s2.0-S0010465515004099-gr1.jpg\" width=700></img>\n"
      ],
      "metadata": {
        "id": "r0IQHSlCJqrY"
      }
    },
    {
      "cell_type": "markdown",
      "metadata": {
        "id": "DsecxUh75V7K"
      },
      "source": [
        "### Базовый Autograd"
      ]
    },
    {
      "cell_type": "markdown",
      "metadata": {
        "id": "pRqA49bt5V7M"
      },
      "source": [
        "#### Пример 1"
      ]
    },
    {
      "cell_type": "code",
      "execution_count": 24,
      "metadata": {
        "id": "CKU9ic1O5V7M"
      },
      "outputs": [],
      "source": [
        "x = torch.tensor(1., requires_grad=True)\n",
        "w = torch.tensor(2., requires_grad=True)\n",
        "b = torch.tensor(3., requires_grad=True)"
      ]
    },
    {
      "cell_type": "code",
      "execution_count": 25,
      "metadata": {
        "id": "WNkD7Wdf5V7M"
      },
      "outputs": [],
      "source": [
        "y = w * x + b"
      ]
    },
    {
      "cell_type": "code",
      "source": [
        "y"
      ],
      "metadata": {
        "colab": {
          "base_uri": "https://localhost:8080/"
        },
        "id": "3QcR3AZPoXRa",
        "outputId": "fa532754-e87a-46a6-a7a7-6db6be835fc5"
      },
      "execution_count": 26,
      "outputs": [
        {
          "output_type": "execute_result",
          "data": {
            "text/plain": [
              "tensor(5., grad_fn=<AddBackward0>)"
            ]
          },
          "metadata": {},
          "execution_count": 26
        }
      ]
    },
    {
      "cell_type": "code",
      "execution_count": 27,
      "metadata": {
        "colab": {
          "base_uri": "https://localhost:8080/"
        },
        "id": "Vw7DrM155V7M",
        "outputId": "7c764259-c6bf-45c2-a0e2-d3c9e41d5a81"
      },
      "outputs": [
        {
          "output_type": "stream",
          "name": "stdout",
          "text": [
            "None\n",
            "None\n",
            "None\n"
          ]
        }
      ],
      "source": [
        "print(x.grad)\n",
        "print(w.grad)\n",
        "print(b.grad)"
      ]
    },
    {
      "cell_type": "code",
      "execution_count": 28,
      "metadata": {
        "id": "T_ODD6Zy5V7N"
      },
      "outputs": [],
      "source": [
        "y.backward()"
      ]
    },
    {
      "cell_type": "code",
      "execution_count": 29,
      "metadata": {
        "colab": {
          "base_uri": "https://localhost:8080/"
        },
        "id": "wWdzy1jj5V7N",
        "outputId": "90b43502-a0a0-4c01-9186-a712cc0de4c1"
      },
      "outputs": [
        {
          "output_type": "stream",
          "name": "stdout",
          "text": [
            "tensor(2.)\n",
            "tensor(1.)\n",
            "tensor(1.)\n"
          ]
        }
      ],
      "source": [
        "print(x.grad)\n",
        "print(w.grad)\n",
        "print(b.grad)"
      ]
    },
    {
      "cell_type": "markdown",
      "metadata": {
        "id": "QDkoRlwv5V7O"
      },
      "source": [
        "#### Пример 2"
      ]
    },
    {
      "cell_type": "code",
      "execution_count": 30,
      "metadata": {
        "id": "_5wJSXfl5V7O"
      },
      "outputs": [],
      "source": [
        "x = torch.randn(10, 3)\n",
        "y = torch.randn(10, 2)"
      ]
    },
    {
      "cell_type": "code",
      "source": [
        "y"
      ],
      "metadata": {
        "colab": {
          "base_uri": "https://localhost:8080/"
        },
        "id": "WaW6vRbFrhl8",
        "outputId": "58092c6a-f660-4bc3-c8e6-3a60532c4ee3"
      },
      "execution_count": 31,
      "outputs": [
        {
          "output_type": "execute_result",
          "data": {
            "text/plain": [
              "tensor([[-0.1430,  0.4048],\n",
              "        [-0.1076,  1.4232],\n",
              "        [-0.3697, -0.3030],\n",
              "        [-0.7712,  0.3723],\n",
              "        [ 1.1488, -0.5405],\n",
              "        [-0.5520,  0.7476],\n",
              "        [-1.3768,  0.4261],\n",
              "        [ 0.3426, -0.4567],\n",
              "        [ 0.1563,  0.1616],\n",
              "        [ 0.7274,  1.3891]])"
            ]
          },
          "metadata": {},
          "execution_count": 31
        }
      ]
    },
    {
      "cell_type": "code",
      "execution_count": 32,
      "metadata": {
        "colab": {
          "base_uri": "https://localhost:8080/"
        },
        "id": "RmZ6O8Lb5V7O",
        "outputId": "4e26e291-7c10-4535-92d5-f2ed43069b36"
      },
      "outputs": [
        {
          "output_type": "stream",
          "name": "stdout",
          "text": [
            "w:  Parameter containing:\n",
            "tensor([[-0.3756,  0.3148, -0.1176],\n",
            "        [ 0.5104,  0.5065,  0.5622]], requires_grad=True)\n",
            "b:  Parameter containing:\n",
            "tensor([0.4171, 0.1367], requires_grad=True)\n"
          ]
        }
      ],
      "source": [
        "linear = nn.Linear(3, 2)\n",
        "print ('w: ', linear.weight)\n",
        "print ('b: ', linear.bias)"
      ]
    },
    {
      "cell_type": "code",
      "execution_count": 33,
      "metadata": {
        "id": "vBWmjoNM5V7O"
      },
      "outputs": [],
      "source": [
        "criterion = nn.MSELoss()\n",
        "optimizer = torch.optim.SGD(linear.parameters(), lr=0.01)"
      ]
    },
    {
      "cell_type": "code",
      "execution_count": 34,
      "metadata": {
        "id": "ESTn8Npj5V7P"
      },
      "outputs": [],
      "source": [
        "pred = linear(x)"
      ]
    },
    {
      "cell_type": "code",
      "execution_count": 35,
      "metadata": {
        "colab": {
          "base_uri": "https://localhost:8080/"
        },
        "id": "jX4Ch43t5V7P",
        "outputId": "1c32cfef-d67d-4479-a9c3-3e986035ff03"
      },
      "outputs": [
        {
          "output_type": "execute_result",
          "data": {
            "text/plain": [
              "tensor([[ 1.0226,  0.4098],\n",
              "        [ 0.8578, -2.1839],\n",
              "        [ 0.6331,  0.0833],\n",
              "        [ 0.3417, -1.7436],\n",
              "        [ 0.4585, -0.0860],\n",
              "        [-0.1099,  0.7920],\n",
              "        [-0.1198,  0.1173],\n",
              "        [ 0.5614,  0.0760],\n",
              "        [-1.0555,  0.2628],\n",
              "        [ 0.6246,  0.9214]], grad_fn=<AddmmBackward0>)"
            ]
          },
          "metadata": {},
          "execution_count": 35
        }
      ],
      "source": [
        "pred"
      ]
    },
    {
      "cell_type": "code",
      "execution_count": 36,
      "metadata": {
        "colab": {
          "base_uri": "https://localhost:8080/"
        },
        "id": "RKvWwVQI5V7P",
        "outputId": "7c2465f8-9002-42bc-ee7a-f80f64ed8988"
      },
      "outputs": [
        {
          "output_type": "stream",
          "name": "stdout",
          "text": [
            "loss:  1.3383738994598389\n"
          ]
        }
      ],
      "source": [
        "loss = criterion(pred, y)\n",
        "print('loss: ', loss.item())"
      ]
    },
    {
      "cell_type": "code",
      "execution_count": 37,
      "metadata": {
        "id": "MECAKrrj5V7Q"
      },
      "outputs": [],
      "source": [
        "loss.backward()"
      ]
    },
    {
      "cell_type": "code",
      "execution_count": 38,
      "metadata": {
        "colab": {
          "base_uri": "https://localhost:8080/"
        },
        "id": "k8B8XxWc5V7Q",
        "outputId": "99fdbb1c-6818-49e4-8440-6dac809c5bb4"
      },
      "outputs": [
        {
          "output_type": "stream",
          "name": "stdout",
          "text": [
            "dL/dw:  tensor([[-0.4148,  0.0456, -0.3574],\n",
            "        [ 0.6723,  0.6987,  0.8727]])\n",
            "dL/db:  tensor([ 0.4160, -0.4975])\n"
          ]
        }
      ],
      "source": [
        "print ('dL/dw: ', linear.weight.grad) \n",
        "print ('dL/db: ', linear.bias.grad)"
      ]
    },
    {
      "cell_type": "code",
      "execution_count": 39,
      "metadata": {
        "id": "C08-0p__5V7Q"
      },
      "outputs": [],
      "source": [
        "optimizer.step()\n",
        "\n",
        "# linear.weight.data.sub_(0.01 * linear.weight.grad.data)\n",
        "# linear.bias.data.sub_(0.01 * linear.bias.grad.data)"
      ]
    },
    {
      "cell_type": "markdown",
      "source": [
        "### Пример итеративной оптимизации функции потерь"
      ],
      "metadata": {
        "id": "SHVmnF98tr2N"
      }
    },
    {
      "cell_type": "code",
      "source": [
        "import matplotlib.pyplot as plt"
      ],
      "metadata": {
        "id": "IH7_Vx_wJzOf"
      },
      "execution_count": 40,
      "outputs": []
    },
    {
      "cell_type": "code",
      "execution_count": 41,
      "metadata": {
        "colab": {
          "base_uri": "https://localhost:8080/"
        },
        "id": "XNaphkeh5V7Q",
        "outputId": "a2f07062-4567-4431-cf1b-4d6ae52f4e7d"
      },
      "outputs": [
        {
          "output_type": "stream",
          "name": "stdout",
          "text": [
            "loss after 1 step optimization at 2th step: 1.314297080039978\n",
            "loss after 1 step optimization at 3th step: 1.267462968826294\n",
            "loss after 1 step optimization at 4th step: 1.245321273803711\n",
            "loss after 1 step optimization at 5th step: 1.2237824201583862\n",
            "loss after 1 step optimization at 6th step: 1.202829360961914\n",
            "loss after 1 step optimization at 7th step: 1.182445764541626\n",
            "loss after 1 step optimization at 8th step: 1.1626157760620117\n",
            "loss after 1 step optimization at 9th step: 1.1433236598968506\n"
          ]
        }
      ],
      "source": [
        "max_iter = 10\n",
        "steps, losses = [], []\n",
        "\n",
        "for iter in range(1, 9):\n",
        "  pred = linear(x)\n",
        "  loss = criterion(pred, y)\n",
        "  print(f'loss after 1 step optimization at {iter + 1}th step:', loss.item())\n",
        "\n",
        "  steps.append(iter)\n",
        "  losses.append(loss.item())\n",
        "\n",
        "  loss.backward()\n",
        "  optimizer.step()\n",
        "  optimizer.zero_grad()"
      ]
    },
    {
      "cell_type": "code",
      "source": [
        "plt.plot(steps, losses)\n",
        "plt.xlabel('step')\n",
        "plt.ylabel('loss')\n",
        "plt.show()"
      ],
      "metadata": {
        "colab": {
          "base_uri": "https://localhost:8080/",
          "height": 279
        },
        "id": "SU6-HRVgKIct",
        "outputId": "98766303-0207-4c27-9a3b-b7ed601a79ef"
      },
      "execution_count": 43,
      "outputs": [
        {
          "output_type": "display_data",
          "data": {
            "text/plain": [
              "<Figure size 432x288 with 1 Axes>"
            ],
            "image/png": "[encoded data removed]"
          },
          "metadata": {
            "needs_background": "light"
          }
        }
      ]
    },
    {
      "cell_type": "markdown",
      "metadata": {
        "id": "v9Eg931D5V7R"
      },
      "source": [
        "### Логистическая регрессия"
      ]
    },
    {
      "cell_type": "code",
      "execution_count": 44,
      "metadata": {
        "id": "xxtRwEM-5V7S"
      },
      "outputs": [],
      "source": [
        "batch_size = 100"
      ]
    },
    {
      "cell_type": "code",
      "execution_count": 45,
      "metadata": {
        "colab": {
          "base_uri": "https://localhost:8080/",
          "height": 451,
          "referenced_widgets": [
            "862000cd093d49e2b2a95dd229cc30ef",
            "2aede77c75704e26b3bf2494b4dfc3b9",
            "6c8448f04d0e4214acccb3b800cb3b18",
            "91a10aafb1e043a6bbca2baf5012a770",
            "06c4477ead054906b69e9372b842e941",
            "94a9c3d74f304aa69a4db6944f041a7d",
            "a166773cd34d4012bc4c5064e105aa09",
            "1fff4df432054b3f9efc7382391e569f",
            "8874ce06c92648179982efad9845eedd",
            "e29bba9b744247f096969d174fe86974",
            "a4edb8415ea843bf8ee975061f8c13d7",
            "db590f412fcf4b3b83c7e687c6246037",
            "072ae5928e3e46c1ba282cb5c3504c87",
            "5e982c8357e6432caabceb0d981ba133",
            "3f5d0cc878254b7493b2fde23d9c7213",
            "4fe1ab03b74a4e6a8e5e7e2a79169526",
            "f64bc461f4334a8e8befd47c637c27f2",
            "61c0928eb7224308993c8ab28abb21f8",
            "8191af3336bf4123b16a8260b6d0232b",
            "cfeb688034124866901dbfd8a833013e",
            "aceef077007b4d5ca7e220792c1a9d06",
            "8e50a4bf501c4d0e999646cc6f6b31c8",
            "482e59a70dc44f2b8f55487a1c01224d",
            "5ce03fabd11346f8a2fd29a984db3429",
            "c5cf6073a1f246269050e7e77290162c",
            "a1892f2019e94551867e21bab5de7e5f",
            "891bde8f3e3049d8a686fe188aceb2c1",
            "5c9de5883e534dc39824f5c73a319bb6",
            "ea42aa89c7694aefa4b641037a4a3533",
            "ebd68e82e8874409b966ab2b990bbeb2",
            "66230fe9891f40db86376dc32ce5d4a7",
            "6e28fd7488874af19cf4d0c1f0c1b446",
            "a581d5b1596d44638f18dfac1e9e8651",
            "fca2343aa7244075b7687c505ead1c5d",
            "12e2c6cd3f7f4faaa77b5cfe31cb0627",
            "0dccd6e9653f4de39e17450c84864a39",
            "0b44a568439b4a3ea32fcb87b41c07d7",
            "14bd08eb7d02413682cfb780d866fc7b",
            "a8c5c6f65f0b40c5b3f09aaf87be8c2c",
            "d7fe1c6a869247c3aabdb859cfe68212",
            "4ae2bed088794c6293ab255406182fca",
            "ffccc47a69f14f27b950ca58656b8c74",
            "cbc9154a27c04635b3c6484f5b52a323",
            "13782cef927a434ea3ea82ded68c6401"
          ]
        },
        "id": "CdKQf3LO5V7S",
        "outputId": "8978306a-9f03-476f-bd0d-d7b5269fd942"
      },
      "outputs": [
        {
          "output_type": "stream",
          "name": "stdout",
          "text": [
            "Downloading http://yann.lecun.com/exdb/mnist/train-images-idx3-ubyte.gz\n",
            "Downloading http://yann.lecun.com/exdb/mnist/train-images-idx3-ubyte.gz to ../../data/MNIST/raw/train-images-idx3-ubyte.gz\n"
          ]
        },
        {
          "output_type": "display_data",
          "data": {
            "text/plain": [
              "  0%|          | 0/9912422 [00:00<?, ?it/s]"
            ],
            "application/vnd.jupyter.widget-view+json": {
              "version_major": 2,
              "version_minor": 0,
              "model_id": "862000cd093d49e2b2a95dd229cc30ef"
            }
          },
          "metadata": {}
        },
        {
          "output_type": "stream",
          "name": "stdout",
          "text": [
            "Extracting ../../data/MNIST/raw/train-images-idx3-ubyte.gz to ../../data/MNIST/raw\n",
            "\n",
            "Downloading http://yann.lecun.com/exdb/mnist/train-labels-idx1-ubyte.gz\n",
            "Downloading http://yann.lecun.com/exdb/mnist/train-labels-idx1-ubyte.gz to ../../data/MNIST/raw/train-labels-idx1-ubyte.gz\n"
          ]
        },
        {
          "output_type": "display_data",
          "data": {
            "text/plain": [
              "  0%|          | 0/28881 [00:00<?, ?it/s]"
            ],
            "application/vnd.jupyter.widget-view+json": {
              "version_major": 2,
              "version_minor": 0,
              "model_id": "db590f412fcf4b3b83c7e687c6246037"
            }
          },
          "metadata": {}
        },
        {
          "output_type": "stream",
          "name": "stdout",
          "text": [
            "Extracting ../../data/MNIST/raw/train-labels-idx1-ubyte.gz to ../../data/MNIST/raw\n",
            "\n",
            "Downloading http://yann.lecun.com/exdb/mnist/t10k-images-idx3-ubyte.gz\n",
            "Downloading http://yann.lecun.com/exdb/mnist/t10k-images-idx3-ubyte.gz to ../../data/MNIST/raw/t10k-images-idx3-ubyte.gz\n"
          ]
        },
        {
          "output_type": "display_data",
          "data": {
            "text/plain": [
              "  0%|          | 0/1648877 [00:00<?, ?it/s]"
            ],
            "application/vnd.jupyter.widget-view+json": {
              "version_major": 2,
              "version_minor": 0,
              "model_id": "482e59a70dc44f2b8f55487a1c01224d"
            }
          },
          "metadata": {}
        },
        {
          "output_type": "stream",
          "name": "stdout",
          "text": [
            "Extracting ../../data/MNIST/raw/t10k-images-idx3-ubyte.gz to ../../data/MNIST/raw\n",
            "\n",
            "Downloading http://yann.lecun.com/exdb/mnist/t10k-labels-idx1-ubyte.gz\n",
            "Downloading http://yann.lecun.com/exdb/mnist/t10k-labels-idx1-ubyte.gz to ../../data/MNIST/raw/t10k-labels-idx1-ubyte.gz\n"
          ]
        },
        {
          "output_type": "display_data",
          "data": {
            "text/plain": [
              "  0%|          | 0/4542 [00:00<?, ?it/s]"
            ],
            "application/vnd.jupyter.widget-view+json": {
              "version_major": 2,
              "version_minor": 0,
              "model_id": "fca2343aa7244075b7687c505ead1c5d"
            }
          },
          "metadata": {}
        },
        {
          "output_type": "stream",
          "name": "stdout",
          "text": [
            "Extracting ../../data/MNIST/raw/t10k-labels-idx1-ubyte.gz to ../../data/MNIST/raw\n",
            "\n"
          ]
        }
      ],
      "source": [
        "# MNIST dataset\n",
        "train_dataset = torchvision.datasets.MNIST(root='../../data', \n",
        "                                           train=True, \n",
        "                                           transform=transforms.ToTensor(),\n",
        "                                           download=True)\n",
        "\n",
        "test_dataset = torchvision.datasets.MNIST(root='../../data', \n",
        "                                          train=False, \n",
        "                                          transform=transforms.ToTensor())\n",
        "\n",
        "# Data loader\n",
        "train_loader = torch.utils.data.DataLoader(dataset=train_dataset, \n",
        "                                           batch_size=batch_size, \n",
        "                                           shuffle=True)\n",
        "\n",
        "test_loader = torch.utils.data.DataLoader(dataset=test_dataset, \n",
        "                                          batch_size=batch_size, \n",
        "                                          shuffle=False)"
      ]
    },
    {
      "cell_type": "code",
      "execution_count": 46,
      "metadata": {
        "id": "Q7Jm9smV5V7S"
      },
      "outputs": [],
      "source": [
        "input_size = 28 * 28\n",
        "num_classes = 10\n",
        "num_epochs = 5\n",
        "batch_size = 100\n",
        "learning_rate = 0.001"
      ]
    },
    {
      "cell_type": "code",
      "execution_count": 47,
      "metadata": {
        "id": "m685w0s85V7T"
      },
      "outputs": [],
      "source": [
        "model = nn.Linear(input_size, num_classes)"
      ]
    },
    {
      "cell_type": "code",
      "execution_count": 48,
      "metadata": {
        "id": "dNpT3pfb5V7T"
      },
      "outputs": [],
      "source": [
        "criterion = nn.CrossEntropyLoss()  \n",
        "optimizer = torch.optim.SGD(model.parameters(), lr=learning_rate)  "
      ]
    },
    {
      "cell_type": "code",
      "execution_count": 49,
      "metadata": {
        "colab": {
          "base_uri": "https://localhost:8080/"
        },
        "id": "YY2KbEIw5V7T",
        "outputId": "7f5ad113-1098-4a4a-9e4a-d9db4db26a7b"
      },
      "outputs": [
        {
          "output_type": "stream",
          "name": "stdout",
          "text": [
            "Epoch [1/5], Step [100/600], Loss: 2.1989\n",
            "Epoch [1/5], Step [200/600], Loss: 2.0971\n",
            "Epoch [1/5], Step [300/600], Loss: 1.9734\n",
            "Epoch [1/5], Step [400/600], Loss: 1.9293\n",
            "Epoch [1/5], Step [500/600], Loss: 1.8229\n",
            "Epoch [1/5], Step [600/600], Loss: 1.7801\n",
            "Epoch [2/5], Step [100/600], Loss: 1.7227\n",
            "Epoch [2/5], Step [200/600], Loss: 1.6840\n",
            "Epoch [2/5], Step [300/600], Loss: 1.5863\n",
            "Epoch [2/5], Step [400/600], Loss: 1.6019\n",
            "Epoch [2/5], Step [500/600], Loss: 1.4429\n",
            "Epoch [2/5], Step [600/600], Loss: 1.4842\n",
            "Epoch [3/5], Step [100/600], Loss: 1.4638\n",
            "Epoch [3/5], Step [200/600], Loss: 1.4744\n",
            "Epoch [3/5], Step [300/600], Loss: 1.3204\n",
            "Epoch [3/5], Step [400/600], Loss: 1.2655\n",
            "Epoch [3/5], Step [500/600], Loss: 1.2315\n",
            "Epoch [3/5], Step [600/600], Loss: 1.2585\n",
            "Epoch [4/5], Step [100/600], Loss: 1.1824\n",
            "Epoch [4/5], Step [200/600], Loss: 1.2665\n",
            "Epoch [4/5], Step [300/600], Loss: 1.2256\n",
            "Epoch [4/5], Step [400/600], Loss: 1.1387\n",
            "Epoch [4/5], Step [500/600], Loss: 1.2143\n",
            "Epoch [4/5], Step [600/600], Loss: 1.1528\n",
            "Epoch [5/5], Step [100/600], Loss: 1.1488\n",
            "Epoch [5/5], Step [200/600], Loss: 1.0868\n",
            "Epoch [5/5], Step [300/600], Loss: 0.9837\n",
            "Epoch [5/5], Step [400/600], Loss: 1.0227\n",
            "Epoch [5/5], Step [500/600], Loss: 0.9789\n",
            "Epoch [5/5], Step [600/600], Loss: 0.9519\n"
          ]
        }
      ],
      "source": [
        "total_step = len(train_loader)\n",
        "for epoch in range(num_epochs):\n",
        "    for i, (images, labels) in enumerate(train_loader):\n",
        "        images = images.reshape(-1, input_size)\n",
        "        \n",
        "        # Forward pass\n",
        "        outputs = model(images)\n",
        "        loss = criterion(outputs, labels)\n",
        "        \n",
        "        # Backward and optimize\n",
        "        optimizer.zero_grad()\n",
        "        loss.backward()\n",
        "        optimizer.step()\n",
        "        \n",
        "        if (i+1) % 100 == 0:\n",
        "            print ('Epoch [{}/{}], Step [{}/{}], Loss: {:.4f}' \n",
        "                   .format(epoch+1, num_epochs, i+1, total_step, loss.item()))"
      ]
    },
    {
      "cell_type": "code",
      "execution_count": 50,
      "metadata": {
        "colab": {
          "base_uri": "https://localhost:8080/"
        },
        "id": "YYlGoP5B5V7T",
        "outputId": "4d22cf5a-4152-4d81-ee03-78e0d258a888"
      },
      "outputs": [
        {
          "output_type": "stream",
          "name": "stdout",
          "text": [
            "Accuracy of the model on the 10000 test images: 83.08000183105469 %\n"
          ]
        }
      ],
      "source": [
        "with torch.no_grad():\n",
        "    correct = 0\n",
        "    total = 0\n",
        "    for images, labels in test_loader:\n",
        "        images = images.reshape(-1, input_size)\n",
        "        outputs = model(images)\n",
        "        _, predicted = torch.max(outputs.data, 1)\n",
        "        total += labels.size(0)\n",
        "        correct += (predicted == labels).sum()\n",
        "\n",
        "    print('Accuracy of the model on the 10000 test images: {} %'.format(100 * correct / total))"
      ]
    },
    {
      "cell_type": "markdown",
      "metadata": {
        "id": "eVzon9OL5V7U"
      },
      "source": [
        "### Полносвязная нейронная сеть"
      ]
    },
    {
      "cell_type": "markdown",
      "metadata": {
        "id": "pUFngWOK5V7U"
      },
      "source": [
        "![photo_2023-02-09_22-26-48.jpg](data:image/jpeg;base64,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)"
      ]
    },
    {
      "cell_type": "code",
      "execution_count": 51,
      "metadata": {
        "id": "kne-_Gcy5V7U"
      },
      "outputs": [],
      "source": [
        "hidden_size = 500"
      ]
    },
    {
      "cell_type": "code",
      "execution_count": 52,
      "metadata": {
        "id": "cgoFzTdw5V7U"
      },
      "outputs": [],
      "source": [
        "class NeuralNet(nn.Module):\n",
        "    def __init__(self, input_size, hidden_size, num_classes):\n",
        "        super(NeuralNet, self).__init__()\n",
        "        self.fc1 = nn.Linear(input_size, hidden_size) \n",
        "        self.relu = nn.ReLU()\n",
        "        self.fc2 = nn.Linear(hidden_size, num_classes)  \n",
        "    \n",
        "    def forward(self, x):\n",
        "        out = self.fc1(x)\n",
        "        out = self.relu(out)\n",
        "        out = self.fc2(out)\n",
        "        return out"
      ]
    },
    {
      "cell_type": "code",
      "execution_count": 53,
      "metadata": {
        "id": "XrVoJHdE5V7V"
      },
      "outputs": [],
      "source": [
        "device = torch.device('cuda' if torch.cuda.is_available() else 'cpu')"
      ]
    },
    {
      "cell_type": "code",
      "execution_count": 54,
      "metadata": {
        "id": "dlcToScd5V7V"
      },
      "outputs": [],
      "source": [
        "model = NeuralNet(input_size, hidden_size, num_classes).to(device)"
      ]
    },
    {
      "cell_type": "code",
      "execution_count": 55,
      "metadata": {
        "id": "BdZjMk3h5V7V"
      },
      "outputs": [],
      "source": [
        "criterion = nn.CrossEntropyLoss()\n",
        "optimizer = torch.optim.Adam(model.parameters(), lr=learning_rate)  "
      ]
    },
    {
      "cell_type": "code",
      "execution_count": 56,
      "metadata": {
        "id": "2u1ri3Pc5V7V",
        "outputId": "054d1dc8-4421-445b-871d-edd0db288a84",
        "colab": {
          "base_uri": "https://localhost:8080/"
        }
      },
      "outputs": [
        {
          "output_type": "stream",
          "name": "stdout",
          "text": [
            "Epoch [1/5], Step [100/600], Loss: 0.3500\n",
            "Epoch [1/5], Step [200/600], Loss: 0.1627\n",
            "Epoch [1/5], Step [300/600], Loss: 0.2985\n",
            "Epoch [1/5], Step [400/600], Loss: 0.2394\n",
            "Epoch [1/5], Step [500/600], Loss: 0.1230\n",
            "Epoch [1/5], Step [600/600], Loss: 0.2107\n",
            "Epoch [2/5], Step [100/600], Loss: 0.0994\n",
            "Epoch [2/5], Step [200/600], Loss: 0.1329\n",
            "Epoch [2/5], Step [300/600], Loss: 0.1462\n",
            "Epoch [2/5], Step [400/600], Loss: 0.1299\n",
            "Epoch [2/5], Step [500/600], Loss: 0.0360\n",
            "Epoch [2/5], Step [600/600], Loss: 0.0558\n",
            "Epoch [3/5], Step [100/600], Loss: 0.0455\n",
            "Epoch [3/5], Step [200/600], Loss: 0.0957\n",
            "Epoch [3/5], Step [300/600], Loss: 0.0697\n",
            "Epoch [3/5], Step [400/600], Loss: 0.0781\n",
            "Epoch [3/5], Step [500/600], Loss: 0.1094\n",
            "Epoch [3/5], Step [600/600], Loss: 0.0941\n",
            "Epoch [4/5], Step [100/600], Loss: 0.0424\n",
            "Epoch [4/5], Step [200/600], Loss: 0.0865\n",
            "Epoch [4/5], Step [300/600], Loss: 0.0375\n",
            "Epoch [4/5], Step [400/600], Loss: 0.0365\n",
            "Epoch [4/5], Step [500/600], Loss: 0.0570\n",
            "Epoch [4/5], Step [600/600], Loss: 0.0236\n",
            "Epoch [5/5], Step [100/600], Loss: 0.0175\n",
            "Epoch [5/5], Step [200/600], Loss: 0.0441\n",
            "Epoch [5/5], Step [300/600], Loss: 0.0145\n",
            "Epoch [5/5], Step [400/600], Loss: 0.0679\n",
            "Epoch [5/5], Step [500/600], Loss: 0.0214\n",
            "Epoch [5/5], Step [600/600], Loss: 0.0544\n"
          ]
        }
      ],
      "source": [
        "total_step = len(train_loader)\n",
        "for epoch in range(num_epochs):\n",
        "    for i, (images, labels) in enumerate(train_loader):  \n",
        "        # Move tensors to the configured device\n",
        "        images = images.reshape(-1, 28*28).to(device)\n",
        "        labels = labels.to(device)\n",
        "        \n",
        "        # Forward pass\n",
        "        outputs = model(images)\n",
        "        loss = criterion(outputs, labels)\n",
        "        \n",
        "        # Backward and optimize\n",
        "        optimizer.zero_grad()\n",
        "        loss.backward()\n",
        "        optimizer.step()\n",
        "        \n",
        "        if (i+1) % 100 == 0:\n",
        "            print ('Epoch [{}/{}], Step [{}/{}], Loss: {:.4f}' \n",
        "                   .format(epoch+1, num_epochs, i+1, total_step, loss.item()))"
      ]
    },
    {
      "cell_type": "code",
      "execution_count": 57,
      "metadata": {
        "colab": {
          "base_uri": "https://localhost:8080/"
        },
        "id": "MKfvxqWm5V7V",
        "outputId": "bf910546-ec86-47c8-f87f-8df57cb2bb0e"
      },
      "outputs": [
        {
          "output_type": "stream",
          "name": "stdout",
          "text": [
            "Accuracy of the network on the 10000 test images: 97.85 %\n"
          ]
        }
      ],
      "source": [
        "with torch.no_grad():\n",
        "    correct = 0\n",
        "    total = 0\n",
        "    for images, labels in test_loader:\n",
        "        images = images.reshape(-1, 28*28).to(device)\n",
        "        labels = labels.to(device)\n",
        "        outputs = model(images)\n",
        "        _, predicted = torch.max(outputs.data, 1)\n",
        "        total += labels.size(0)\n",
        "        correct += (predicted == labels).sum().item()\n",
        "\n",
        "    print('Accuracy of the network on the 10000 test images: {} %'.format(100 * correct / total))"
      ]
    },
    {
      "cell_type": "markdown",
      "metadata": {
        "id": "fwyCBP105V7W"
      },
      "source": [
        "### Сверточная нейронная сеть"
      ]
    },
    {
      "cell_type": "markdown",
      "metadata": {
        "id": "ezOaEFTT5V7W"
      },
      "source": [
        "![photo_2023-02-09_22-26-56.jpg](data:image/jpeg;base64,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)"
      ]
    },
    {
      "cell_type": "markdown",
      "metadata": {
        "id": "d8U8ViVC5V7W"
      },
      "source": [
        "![photo_2023-02-09_22-27-31.jpg](data:image/jpeg;base64,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)"
      ]
    },
    {
      "cell_type": "markdown",
      "metadata": {
        "id": "2f9ARp2U5V7W"
      },
      "source": [
        "https://cs231n.github.io/convolutional-networks/"
      ]
    },
    {
      "cell_type": "code",
      "execution_count": 58,
      "metadata": {
        "id": "rcH1W5vh5V7W"
      },
      "outputs": [],
      "source": [
        "class ConvNet(nn.Module):\n",
        "    def __init__(self, num_classes=10):\n",
        "        super(ConvNet, self).__init__()\n",
        "        self.layer1 = nn.Sequential(\n",
        "            nn.Conv2d(1, 16, kernel_size=5, stride=1, padding=2),\n",
        "            nn.BatchNorm2d(16),\n",
        "            nn.ReLU(),\n",
        "            nn.MaxPool2d(kernel_size=2, stride=2))\n",
        "        self.layer2 = nn.Sequential(\n",
        "            nn.Conv2d(16, 32, kernel_size=5, stride=1, padding=2),\n",
        "            nn.BatchNorm2d(32),\n",
        "            nn.ReLU(),\n",
        "            nn.MaxPool2d(kernel_size=2, stride=2))\n",
        "        self.fc = nn.Linear(7*7*32, num_classes)\n",
        "        \n",
        "    def forward(self, x):\n",
        "        out = self.layer1(x)\n",
        "        out = self.layer2(out)\n",
        "        out = out.reshape(out.size(0), -1)\n",
        "        out = self.fc(out)\n",
        "        return out"
      ]
    },
    {
      "cell_type": "code",
      "execution_count": 59,
      "metadata": {
        "id": "h_SZmfkQ5V7W"
      },
      "outputs": [],
      "source": [
        "model = ConvNet(num_classes).to(device)"
      ]
    },
    {
      "cell_type": "code",
      "execution_count": 60,
      "metadata": {
        "id": "iX7YE0YU5V7X"
      },
      "outputs": [],
      "source": [
        "criterion = nn.CrossEntropyLoss()\n",
        "optimizer = torch.optim.Adam(model.parameters(), lr=learning_rate)"
      ]
    },
    {
      "cell_type": "code",
      "execution_count": 61,
      "metadata": {
        "colab": {
          "base_uri": "https://localhost:8080/"
        },
        "id": "L7F_ZT7Y5V7X",
        "outputId": "7b57ce92-527e-41e2-8d8c-7379d11f6c59"
      },
      "outputs": [
        {
          "output_type": "stream",
          "name": "stdout",
          "text": [
            "Epoch [1/5], Step [100/600], Loss: 0.1398\n",
            "Epoch [1/5], Step [200/600], Loss: 0.0585\n",
            "Epoch [1/5], Step [300/600], Loss: 0.0463\n",
            "Epoch [1/5], Step [400/600], Loss: 0.0385\n",
            "Epoch [1/5], Step [500/600], Loss: 0.0440\n",
            "Epoch [1/5], Step [600/600], Loss: 0.0419\n",
            "Epoch [2/5], Step [100/600], Loss: 0.0154\n",
            "Epoch [2/5], Step [200/600], Loss: 0.0156\n",
            "Epoch [2/5], Step [300/600], Loss: 0.0383\n",
            "Epoch [2/5], Step [400/600], Loss: 0.0595\n",
            "Epoch [2/5], Step [500/600], Loss: 0.0155\n",
            "Epoch [2/5], Step [600/600], Loss: 0.0603\n",
            "Epoch [3/5], Step [100/600], Loss: 0.0219\n",
            "Epoch [3/5], Step [200/600], Loss: 0.0162\n",
            "Epoch [3/5], Step [300/600], Loss: 0.0633\n",
            "Epoch [3/5], Step [400/600], Loss: 0.0208\n",
            "Epoch [3/5], Step [500/600], Loss: 0.0271\n",
            "Epoch [3/5], Step [600/600], Loss: 0.0312\n",
            "Epoch [4/5], Step [100/600], Loss: 0.0423\n",
            "Epoch [4/5], Step [200/600], Loss: 0.0321\n",
            "Epoch [4/5], Step [300/600], Loss: 0.0524\n",
            "Epoch [4/5], Step [400/600], Loss: 0.0194\n",
            "Epoch [4/5], Step [500/600], Loss: 0.0490\n",
            "Epoch [4/5], Step [600/600], Loss: 0.0222\n",
            "Epoch [5/5], Step [100/600], Loss: 0.0202\n",
            "Epoch [5/5], Step [200/600], Loss: 0.0035\n",
            "Epoch [5/5], Step [300/600], Loss: 0.0349\n",
            "Epoch [5/5], Step [400/600], Loss: 0.0196\n",
            "Epoch [5/5], Step [500/600], Loss: 0.0036\n",
            "Epoch [5/5], Step [600/600], Loss: 0.0046\n"
          ]
        }
      ],
      "source": [
        "total_step = len(train_loader)\n",
        "for epoch in range(num_epochs):\n",
        "    for i, (images, labels) in enumerate(train_loader):\n",
        "        images = images.to(device)\n",
        "        labels = labels.to(device)\n",
        "        \n",
        "        # Forward pass\n",
        "        outputs = model(images)\n",
        "        loss = criterion(outputs, labels)\n",
        "        \n",
        "        # Backward and optimize\n",
        "        optimizer.zero_grad()\n",
        "        loss.backward()\n",
        "        optimizer.step()\n",
        "        \n",
        "        if (i+1) % 100 == 0:\n",
        "            print ('Epoch [{}/{}], Step [{}/{}], Loss: {:.4f}' \n",
        "                   .format(epoch+1, num_epochs, i+1, total_step, loss.item()))"
      ]
    },
    {
      "cell_type": "code",
      "execution_count": 62,
      "metadata": {
        "colab": {
          "base_uri": "https://localhost:8080/"
        },
        "id": "vnPB5FIQ5V7X",
        "outputId": "c0777183-566e-497f-d5f7-7e9a7bbd75fd"
      },
      "outputs": [
        {
          "output_type": "stream",
          "name": "stdout",
          "text": [
            "Test Accuracy of the model on the 10000 test images: 98.71 %\n"
          ]
        }
      ],
      "source": [
        "model.eval()\n",
        "with torch.no_grad():\n",
        "    correct = 0\n",
        "    total = 0\n",
        "    for images, labels in test_loader:\n",
        "        images = images.to(device)\n",
        "        labels = labels.to(device)\n",
        "        outputs = model(images)\n",
        "        _, predicted = torch.max(outputs.data, 1)\n",
        "        total += labels.size(0)\n",
        "        correct += (predicted == labels).sum().item()\n",
        "\n",
        "    print('Test Accuracy of the model on the 10000 test images: {} %'.format(100 * correct / total))"
      ]
    }
  ],
  "metadata": {
    "kernelspec": {
      "display_name": "Python 3",
      "language": "python",
      "name": "python3"
    },
    "language_info": {
      "codemirror_mode": {
        "name": "ipython",
        "version": 3
      },
      "file_extension": ".py",
      "mimetype": "text/x-python",
      "name": "python",
      "nbconvert_exporter": "python",
      "pygments_lexer": "ipython3",
      "version": "3.7.6"
    },
    "colab": {
      "provenance": []
    },
    "widgets": {
      "application/vnd.jupyter.widget-state+json": {
        "862000cd093d49e2b2a95dd229cc30ef": {
          "model_module": "@jupyter-widgets/controls",
          "model_name": "HBoxModel",
          "model_module_version": "1.5.0",
          "state": {
            "_dom_classes": [],
            "_model_module": "@jupyter-widgets/controls",
            "_model_module_version": "1.5.0",
            "_model_name": "HBoxModel",
            "_view_count": null,
            "_view_module": "@jupyter-widgets/controls",
            "_view_module_version": "1.5.0",
            "_view_name": "HBoxView",
            "box_style": "",
            "children": [
              "IPY_MODEL_2aede77c75704e26b3bf2494b4dfc3b9",
              "IPY_MODEL_6c8448f04d0e4214acccb3b800cb3b18",
              "IPY_MODEL_91a10aafb1e043a6bbca2baf5012a770"
            ],
            "layout": "IPY_MODEL_06c4477ead054906b69e9372b842e941"
          }
        },
        "2aede77c75704e26b3bf2494b4dfc3b9": {
          "model_module": "@jupyter-widgets/controls",
          "model_name": "HTMLModel",
          "model_module_version": "1.5.0",
          "state": {
            "_dom_classes": [],
            "_model_module": "@jupyter-widgets/controls",
            "_model_module_version": "1.5.0",
            "_model_name": "HTMLModel",
            "_view_count": null,
            "_view_module": "@jupyter-widgets/controls",
            "_view_module_version": "1.5.0",
            "_view_name": "HTMLView",
            "description": "",
            "description_tooltip": null,
            "layout": "IPY_MODEL_94a9c3d74f304aa69a4db6944f041a7d",
            "placeholder": "​",
            "style": "IPY_MODEL_a166773cd34d4012bc4c5064e105aa09",
            "value": "100%"
          }
        },
        "6c8448f04d0e4214acccb3b800cb3b18": {
          "model_module": "@jupyter-widgets/controls",
          "model_name": "FloatProgressModel",
          "model_module_version": "1.5.0",
          "state": {
            "_dom_classes": [],
            "_model_module": "@jupyter-widgets/controls",
            "_model_module_version": "1.5.0",
            "_model_name": "FloatProgressModel",
            "_view_count": null,
            "_view_module": "@jupyter-widgets/controls",
            "_view_module_version": "1.5.0",
            "_view_name": "ProgressView",
            "bar_style": "success",
            "description": "",
            "description_tooltip": null,
            "layout": "IPY_MODEL_1fff4df432054b3f9efc7382391e569f",
            "max": 9912422,
            "min": 0,
            "orientation": "horizontal",
            "style": "IPY_MODEL_8874ce06c92648179982efad9845eedd",
            "value": 9912422
          }
        },
        "91a10aafb1e043a6bbca2baf5012a770": {
          "model_module": "@jupyter-widgets/controls",
          "model_name": "HTMLModel",
          "model_module_version": "1.5.0",
          "state": {
            "_dom_classes": [],
            "_model_module": "@jupyter-widgets/controls",
            "_model_module_version": "1.5.0",
            "_model_name": "HTMLModel",
            "_view_count": null,
            "_view_module": "@jupyter-widgets/controls",
            "_view_module_version": "1.5.0",
            "_view_name": "HTMLView",
            "description": "",
            "description_tooltip": null,
            "layout": "IPY_MODEL_e29bba9b744247f096969d174fe86974",
            "placeholder": "​",
            "style": "IPY_MODEL_a4edb8415ea843bf8ee975061f8c13d7",
            "value": " 9912422/9912422 [00:00&lt;00:00, 176468863.25it/s]"
          }
        },
        "06c4477ead054906b69e9372b842e941": {
          "model_module": "@jupyter-widgets/base",
          "model_name": "LayoutModel",
          "model_module_version": "1.2.0",
          "state": {
            "_model_module": "@jupyter-widgets/base",
            "_model_module_version": "1.2.0",
            "_model_name": "LayoutModel",
            "_view_count": null,
            "_view_module": "@jupyter-widgets/base",
            "_view_module_version": "1.2.0",
            "_view_name": "LayoutView",
            "align_content": null,
            "align_items": null,
            "align_self": null,
            "border": null,
            "bottom": null,
            "display": null,
            "flex": null,
            "flex_flow": null,
            "grid_area": null,
            "grid_auto_columns": null,
            "grid_auto_flow": null,
            "grid_auto_rows": null,
            "grid_column": null,
            "grid_gap": null,
            "grid_row": null,
            "grid_template_areas": null,
            "grid_template_columns": null,
            "grid_template_rows": null,
            "height": null,
            "justify_content": null,
            "justify_items": null,
            "left": null,
            "margin": null,
            "max_height": null,
            "max_width": null,
            "min_height": null,
            "min_width": null,
            "object_fit": null,
            "object_position": null,
            "order": null,
            "overflow": null,
            "overflow_x": null,
            "overflow_y": null,
            "padding": null,
            "right": null,
            "top": null,
            "visibility": null,
            "width": null
          }
        },
        "94a9c3d74f304aa69a4db6944f041a7d": {
          "model_module": "@jupyter-widgets/base",
          "model_name": "LayoutModel",
          "model_module_version": "1.2.0",
          "state": {
            "_model_module": "@jupyter-widgets/base",
            "_model_module_version": "1.2.0",
            "_model_name": "LayoutModel",
            "_view_count": null,
            "_view_module": "@jupyter-widgets/base",
            "_view_module_version": "1.2.0",
            "_view_name": "LayoutView",
            "align_content": null,
            "align_items": null,
            "align_self": null,
            "border": null,
            "bottom": null,
            "display": null,
            "flex": null,
            "flex_flow": null,
            "grid_area": null,
            "grid_auto_columns": null,
            "grid_auto_flow": null,
            "grid_auto_rows": null,
            "grid_column": null,
            "grid_gap": null,
            "grid_row": null,
            "grid_template_areas": null,
            "grid_template_columns": null,
            "grid_template_rows": null,
            "height": null,
            "justify_content": null,
            "justify_items": null,
            "left": null,
            "margin": null,
            "max_height": null,
            "max_width": null,
            "min_height": null,
            "min_width": null,
            "object_fit": null,
            "object_position": null,
            "order": null,
            "overflow": null,
            "overflow_x": null,
            "overflow_y": null,
            "padding": null,
            "right": null,
            "top": null,
            "visibility": null,
            "width": null
          }
        },
        "a166773cd34d4012bc4c5064e105aa09": {
          "model_module": "@jupyter-widgets/controls",
          "model_name": "DescriptionStyleModel",
          "model_module_version": "1.5.0",
          "state": {
            "_model_module": "@jupyter-widgets/controls",
            "_model_module_version": "1.5.0",
            "_model_name": "DescriptionStyleModel",
            "_view_count": null,
            "_view_module": "@jupyter-widgets/base",
            "_view_module_version": "1.2.0",
            "_view_name": "StyleView",
            "description_width": ""
          }
        },
        "1fff4df432054b3f9efc7382391e569f": {
          "model_module": "@jupyter-widgets/base",
          "model_name": "LayoutModel",
          "model_module_version": "1.2.0",
          "state": {
            "_model_module": "@jupyter-widgets/base",
            "_model_module_version": "1.2.0",
            "_model_name": "LayoutModel",
            "_view_count": null,
            "_view_module": "@jupyter-widgets/base",
            "_view_module_version": "1.2.0",
            "_view_name": "LayoutView",
            "align_content": null,
            "align_items": null,
            "align_self": null,
            "border": null,
            "bottom": null,
            "display": null,
            "flex": null,
            "flex_flow": null,
            "grid_area": null,
            "grid_auto_columns": null,
            "grid_auto_flow": null,
            "grid_auto_rows": null,
            "grid_column": null,
            "grid_gap": null,
            "grid_row": null,
            "grid_template_areas": null,
            "grid_template_columns": null,
            "grid_template_rows": null,
            "height": null,
            "justify_content": null,
            "justify_items": null,
            "left": null,
            "margin": null,
            "max_height": null,
            "max_width": null,
            "min_height": null,
            "min_width": null,
            "object_fit": null,
            "object_position": null,
            "order": null,
            "overflow": null,
            "overflow_x": null,
            "overflow_y": null,
            "padding": null,
            "right": null,
            "top": null,
            "visibility": null,
            "width": null
          }
        },
        "8874ce06c92648179982efad9845eedd": {
          "model_module": "@jupyter-widgets/controls",
          "model_name": "ProgressStyleModel",
          "model_module_version": "1.5.0",
          "state": {
            "_model_module": "@jupyter-widgets/controls",
            "_model_module_version": "1.5.0",
            "_model_name": "ProgressStyleModel",
            "_view_count": null,
            "_view_module": "@jupyter-widgets/base",
            "_view_module_version": "1.2.0",
            "_view_name": "StyleView",
            "bar_color": null,
            "description_width": ""
          }
        },
        "e29bba9b744247f096969d174fe86974": {
          "model_module": "@jupyter-widgets/base",
          "model_name": "LayoutModel",
          "model_module_version": "1.2.0",
          "state": {
            "_model_module": "@jupyter-widgets/base",
            "_model_module_version": "1.2.0",
            "_model_name": "LayoutModel",
            "_view_count": null,
            "_view_module": "@jupyter-widgets/base",
            "_view_module_version": "1.2.0",
            "_view_name": "LayoutView",
            "align_content": null,
            "align_items": null,
            "align_self": null,
            "border": null,
            "bottom": null,
            "display": null,
            "flex": null,
            "flex_flow": null,
            "grid_area": null,
            "grid_auto_columns": null,
            "grid_auto_flow": null,
            "grid_auto_rows": null,
            "grid_column": null,
            "grid_gap": null,
            "grid_row": null,
            "grid_template_areas": null,
            "grid_template_columns": null,
            "grid_template_rows": null,
            "height": null,
            "justify_content": null,
            "justify_items": null,
            "left": null,
            "margin": null,
            "max_height": null,
            "max_width": null,
            "min_height": null,
            "min_width": null,
            "object_fit": null,
            "object_position": null,
            "order": null,
            "overflow": null,
            "overflow_x": null,
            "overflow_y": null,
            "padding": null,
            "right": null,
            "top": null,
            "visibility": null,
            "width": null
          }
        },
        "a4edb8415ea843bf8ee975061f8c13d7": {
          "model_module": "@jupyter-widgets/controls",
          "model_name": "DescriptionStyleModel",
          "model_module_version": "1.5.0",
          "state": {
            "_model_module": "@jupyter-widgets/controls",
            "_model_module_version": "1.5.0",
            "_model_name": "DescriptionStyleModel",
            "_view_count": null,
            "_view_module": "@jupyter-widgets/base",
            "_view_module_version": "1.2.0",
            "_view_name": "StyleView",
            "description_width": ""
          }
        },
        "db590f412fcf4b3b83c7e687c6246037": {
          "model_module": "@jupyter-widgets/controls",
          "model_name": "HBoxModel",
          "model_module_version": "1.5.0",
          "state": {
            "_dom_classes": [],
            "_model_module": "@jupyter-widgets/controls",
            "_model_module_version": "1.5.0",
            "_model_name": "HBoxModel",
            "_view_count": null,
            "_view_module": "@jupyter-widgets/controls",
            "_view_module_version": "1.5.0",
            "_view_name": "HBoxView",
            "box_style": "",
            "children": [
              "IPY_MODEL_072ae5928e3e46c1ba282cb5c3504c87",
              "IPY_MODEL_5e982c8357e6432caabceb0d981ba133",
              "IPY_MODEL_3f5d0cc878254b7493b2fde23d9c7213"
            ],
            "layout": "IPY_MODEL_4fe1ab03b74a4e6a8e5e7e2a79169526"
          }
        },
        "072ae5928e3e46c1ba282cb5c3504c87": {
          "model_module": "@jupyter-widgets/controls",
          "model_name": "HTMLModel",
          "model_module_version": "1.5.0",
          "state": {
            "_dom_classes": [],
            "_model_module": "@jupyter-widgets/controls",
            "_model_module_version": "1.5.0",
            "_model_name": "HTMLModel",
            "_view_count": null,
            "_view_module": "@jupyter-widgets/controls",
            "_view_module_version": "1.5.0",
            "_view_name": "HTMLView",
            "description": "",
            "description_tooltip": null,
            "layout": "IPY_MODEL_f64bc461f4334a8e8befd47c637c27f2",
            "placeholder": "​",
            "style": "IPY_MODEL_61c0928eb7224308993c8ab28abb21f8",
            "value": "100%"
          }
        },
        "5e982c8357e6432caabceb0d981ba133": {
          "model_module": "@jupyter-widgets/controls",
          "model_name": "FloatProgressModel",
          "model_module_version": "1.5.0",
          "state": {
            "_dom_classes": [],
            "_model_module": "@jupyter-widgets/controls",
            "_model_module_version": "1.5.0",
            "_model_name": "FloatProgressModel",
            "_view_count": null,
            "_view_module": "@jupyter-widgets/controls",
            "_view_module_version": "1.5.0",
            "_view_name": "ProgressView",
            "bar_style": "success",
            "description": "",
            "description_tooltip": null,
            "layout": "IPY_MODEL_8191af3336bf4123b16a8260b6d0232b",
            "max": 28881,
            "min": 0,
            "orientation": "horizontal",
            "style": "IPY_MODEL_cfeb688034124866901dbfd8a833013e",
            "value": 28881
          }
        },
        "3f5d0cc878254b7493b2fde23d9c7213": {
          "model_module": "@jupyter-widgets/controls",
          "model_name": "HTMLModel",
          "model_module_version": "1.5.0",
          "state": {
            "_dom_classes": [],
            "_model_module": "@jupyter-widgets/controls",
            "_model_module_version": "1.5.0",
            "_model_name": "HTMLModel",
            "_view_count": null,
            "_view_module": "@jupyter-widgets/controls",
            "_view_module_version": "1.5.0",
            "_view_name": "HTMLView",
            "description": "",
            "description_tooltip": null,
            "layout": "IPY_MODEL_aceef077007b4d5ca7e220792c1a9d06",
            "placeholder": "​",
            "style": "IPY_MODEL_8e50a4bf501c4d0e999646cc6f6b31c8",
            "value": " 28881/28881 [00:00&lt;00:00, 1731573.59it/s]"
          }
        },
        "4fe1ab03b74a4e6a8e5e7e2a79169526": {
          "model_module": "@jupyter-widgets/base",
          "model_name": "LayoutModel",
          "model_module_version": "1.2.0",
          "state": {
            "_model_module": "@jupyter-widgets/base",
            "_model_module_version": "1.2.0",
            "_model_name": "LayoutModel",
            "_view_count": null,
            "_view_module": "@jupyter-widgets/base",
            "_view_module_version": "1.2.0",
            "_view_name": "LayoutView",
            "align_content": null,
            "align_items": null,
            "align_self": null,
            "border": null,
            "bottom": null,
            "display": null,
            "flex": null,
            "flex_flow": null,
            "grid_area": null,
            "grid_auto_columns": null,
            "grid_auto_flow": null,
            "grid_auto_rows": null,
            "grid_column": null,
            "grid_gap": null,
            "grid_row": null,
            "grid_template_areas": null,
            "grid_template_columns": null,
            "grid_template_rows": null,
            "height": null,
            "justify_content": null,
            "justify_items": null,
            "left": null,
            "margin": null,
            "max_height": null,
            "max_width": null,
            "min_height": null,
            "min_width": null,
            "object_fit": null,
            "object_position": null,
            "order": null,
            "overflow": null,
            "overflow_x": null,
            "overflow_y": null,
            "padding": null,
            "right": null,
            "top": null,
            "visibility": null,
            "width": null
          }
        },
        "f64bc461f4334a8e8befd47c637c27f2": {
          "model_module": "@jupyter-widgets/base",
          "model_name": "LayoutModel",
          "model_module_version": "1.2.0",
          "state": {
            "_model_module": "@jupyter-widgets/base",
            "_model_module_version": "1.2.0",
            "_model_name": "LayoutModel",
            "_view_count": null,
            "_view_module": "@jupyter-widgets/base",
            "_view_module_version": "1.2.0",
            "_view_name": "LayoutView",
            "align_content": null,
            "align_items": null,
            "align_self": null,
            "border": null,
            "bottom": null,
            "display": null,
            "flex": null,
            "flex_flow": null,
            "grid_area": null,
            "grid_auto_columns": null,
            "grid_auto_flow": null,
            "grid_auto_rows": null,
            "grid_column": null,
            "grid_gap": null,
            "grid_row": null,
            "grid_template_areas": null,
            "grid_template_columns": null,
            "grid_template_rows": null,
            "height": null,
            "justify_content": null,
            "justify_items": null,
            "left": null,
            "margin": null,
            "max_height": null,
            "max_width": null,
            "min_height": null,
            "min_width": null,
            "object_fit": null,
            "object_position": null,
            "order": null,
            "overflow": null,
            "overflow_x": null,
            "overflow_y": null,
            "padding": null,
            "right": null,
            "top": null,
            "visibility": null,
            "width": null
          }
        },
        "61c0928eb7224308993c8ab28abb21f8": {
          "model_module": "@jupyter-widgets/controls",
          "model_name": "DescriptionStyleModel",
          "model_module_version": "1.5.0",
          "state": {
            "_model_module": "@jupyter-widgets/controls",
            "_model_module_version": "1.5.0",
            "_model_name": "DescriptionStyleModel",
            "_view_count": null,
            "_view_module": "@jupyter-widgets/base",
            "_view_module_version": "1.2.0",
            "_view_name": "StyleView",
            "description_width": ""
          }
        },
        "8191af3336bf4123b16a8260b6d0232b": {
          "model_module": "@jupyter-widgets/base",
          "model_name": "LayoutModel",
          "model_module_version": "1.2.0",
          "state": {
            "_model_module": "@jupyter-widgets/base",
            "_model_module_version": "1.2.0",
            "_model_name": "LayoutModel",
            "_view_count": null,
            "_view_module": "@jupyter-widgets/base",
            "_view_module_version": "1.2.0",
            "_view_name": "LayoutView",
            "align_content": null,
            "align_items": null,
            "align_self": null,
            "border": null,
            "bottom": null,
            "display": null,
            "flex": null,
            "flex_flow": null,
            "grid_area": null,
            "grid_auto_columns": null,
            "grid_auto_flow": null,
            "grid_auto_rows": null,
            "grid_column": null,
            "grid_gap": null,
            "grid_row": null,
            "grid_template_areas": null,
            "grid_template_columns": null,
            "grid_template_rows": null,
            "height": null,
            "justify_content": null,
            "justify_items": null,
            "left": null,
            "margin": null,
            "max_height": null,
            "max_width": null,
            "min_height": null,
            "min_width": null,
            "object_fit": null,
            "object_position": null,
            "order": null,
            "overflow": null,
            "overflow_x": null,
            "overflow_y": null,
            "padding": null,
            "right": null,
            "top": null,
            "visibility": null,
            "width": null
          }
        },
        "cfeb688034124866901dbfd8a833013e": {
          "model_module": "@jupyter-widgets/controls",
          "model_name": "ProgressStyleModel",
          "model_module_version": "1.5.0",
          "state": {
            "_model_module": "@jupyter-widgets/controls",
            "_model_module_version": "1.5.0",
            "_model_name": "ProgressStyleModel",
            "_view_count": null,
            "_view_module": "@jupyter-widgets/base",
            "_view_module_version": "1.2.0",
            "_view_name": "StyleView",
            "bar_color": null,
            "description_width": ""
          }
        },
        "aceef077007b4d5ca7e220792c1a9d06": {
          "model_module": "@jupyter-widgets/base",
          "model_name": "LayoutModel",
          "model_module_version": "1.2.0",
          "state": {
            "_model_module": "@jupyter-widgets/base",
            "_model_module_version": "1.2.0",
            "_model_name": "LayoutModel",
            "_view_count": null,
            "_view_module": "@jupyter-widgets/base",
            "_view_module_version": "1.2.0",
            "_view_name": "LayoutView",
            "align_content": null,
            "align_items": null,
            "align_self": null,
            "border": null,
            "bottom": null,
            "display": null,
            "flex": null,
            "flex_flow": null,
            "grid_area": null,
            "grid_auto_columns": null,
            "grid_auto_flow": null,
            "grid_auto_rows": null,
            "grid_column": null,
            "grid_gap": null,
            "grid_row": null,
            "grid_template_areas": null,
            "grid_template_columns": null,
            "grid_template_rows": null,
            "height": null,
            "justify_content": null,
            "justify_items": null,
            "left": null,
            "margin": null,
            "max_height": null,
            "max_width": null,
            "min_height": null,
            "min_width": null,
            "object_fit": null,
            "object_position": null,
            "order": null,
            "overflow": null,
            "overflow_x": null,
            "overflow_y": null,
            "padding": null,
            "right": null,
            "top": null,
            "visibility": null,
            "width": null
          }
        },
        "8e50a4bf501c4d0e999646cc6f6b31c8": {
          "model_module": "@jupyter-widgets/controls",
          "model_name": "DescriptionStyleModel",
          "model_module_version": "1.5.0",
          "state": {
            "_model_module": "@jupyter-widgets/controls",
            "_model_module_version": "1.5.0",
            "_model_name": "DescriptionStyleModel",
            "_view_count": null,
            "_view_module": "@jupyter-widgets/base",
            "_view_module_version": "1.2.0",
            "_view_name": "StyleView",
            "description_width": ""
          }
        },
        "482e59a70dc44f2b8f55487a1c01224d": {
          "model_module": "@jupyter-widgets/controls",
          "model_name": "HBoxModel",
          "model_module_version": "1.5.0",
          "state": {
            "_dom_classes": [],
            "_model_module": "@jupyter-widgets/controls",
            "_model_module_version": "1.5.0",
            "_model_name": "HBoxModel",
            "_view_count": null,
            "_view_module": "@jupyter-widgets/controls",
            "_view_module_version": "1.5.0",
            "_view_name": "HBoxView",
            "box_style": "",
            "children": [
              "IPY_MODEL_5ce03fabd11346f8a2fd29a984db3429",
              "IPY_MODEL_c5cf6073a1f246269050e7e77290162c",
              "IPY_MODEL_a1892f2019e94551867e21bab5de7e5f"
            ],
            "layout": "IPY_MODEL_891bde8f3e3049d8a686fe188aceb2c1"
          }
        },
        "5ce03fabd11346f8a2fd29a984db3429": {
          "model_module": "@jupyter-widgets/controls",
          "model_name": "HTMLModel",
          "model_module_version": "1.5.0",
          "state": {
            "_dom_classes": [],
            "_model_module": "@jupyter-widgets/controls",
            "_model_module_version": "1.5.0",
            "_model_name": "HTMLModel",
            "_view_count": null,
            "_view_module": "@jupyter-widgets/controls",
            "_view_module_version": "1.5.0",
            "_view_name": "HTMLView",
            "description": "",
            "description_tooltip": null,
            "layout": "IPY_MODEL_5c9de5883e534dc39824f5c73a319bb6",
            "placeholder": "​",
            "style": "IPY_MODEL_ea42aa89c7694aefa4b641037a4a3533",
            "value": "100%"
          }
        },
        "c5cf6073a1f246269050e7e77290162c": {
          "model_module": "@jupyter-widgets/controls",
          "model_name": "FloatProgressModel",
          "model_module_version": "1.5.0",
          "state": {
            "_dom_classes": [],
            "_model_module": "@jupyter-widgets/controls",
            "_model_module_version": "1.5.0",
            "_model_name": "FloatProgressModel",
            "_view_count": null,
            "_view_module": "@jupyter-widgets/controls",
            "_view_module_version": "1.5.0",
            "_view_name": "ProgressView",
            "bar_style": "success",
            "description": "",
            "description_tooltip": null,
            "layout": "IPY_MODEL_ebd68e82e8874409b966ab2b990bbeb2",
            "max": 1648877,
            "min": 0,
            "orientation": "horizontal",
            "style": "IPY_MODEL_66230fe9891f40db86376dc32ce5d4a7",
            "value": 1648877
          }
        },
        "a1892f2019e94551867e21bab5de7e5f": {
          "model_module": "@jupyter-widgets/controls",
          "model_name": "HTMLModel",
          "model_module_version": "1.5.0",
          "state": {
            "_dom_classes": [],
            "_model_module": "@jupyter-widgets/controls",
            "_model_module_version": "1.5.0",
            "_model_name": "HTMLModel",
            "_view_count": null,
            "_view_module": "@jupyter-widgets/controls",
            "_view_module_version": "1.5.0",
            "_view_name": "HTMLView",
            "description": "",
            "description_tooltip": null,
            "layout": "IPY_MODEL_6e28fd7488874af19cf4d0c1f0c1b446",
            "placeholder": "​",
            "style": "IPY_MODEL_a581d5b1596d44638f18dfac1e9e8651",
            "value": " 1648877/1648877 [00:00&lt;00:00, 52159583.96it/s]"
          }
        },
        "891bde8f3e3049d8a686fe188aceb2c1": {
          "model_module": "@jupyter-widgets/base",
          "model_name": "LayoutModel",
          "model_module_version": "1.2.0",
          "state": {
            "_model_module": "@jupyter-widgets/base",
            "_model_module_version": "1.2.0",
            "_model_name": "LayoutModel",
            "_view_count": null,
            "_view_module": "@jupyter-widgets/base",
            "_view_module_version": "1.2.0",
            "_view_name": "LayoutView",
            "align_content": null,
            "align_items": null,
            "align_self": null,
            "border": null,
            "bottom": null,
            "display": null,
            "flex": null,
            "flex_flow": null,
            "grid_area": null,
            "grid_auto_columns": null,
            "grid_auto_flow": null,
            "grid_auto_rows": null,
            "grid_column": null,
            "grid_gap": null,
            "grid_row": null,
            "grid_template_areas": null,
            "grid_template_columns": null,
            "grid_template_rows": null,
            "height": null,
            "justify_content": null,
            "justify_items": null,
            "left": null,
            "margin": null,
            "max_height": null,
            "max_width": null,
            "min_height": null,
            "min_width": null,
            "object_fit": null,
            "object_position": null,
            "order": null,
            "overflow": null,
            "overflow_x": null,
            "overflow_y": null,
            "padding": null,
            "right": null,
            "top": null,
            "visibility": null,
            "width": null
          }
        },
        "5c9de5883e534dc39824f5c73a319bb6": {
          "model_module": "@jupyter-widgets/base",
          "model_name": "LayoutModel",
          "model_module_version": "1.2.0",
          "state": {
            "_model_module": "@jupyter-widgets/base",
            "_model_module_version": "1.2.0",
            "_model_name": "LayoutModel",
            "_view_count": null,
            "_view_module": "@jupyter-widgets/base",
            "_view_module_version": "1.2.0",
            "_view_name": "LayoutView",
            "align_content": null,
            "align_items": null,
            "align_self": null,
            "border": null,
            "bottom": null,
            "display": null,
            "flex": null,
            "flex_flow": null,
            "grid_area": null,
            "grid_auto_columns": null,
            "grid_auto_flow": null,
            "grid_auto_rows": null,
            "grid_column": null,
            "grid_gap": null,
            "grid_row": null,
            "grid_template_areas": null,
            "grid_template_columns": null,
            "grid_template_rows": null,
            "height": null,
            "justify_content": null,
            "justify_items": null,
            "left": null,
            "margin": null,
            "max_height": null,
            "max_width": null,
            "min_height": null,
            "min_width": null,
            "object_fit": null,
            "object_position": null,
            "order": null,
            "overflow": null,
            "overflow_x": null,
            "overflow_y": null,
            "padding": null,
            "right": null,
            "top": null,
            "visibility": null,
            "width": null
          }
        },
        "ea42aa89c7694aefa4b641037a4a3533": {
          "model_module": "@jupyter-widgets/controls",
          "model_name": "DescriptionStyleModel",
          "model_module_version": "1.5.0",
          "state": {
            "_model_module": "@jupyter-widgets/controls",
            "_model_module_version": "1.5.0",
            "_model_name": "DescriptionStyleModel",
            "_view_count": null,
            "_view_module": "@jupyter-widgets/base",
            "_view_module_version": "1.2.0",
            "_view_name": "StyleView",
            "description_width": ""
          }
        },
        "ebd68e82e8874409b966ab2b990bbeb2": {
          "model_module": "@jupyter-widgets/base",
          "model_name": "LayoutModel",
          "model_module_version": "1.2.0",
          "state": {
            "_model_module": "@jupyter-widgets/base",
            "_model_module_version": "1.2.0",
            "_model_name": "LayoutModel",
            "_view_count": null,
            "_view_module": "@jupyter-widgets/base",
            "_view_module_version": "1.2.0",
            "_view_name": "LayoutView",
            "align_content": null,
            "align_items": null,
            "align_self": null,
            "border": null,
            "bottom": null,
            "display": null,
            "flex": null,
            "flex_flow": null,
            "grid_area": null,
            "grid_auto_columns": null,
            "grid_auto_flow": null,
            "grid_auto_rows": null,
            "grid_column": null,
            "grid_gap": null,
            "grid_row": null,
            "grid_template_areas": null,
            "grid_template_columns": null,
            "grid_template_rows": null,
            "height": null,
            "justify_content": null,
            "justify_items": null,
            "left": null,
            "margin": null,
            "max_height": null,
            "max_width": null,
            "min_height": null,
            "min_width": null,
            "object_fit": null,
            "object_position": null,
            "order": null,
            "overflow": null,
            "overflow_x": null,
            "overflow_y": null,
            "padding": null,
            "right": null,
            "top": null,
            "visibility": null,
            "width": null
          }
        },
        "66230fe9891f40db86376dc32ce5d4a7": {
          "model_module": "@jupyter-widgets/controls",
          "model_name": "ProgressStyleModel",
          "model_module_version": "1.5.0",
          "state": {
            "_model_module": "@jupyter-widgets/controls",
            "_model_module_version": "1.5.0",
            "_model_name": "ProgressStyleModel",
            "_view_count": null,
            "_view_module": "@jupyter-widgets/base",
            "_view_module_version": "1.2.0",
            "_view_name": "StyleView",
            "bar_color": null,
            "description_width": ""
          }
        },
        "6e28fd7488874af19cf4d0c1f0c1b446": {
          "model_module": "@jupyter-widgets/base",
          "model_name": "LayoutModel",
          "model_module_version": "1.2.0",
          "state": {
            "_model_module": "@jupyter-widgets/base",
            "_model_module_version": "1.2.0",
            "_model_name": "LayoutModel",
            "_view_count": null,
            "_view_module": "@jupyter-widgets/base",
            "_view_module_version": "1.2.0",
            "_view_name": "LayoutView",
            "align_content": null,
            "align_items": null,
            "align_self": null,
            "border": null,
            "bottom": null,
            "display": null,
            "flex": null,
            "flex_flow": null,
            "grid_area": null,
            "grid_auto_columns": null,
            "grid_auto_flow": null,
            "grid_auto_rows": null,
            "grid_column": null,
            "grid_gap": null,
            "grid_row": null,
            "grid_template_areas": null,
            "grid_template_columns": null,
            "grid_template_rows": null,
            "height": null,
            "justify_content": null,
            "justify_items": null,
            "left": null,
            "margin": null,
            "max_height": null,
            "max_width": null,
            "min_height": null,
            "min_width": null,
            "object_fit": null,
            "object_position": null,
            "order": null,
            "overflow": null,
            "overflow_x": null,
            "overflow_y": null,
            "padding": null,
            "right": null,
            "top": null,
            "visibility": null,
            "width": null
          }
        },
        "a581d5b1596d44638f18dfac1e9e8651": {
          "model_module": "@jupyter-widgets/controls",
          "model_name": "DescriptionStyleModel",
          "model_module_version": "1.5.0",
          "state": {
            "_model_module": "@jupyter-widgets/controls",
            "_model_module_version": "1.5.0",
            "_model_name": "DescriptionStyleModel",
            "_view_count": null,
            "_view_module": "@jupyter-widgets/base",
            "_view_module_version": "1.2.0",
            "_view_name": "StyleView",
            "description_width": ""
          }
        },
        "fca2343aa7244075b7687c505ead1c5d": {
          "model_module": "@jupyter-widgets/controls",
          "model_name": "HBoxModel",
          "model_module_version": "1.5.0",
          "state": {
            "_dom_classes": [],
            "_model_module": "@jupyter-widgets/controls",
            "_model_module_version": "1.5.0",
            "_model_name": "HBoxModel",
            "_view_count": null,
            "_view_module": "@jupyter-widgets/controls",
            "_view_module_version": "1.5.0",
            "_view_name": "HBoxView",
            "box_style": "",
            "children": [
              "IPY_MODEL_12e2c6cd3f7f4faaa77b5cfe31cb0627",
              "IPY_MODEL_0dccd6e9653f4de39e17450c84864a39",
              "IPY_MODEL_0b44a568439b4a3ea32fcb87b41c07d7"
            ],
            "layout": "IPY_MODEL_14bd08eb7d02413682cfb780d866fc7b"
          }
        },
        "12e2c6cd3f7f4faaa77b5cfe31cb0627": {
          "model_module": "@jupyter-widgets/controls",
          "model_name": "HTMLModel",
          "model_module_version": "1.5.0",
          "state": {
            "_dom_classes": [],
            "_model_module": "@jupyter-widgets/controls",
            "_model_module_version": "1.5.0",
            "_model_name": "HTMLModel",
            "_view_count": null,
            "_view_module": "@jupyter-widgets/controls",
            "_view_module_version": "1.5.0",
            "_view_name": "HTMLView",
            "description": "",
            "description_tooltip": null,
            "layout": "IPY_MODEL_a8c5c6f65f0b40c5b3f09aaf87be8c2c",
            "placeholder": "​",
            "style": "IPY_MODEL_d7fe1c6a869247c3aabdb859cfe68212",
            "value": "100%"
          }
        },
        "0dccd6e9653f4de39e17450c84864a39": {
          "model_module": "@jupyter-widgets/controls",
          "model_name": "FloatProgressModel",
          "model_module_version": "1.5.0",
          "state": {
            "_dom_classes": [],
            "_model_module": "@jupyter-widgets/controls",
            "_model_module_version": "1.5.0",
            "_model_name": "FloatProgressModel",
            "_view_count": null,
            "_view_module": "@jupyter-widgets/controls",
            "_view_module_version": "1.5.0",
            "_view_name": "ProgressView",
            "bar_style": "success",
            "description": "",
            "description_tooltip": null,
            "layout": "IPY_MODEL_4ae2bed088794c6293ab255406182fca",
            "max": 4542,
            "min": 0,
            "orientation": "horizontal",
            "style": "IPY_MODEL_ffccc47a69f14f27b950ca58656b8c74",
            "value": 4542
          }
        },
        "0b44a568439b4a3ea32fcb87b41c07d7": {
          "model_module": "@jupyter-widgets/controls",
          "model_name": "HTMLModel",
          "model_module_version": "1.5.0",
          "state": {
            "_dom_classes": [],
            "_model_module": "@jupyter-widgets/controls",
            "_model_module_version": "1.5.0",
            "_model_name": "HTMLModel",
            "_view_count": null,
            "_view_module": "@jupyter-widgets/controls",
            "_view_module_version": "1.5.0",
            "_view_name": "HTMLView",
            "description": "",
            "description_tooltip": null,
            "layout": "IPY_MODEL_cbc9154a27c04635b3c6484f5b52a323",
            "placeholder": "​",
            "style": "IPY_MODEL_13782cef927a434ea3ea82ded68c6401",
            "value": " 4542/4542 [00:00&lt;00:00, 202984.79it/s]"
          }
        },
        "14bd08eb7d02413682cfb780d866fc7b": {
          "model_module": "@jupyter-widgets/base",
          "model_name": "LayoutModel",
          "model_module_version": "1.2.0",
          "state": {
            "_model_module": "@jupyter-widgets/base",
            "_model_module_version": "1.2.0",
            "_model_name": "LayoutModel",
            "_view_count": null,
            "_view_module": "@jupyter-widgets/base",
            "_view_module_version": "1.2.0",
            "_view_name": "LayoutView",
            "align_content": null,
            "align_items": null,
            "align_self": null,
            "border": null,
            "bottom": null,
            "display": null,
            "flex": null,
            "flex_flow": null,
            "grid_area": null,
            "grid_auto_columns": null,
            "grid_auto_flow": null,
            "grid_auto_rows": null,
            "grid_column": null,
            "grid_gap": null,
            "grid_row": null,
            "grid_template_areas": null,
            "grid_template_columns": null,
            "grid_template_rows": null,
            "height": null,
            "justify_content": null,
            "justify_items": null,
            "left": null,
            "margin": null,
            "max_height": null,
            "max_width": null,
            "min_height": null,
            "min_width": null,
            "object_fit": null,
            "object_position": null,
            "order": null,
            "overflow": null,
            "overflow_x": null,
            "overflow_y": null,
            "padding": null,
            "right": null,
            "top": null,
            "visibility": null,
            "width": null
          }
        },
        "a8c5c6f65f0b40c5b3f09aaf87be8c2c": {
          "model_module": "@jupyter-widgets/base",
          "model_name": "LayoutModel",
          "model_module_version": "1.2.0",
          "state": {
            "_model_module": "@jupyter-widgets/base",
            "_model_module_version": "1.2.0",
            "_model_name": "LayoutModel",
            "_view_count": null,
            "_view_module": "@jupyter-widgets/base",
            "_view_module_version": "1.2.0",
            "_view_name": "LayoutView",
            "align_content": null,
            "align_items": null,
            "align_self": null,
            "border": null,
            "bottom": null,
            "display": null,
            "flex": null,
            "flex_flow": null,
            "grid_area": null,
            "grid_auto_columns": null,
            "grid_auto_flow": null,
            "grid_auto_rows": null,
            "grid_column": null,
            "grid_gap": null,
            "grid_row": null,
            "grid_template_areas": null,
            "grid_template_columns": null,
            "grid_template_rows": null,
            "height": null,
            "justify_content": null,
            "justify_items": null,
            "left": null,
            "margin": null,
            "max_height": null,
            "max_width": null,
            "min_height": null,
            "min_width": null,
            "object_fit": null,
            "object_position": null,
            "order": null,
            "overflow": null,
            "overflow_x": null,
            "overflow_y": null,
            "padding": null,
            "right": null,
            "top": null,
            "visibility": null,
            "width": null
          }
        },
        "d7fe1c6a869247c3aabdb859cfe68212": {
          "model_module": "@jupyter-widgets/controls",
          "model_name": "DescriptionStyleModel",
          "model_module_version": "1.5.0",
          "state": {
            "_model_module": "@jupyter-widgets/controls",
            "_model_module_version": "1.5.0",
            "_model_name": "DescriptionStyleModel",
            "_view_count": null,
            "_view_module": "@jupyter-widgets/base",
            "_view_module_version": "1.2.0",
            "_view_name": "StyleView",
            "description_width": ""
          }
        },
        "4ae2bed088794c6293ab255406182fca": {
          "model_module": "@jupyter-widgets/base",
          "model_name": "LayoutModel",
          "model_module_version": "1.2.0",
          "state": {
            "_model_module": "@jupyter-widgets/base",
            "_model_module_version": "1.2.0",
            "_model_name": "LayoutModel",
            "_view_count": null,
            "_view_module": "@jupyter-widgets/base",
            "_view_module_version": "1.2.0",
            "_view_name": "LayoutView",
            "align_content": null,
            "align_items": null,
            "align_self": null,
            "border": null,
            "bottom": null,
            "display": null,
            "flex": null,
            "flex_flow": null,
            "grid_area": null,
            "grid_auto_columns": null,
            "grid_auto_flow": null,
            "grid_auto_rows": null,
            "grid_column": null,
            "grid_gap": null,
            "grid_row": null,
            "grid_template_areas": null,
            "grid_template_columns": null,
            "grid_template_rows": null,
            "height": null,
            "justify_content": null,
            "justify_items": null,
            "left": null,
            "margin": null,
            "max_height": null,
            "max_width": null,
            "min_height": null,
            "min_width": null,
            "object_fit": null,
            "object_position": null,
            "order": null,
            "overflow": null,
            "overflow_x": null,
            "overflow_y": null,
            "padding": null,
            "right": null,
            "top": null,
            "visibility": null,
            "width": null
          }
        },
        "ffccc47a69f14f27b950ca58656b8c74": {
          "model_module": "@jupyter-widgets/controls",
          "model_name": "ProgressStyleModel",
          "model_module_version": "1.5.0",
          "state": {
            "_model_module": "@jupyter-widgets/controls",
            "_model_module_version": "1.5.0",
            "_model_name": "ProgressStyleModel",
            "_view_count": null,
            "_view_module": "@jupyter-widgets/base",
            "_view_module_version": "1.2.0",
            "_view_name": "StyleView",
            "bar_color": null,
            "description_width": ""
          }
        },
        "cbc9154a27c04635b3c6484f5b52a323": {
          "model_module": "@jupyter-widgets/base",
          "model_name": "LayoutModel",
          "model_module_version": "1.2.0",
          "state": {
            "_model_module": "@jupyter-widgets/base",
            "_model_module_version": "1.2.0",
            "_model_name": "LayoutModel",
            "_view_count": null,
            "_view_module": "@jupyter-widgets/base",
            "_view_module_version": "1.2.0",
            "_view_name": "LayoutView",
            "align_content": null,
            "align_items": null,
            "align_self": null,
            "border": null,
            "bottom": null,
            "display": null,
            "flex": null,
            "flex_flow": null,
            "grid_area": null,
            "grid_auto_columns": null,
            "grid_auto_flow": null,
            "grid_auto_rows": null,
            "grid_column": null,
            "grid_gap": null,
            "grid_row": null,
            "grid_template_areas": null,
            "grid_template_columns": null,
            "grid_template_rows": null,
            "height": null,
            "justify_content": null,
            "justify_items": null,
            "left": null,
            "margin": null,
            "max_height": null,
            "max_width": null,
            "min_height": null,
            "min_width": null,
            "object_fit": null,
            "object_position": null,
            "order": null,
            "overflow": null,
            "overflow_x": null,
            "overflow_y": null,
            "padding": null,
            "right": null,
            "top": null,
            "visibility": null,
            "width": null
          }
        },
        "13782cef927a434ea3ea82ded68c6401": {
          "model_module": "@jupyter-widgets/controls",
          "model_name": "DescriptionStyleModel",
          "model_module_version": "1.5.0",
          "state": {
            "_model_module": "@jupyter-widgets/controls",
            "_model_module_version": "1.5.0",
            "_model_name": "DescriptionStyleModel",
            "_view_count": null,
            "_view_module": "@jupyter-widgets/base",
            "_view_module_version": "1.2.0",
            "_view_name": "StyleView",
            "description_width": ""
          }
        }
      }
    }
  },
  "nbformat": 4,
  "nbformat_minor": 0
}