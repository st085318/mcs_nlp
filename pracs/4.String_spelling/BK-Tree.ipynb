{
 "cells": [
  {
   "cell_type": "code",
   "execution_count": 1,
   "metadata": {},
   "outputs": [],
   "source": [
    "import editdistance\n",
    "import re\n",
    "\n",
    "from pathlib import Path\n",
    "from typing import Dict, List, Set, Tuple"
   ]
  },
  {
   "cell_type": "code",
   "execution_count": 2,
   "metadata": {},
   "outputs": [],
   "source": [
    "class BKTree:\n",
    "    def __init__(self, words_list: List[str], distance: callable):\n",
    "        self.root = {}\n",
    "        self.root_word = None\n",
    "        self.__distance = distance\n",
    "        self.__build_bk(words_list)\n",
    "        self.__get_stats()\n",
    "        \n",
    "    def __build_bk(self, words_list):\n",
    "        for word in words_list:\n",
    "            if not self.root:\n",
    "                self.__add(word, self.root, '')\n",
    "                self.root_word = next(iter(self.root))\n",
    "            else:\n",
    "                self.__add(word, self.root[self.root_word], self.root_word)\n",
    "                \n",
    "    def __get_stats(self):\n",
    "        \"\"\"\n",
    "        Эта функция подсчитывает количество узлов в дереве и среднее значение по метрике для вспх узлов\n",
    "        \"\"\"\n",
    "        node_count, total_dist_sum = 0, 0\n",
    "        stack = [(self.root[self.root_word], self.root_word, 0)]\n",
    "        while stack:\n",
    "            node, key, dist = stack.pop()\n",
    "            \n",
    "            node_count += 1\n",
    "            total_dist_sum += dist\n",
    "            \n",
    "            for child in node:\n",
    "                stack.append((node[child], child, self.__distance(key, child)))\n",
    "        print(f'Total nodes in constructed BK-Tree: {node_count}, average distance: {total_dist_sum / (node_count-1)}.')\n",
    "        \n",
    "            \n",
    "    def __get_element_with_same_distance(self, word: str, node: Dict[str, Dict], dist: int):\n",
    "        \"\"\"\n",
    "        Напишите функцию, которая ищет потомка, чтоюбы расстояние от него до слова было равно dist\n",
    "        :param word:\n",
    "        :param node:\n",
    "        :param dist:\n",
    "        return (потомок, ключ-родитель)\n",
    "        \"\"\"\n",
    "        for child in node:\n",
    "            if self.__distance(child, word) == dist:\n",
    "                return node[child], child\n",
    "        return None, None\n",
    "        \n",
    "    def __add(self, word: str, node: Dict[str, Dict], key: str):\n",
    "        \"\"\"\n",
    "        Напишите функцию, которая добавляет новое слово в BK-дерево\n",
    "        1. Если текущий узел пустой, то добавляем в него пару (слово, новый потомок)\n",
    "        2. Измеряем расстояние между добавляемым словом и словом-родителем key\n",
    "        3. Ищем такого потомка, у которого расстояние со словом совпадает с расстоянием из пункта 2.\n",
    "        4. Если такой потомок нашёлся, пытаемся добавить в него слово, иначе создаём новый узел на текущем уровне\n",
    "        :param word:\n",
    "        :param node:\n",
    "        :param key:\n",
    "        \"\"\"\n",
    "        \n",
    "        # YOUR CODE HERE\n",
    "        \n",
    "    def search(self, word: str, n: int) -> Set[Tuple[str, int]]:\n",
    "        \"\"\"\n",
    "        Напишите функцию, ищет словарные слова в BK-дереве по битому образцу\n",
    "        Здесь достаточно легко применить алгоритм поиска в глубину, \n",
    "        в том числе и итеративный, как в методе self.__get_stats().\n",
    "        Отличие состоит в том, что в стек добавляются только те потомки, \n",
    "        у которых расстояние со словом текущего узла лежит в диапазоне (d(word, слово_текущего_узла) - N, d(word, слово_текущего_узла) + N).\n",
    "        Кстати, если d(word, слово_текущего_узла) <= N, то добавляем слово в matches\n",
    "        :param word:\n",
    "        :param n:\n",
    "        return: List[Tuple[str, int]]\n",
    "        \"\"\"\n",
    "        \n",
    "        # YOUR CODE HERE\n",
    "        matches = set()        \n",
    "        return matches"
   ]
  },
  {
   "cell_type": "code",
   "execution_count": 3,
   "metadata": {},
   "outputs": [
    {
     "name": "stdout",
     "output_type": "stream",
     "text": [
      "Total nodes in constructed BK-Tree: 9, avaredge distance: 1.7777777777777777.\n"
     ]
    }
   ],
   "source": [
    "words = ['book', 'books', 'boo', 'boon', 'cook', 'clock', 'cake', 'cape', 'cart']\n",
    "tree = BKTree(words, editdistance.eval)"
   ]
  },
  {
   "cell_type": "code",
   "execution_count": 4,
   "metadata": {},
   "outputs": [
    {
     "name": "stdout",
     "output_type": "stream",
     "text": [
      "{'book': {'books': {'boo': {'boon': {}, 'cook': {}}},\n",
      "          'cake': {'cape': {}, 'cart': {}},\n",
      "          'clock': {}}}\n"
     ]
    }
   ],
   "source": [
    "from pprint import pprint\n",
    "\n",
    "pprint(tree.root)"
   ]
  },
  {
   "cell_type": "code",
   "execution_count": null,
   "metadata": {},
   "outputs": [],
   "source": [
    "tree.search('bool', 3)"
   ]
  },
  {
   "cell_type": "code",
   "execution_count": null,
   "metadata": {},
   "outputs": [],
   "source": [
    "\n"
   ]
  },
  {
   "cell_type": "code",
   "execution_count": null,
   "metadata": {},
   "outputs": [],
   "source": [
    "words_path = Path(\"/content/words2.txt\")\n",
    "broken_texts_path = Path(\"/content/broken_texts.csv\")\n",
    "correct_texts_path = Path(\"/content/derived.csv\")"
   ]
  },
  {
   "cell_type": "code",
   "execution_count": null,
   "metadata": {},
   "outputs": [],
   "source": [
    "with open(words_path, 'r') as f:\n",
    "  words_list = sorted(set(word.strip() for word in f.readlines()))"
   ]
  },
  {
   "cell_type": "code",
   "execution_count": null,
   "metadata": {},
   "outputs": [],
   "source": [
    "words_list = [word for word in words_list if re.search(r'а-я', word, re.I)]"
   ]
  },
  {
   "cell_type": "code",
   "execution_count": null,
   "metadata": {},
   "outputs": [],
   "source": [
    "tree = BKTree(words_list, editdistance.eval)"
   ]
  }
 ],
 "metadata": {
  "kernelspec": {
   "display_name": "Python 3 (ipykernel)",
   "language": "python",
   "name": "python3"
  },
  "language_info": {
   "codemirror_mode": {
    "name": "ipython",
    "version": 3
   },
   "file_extension": ".py",
   "mimetype": "text/x-python",
   "name": "python",
   "nbconvert_exporter": "python",
   "pygments_lexer": "ipython3",
   "version": "3.9.13"
  }
 },
 "nbformat": 4,
 "nbformat_minor": 5
}
