{
 "cells": [
  {
   "cell_type": "code",
   "execution_count": 1,
   "id": "5af133a1",
   "metadata": {
    "colab": {
     "base_uri": "https://localhost:8080/"
    },
    "id": "5af133a1",
    "outputId": "bb7f4a18-ee89-4c2c-e041-cd57dd876c96"
   },
   "outputs": [
    {
     "name": "stdout",
     "output_type": "stream",
     "text": [
      "Looking in indexes: https://pypi.org/simple, https://us-python.pkg.dev/colab-wheels/public/simple/\n",
      "Collecting bigartm\n",
      "  Downloading bigartm-0.9.2-cp39-cp39-manylinux_2_27_x86_64.manylinux_2_28_x86_64.whl (2.1 MB)\n",
      "\u001b[2K     \u001b[90m━━━━━━━━━━━━━━━━━━━━━━━━━━━━━━━━━━━━━━━━\u001b[0m \u001b[32m2.1/2.1 MB\u001b[0m \u001b[31m788.2 kB/s\u001b[0m eta \u001b[36m0:00:00\u001b[0m\n",
      "\u001b[?25hRequirement already satisfied: numpy in /usr/local/lib/python3.9/dist-packages (from bigartm) (1.22.4)\n",
      "Requirement already satisfied: tqdm in /usr/local/lib/python3.9/dist-packages (from bigartm) (4.65.0)\n",
      "Requirement already satisfied: pandas in /usr/local/lib/python3.9/dist-packages (from bigartm) (1.5.3)\n",
      "Requirement already satisfied: protobuf>=3.0 in /usr/local/lib/python3.9/dist-packages (from bigartm) (3.20.3)\n",
      "Requirement already satisfied: pytz>=2020.1 in /usr/local/lib/python3.9/dist-packages (from pandas->bigartm) (2022.7.1)\n",
      "Requirement already satisfied: python-dateutil>=2.8.1 in /usr/local/lib/python3.9/dist-packages (from pandas->bigartm) (2.8.2)\n",
      "Requirement already satisfied: six>=1.5 in /usr/local/lib/python3.9/dist-packages (from python-dateutil>=2.8.1->pandas->bigartm) (1.16.0)\n",
      "Installing collected packages: bigartm\n",
      "Successfully installed bigartm-0.9.2\n"
     ]
    }
   ],
   "source": [
    "! pip install bigartm"
   ]
  },
  {
   "cell_type": "code",
   "execution_count": 2,
   "id": "4d70c648",
   "metadata": {
    "id": "4d70c648"
   },
   "outputs": [],
   "source": [
    "import artm\n",
    "\n",
    "from sklearn.feature_extraction.text import CountVectorizer\n",
    "from sklearn.datasets import fetch_20newsgroups\n",
    "from numpy import array\n",
    "\n",
    "import re\n",
    "import string\n",
    "\n",
    "import numpy as np\n",
    "import pandas as pd\n",
    "\n",
    "import matplotlib.pyplot as plt"
   ]
  },
  {
   "cell_type": "code",
   "execution_count": 3,
   "id": "DKVdEHshO_-b",
   "metadata": {
    "colab": {
     "base_uri": "https://localhost:8080/",
     "height": 233
    },
    "id": "DKVdEHshO_-b",
    "outputId": "62564193-d2ab-41cc-81bd-da4e686501e6"
   },
   "outputs": [
    {
     "name": "stderr",
     "output_type": "stream",
     "text": [
      "/usr/local/lib/python3.9/dist-packages/ipykernel/ipkernel.py:283: DeprecationWarning: `should_run_async` will not call `transform_cell` automatically in the future. Please pass the result to `transformed_cell` argument and any exception that happen during thetransform in `preprocessing_exc_tuple` in IPython 7.17 and above.\n",
      "  and should_run_async(code)\n"
     ]
    },
    {
     "data": {
      "application/vnd.google.colaboratory.intrinsic+json": {
       "type": "string"
      },
      "text/plain": [
       "\"From: lerxst@wam.umd.edu (where's my thing)\\nSubject: WHAT car is this!?\\nNntp-Posting-Host: rac3.wam.umd.edu\\nOrganization: University of Maryland, College Park\\nLines: 15\\n\\n I was wondering if anyone out there could enlighten me on this car I saw\\nthe other day. It was a 2-door sports car, looked to be from the late 60s/\\nearly 70s. It was called a Bricklin. The doors were really small. In addition,\\nthe front bumper was separate from the rest of the body. This is \\nall I know. If anyone can tellme a model name, engine specs, years\\nof production, where this car is made, history, or whatever info you\\nhave on this funky looking car, please e-mail.\\n\\nThanks,\\n- IL\\n   ---- brought to you by your neighborhood Lerxst ----\\n\\n\\n\\n\\n\""
      ]
     },
     "execution_count": 3,
     "metadata": {},
     "output_type": "execute_result"
    }
   ],
   "source": [
    "fetch_20newsgroups().data[0]"
   ]
  },
  {
   "cell_type": "markdown",
   "id": "hmI1jS1UPba7",
   "metadata": {
    "id": "hmI1jS1UPba7"
   },
   "source": [
    "#### Проверим работу библиотеки с помощью простой модели"
   ]
  },
  {
   "cell_type": "code",
   "execution_count": 4,
   "id": "d72474e9",
   "metadata": {
    "id": "d72474e9"
   },
   "outputs": [],
   "source": [
    "cv = CountVectorizer(max_features=10000, stop_words='english')"
   ]
  },
  {
   "cell_type": "code",
   "execution_count": 5,
   "id": "bc038d15",
   "metadata": {
    "id": "bc038d15"
   },
   "outputs": [],
   "source": [
    "n_wd = array(cv.fit_transform(fetch_20newsgroups().data).todense()).T"
   ]
  },
  {
   "cell_type": "code",
   "execution_count": 7,
   "id": "91b071b9",
   "metadata": {
    "colab": {
     "base_uri": "https://localhost:8080/"
    },
    "id": "91b071b9",
    "outputId": "849c20d5-1bfe-4fe7-b887-ed41102722c5"
   },
   "outputs": [
    {
     "data": {
      "text/plain": [
       "(array(['00', '000', '005', '01', '02'], dtype=object), 10000)"
      ]
     },
     "execution_count": 7,
     "metadata": {},
     "output_type": "execute_result"
    }
   ],
   "source": [
    "vocabulary = cv.get_feature_names_out()\n",
    "vocabulary[:5], len(vocabulary)"
   ]
  },
  {
   "cell_type": "code",
   "execution_count": 8,
   "id": "3b233e6d",
   "metadata": {
    "colab": {
     "base_uri": "https://localhost:8080/"
    },
    "id": "3b233e6d",
    "outputId": "a20f6f38-9193-47fe-ce44-8f316fb66f51"
   },
   "outputs": [
    {
     "name": "stderr",
     "output_type": "stream",
     "text": [
      "/usr/local/lib/python3.9/dist-packages/artm/batches_utils.py:227: DeprecationWarning: Please use `spmatrix` from the `scipy.sparse` namespace, the `scipy.sparse.base` namespace is deprecated.\n",
      "  from scipy.sparse.base import spmatrix\n"
     ]
    }
   ],
   "source": [
    "bv = artm.BatchVectorizer(data_format='bow_n_wd',\n",
    "                          n_wd=n_wd,\n",
    "                          vocabulary=vocabulary)"
   ]
  },
  {
   "cell_type": "code",
   "execution_count": 9,
   "id": "15cdfe23",
   "metadata": {
    "colab": {
     "base_uri": "https://localhost:8080/"
    },
    "id": "15cdfe23",
    "outputId": "67bdb0af-32ed-460c-ab5f-085784b5189e"
   },
   "outputs": [
    {
     "data": {
      "text/plain": [
       "artm.BatchVectorizer(data_path=\"urnuuidf0b4dcd0-e465-11ed-bcda-0242ac1c000c\", num_batches=12)"
      ]
     },
     "execution_count": 9,
     "metadata": {},
     "output_type": "execute_result"
    }
   ],
   "source": [
    "bv"
   ]
  },
  {
   "cell_type": "code",
   "execution_count": 10,
   "id": "a3381587",
   "metadata": {
    "id": "a3381587"
   },
   "outputs": [],
   "source": [
    "# Learn simple LDA model (or you can use artm.pLSA or advanced artm.ARTM)\n",
    "model = artm.LDA(num_topics=25, dictionary=bv.dictionary)"
   ]
  },
  {
   "cell_type": "code",
   "execution_count": 11,
   "id": "f2295d4b",
   "metadata": {
    "id": "f2295d4b"
   },
   "outputs": [],
   "source": [
    "model.fit_offline(bv, num_collection_passes=20)"
   ]
  },
  {
   "cell_type": "code",
   "execution_count": 12,
   "id": "54706f8b",
   "metadata": {
    "colab": {
     "base_uri": "https://localhost:8080/"
    },
    "id": "54706f8b",
    "outputId": "4fc45584-0c55-4d58-e70a-60e1848de6ed"
   },
   "outputs": [
    {
     "name": "stderr",
     "output_type": "stream",
     "text": [
      "/usr/local/lib/python3.9/dist-packages/ipykernel/ipkernel.py:283: DeprecationWarning: `should_run_async` will not call `transform_cell` automatically in the future. Please pass the result to `transformed_cell` argument and any exception that happen during thetransform in `preprocessing_exc_tuple` in IPython 7.17 and above.\n",
      "  and should_run_async(code)\n"
     ]
    },
    {
     "data": {
      "text/plain": [
       "[['windows',\n",
       "  'card',\n",
       "  'scsi',\n",
       "  'edu',\n",
       "  'com',\n",
       "  'mac',\n",
       "  'lines',\n",
       "  'use',\n",
       "  'pc',\n",
       "  'subject'],\n",
       " ['key',\n",
       "  'encryption',\n",
       "  'chip',\n",
       "  'clipper',\n",
       "  'com',\n",
       "  'keys',\n",
       "  'use',\n",
       "  'government',\n",
       "  'security',\n",
       "  'public'],\n",
       " ['uk',\n",
       "  'car',\n",
       "  'com',\n",
       "  'ac',\n",
       "  'ca',\n",
       "  'organization',\n",
       "  'lines',\n",
       "  'writes',\n",
       "  'article',\n",
       "  'subject'],\n",
       " ['president',\n",
       "  'mr',\n",
       "  'people',\n",
       "  'government',\n",
       "  'think',\n",
       "  'clinton',\n",
       "  'new',\n",
       "  'going',\n",
       "  'money',\n",
       "  'said'],\n",
       " ['god',\n",
       "  'people',\n",
       "  'jesus',\n",
       "  'believe',\n",
       "  'christian',\n",
       "  'does',\n",
       "  'think',\n",
       "  'don',\n",
       "  'bible',\n",
       "  'say'],\n",
       " ['00', '10', '15', '16', 'apr', '25', '11', '12', '1993', '20'],\n",
       " ['science',\n",
       "  'edu',\n",
       "  'subject',\n",
       "  'theory',\n",
       "  'earth',\n",
       "  'time',\n",
       "  'like',\n",
       "  'book',\n",
       "  'scientific',\n",
       "  'organization'],\n",
       " ['ax', 'max', 'g9v', 'b8f', 'a86', 'pl', '145', '1d9', '1t', '0t'],\n",
       " ['nl', 'bh', 'al', 'ah', 'sg', 'ingr', 'mu', 'air', 'mm', 'p2'],\n",
       " ['edu',\n",
       "  'organization',\n",
       "  'lines',\n",
       "  'subject',\n",
       "  'institute',\n",
       "  'technology',\n",
       "  'michael',\n",
       "  'university',\n",
       "  'nntp',\n",
       "  'drive'],\n",
       " ['edu',\n",
       "  'com',\n",
       "  'writes',\n",
       "  'article',\n",
       "  'organization',\n",
       "  'subject',\n",
       "  'lines',\n",
       "  'cs',\n",
       "  'andrew',\n",
       "  'year'],\n",
       " ['com',\n",
       "  'bike',\n",
       "  'power',\n",
       "  'dod',\n",
       "  'subject',\n",
       "  'use',\n",
       "  'like',\n",
       "  'ground',\n",
       "  'water',\n",
       "  'don'],\n",
       " ['health',\n",
       "  'medical',\n",
       "  'use',\n",
       "  'food',\n",
       "  'disease',\n",
       "  'msg',\n",
       "  'study',\n",
       "  'medicine',\n",
       "  'doctor',\n",
       "  'utexas'],\n",
       " ['gov',\n",
       "  'com',\n",
       "  'nasa',\n",
       "  'netcom',\n",
       "  'org',\n",
       "  'lines',\n",
       "  'organization',\n",
       "  'space',\n",
       "  'subject',\n",
       "  'list'],\n",
       " ['people',\n",
       "  'turkish',\n",
       "  'armenian',\n",
       "  'said',\n",
       "  'armenians',\n",
       "  'armenia',\n",
       "  'went',\n",
       "  'turkey',\n",
       "  'know',\n",
       "  'didn'],\n",
       " ['edu',\n",
       "  'lines',\n",
       "  'subject',\n",
       "  'organization',\n",
       "  'university',\n",
       "  'posting',\n",
       "  'nntp',\n",
       "  'host',\n",
       "  'thanks',\n",
       "  'mail'],\n",
       " ['space',\n",
       "  'image',\n",
       "  'data',\n",
       "  'software',\n",
       "  'available',\n",
       "  'images',\n",
       "  'information',\n",
       "  'graphics',\n",
       "  'program',\n",
       "  'gif'],\n",
       " ['hp',\n",
       "  'au',\n",
       "  'drive',\n",
       "  'com',\n",
       "  'window',\n",
       "  'lines',\n",
       "  'organization',\n",
       "  'tape',\n",
       "  'subject',\n",
       "  'problem'],\n",
       " ['file',\n",
       "  'files',\n",
       "  'program',\n",
       "  'use',\n",
       "  'server',\n",
       "  'window',\n",
       "  'edu',\n",
       "  'com',\n",
       "  'mit',\n",
       "  'db'],\n",
       " ['edu',\n",
       "  'writes',\n",
       "  'uiuc',\n",
       "  'com',\n",
       "  'think',\n",
       "  'don',\n",
       "  'people',\n",
       "  'article',\n",
       "  'cso',\n",
       "  'say'],\n",
       " ['edu',\n",
       "  'article',\n",
       "  'lines',\n",
       "  'subject',\n",
       "  'organization',\n",
       "  'writes',\n",
       "  'posting',\n",
       "  'host',\n",
       "  'nntp',\n",
       "  'com'],\n",
       " ['0d', 'cx', '_o', '145', 'w7', '34u', 'c_', 'hz', 'lk', 'chz'],\n",
       " ['israel',\n",
       "  'edu',\n",
       "  'israeli',\n",
       "  'state',\n",
       "  'jews',\n",
       "  'writes',\n",
       "  'article',\n",
       "  'subject',\n",
       "  'ohio',\n",
       "  'lines'],\n",
       " ['com',\n",
       "  'gun',\n",
       "  'edu',\n",
       "  'people',\n",
       "  'writes',\n",
       "  'article',\n",
       "  'guns',\n",
       "  'don',\n",
       "  'subject',\n",
       "  'lines'],\n",
       " ['ca',\n",
       "  'game',\n",
       "  'team',\n",
       "  'hockey',\n",
       "  'play',\n",
       "  'games',\n",
       "  'season',\n",
       "  'canada',\n",
       "  'nhl',\n",
       "  'year']]"
      ]
     },
     "execution_count": 12,
     "metadata": {},
     "output_type": "execute_result"
    }
   ],
   "source": [
    "# Print results\n",
    "model.get_top_tokens()"
   ]
  },
  {
   "cell_type": "markdown",
   "id": "SwpFnSovPwHS",
   "metadata": {
    "id": "SwpFnSovPwHS"
   },
   "source": [
    "#### Усложним задачу"
   ]
  },
  {
   "cell_type": "markdown",
   "id": "AKIBSQaFSRRg",
   "metadata": {
    "id": "AKIBSQaFSRRg"
   },
   "source": [
    "Подготовим данные"
   ]
  },
  {
   "cell_type": "code",
   "execution_count": 13,
   "id": "z-B2g0BuO4V9",
   "metadata": {
    "id": "z-B2g0BuO4V9"
   },
   "outputs": [],
   "source": [
    "netflix_df = pd.read_csv('/content/Netflix.csv')"
   ]
  },
  {
   "cell_type": "code",
   "execution_count": 23,
   "id": "F7BxT3fBO4hj",
   "metadata": {
    "colab": {
     "base_uri": "https://localhost:8080/"
    },
    "id": "F7BxT3fBO4hj",
    "outputId": "18a0e559-d579-4757-96f6-7465b7b2a231"
   },
   "outputs": [
    {
     "name": "stderr",
     "output_type": "stream",
     "text": [
      "/usr/local/lib/python3.9/dist-packages/ipykernel/ipkernel.py:283: DeprecationWarning: `should_run_async` will not call `transform_cell` automatically in the future. Please pass the result to `transformed_cell` argument and any exception that happen during thetransform in `preprocessing_exc_tuple` in IPython 7.17 and above.\n",
      "  and should_run_async(code)\n"
     ]
    },
    {
     "data": {
      "text/plain": [
       "(8807, 12)"
      ]
     },
     "execution_count": 23,
     "metadata": {},
     "output_type": "execute_result"
    }
   ],
   "source": [
    "netflix_df.shape"
   ]
  },
  {
   "cell_type": "code",
   "execution_count": 14,
   "id": "La5el9_iO4ks",
   "metadata": {
    "colab": {
     "base_uri": "https://localhost:8080/"
    },
    "id": "La5el9_iO4ks",
    "outputId": "e77f76c0-074c-40ec-9ca8-0063859c4353"
   },
   "outputs": [
    {
     "data": {
      "text/plain": [
       "Movie      6131\n",
       "TV Show    2676\n",
       "Name: type, dtype: int64"
      ]
     },
     "execution_count": 14,
     "metadata": {},
     "output_type": "execute_result"
    }
   ],
   "source": [
    "netflix_df['type'].value_counts()"
   ]
  },
  {
   "cell_type": "code",
   "execution_count": 15,
   "id": "8zVApfEWO4oI",
   "metadata": {
    "id": "8zVApfEWO4oI"
   },
   "outputs": [],
   "source": [
    "df = netflix_df[(netflix_df['type'] == 'Movie') & netflix_df['description'].notnull()]"
   ]
  },
  {
   "cell_type": "code",
   "execution_count": 16,
   "id": "kJyk89byO4qm",
   "metadata": {
    "colab": {
     "base_uri": "https://localhost:8080/"
    },
    "id": "kJyk89byO4qm",
    "outputId": "861c93e1-5a23-417c-c6a8-e21cf965ee12"
   },
   "outputs": [
    {
     "data": {
      "text/plain": [
       "(6131, 12)"
      ]
     },
     "execution_count": 16,
     "metadata": {},
     "output_type": "execute_result"
    }
   ],
   "source": [
    "df.shape"
   ]
  },
  {
   "cell_type": "code",
   "execution_count": 17,
   "id": "VKfB7dRScFz6",
   "metadata": {
    "colab": {
     "base_uri": "https://localhost:8080/",
     "height": 687
    },
    "id": "VKfB7dRScFz6",
    "outputId": "7fd9768f-8c7a-4403-978a-94f2822bd344"
   },
   "outputs": [
    {
     "data": {
      "text/html": [
       "\n",
       "  <div id=\"df-d5f8b2ef-7c4d-49cb-b702-ecb7639dd77d\">\n",
       "    <div class=\"colab-df-container\">\n",
       "      <div>\n",
       "<style scoped>\n",
       "    .dataframe tbody tr th:only-of-type {\n",
       "        vertical-align: middle;\n",
       "    }\n",
       "\n",
       "    .dataframe tbody tr th {\n",
       "        vertical-align: top;\n",
       "    }\n",
       "\n",
       "    .dataframe thead th {\n",
       "        text-align: right;\n",
       "    }\n",
       "</style>\n",
       "<table border=\"1\" class=\"dataframe\">\n",
       "  <thead>\n",
       "    <tr style=\"text-align: right;\">\n",
       "      <th></th>\n",
       "      <th>show_id</th>\n",
       "      <th>type</th>\n",
       "      <th>title</th>\n",
       "      <th>director</th>\n",
       "      <th>cast</th>\n",
       "      <th>country</th>\n",
       "      <th>date_added</th>\n",
       "      <th>release_year</th>\n",
       "      <th>rating</th>\n",
       "      <th>duration</th>\n",
       "      <th>listed_in</th>\n",
       "      <th>description</th>\n",
       "    </tr>\n",
       "  </thead>\n",
       "  <tbody>\n",
       "    <tr>\n",
       "      <th>0</th>\n",
       "      <td>s1</td>\n",
       "      <td>Movie</td>\n",
       "      <td>Dick Johnson Is Dead</td>\n",
       "      <td>Kirsten Johnson</td>\n",
       "      <td>NaN</td>\n",
       "      <td>United States</td>\n",
       "      <td>September 25, 2021</td>\n",
       "      <td>2020</td>\n",
       "      <td>PG-13</td>\n",
       "      <td>90 min</td>\n",
       "      <td>Documentaries</td>\n",
       "      <td>As her father nears the end of his life, filmm...</td>\n",
       "    </tr>\n",
       "    <tr>\n",
       "      <th>6</th>\n",
       "      <td>s7</td>\n",
       "      <td>Movie</td>\n",
       "      <td>My Little Pony: A New Generation</td>\n",
       "      <td>Robert Cullen, José Luis Ucha</td>\n",
       "      <td>Vanessa Hudgens, Kimiko Glenn, James Marsden, ...</td>\n",
       "      <td>NaN</td>\n",
       "      <td>September 24, 2021</td>\n",
       "      <td>2021</td>\n",
       "      <td>PG</td>\n",
       "      <td>91 min</td>\n",
       "      <td>Children &amp; Family Movies</td>\n",
       "      <td>Equestria's divided. But a bright-eyed hero be...</td>\n",
       "    </tr>\n",
       "    <tr>\n",
       "      <th>7</th>\n",
       "      <td>s8</td>\n",
       "      <td>Movie</td>\n",
       "      <td>Sankofa</td>\n",
       "      <td>Haile Gerima</td>\n",
       "      <td>Kofi Ghanaba, Oyafunmike Ogunlano, Alexandra D...</td>\n",
       "      <td>United States, Ghana, Burkina Faso, United Kin...</td>\n",
       "      <td>September 24, 2021</td>\n",
       "      <td>1993</td>\n",
       "      <td>TV-MA</td>\n",
       "      <td>125 min</td>\n",
       "      <td>Dramas, Independent Movies, International Movies</td>\n",
       "      <td>On a photo shoot in Ghana, an American model s...</td>\n",
       "    </tr>\n",
       "    <tr>\n",
       "      <th>9</th>\n",
       "      <td>s10</td>\n",
       "      <td>Movie</td>\n",
       "      <td>The Starling</td>\n",
       "      <td>Theodore Melfi</td>\n",
       "      <td>Melissa McCarthy, Chris O'Dowd, Kevin Kline, T...</td>\n",
       "      <td>United States</td>\n",
       "      <td>September 24, 2021</td>\n",
       "      <td>2021</td>\n",
       "      <td>PG-13</td>\n",
       "      <td>104 min</td>\n",
       "      <td>Comedies, Dramas</td>\n",
       "      <td>A woman adjusting to life after a loss contend...</td>\n",
       "    </tr>\n",
       "    <tr>\n",
       "      <th>12</th>\n",
       "      <td>s13</td>\n",
       "      <td>Movie</td>\n",
       "      <td>Je Suis Karl</td>\n",
       "      <td>Christian Schwochow</td>\n",
       "      <td>Luna Wedler, Jannis Niewöhner, Milan Peschel, ...</td>\n",
       "      <td>Germany, Czech Republic</td>\n",
       "      <td>September 23, 2021</td>\n",
       "      <td>2021</td>\n",
       "      <td>TV-MA</td>\n",
       "      <td>127 min</td>\n",
       "      <td>Dramas, International Movies</td>\n",
       "      <td>After most of her family is murdered in a terr...</td>\n",
       "    </tr>\n",
       "  </tbody>\n",
       "</table>\n",
       "</div>\n",
       "      <button class=\"colab-df-convert\" onclick=\"convertToInteractive('df-d5f8b2ef-7c4d-49cb-b702-ecb7639dd77d')\"\n",
       "              title=\"Convert this dataframe to an interactive table.\"\n",
       "              style=\"display:none;\">\n",
       "        \n",
       "  <svg xmlns=\"http://www.w3.org/2000/svg\" height=\"24px\"viewBox=\"0 0 24 24\"\n",
       "       width=\"24px\">\n",
       "    <path d=\"M0 0h24v24H0V0z\" fill=\"none\"/>\n",
       "    <path d=\"M18.56 5.44l.94 2.06.94-2.06 2.06-.94-2.06-.94-.94-2.06-.94 2.06-2.06.94zm-11 1L8.5 8.5l.94-2.06 2.06-.94-2.06-.94L8.5 2.5l-.94 2.06-2.06.94zm10 10l.94 2.06.94-2.06 2.06-.94-2.06-.94-.94-2.06-.94 2.06-2.06.94z\"/><path d=\"M17.41 7.96l-1.37-1.37c-.4-.4-.92-.59-1.43-.59-.52 0-1.04.2-1.43.59L10.3 9.45l-7.72 7.72c-.78.78-.78 2.05 0 2.83L4 21.41c.39.39.9.59 1.41.59.51 0 1.02-.2 1.41-.59l7.78-7.78 2.81-2.81c.8-.78.8-2.07 0-2.86zM5.41 20L4 18.59l7.72-7.72 1.47 1.35L5.41 20z\"/>\n",
       "  </svg>\n",
       "      </button>\n",
       "      \n",
       "  <style>\n",
       "    .colab-df-container {\n",
       "      display:flex;\n",
       "      flex-wrap:wrap;\n",
       "      gap: 12px;\n",
       "    }\n",
       "\n",
       "    .colab-df-convert {\n",
       "      background-color: #E8F0FE;\n",
       "      border: none;\n",
       "      border-radius: 50%;\n",
       "      cursor: pointer;\n",
       "      display: none;\n",
       "      fill: #1967D2;\n",
       "      height: 32px;\n",
       "      padding: 0 0 0 0;\n",
       "      width: 32px;\n",
       "    }\n",
       "\n",
       "    .colab-df-convert:hover {\n",
       "      background-color: #E2EBFA;\n",
       "      box-shadow: 0px 1px 2px rgba(60, 64, 67, 0.3), 0px 1px 3px 1px rgba(60, 64, 67, 0.15);\n",
       "      fill: #174EA6;\n",
       "    }\n",
       "\n",
       "    [theme=dark] .colab-df-convert {\n",
       "      background-color: #3B4455;\n",
       "      fill: #D2E3FC;\n",
       "    }\n",
       "\n",
       "    [theme=dark] .colab-df-convert:hover {\n",
       "      background-color: #434B5C;\n",
       "      box-shadow: 0px 1px 3px 1px rgba(0, 0, 0, 0.15);\n",
       "      filter: drop-shadow(0px 1px 2px rgba(0, 0, 0, 0.3));\n",
       "      fill: #FFFFFF;\n",
       "    }\n",
       "  </style>\n",
       "\n",
       "      <script>\n",
       "        const buttonEl =\n",
       "          document.querySelector('#df-d5f8b2ef-7c4d-49cb-b702-ecb7639dd77d button.colab-df-convert');\n",
       "        buttonEl.style.display =\n",
       "          google.colab.kernel.accessAllowed ? 'block' : 'none';\n",
       "\n",
       "        async function convertToInteractive(key) {\n",
       "          const element = document.querySelector('#df-d5f8b2ef-7c4d-49cb-b702-ecb7639dd77d');\n",
       "          const dataTable =\n",
       "            await google.colab.kernel.invokeFunction('convertToInteractive',\n",
       "                                                     [key], {});\n",
       "          if (!dataTable) return;\n",
       "\n",
       "          const docLinkHtml = 'Like what you see? Visit the ' +\n",
       "            '<a target=\"_blank\" href=https://colab.research.google.com/notebooks/data_table.ipynb>data table notebook</a>'\n",
       "            + ' to learn more about interactive tables.';\n",
       "          element.innerHTML = '';\n",
       "          dataTable['output_type'] = 'display_data';\n",
       "          await google.colab.output.renderOutput(dataTable, element);\n",
       "          const docLink = document.createElement('div');\n",
       "          docLink.innerHTML = docLinkHtml;\n",
       "          element.appendChild(docLink);\n",
       "        }\n",
       "      </script>\n",
       "    </div>\n",
       "  </div>\n",
       "  "
      ],
      "text/plain": [
       "   show_id   type                             title  \\\n",
       "0       s1  Movie              Dick Johnson Is Dead   \n",
       "6       s7  Movie  My Little Pony: A New Generation   \n",
       "7       s8  Movie                           Sankofa   \n",
       "9      s10  Movie                      The Starling   \n",
       "12     s13  Movie                      Je Suis Karl   \n",
       "\n",
       "                         director  \\\n",
       "0                 Kirsten Johnson   \n",
       "6   Robert Cullen, José Luis Ucha   \n",
       "7                    Haile Gerima   \n",
       "9                  Theodore Melfi   \n",
       "12            Christian Schwochow   \n",
       "\n",
       "                                                 cast  \\\n",
       "0                                                 NaN   \n",
       "6   Vanessa Hudgens, Kimiko Glenn, James Marsden, ...   \n",
       "7   Kofi Ghanaba, Oyafunmike Ogunlano, Alexandra D...   \n",
       "9   Melissa McCarthy, Chris O'Dowd, Kevin Kline, T...   \n",
       "12  Luna Wedler, Jannis Niewöhner, Milan Peschel, ...   \n",
       "\n",
       "                                              country          date_added  \\\n",
       "0                                       United States  September 25, 2021   \n",
       "6                                                 NaN  September 24, 2021   \n",
       "7   United States, Ghana, Burkina Faso, United Kin...  September 24, 2021   \n",
       "9                                       United States  September 24, 2021   \n",
       "12                            Germany, Czech Republic  September 23, 2021   \n",
       "\n",
       "    release_year rating duration  \\\n",
       "0           2020  PG-13   90 min   \n",
       "6           2021     PG   91 min   \n",
       "7           1993  TV-MA  125 min   \n",
       "9           2021  PG-13  104 min   \n",
       "12          2021  TV-MA  127 min   \n",
       "\n",
       "                                           listed_in  \\\n",
       "0                                      Documentaries   \n",
       "6                           Children & Family Movies   \n",
       "7   Dramas, Independent Movies, International Movies   \n",
       "9                                   Comedies, Dramas   \n",
       "12                      Dramas, International Movies   \n",
       "\n",
       "                                          description  \n",
       "0   As her father nears the end of his life, filmm...  \n",
       "6   Equestria's divided. But a bright-eyed hero be...  \n",
       "7   On a photo shoot in Ghana, an American model s...  \n",
       "9   A woman adjusting to life after a loss contend...  \n",
       "12  After most of her family is murdered in a terr...  "
      ]
     },
     "execution_count": 17,
     "metadata": {},
     "output_type": "execute_result"
    }
   ],
   "source": [
    "df.head()"
   ]
  },
  {
   "cell_type": "code",
   "execution_count": 18,
   "id": "hNZGEVD9dozo",
   "metadata": {
    "colab": {
     "base_uri": "https://localhost:8080/"
    },
    "id": "hNZGEVD9dozo",
    "outputId": "eea3596f-408d-4901-e36c-8c58508c4266"
   },
   "outputs": [
    {
     "data": {
      "text/plain": [
       "array(['After embarking on an affair with the cop probing the murder of a young woman, an insular schoolteacher suspects her lover was involved in the crime.'],\n",
       "      dtype=object)"
      ]
     },
     "execution_count": 18,
     "metadata": {},
     "output_type": "execute_result"
    }
   ],
   "source": [
    "df.loc[122, ['description']].values"
   ]
  },
  {
   "cell_type": "markdown",
   "id": "gJNmSr3ZSUTi",
   "metadata": {
    "id": "gJNmSr3ZSUTi"
   },
   "source": [
    "Сейчас нам потребуются описания к фильмам и их описания."
   ]
  },
  {
   "cell_type": "code",
   "execution_count": 19,
   "id": "MJMv3pFfSdOR",
   "metadata": {
    "colab": {
     "base_uri": "https://localhost:8080/"
    },
    "id": "MJMv3pFfSdOR",
    "outputId": "b2366e32-6031-4261-b4ff-63d15ddbb593"
   },
   "outputs": [
    {
     "name": "stdout",
     "output_type": "stream",
     "text": [
      "Mounted at /content/drive\n"
     ]
    }
   ],
   "source": [
    "from google.colab import drive\n",
    "drive.mount('/content/drive')"
   ]
  },
  {
   "cell_type": "code",
   "execution_count": 20,
   "id": "XR6MUDLoO4tI",
   "metadata": {
    "id": "XR6MUDLoO4tI"
   },
   "outputs": [],
   "source": [
    "filename_valid = ('/content/drive/My Drive/topicmodeling/texts_valid.vw.txt')\n",
    "filename_train = ('/content/drive/My Drive/topicmodeling/texts_train.vw.txt')"
   ]
  },
  {
   "cell_type": "code",
   "execution_count": 21,
   "id": "sIm-SsnaTND6",
   "metadata": {
    "colab": {
     "base_uri": "https://localhost:8080/"
    },
    "id": "sIm-SsnaTND6",
    "outputId": "3851a25a-a2c2-440e-c72b-aa9530240d3c"
   },
   "outputs": [
    {
     "name": "stderr",
     "output_type": "stream",
     "text": [
      "[nltk_data] Downloading package punkt to /root/nltk_data...\n",
      "[nltk_data]   Unzipping tokenizers/punkt.zip.\n",
      "[nltk_data] Downloading package stopwords to /root/nltk_data...\n",
      "[nltk_data]   Unzipping corpora/stopwords.zip.\n",
      "[nltk_data] Downloading package wordnet to /root/nltk_data...\n"
     ]
    }
   ],
   "source": [
    "import nltk\n",
    "nltk.download('punkt')\n",
    "nltk.download('stopwords')\n",
    "nltk.download('wordnet')\n",
    "\n",
    "import re\n",
    "\n",
    "from tqdm import tqdm\n",
    "from nltk import word_tokenize, sent_tokenize\n",
    "from nltk.corpus import stopwords\n",
    "from nltk.stem import WordNetLemmatizer\n",
    "from nltk.corpus import wordnet \n",
    "\n",
    "from string import punctuation"
   ]
  },
  {
   "cell_type": "code",
   "execution_count": 22,
   "id": "5VbfX6Xirzv_",
   "metadata": {
    "colab": {
     "base_uri": "https://localhost:8080/",
     "height": 53
    },
    "id": "5VbfX6Xirzv_",
    "outputId": "4b9822e1-d6d0-489a-e4e2-6abeb52e12ce"
   },
   "outputs": [
    {
     "data": {
      "application/vnd.google.colaboratory.intrinsic+json": {
       "type": "string"
      },
      "text/plain": [
       "'In a smog-choked dystopian Los Angeles, blade runner Rick Deckard is called out of retirement to snuff a quartet of escaped \"replicants.\"'"
      ]
     },
     "execution_count": 22,
     "metadata": {},
     "output_type": "execute_result"
    }
   ],
   "source": [
    "df[df['release_year'] == 1982]['description'].values[0]"
   ]
  },
  {
   "cell_type": "code",
   "execution_count": 23,
   "id": "ruV-FlwEszmr",
   "metadata": {
    "colab": {
     "base_uri": "https://localhost:8080/"
    },
    "id": "ruV-FlwEszmr",
    "outputId": "0b25dd1e-a13e-44b4-c9ba-347b7fc7a2d7"
   },
   "outputs": [
    {
     "data": {
      "text/plain": [
       "['In',\n",
       " 'a',\n",
       " 'smog-choked',\n",
       " 'dystopian',\n",
       " 'Los',\n",
       " 'Angeles',\n",
       " ',',\n",
       " 'blade',\n",
       " 'runner',\n",
       " 'Rick',\n",
       " 'Deckard',\n",
       " 'is',\n",
       " 'called',\n",
       " 'out',\n",
       " 'of',\n",
       " 'retirement',\n",
       " 'to',\n",
       " 'snuff',\n",
       " 'a',\n",
       " 'quartet',\n",
       " 'of',\n",
       " 'escaped',\n",
       " '``',\n",
       " 'replicants',\n",
       " '.',\n",
       " \"''\"]"
      ]
     },
     "execution_count": 23,
     "metadata": {},
     "output_type": "execute_result"
    }
   ],
   "source": [
    "word_tokenize('In a smog-choked dystopian Los Angeles, blade runner Rick Deckard is called out of retirement to snuff a quartet of escaped \"replicants.\"')"
   ]
  },
  {
   "cell_type": "code",
   "execution_count": 31,
   "id": "I0NeanS8-64u",
   "metadata": {
    "colab": {
     "base_uri": "https://localhost:8080/"
    },
    "id": "I0NeanS8-64u",
    "outputId": "c8cc62c7-c590-4a1b-fd55-7e442ebb700d"
   },
   "outputs": [
    {
     "name": "stdout",
     "output_type": "stream",
     "text": [
      "['In', 'a', 'smog-choked', 'dystopian', 'Los', 'Angeles', ',', 'blade', 'runner', 'Rick', 'Deckard', 'is', 'called', 'out', 'of', 'retirement', 'to', 'snuff', 'a', 'quartet', 'of', 'escaped', '``', 'replicants', '.', \"''\"]\n",
      "['in', 'a', 'smog-choked', 'dystopian', 'los', 'angeles', 'blade', 'runner', 'rick', 'deckard', 'is', 'called', 'out', 'of', 'retirement', 'to', 'snuff', 'a', 'quartet', 'of', 'escaped', 'replicants']\n",
      "smog-choked dystopian los angeles blade runner rick deckard called retirement snuff quartet escaped replicants\n"
     ]
    }
   ],
   "source": [
    "s = 'In a smog-choked dystopian Los Angeles, blade runner Rick Deckard is called out of retirement to snuff a quartet of escaped \"replicants.\"'\n",
    "\n",
    "print(word_tokenize(s))\n",
    "lemmatizer = WordNetLemmatizer()\n",
    "tokens = [lemmatizer.lemmatize(w).lower() for w in word_tokenize(s) if w not in string.punctuation and w not in (\"''\", '``')]\n",
    "print(tokens)\n",
    "\n",
    "text = ' '.join(w for w in tokens \\\n",
    "                        if w not in stopwords.words('english') \\\n",
    "                        and w not in (\"''\", '``'))\n",
    "print(text)"
   ]
  },
  {
   "cell_type": "code",
   "execution_count": 62,
   "id": "TCQa8sbeSa5c",
   "metadata": {
    "colab": {
     "base_uri": "https://localhost:8080/"
    },
    "id": "TCQa8sbeSa5c",
    "outputId": "499b398f-94da-49f9-f642-f9b98ff2bd2a"
   },
   "outputs": [
    {
     "name": "stderr",
     "output_type": "stream",
     "text": [
      "100%|██████████| 6131/6131 [00:25<00:00, 236.95it/s]\n"
     ]
    }
   ],
   "source": [
    "import string\n",
    "\n",
    "\n",
    "counter_train = 0\n",
    "counter_valid = 0\n",
    "\n",
    "lemmatizer = WordNetLemmatizer()\n",
    "\n",
    "with open(filename_valid, 'w') as fout_valid,\\\n",
    " open(filename_train, 'w') as fout_train:\n",
    "    for i, raw in tqdm(df.iterrows(), total=df.shape[0]):\n",
    "        text = ...\n",
    "        label = raw['release_year']\n",
    "\n",
    "        # TODO будем добавлять каждый 100й текст в валидационную выборку, всё остальное пойдёт на обучение\n",
    "        # данные добавляются в следующем формате:\n",
    "        # doc_{counter_val} {text} |@year class_{label}"
   ]
  },
  {
   "cell_type": "code",
   "execution_count": 63,
   "id": "-J4qLSMVSa7w",
   "metadata": {
    "colab": {
     "base_uri": "https://localhost:8080/"
    },
    "id": "-J4qLSMVSa7w",
    "outputId": "75e7c805-c735-48b1-fc4d-e9389e54fecb"
   },
   "outputs": [
    {
     "name": "stdout",
     "output_type": "stream",
     "text": [
      "doc_0 father nears end life filmmaker kirsten johnson stage death inventive comical way help face inevitable |@year class_2020\n",
      "doc_1 equestria 's divided bright-eyed hero belief earth ponies pegasi unicorns pal hoof heart determined prove |@year class_2021\n"
     ]
    }
   ],
   "source": [
    "! head -2 /content/drive/My\\ Drive/topicmodeling/texts_train.vw.txt"
   ]
  },
  {
   "cell_type": "code",
   "execution_count": 64,
   "id": "KWQkvKivSa97",
   "metadata": {
    "colab": {
     "base_uri": "https://localhost:8080/"
    },
    "id": "KWQkvKivSa97",
    "outputId": "e882aa66-e116-40ee-b6e8-a7b8f32c5eda"
   },
   "outputs": [
    {
     "name": "stdout",
     "output_type": "stream",
     "text": [
      "6011 /content/drive/My Drive/topicmodeling/texts_train.vw.txt\n"
     ]
    }
   ],
   "source": [
    "! wc -l /content/drive/My\\ Drive/topicmodeling/texts_train.vw.txt"
   ]
  },
  {
   "cell_type": "code",
   "execution_count": 65,
   "id": "H6AkrSdQSbAE",
   "metadata": {
    "colab": {
     "base_uri": "https://localhost:8080/"
    },
    "id": "H6AkrSdQSbAE",
    "outputId": "bd594730-513d-4e31-ca14-e9c216cee8d3"
   },
   "outputs": [
    {
     "name": "stdout",
     "output_type": "stream",
     "text": [
      "119 /content/drive/My Drive/topicmodeling/texts_valid.vw.txt\n"
     ]
    }
   ],
   "source": [
    "! wc -l /content/drive/My\\ Drive/topicmodeling/texts_valid.vw.txt"
   ]
  },
  {
   "cell_type": "code",
   "execution_count": 66,
   "id": "1QH2DyOSSbDl",
   "metadata": {
    "id": "1QH2DyOSSbDl"
   },
   "outputs": [],
   "source": [
    "bv_train = artm.BatchVectorizer(\n",
    "    data_path=filename_train, data_format='vowpal_wabbit', batch_size=100, \n",
    "    target_folder='/content/drive/My Drive/topicmodeling/vw_batches/batches_train')\n",
    "\n",
    "bv_test = artm.BatchVectorizer(\n",
    "    data_path=filename_valid, data_format='vowpal_wabbit', batch_size=100, \n",
    "    target_folder='/content/drive/My Drive/topicmodeling/vw_batches/batches_valid')"
   ]
  },
  {
   "cell_type": "code",
   "execution_count": 67,
   "id": "_Opr1z_XSbF2",
   "metadata": {
    "colab": {
     "base_uri": "https://localhost:8080/"
    },
    "id": "_Opr1z_XSbF2",
    "outputId": "a4e8459e-0b53-408f-a9c0-6c1f71578188"
   },
   "outputs": [
    {
     "data": {
      "text/plain": [
       "artm.Dictionary(name=5b4a1ebc-355f-4615-9f90-2323d2dfc184, num_entries=15123)"
      ]
     },
     "execution_count": 67,
     "metadata": {},
     "output_type": "execute_result"
    }
   ],
   "source": [
    "dictionary = artm.Dictionary()\n",
    "dictionary.gather(data_path='/content/drive/My Drive/topicmodeling/vw_batches/batches_train')\n",
    "dictionary"
   ]
  },
  {
   "cell_type": "code",
   "execution_count": 79,
   "id": "mfO8XQfMhdED",
   "metadata": {
    "id": "mfO8XQfMhdED"
   },
   "outputs": [],
   "source": [
    "model = artm.ARTM(num_topics=100,\n",
    "                  dictionary=dictionary, \n",
    "                  class_ids={'@default_class': 1.0, \n",
    "                             '@year': 10.0})\n",
    "\n",
    "model.scores.add(artm.PerplexityScore(name='perplexity', dictionary=dictionary))\n",
    "model.scores.add(artm.TopTokensScore(name='top-tokens', num_tokens=15))\n",
    "model.scores.add(artm.SparsityPhiScore(name='sparsity', class_id='@year'))\n",
    "\n",
    "model.regularizers.add(artm.DecorrelatorPhiRegularizer(name='decorr', tau=10000, \n",
    "                                                      class_ids=['@default_class', '@year']))\n",
    "# model.regularizers.add(artm.SmoothSparsePhiRegularizer(name='smooth', tau=10, \n",
    "#                                                       class_ids=['@default_class', '@year']))"
   ]
  },
  {
   "cell_type": "code",
   "execution_count": 80,
   "id": "xRDTFWXShdGx",
   "metadata": {
    "colab": {
     "base_uri": "https://localhost:8080/"
    },
    "id": "xRDTFWXShdGx",
    "outputId": "06f14dbc-a183-472d-cc76-b2b961c43620"
   },
   "outputs": [
    {
     "name": "stderr",
     "output_type": "stream",
     "text": [
      "100%|██████████| 25/25 [00:26<00:00,  1.05s/it, perplexity=6.48e+3, sparsity=1]\n"
     ]
    }
   ],
   "source": [
    "iterator = tqdm(range(25), total=25)\n",
    "for i in iterator:\n",
    "    model.fit_offline(bv_train, num_collection_passes=1)\n",
    "    iterator.set_postfix({'perplexity': model.score_tracker['perplexity'].value[-1],  \n",
    "                          'sparsity': model.score_tracker['sparsity'].value[-1],})"
   ]
  },
  {
   "cell_type": "code",
   "execution_count": 81,
   "id": "cqpUBr7qhdJd",
   "metadata": {
    "colab": {
     "base_uri": "https://localhost:8080/",
     "height": 449
    },
    "id": "cqpUBr7qhdJd",
    "outputId": "b2eab27c-dd31-4dea-d40d-2bc9e786bddc"
   },
   "outputs": [
    {
     "data": {
      "image/png": "[encoded data removed]",
      "text/plain": [
       "<Figure size 640x480 with 1 Axes>"
      ]
     },
     "metadata": {},
     "output_type": "display_data"
    }
   ],
   "source": [
    "plt.plot(model.score_tracker['sparsity'].value, label = 'sparsity')\n",
    "plt.legend(loc = 'best')\n",
    "\n",
    "plt.xlabel('iteration')\n",
    "plt.ylabel('score')\n",
    "plt.show()"
   ]
  },
  {
   "cell_type": "code",
   "execution_count": 82,
   "id": "efD4KtINhdNV",
   "metadata": {
    "colab": {
     "base_uri": "https://localhost:8080/",
     "height": 449
    },
    "id": "efD4KtINhdNV",
    "outputId": "b44ee5f2-052c-43c2-ffbe-9b3e0d4bacbe"
   },
   "outputs": [
    {
     "data": {
      "image/png": "[encoded data removed]",
      "text/plain": [
       "<Figure size 640x480 with 1 Axes>"
      ]
     },
     "metadata": {},
     "output_type": "display_data"
    }
   ],
   "source": [
    "plt.plot(model.score_tracker['perplexity'].value, label = 'perplexity')\n",
    "plt.legend(loc = 'best')\n",
    "\n",
    "plt.xlabel('iteration')\n",
    "plt.ylabel('score')\n",
    "plt.show()"
   ]
  },
  {
   "cell_type": "code",
   "execution_count": 83,
   "id": "P-xDer3Vj0d1",
   "metadata": {
    "colab": {
     "base_uri": "https://localhost:8080/"
    },
    "id": "P-xDer3Vj0d1",
    "outputId": "2c765b9e-858c-41c8-946b-5d7bd688de44"
   },
   "outputs": [
    {
     "name": "stdout",
     "output_type": "stream",
     "text": [
      "['identity', 'desperate', 'scheme', 'island', 'lover', 'kill', 'strange', 'newly', 'great', 'difference', 'engaged', 'millionaire', 'serving', 'unusual', 'state']\n",
      "['demon', 'law', 'act', 'tragic', 'extraordinary', 'animated', 'handsome', 'call', 'voice', 'priest', 'charismatic', 'sudden', 'dying', 'simple', 'person']\n",
      "['challenge', 'use', 'park', 'professional', 'george', 'greatest', 'super', 'really', 'accepts', 'unfolds', 'wave', 'toy', 'monsters', 'rediscover', 'dysfunctional']\n",
      "['stay', 'looking', 'mexican', 'recently', 'loved', 'healing', 'deceased', 'racial', 'dedicated', 'terror', 'wood', 'appears', 'week', 'arrested', 'injustice']\n",
      "['across', 'santa', 'hero', 'north', 'kidnapping', 'deliver', 'outlaw', 'service', 'west', 'helping', 'sense', 'trek', 'ransom', 'monkey', 'claus']\n",
      "['follows', 'soldier', 'classic', 'threat', 'survival', 'turned', 'clue', 'upside', 'program', 'modern-day', 'cocaine', 'abduction', 'guardian', 'fugitive', 'wounded']\n",
      "['travel', 'summer', 'even', 'heist', 'bank', 'corruption', 'engineer', 'devastating', 'divorce', 'nation', 'fire', 'elaborate', 'idealistic', 'suffering', 'shift']\n",
      "['christmas', 'popular', 'pay', 'ruin', 'eve', 'spend', 'stumble', 'stuck', 'office', 'serious', 'pose', 'broken', 'laugh', 'kevin', 'hart']\n",
      "['join', 'revenge', 'human', 'professor', 'performance', 'ancient', 'vow', 'cat', 'investigates', 'fly', 'vampire', 'mouse', 'exact', 'third', 'sparks']\n",
      "['discovers', 'journalist', 'working', 'inspired', 'horror', 'reveals', 'problem', 'unaware', 'raise', 'realizes', 'cause', 'classmate', 'fbi', 'quiet', 'mistake']\n",
      "['ha', 'three', 'set', 'turn', 'team', 'make', 'wife', 'mother', 'couple', 'child', 'soon', 'marriage', 'husband', 'together', 'thing']\n",
      "['bond', 'notorious', 'neighborhood', 'conspiracy', 'corrupt', 'tough', 'shocking', 'russian', 'conflict', 'forge', 'circus', 'loyalty', 'elephant', 'cowboy', 'planner']\n",
      "['heart', 'discover', 'accident', 'animal', 'framed', 'complex', 'horse', 'ill', 'commit', 'held', 'near', 'captive', 'terminally', 'ocean', 'controversy']\n",
      "['two', 'one', 'daughter', 'back', 'way', 'plan', 'gang', 'enemy', 'combat', 'smuggler', 'narcotic', 'cunning', 'ever', 'crime-fighting', 'aka']\n",
      "['dance', 'politics', 'accused', 'growing', 'passion', 'faith', 'raised', 'intelligence', 'rural', 'de', 'god', 'delhi', 'orphaned', 'religion', 'slum']\n",
      "['romance', 'lawyer', 'dog', 'wrong', 'hotel', 'line', 'widowed', 'novelist', 'serf', 'budding', 'prank', 'blur', 'obsessive', 'reputation', 'formula']\n",
      "['trying', 'hire', 'late', 'twin', 'figure', 'actress', 'present', 'uncle', 'gift', 'thrown', 'legend', 'vengeance', 'desperately', 'room', 'magician']\n",
      "['break', 'teenager', 'test', 'scientist', 'company', 'navigate', 'among', 'step', 'eccentric', 'cousin', 'employee', 'quickly', 'spring', 'circumstance', 'develops']\n",
      "['impact', 'second', 'root', 'sensation', 'dealing', 'key', 'intense', 'author', 'store', 'played', 'incredible', 'wo', 'earthquake', 'possible', 'youtube']\n",
      "['dream', 'india', 'earth', 'officer', 'explores', 'body', 'eye', 'loses', 'nightmare', 'seems', 'native', 'earn', '...', 'evade', 'lured']\n",
      "['lost', 'camp', 'misfit', 'belief', 'performs', 'lifestyle', 'nazi', 'pet', 'anniversary', 'soul', 'ambition', 'odds', 'defend', 'destiny', 'risky']\n",
      "['documentary', 'year', 'try', 'special', 'past', 'stand-up', 'comedy', 'four', 'comedian', 'seek', 'ago', '50', 'celebrity', 'funny', 'french']\n",
      "['wake', 'detail', 'fresh', 'stranded', 'forever', 'court', 'obstacle', 'forbidden', 'muslim', 'alex', 'respective', 'colorful', 'addiction', 'partying', 'happened']\n",
      "['face', 'come', 'sister', 'battle', 'writer', 'aspiring', 'musician', 'historic', 'caste', 'tyrant', 'district', 'often', 'sword', 'hasan', 'norway']\n",
      "['student', 'brother', 'death', 'struggle', 'work', 'career', 'run', 'college', 'last', 'ordinary', 'afloat', 'underworld', 'leaving', 'plagued', 'biopic']\n",
      "['talent', 'farmer', 'later', 'rule', 'survivor', 'outside', 'kong', 'hong', 'led', 'patient', 'relative', 'hospital', 'arrival', 'psychiatrist', 'shake']\n",
      "['legendary', 'monster', 'known', 'hunter', 'hot', 'mind', 'recruit', 'joke', 'universe', 'obsessed', 'creature', 'whole', 'drag', 'singham', 'approach']\n",
      "['determined', 'doctor', 'threatens', 'another', 'prove', 'south', 'loss', 'befriends', 'africa', 'grandmother', 'entrepreneur', 'diagnosed', 'photo', 'betrayal', 'addict']\n",
      "['everything', 'ambitious', 'sibling', 'fun', 'chaos', 'action', 'terrifying', 'underground', 'chinese', 'vision', 'official', 'abusive', 'thought', 'terrible', 'corporate']\n",
      "['father', 'son', 'fall', 'go', 'murder', 'fight', 'cop', 'missing', 'suspect', 'personal', 'investigating', 'avenge', 'pass', 'length', 'horribly']\n",
      "['agent', 'evil', 'art', 'head', 'troubled', 'affair', 'martial', 'spy', 'destroy', 'orphan', 'continues', 'villain', 'safety', 'recruited', 'reclusive']\n",
      "['amid', 'dad', 'businessman', 'talented', 'support', '1960s', 'heir', 'dj', 'bringing', 'free-spirited', 'indonesian', 'cheer', 'easy', 'transport', 'stir']\n",
      "['social', 'political', 'victim', 'violence', 'trace', 'course', 'running', 'grapple', 'navigates', 'jack', 'invasion', 'piece', 'value', 'die', 'executive']\n",
      "['wild', 'culture', 'reporter', 'blind', 'spotlight', 'parenting', 'turbulent', 'assault', 'behavior', 'solace', 'filipino', 'intertwined', 'alarming', 'en', 'hill']\n",
      "['game', 'police', 'wa', 'play', 'violent', 'side', 'football', 'incident', 'legacy', 'trial', 'chris', 'ex-con', 'screen', 'idol', 'lived']\n",
      "['boy', 'city', 'trip', 'road', 'filmmaker', 'hope', 'footage', 'featuring', 'behind-the-scenes', 'archival', 'brief', 'exclusive', 'insight', 'folk', 'depressed']\n",
      "['away', 'need', 'bring', 'remote', 'justice', 'cancer', 'medical', 'might', 'several', 'michael', 'foe', 'caring', 'diagnosis', 'illness', 'responsible']\n",
      "['compete', 'clash', 'hidden', 'international', 'hide', 'involving', 'italy', 'architect', 'humble', 'painter', 'baseball', 'moral', 'frustrated', 'arm', 'historical']\n",
      "['comic', 'rock', 'black', 'worker', 'online', 'empire', 'movement', 'riff', 'trade', 'bitter', 'traumatic', 'sarah', 'threatening', 'built', 'suspected']\n",
      "['hunt', 'letter', 'weekend', 'wind', 'robot', 'vicious', 'ready', 'england', 'radio', 'taxi', 'gather', 'tangled', 'spirited', 'brought', 'exchange']\n",
      "['prison', 'escape', 'sent', 'reunite', 'suddenly', 'unexpectedly', 'free', 'mentor', 'shy', 'birth', 'guard', 'vegas', 'separated', 'playing', 'las']\n",
      "['bos', 'inside', 'seeking', 'including', 'photographer', 'think', 'skill', 'part', 'tested', 'apartment', 'found', 'abandoned', 'increasingly', 'villager', 'perfect']\n",
      "['day', 'five', 'following', 'driver', 'wish', 'care', 'falling', 'suicide', 'torn', 'longtime', 'fulfill', 'possibility', 'enlists', 'egypt', 'going']\n",
      "['behind', 'forced', 'win', 'married', 'rich', 'gangster', 'long', 'making', \"'re\", 'president', 'million', 'treasure', 'public', 'hatch', 'daring']\n",
      "['partner', 'feeling', 'video', 'chronicle', 'short', 'others', 'industry', 'creative', 'create', 'web', 'winning', 'kind', 'production', 'process', 'elusive']\n",
      "['band', 'guest', 'david', 'whether', 'superstar', 'bizarre', 'korean', 'perform', 'wonder', 'ahead', 'recording', 'studio', 'ex-cop', 'interaction', 'william']\n",
      "['estranged', 'singer', 'mom', 'meeting', 'survive', 'answer', 'choice', 'pilot', 'beginning', 'foster', 'inspiration', 'life-changing', 'promising', 'shattered', 'overcome']\n",
      "['music', 'night', 'around', 'reality', 'champion', 'pas', 'sexuality', 'viral', 'habit', 'guide', 'took', 'battling', 'campaign', 'gradually', 'blogger']\n",
      "['lead', 'house', 'deadly', 'spirit', 'sinister', 'haunted', 'host', 'buddy', 'debt', 'supernatural', 'princess', 'trapped', 'bride', 'consequence', 'grandfather']\n",
      "['force', 'mysterious', 'crew', 'protect', 'ruthless', 'assassin', 'dy', 'colleague', 'mysteriously', 'location', 'unit', 'murderous', 'salesman', 'quirky', 'blockbuster']\n",
      "['artist', 'teacher', 'complicated', 'grows', 'better', 'hoping', 'system', 'lesson', 'grieving', 'sexual', 'claim', 'record', 'unravel', 'california', 'watch']\n",
      "['stage', 'end', 'whose', 'tale', 'give', 'question', 'modern', 'finally', 'finding', 'arranged', 'pursues', 'abuse', 'domestic', 'talk', 'monty']\n",
      "['search', 'killer', 'series', 'powerful', 'marry', 'hand', 'connection', 'never', 'murdered', 'serial', 'lie', 'met', 'realize', 'deep', 'many']\n",
      "['party', 'embarks', 'open', 'chef', 'view', 'crash', 'full', 'joy', 'food', 'desert', 'spiritual', 'painful', 'tournament', '30', 'transforms']\n",
      "['becoming', 'major', 'club', 'small-town', 'queen', 'seemingly', 'stolen', 'pop', 'idea', 'chase', 'frank', 'retrieve', 'price', 'english', 'bet']\n",
      "['life', 'family', '–', 'friend', 'get', 'must', 'home', 'save', 'meet', 'love', 'help', 'woman', 'take', 'world', 'personal']\n",
      "['best', 'move', 'drama', 'tell', 'los', 'angeles', 'widow', 'bollywood', 'asks', 'reunion', 'hearing', 'athlete', 'situation', 'disease', 'refuse']\n",
      "['story', 'girl', 'true', 'former', 'first', 'local', 'teenage', 'reflect', 'confession', 'sight', 'outspoken', 'gay', 'mermaid', 'fishing', 'perspective']\n",
      "['film', 'star', 'actor', 'director', 'competition', 'movie', 'white', 'role', 'expose', 'hilarious', 'san', 'francisco', 'telling', 'image', 'backdrop']\n",
      "['keep', 'attack', 'order', 'brutal', 'ring', 'returning', 'prisoner', 'tasked', 'alive', 'festival', 'inmate', 'peace', 'pick', 'organization', 'spoiled']\n",
      "['become', 'york', 'rival', 'capture', 'track', 'magical', 'epic', 'mobster', 'adult', 'using', 'launch', 'manager', 'would', 'entire', 'disappeared']\n",
      "['indian', 'taken', 'fame', 'beautiful', 'age', 'captain', 'called', '11-year-old', 'receives', 'producer', 'singh', 'nature', 'defy', 'theory', 'stealing']\n",
      "['london', 'army', 'left', 'us', 'dead', 'successful', 'thriller', 'designer', 'named', 'fashion', 'squad', 'triangle', 'reluctantly', 'potential', 'german']\n",
      "['government', 'u.s.', 'alien', 'kidnapped', 'expert', 'veteran', 'resident', 'military', 'effort', 'nuclear', 'unconventional', 'mayor', 'therapist', 'americans', 'cut']\n",
      "['king', 'explore', 'owner', 'bheem', 'space', 'center', 'la', 'shark', 'match', 'halloween', 'fighting', 'defeat', 'cultural', 'hunting', 'huge']\n",
      "['show', 'wedding', 'america', 'magic', 'cast', 'shot', 'discus', 'middle-aged', 'facing', 'boxer', 'style', 'middle', 'hell', 'confronts', 'unemployed']\n",
      "['start', 'sex', 'right', 'politician', 'light', 'farm', 'decade', 'beyond', 'charge', 'getaway', 'petty', 'dive', 'commercial', 'shed', 'background']\n",
      "['parent', 'single', 'train', 'member', 'british', 'final', 'losing', 'ghost', 'tragedy', 'vacation', 'investigation', 'pressure', 'cope', 'poor', 'injury']\n",
      "['taking', 'ii', 'intimate', 'fighter', 'resort', 'training', 'threatened', 'rocky', 'attorney', 'france', 'australian', 'warsaw', 'klub', 'hybrydy', 'triumph']\n",
      "['school', 'teen', 'secret', 'high', 'old', 'land', 'uncovers', 'crush', 'contact', 'bus', 'surface', 'suburban', 'clique', 'discovery', 'fellow']\n",
      "['detective', 'race', 'encounter', 'stranger', 'case', 'want', 'romantic', 'female', 'mystery', 'follow', 'guy', 'obsession', 'investigate', 'killing', 'solve']\n",
      "['lord', 'danger', '”', 'african', '“', 'also', 'japan', 'secretly', 'james', 'castle', 'decision', 'forest', 'prepares', 'theater', 'lady']\n",
      "['journey', 'drug', 'may', 'people', 'plot', 'musical', 'song', 'dealer', 'building', 'trafficking', 'challenged', 'singer-songwriter', 'poignant', 'tortured', 'crack']\n",
      "['girlfriend', 'adventure', 'learns', 'real', 'terrorist', 'car', 'trouble', 'along', 'target', 'surprise', 'something', 'fake', 'beauty', 'action-packed', 'leaf']\n",
      "['american', 'stop', 'put', 'learn', 'experience', 'became', 'greedy', 'audience', 'motu', 'unleashes', 'patlu', 'front', 'housewife', 'valuable', 'let']\n",
      "['form', 'friendship', 'fate', 'could', 'arrives', 'leading', 'con', 'despite', 'unique', 'sequel', 'vengeful', 'meaning', 'revolution', 'task', 'internet']\n",
      "['rise', 'next', 'risk', 'confront', \"'ll\", 'door', 'know', 'harrowing', 'presence', 'hiding', 'bar', 'inheritance', 'nigerian', 'gain', 'hitler']\n",
      "[\"n't\", 'history', 'look', 'country', 'see', 'every', 'deal', 'doe', 'made', 'toward', 'stand', 'ca', 'phone', 'cell', 'grandson']\n",
      "['young', 'man', 'woman', 'take', 'love', 'world', 'help', 'becomes', 'life', 'future', 'must', 'friend', 'home', 'get', 'personal']\n",
      "['crime', 'mission', 'event', 'kid', 'money', 'property', 'cia', 'eager', 'eerie', 'site', 'paranormal', 'hour', 'shady', 'organized', 'broke']\n",
      "['business', 'elite', 'famous', 'leave', 'dancer', 'pursue', 'score', 'bachelor', 'private', 'settle', 'hip-hop', 'celebration', 'rapper', 'prep', 'countryside']\n",
      "['hit', 'share', 'truth', 'living', 'brings', 'tension', 'yet', 'uncover', 'reconnect', 'authority', 'witness', 'abducted', 'innocence', 'twisted', 'catholic']\n",
      "['master', 'hired', 'sends', \"'ve\", '1980s', 'ability', 'status', 'effect', 'extreme', 'ideal', 'fu', 'kung', 'enough', 'chart', 'wrestling']\n",
      "['visit', 'good', 'fan', 'control', 'dating', 'upon', 'charming', 'killed', 'bill', 'robbery', 'instead', 'rare', 'condition', 'pursuit', 'smart']\n",
      "['village', 'sport', 'top', 'point', 'without', 'traditional', 'date', 'traveling', 'union', 'reach', 'shop', 'breaking', 'australia', 'prey', '10']\n",
      "['childhood', 'activist', 'pair', 'fear', 'agrees', 'older', '1970s', 'issue', 'client', 'poverty', 'strike', 'contest', 'born', 'biopic', 'mechanic']\n",
      "['criminal', 'path', 'player', 'soccer', 'unlikely', 'beloved', 'cross', 'freedom', 'build', 'coach', 'catch', 'senior', 'weapon', 'wit', 'searching']\n",
      "['new', 'group', 'return', 'begin', 'war', 'relationship', 'town', 'dangerous', 'small', 'hometown', 'ex', 'loom', 'neighbor', 'atlanta', 'basque']\n",
      "['time', 'rescue', 'big', 'quest', 'little', 'baby', 'embark', 'kingdom', 'moment', 'version', 'adaptation', 'jesus', 'destined', 'heroic', 's.s.']\n",
      "['job', 'struggling', 'mumbai', 'chance', 'leader', 'memory', 'decides', 'still', 'aging', 'camera', 'prostitute', 'reunites', 'captured', 'reconnects', 'committed']\n",
      "['based', 'different', 'bad', 'apart', 'getting', 'hollywood', 'class', 'biggest', 'years', 'anything', 'happy', 'scandal', 'model', 'expectation', 'mercenary']\n",
      "['attempt', 'interview', 'place', 'national', 'drawn', 'restaurant', 'championship', 'aim', 'glory', 'immigrant', 'aunt', 'difficult', 'heal', 'pain', 'hears']\n",
      "['power', 'wealthy', 'john', 'younger', 'raising', 'turning', 'lot', 'observation', 'divorced', 'strict', 'household', 'disguise', 'mistakenly', 'kennedy', 'secure']\n",
      "['tour', 'crisis', 'success', 'planet', 'civil', 'trauma', 'mishap', 'armed', 'chicago', 'study', 'southern', 'explosive', 'midlife', 'awakens', 'tenacious']\n",
      "['street', 'society', 'nothing', 'accidentally', 'disaster', 'retired', 'prepare', 'japanese', 'general', 'plane', 'forcing', 'ninja', 'candid', 'temple', 'shadowy']\n",
      "['men', 'unexpected', 'holiday', 'thief', 'caught', 'offer', 'steal', 'global', 'fortune', 'warrior', 'dragon', 'carefree', 'involved', 'learning', 'diamond']\n",
      "['change', 'dark', 'community', 'medium', 'alone', 'lonely', 'spiral', 'humanity', 'jeff', 'unknown', 'loner', 'dunham', 'drunken', 'ex-boyfriend', 'ventriloquist']\n",
      "['character', 'book', 'undercover', 'iconic', 'name', 'suspicious', 'concert', 'jewish', 'avoid', 'document', 'recount', 'complete', 'novel', 'aftermath', 'refugee']\n",
      "['live', 'pal', 'tv', 'like', 'boyfriend', 'much', 'decide', 'six', 'tackle', 'delivers', 'lethal', 'witch', 'topic', 'filmed', 'highly']\n",
      "['examines', 'emotional', 'pregnant', 'royal', 'threaten', 'religious', 'physical', 'account', 'aid', 'looming', 'infamous', 'seem', 'britain', 'starting', 'bigger']\n"
     ]
    }
   ],
   "source": [
    "top_tokens = model.score_tracker['top-tokens'].last_tokens\n",
    "\n",
    "for topic_name in model.topic_names:\n",
    "    print(top_tokens[topic_name])"
   ]
  },
  {
   "cell_type": "markdown",
   "id": "TiUXFBkt855D",
   "metadata": {
    "id": "TiUXFBkt855D"
   },
   "source": [
    "Давайте узнаем, в каком году и о чём больше всего снимали кино? :)"
   ]
  },
  {
   "cell_type": "code",
   "execution_count": 84,
   "id": "nnJHHJhhj0hr",
   "metadata": {
    "colab": {
     "base_uri": "https://localhost:8080/"
    },
    "id": "nnJHHJhhj0hr",
    "outputId": "5bc2ca48-989a-4972-dcc6-14480e0782d1"
   },
   "outputs": [
    {
     "name": "stderr",
     "output_type": "stream",
     "text": [
      "6011it [00:00, 339715.17it/s]\n"
     ]
    }
   ],
   "source": [
    "year_modal = []\n",
    "with open('/content/drive/My Drive/topicmodeling/texts_train.vw.txt') as f:\n",
    "    for line in tqdm(f):\n",
    "        year = re.search(r'@year class_(\\d\\d\\d\\d)', line).group(1)\n",
    "        year_modal.append(year.strip())\n",
    "\n",
    "year_modal = np.array(year_modal)\n",
    "unique_modal = np.unique(year_modal)"
   ]
  },
  {
   "cell_type": "code",
   "execution_count": 85,
   "id": "fOfnevJr9Yb1",
   "metadata": {
    "id": "fOfnevJr9Yb1"
   },
   "outputs": [],
   "source": [
    "predict = model.transform(bv_train)"
   ]
  },
  {
   "cell_type": "code",
   "execution_count": 86,
   "id": "t4M0DCI8C6jx",
   "metadata": {
    "colab": {
     "base_uri": "https://localhost:8080/",
     "height": 299
    },
    "id": "t4M0DCI8C6jx",
    "outputId": "3a35230e-bf40-4c03-fd71-a0e2d6413ab3"
   },
   "outputs": [
    {
     "data": {
      "text/html": [
       "\n",
       "  <div id=\"df-7876aa2c-d2f7-4721-8522-d98ecbfbcff0\">\n",
       "    <div class=\"colab-df-container\">\n",
       "      <div>\n",
       "<style scoped>\n",
       "    .dataframe tbody tr th:only-of-type {\n",
       "        vertical-align: middle;\n",
       "    }\n",
       "\n",
       "    .dataframe tbody tr th {\n",
       "        vertical-align: top;\n",
       "    }\n",
       "\n",
       "    .dataframe thead th {\n",
       "        text-align: right;\n",
       "    }\n",
       "</style>\n",
       "<table border=\"1\" class=\"dataframe\">\n",
       "  <thead>\n",
       "    <tr style=\"text-align: right;\">\n",
       "      <th></th>\n",
       "      <th>2400</th>\n",
       "      <th>2401</th>\n",
       "      <th>2402</th>\n",
       "      <th>2403</th>\n",
       "      <th>2404</th>\n",
       "      <th>2405</th>\n",
       "      <th>2406</th>\n",
       "      <th>2407</th>\n",
       "      <th>2408</th>\n",
       "      <th>2409</th>\n",
       "      <th>...</th>\n",
       "      <th>3690</th>\n",
       "      <th>3691</th>\n",
       "      <th>3692</th>\n",
       "      <th>3693</th>\n",
       "      <th>3694</th>\n",
       "      <th>3695</th>\n",
       "      <th>3696</th>\n",
       "      <th>3697</th>\n",
       "      <th>3698</th>\n",
       "      <th>3699</th>\n",
       "    </tr>\n",
       "  </thead>\n",
       "  <tbody>\n",
       "    <tr>\n",
       "      <th>topic_0</th>\n",
       "      <td>0.000000e+00</td>\n",
       "      <td>0.0</td>\n",
       "      <td>0.045455</td>\n",
       "      <td>0.0</td>\n",
       "      <td>0.000000</td>\n",
       "      <td>0.0</td>\n",
       "      <td>6.561932e-09</td>\n",
       "      <td>0.0</td>\n",
       "      <td>0.0</td>\n",
       "      <td>0.000000e+00</td>\n",
       "      <td>...</td>\n",
       "      <td>1.059053e-15</td>\n",
       "      <td>0.0</td>\n",
       "      <td>0.000000e+00</td>\n",
       "      <td>0.0</td>\n",
       "      <td>0.0</td>\n",
       "      <td>0.0</td>\n",
       "      <td>0.0</td>\n",
       "      <td>0.0</td>\n",
       "      <td>0.0</td>\n",
       "      <td>0.000000</td>\n",
       "    </tr>\n",
       "    <tr>\n",
       "      <th>topic_1</th>\n",
       "      <td>0.000000e+00</td>\n",
       "      <td>0.0</td>\n",
       "      <td>0.000000</td>\n",
       "      <td>0.0</td>\n",
       "      <td>0.000000</td>\n",
       "      <td>0.0</td>\n",
       "      <td>1.047198e-05</td>\n",
       "      <td>0.0</td>\n",
       "      <td>0.0</td>\n",
       "      <td>0.000000e+00</td>\n",
       "      <td>...</td>\n",
       "      <td>0.000000e+00</td>\n",
       "      <td>0.0</td>\n",
       "      <td>3.787616e-10</td>\n",
       "      <td>0.0</td>\n",
       "      <td>0.0</td>\n",
       "      <td>0.0</td>\n",
       "      <td>0.0</td>\n",
       "      <td>0.0</td>\n",
       "      <td>0.0</td>\n",
       "      <td>0.000002</td>\n",
       "    </tr>\n",
       "    <tr>\n",
       "      <th>topic_2</th>\n",
       "      <td>2.334895e-09</td>\n",
       "      <td>0.0</td>\n",
       "      <td>0.000000</td>\n",
       "      <td>0.0</td>\n",
       "      <td>0.000000</td>\n",
       "      <td>0.0</td>\n",
       "      <td>3.728538e-02</td>\n",
       "      <td>0.0</td>\n",
       "      <td>0.0</td>\n",
       "      <td>0.000000e+00</td>\n",
       "      <td>...</td>\n",
       "      <td>0.000000e+00</td>\n",
       "      <td>0.0</td>\n",
       "      <td>1.663849e-12</td>\n",
       "      <td>0.0</td>\n",
       "      <td>0.0</td>\n",
       "      <td>0.0</td>\n",
       "      <td>0.0</td>\n",
       "      <td>0.0</td>\n",
       "      <td>0.0</td>\n",
       "      <td>0.000000</td>\n",
       "    </tr>\n",
       "    <tr>\n",
       "      <th>topic_3</th>\n",
       "      <td>0.000000e+00</td>\n",
       "      <td>0.0</td>\n",
       "      <td>0.000000</td>\n",
       "      <td>0.0</td>\n",
       "      <td>0.000000</td>\n",
       "      <td>0.0</td>\n",
       "      <td>0.000000e+00</td>\n",
       "      <td>0.0</td>\n",
       "      <td>0.0</td>\n",
       "      <td>3.208960e-08</td>\n",
       "      <td>...</td>\n",
       "      <td>0.000000e+00</td>\n",
       "      <td>0.0</td>\n",
       "      <td>0.000000e+00</td>\n",
       "      <td>0.0</td>\n",
       "      <td>0.0</td>\n",
       "      <td>0.0</td>\n",
       "      <td>0.0</td>\n",
       "      <td>0.0</td>\n",
       "      <td>0.0</td>\n",
       "      <td>0.000132</td>\n",
       "    </tr>\n",
       "    <tr>\n",
       "      <th>topic_4</th>\n",
       "      <td>0.000000e+00</td>\n",
       "      <td>0.0</td>\n",
       "      <td>0.000000</td>\n",
       "      <td>0.0</td>\n",
       "      <td>0.066667</td>\n",
       "      <td>0.0</td>\n",
       "      <td>0.000000e+00</td>\n",
       "      <td>0.0</td>\n",
       "      <td>0.0</td>\n",
       "      <td>0.000000e+00</td>\n",
       "      <td>...</td>\n",
       "      <td>0.000000e+00</td>\n",
       "      <td>0.0</td>\n",
       "      <td>0.000000e+00</td>\n",
       "      <td>0.0</td>\n",
       "      <td>0.0</td>\n",
       "      <td>0.0</td>\n",
       "      <td>0.0</td>\n",
       "      <td>0.0</td>\n",
       "      <td>0.0</td>\n",
       "      <td>0.000000</td>\n",
       "    </tr>\n",
       "  </tbody>\n",
       "</table>\n",
       "<p>5 rows × 6011 columns</p>\n",
       "</div>\n",
       "      <button class=\"colab-df-convert\" onclick=\"convertToInteractive('df-7876aa2c-d2f7-4721-8522-d98ecbfbcff0')\"\n",
       "              title=\"Convert this dataframe to an interactive table.\"\n",
       "              style=\"display:none;\">\n",
       "        \n",
       "  <svg xmlns=\"http://www.w3.org/2000/svg\" height=\"24px\"viewBox=\"0 0 24 24\"\n",
       "       width=\"24px\">\n",
       "    <path d=\"M0 0h24v24H0V0z\" fill=\"none\"/>\n",
       "    <path d=\"M18.56 5.44l.94 2.06.94-2.06 2.06-.94-2.06-.94-.94-2.06-.94 2.06-2.06.94zm-11 1L8.5 8.5l.94-2.06 2.06-.94-2.06-.94L8.5 2.5l-.94 2.06-2.06.94zm10 10l.94 2.06.94-2.06 2.06-.94-2.06-.94-.94-2.06-.94 2.06-2.06.94z\"/><path d=\"M17.41 7.96l-1.37-1.37c-.4-.4-.92-.59-1.43-.59-.52 0-1.04.2-1.43.59L10.3 9.45l-7.72 7.72c-.78.78-.78 2.05 0 2.83L4 21.41c.39.39.9.59 1.41.59.51 0 1.02-.2 1.41-.59l7.78-7.78 2.81-2.81c.8-.78.8-2.07 0-2.86zM5.41 20L4 18.59l7.72-7.72 1.47 1.35L5.41 20z\"/>\n",
       "  </svg>\n",
       "      </button>\n",
       "      \n",
       "  <style>\n",
       "    .colab-df-container {\n",
       "      display:flex;\n",
       "      flex-wrap:wrap;\n",
       "      gap: 12px;\n",
       "    }\n",
       "\n",
       "    .colab-df-convert {\n",
       "      background-color: #E8F0FE;\n",
       "      border: none;\n",
       "      border-radius: 50%;\n",
       "      cursor: pointer;\n",
       "      display: none;\n",
       "      fill: #1967D2;\n",
       "      height: 32px;\n",
       "      padding: 0 0 0 0;\n",
       "      width: 32px;\n",
       "    }\n",
       "\n",
       "    .colab-df-convert:hover {\n",
       "      background-color: #E2EBFA;\n",
       "      box-shadow: 0px 1px 2px rgba(60, 64, 67, 0.3), 0px 1px 3px 1px rgba(60, 64, 67, 0.15);\n",
       "      fill: #174EA6;\n",
       "    }\n",
       "\n",
       "    [theme=dark] .colab-df-convert {\n",
       "      background-color: #3B4455;\n",
       "      fill: #D2E3FC;\n",
       "    }\n",
       "\n",
       "    [theme=dark] .colab-df-convert:hover {\n",
       "      background-color: #434B5C;\n",
       "      box-shadow: 0px 1px 3px 1px rgba(0, 0, 0, 0.15);\n",
       "      filter: drop-shadow(0px 1px 2px rgba(0, 0, 0, 0.3));\n",
       "      fill: #FFFFFF;\n",
       "    }\n",
       "  </style>\n",
       "\n",
       "      <script>\n",
       "        const buttonEl =\n",
       "          document.querySelector('#df-7876aa2c-d2f7-4721-8522-d98ecbfbcff0 button.colab-df-convert');\n",
       "        buttonEl.style.display =\n",
       "          google.colab.kernel.accessAllowed ? 'block' : 'none';\n",
       "\n",
       "        async function convertToInteractive(key) {\n",
       "          const element = document.querySelector('#df-7876aa2c-d2f7-4721-8522-d98ecbfbcff0');\n",
       "          const dataTable =\n",
       "            await google.colab.kernel.invokeFunction('convertToInteractive',\n",
       "                                                     [key], {});\n",
       "          if (!dataTable) return;\n",
       "\n",
       "          const docLinkHtml = 'Like what you see? Visit the ' +\n",
       "            '<a target=\"_blank\" href=https://colab.research.google.com/notebooks/data_table.ipynb>data table notebook</a>'\n",
       "            + ' to learn more about interactive tables.';\n",
       "          element.innerHTML = '';\n",
       "          dataTable['output_type'] = 'display_data';\n",
       "          await google.colab.output.renderOutput(dataTable, element);\n",
       "          const docLink = document.createElement('div');\n",
       "          docLink.innerHTML = docLinkHtml;\n",
       "          element.appendChild(docLink);\n",
       "        }\n",
       "      </script>\n",
       "    </div>\n",
       "  </div>\n",
       "  "
      ],
      "text/plain": [
       "                 2400  2401      2402  2403      2404  2405          2406  \\\n",
       "topic_0  0.000000e+00   0.0  0.045455   0.0  0.000000   0.0  6.561932e-09   \n",
       "topic_1  0.000000e+00   0.0  0.000000   0.0  0.000000   0.0  1.047198e-05   \n",
       "topic_2  2.334895e-09   0.0  0.000000   0.0  0.000000   0.0  3.728538e-02   \n",
       "topic_3  0.000000e+00   0.0  0.000000   0.0  0.000000   0.0  0.000000e+00   \n",
       "topic_4  0.000000e+00   0.0  0.000000   0.0  0.066667   0.0  0.000000e+00   \n",
       "\n",
       "         2407  2408          2409  ...          3690  3691          3692  \\\n",
       "topic_0   0.0   0.0  0.000000e+00  ...  1.059053e-15   0.0  0.000000e+00   \n",
       "topic_1   0.0   0.0  0.000000e+00  ...  0.000000e+00   0.0  3.787616e-10   \n",
       "topic_2   0.0   0.0  0.000000e+00  ...  0.000000e+00   0.0  1.663849e-12   \n",
       "topic_3   0.0   0.0  3.208960e-08  ...  0.000000e+00   0.0  0.000000e+00   \n",
       "topic_4   0.0   0.0  0.000000e+00  ...  0.000000e+00   0.0  0.000000e+00   \n",
       "\n",
       "         3693  3694  3695  3696  3697  3698      3699  \n",
       "topic_0   0.0   0.0   0.0   0.0   0.0   0.0  0.000000  \n",
       "topic_1   0.0   0.0   0.0   0.0   0.0   0.0  0.000002  \n",
       "topic_2   0.0   0.0   0.0   0.0   0.0   0.0  0.000000  \n",
       "topic_3   0.0   0.0   0.0   0.0   0.0   0.0  0.000132  \n",
       "topic_4   0.0   0.0   0.0   0.0   0.0   0.0  0.000000  \n",
       "\n",
       "[5 rows x 6011 columns]"
      ]
     },
     "execution_count": 86,
     "metadata": {},
     "output_type": "execute_result"
    }
   ],
   "source": [
    "predict.head()"
   ]
  },
  {
   "cell_type": "code",
   "execution_count": 87,
   "id": "VRrjs6-Nj0k2",
   "metadata": {
    "colab": {
     "base_uri": "https://localhost:8080/"
    },
    "id": "VRrjs6-Nj0k2",
    "outputId": "810b0001-a48a-4d2f-f042-4826c74e94d8"
   },
   "outputs": [
    {
     "name": "stderr",
     "output_type": "stream",
     "text": [
      "100%|██████████| 73/73 [00:00<00:00, 1336.75it/s]\n"
     ]
    }
   ],
   "source": [
    "mean_vectors = ...\n",
    "mean_vectors = np.array(mean_vectors)"
   ]
  },
  {
   "cell_type": "code",
   "execution_count": 88,
   "id": "T-p-xIgtD1DB",
   "metadata": {
    "colab": {
     "base_uri": "https://localhost:8080/"
    },
    "id": "T-p-xIgtD1DB",
    "outputId": "2b92666c-763d-4833-e8af-e4b2d09a642c"
   },
   "outputs": [
    {
     "data": {
      "text/plain": [
       "(73, 100)"
      ]
     },
     "execution_count": 88,
     "metadata": {},
     "output_type": "execute_result"
    }
   ],
   "source": [
    "mean_vectors.shape"
   ]
  },
  {
   "cell_type": "code",
   "execution_count": 90,
   "id": "ddmkBC3D93Um",
   "metadata": {
    "colab": {
     "base_uri": "https://localhost:8080/"
    },
    "id": "ddmkBC3D93Um",
    "outputId": "d12f4e9a-db24-4958-dba3-f6ace419893c"
   },
   "outputs": [
    {
     "name": "stdout",
     "output_type": "stream",
     "text": [
      "1942 lord, danger, ”, african, “, also, japan, secretly, james, castle, decision, forest, prepares, theater, lady\n",
      "1942 power, wealthy, john, younger, raising, turning, lot, observation, divorced, strict, household, disguise, mistakenly, kennedy, secure\n",
      "1943 heart, discover, accident, animal, framed, complex, horse, ill, commit, held, near, captive, terminally, ocean, controversy\n",
      "1943 best, move, drama, tell, los, angeles, widow, bollywood, asks, reunion, hearing, athlete, situation, disease, refuse\n",
      "1943 taking, ii, intimate, fighter, resort, training, threatened, rocky, attorney, france, australian, warsaw, klub, hybrydy, triumph\n",
      "1943 character, book, undercover, iconic, name, suspicious, concert, jewish, avoid, document, recount, complete, novel, aftermath, refugee\n",
      "1944 bos, inside, seeking, including, photographer, think, skill, part, tested, apartment, found, abandoned, increasingly, villager, perfect\n",
      "1944 king, explore, owner, bheem, space, center, la, shark, match, halloween, fighting, defeat, cultural, hunting, huge\n",
      "1944 attempt, interview, place, national, drawn, restaurant, championship, aim, glory, immigrant, aunt, difficult, heal, pain, hears\n",
      "1945 lost, camp, misfit, belief, performs, lifestyle, nazi, pet, anniversary, soul, ambition, odds, defend, destiny, risky\n",
      "1945 journey, drug, may, people, plot, musical, song, dealer, building, trafficking, challenged, singer-songwriter, poignant, tortured, crack\n",
      "1946 follows, soldier, classic, threat, survival, turned, clue, upside, program, modern-day, cocaine, abduction, guardian, fugitive, wounded\n",
      "1946 talent, farmer, later, rule, survivor, outside, kong, hong, led, patient, relative, hospital, arrival, psychiatrist, shake\n",
      "1946 film, star, actor, director, competition, movie, white, role, expose, hilarious, san, francisco, telling, image, backdrop\n",
      "1946 keep, attack, order, brutal, ring, returning, prisoner, tasked, alive, festival, inmate, peace, pick, organization, spoiled\n",
      "1946 government, u.s., alien, kidnapped, expert, veteran, resident, military, effort, nuclear, unconventional, mayor, therapist, americans, cut\n",
      "1946 crime, mission, event, kid, money, property, cia, eager, eerie, site, paranormal, hour, shady, organized, broke\n",
      "1946 attempt, interview, place, national, drawn, restaurant, championship, aim, glory, immigrant, aunt, difficult, heal, pain, hears\n",
      "1946 live, pal, tv, like, boyfriend, much, decide, six, tackle, delivers, lethal, witch, topic, filmed, highly\n",
      "1946 examines, emotional, pregnant, royal, threaten, religious, physical, account, aid, looming, infamous, seem, britain, starting, bigger\n",
      "1947 romance, lawyer, dog, wrong, hotel, line, widowed, novelist, serf, budding, prank, blur, obsessive, reputation, formula\n",
      "1947 lost, camp, misfit, belief, performs, lifestyle, nazi, pet, anniversary, soul, ambition, odds, defend, destiny, risky\n",
      "1947 social, political, victim, violence, trace, course, running, grapple, navigates, jack, invasion, piece, value, die, executive\n",
      "1947 game, police, wa, play, violent, side, football, incident, legacy, trial, chris, ex-con, screen, idol, lived\n",
      "1947 keep, attack, order, brutal, ring, returning, prisoner, tasked, alive, festival, inmate, peace, pick, organization, spoiled\n",
      "1947 examines, emotional, pregnant, royal, threaten, religious, physical, account, aid, looming, infamous, seem, britain, starting, bigger\n",
      "1954 travel, summer, even, heist, bank, corruption, engineer, devastating, divorce, nation, fire, elaborate, idealistic, suffering, shift\n",
      "1954 ha, three, set, turn, team, make, wife, mother, couple, child, soon, marriage, husband, together, thing\n",
      "1954 two, one, daughter, back, way, plan, gang, enemy, combat, smuggler, narcotic, cunning, ever, crime-fighting, aka\n",
      "1954 father, son, fall, go, murder, fight, cop, missing, suspect, personal, investigating, avenge, pass, length, horribly\n",
      "1954 lead, house, deadly, spirit, sinister, haunted, host, buddy, debt, supernatural, princess, trapped, bride, consequence, grandfather\n",
      "1954 force, mysterious, crew, protect, ruthless, assassin, dy, colleague, mysteriously, location, unit, murderous, salesman, quirky, blockbuster\n",
      "1954 film, star, actor, director, competition, movie, white, role, expose, hilarious, san, francisco, telling, image, backdrop\n",
      "1954 indian, taken, fame, beautiful, age, captain, called, 11-year-old, receives, producer, singh, nature, defy, theory, stealing\n",
      "1954 american, stop, put, learn, experience, became, greedy, audience, motu, unleashes, patlu, front, housewife, valuable, let\n",
      "1955 break, teenager, test, scientist, company, navigate, among, step, eccentric, cousin, employee, quickly, spring, circumstance, develops\n",
      "1955 best, move, drama, tell, los, angeles, widow, bollywood, asks, reunion, hearing, athlete, situation, disease, refuse\n",
      "1955 parent, single, train, member, british, final, losing, ghost, tragedy, vacation, investigation, pressure, cope, poor, injury\n",
      "1955 young, man, woman, take, love, world, help, becomes, life, future, must, friend, home, get, personal\n",
      "1955 business, elite, famous, leave, dancer, pursue, score, bachelor, private, settle, hip-hop, celebration, rapper, prep, countryside\n",
      "1955 new, group, return, begin, war, relationship, town, dangerous, small, hometown, ex, loom, neighbor, atlanta, basque\n",
      "1956 follows, soldier, classic, threat, survival, turned, clue, upside, program, modern-day, cocaine, abduction, guardian, fugitive, wounded\n",
      "1956 form, friendship, fate, could, arrives, leading, con, despite, unique, sequel, vengeful, meaning, revolution, task, internet\n",
      "1956 young, man, woman, take, love, world, help, becomes, life, future, must, friend, home, get, personal\n",
      "1956 tour, crisis, success, planet, civil, trauma, mishap, armed, chicago, study, southern, explosive, midlife, awakens, tenacious\n",
      "1958 demon, law, act, tragic, extraordinary, animated, handsome, call, voice, priest, charismatic, sudden, dying, simple, person\n",
      "1958 lord, danger, ”, african, “, also, japan, secretly, james, castle, decision, forest, prepares, theater, lady\n",
      "1959 dream, india, earth, officer, explores, body, eye, loses, nightmare, seems, native, earn, ..., evade, lured\n",
      "1959 lead, house, deadly, spirit, sinister, haunted, host, buddy, debt, supernatural, princess, trapped, bride, consequence, grandfather\n",
      "1959 artist, teacher, complicated, grows, better, hoping, system, lesson, grieving, sexual, claim, record, unravel, california, watch\n",
      "1959 becoming, major, club, small-town, queen, seemingly, stolen, pop, idea, chase, frank, retrieve, price, english, bet\n",
      "1959 life, family, –, friend, get, must, home, save, meet, love, help, woman, take, world, personal\n",
      "1959 keep, attack, order, brutal, ring, returning, prisoner, tasked, alive, festival, inmate, peace, pick, organization, spoiled\n",
      "1959 young, man, woman, take, love, world, help, becomes, life, future, must, friend, home, get, personal\n",
      "1959 crime, mission, event, kid, money, property, cia, eager, eerie, site, paranormal, hour, shady, organized, broke\n",
      "1959 village, sport, top, point, without, traditional, date, traveling, union, reach, shop, breaking, australia, prey, 10\n",
      "1959 childhood, activist, pair, fear, agrees, older, 1970s, issue, client, poverty, strike, contest, born, biopic, mechanic\n",
      "1959 criminal, path, player, soccer, unlikely, beloved, cross, freedom, build, coach, catch, senior, weapon, wit, searching\n",
      "1960 legendary, monster, known, hunter, hot, mind, recruit, joke, universe, obsessed, creature, whole, drag, singham, approach\n",
      "1960 prison, escape, sent, reunite, suddenly, unexpectedly, free, mentor, shy, birth, guard, vegas, separated, playing, las\n",
      "1960 lead, house, deadly, spirit, sinister, haunted, host, buddy, debt, supernatural, princess, trapped, bride, consequence, grandfather\n",
      "1960 force, mysterious, crew, protect, ruthless, assassin, dy, colleague, mysteriously, location, unit, murderous, salesman, quirky, blockbuster\n",
      "1960 job, struggling, mumbai, chance, leader, memory, decides, still, aging, camera, prostitute, reunites, captured, reconnects, committed\n",
      "1960 based, different, bad, apart, getting, hollywood, class, biggest, years, anything, happy, scandal, model, expectation, mercenary\n",
      "1961 lost, camp, misfit, belief, performs, lifestyle, nazi, pet, anniversary, soul, ambition, odds, defend, destiny, risky\n",
      "1961 prison, escape, sent, reunite, suddenly, unexpectedly, free, mentor, shy, birth, guard, vegas, separated, playing, las\n",
      "1961 force, mysterious, crew, protect, ruthless, assassin, dy, colleague, mysteriously, location, unit, murderous, salesman, quirky, blockbuster\n",
      "1961 keep, attack, order, brutal, ring, returning, prisoner, tasked, alive, festival, inmate, peace, pick, organization, spoiled\n",
      "1961 become, york, rival, capture, track, magical, epic, mobster, adult, using, launch, manager, would, entire, disappeared\n",
      "1961 indian, taken, fame, beautiful, age, captain, called, 11-year-old, receives, producer, singh, nature, defy, theory, stealing\n",
      "1961 parent, single, train, member, british, final, losing, ghost, tragedy, vacation, investigation, pressure, cope, poor, injury\n",
      "1961 taking, ii, intimate, fighter, resort, training, threatened, rocky, attorney, france, australian, warsaw, klub, hybrydy, triumph\n",
      "1961 young, man, woman, take, love, world, help, becomes, life, future, must, friend, home, get, personal\n",
      "1961 new, group, return, begin, war, relationship, town, dangerous, small, hometown, ex, loom, neighbor, atlanta, basque\n",
      "1962 dream, india, earth, officer, explores, body, eye, loses, nightmare, seems, native, earn, ..., evade, lured\n",
      "1962 detective, race, encounter, stranger, case, want, romantic, female, mystery, follow, guy, obsession, investigate, killing, solve\n",
      "1962 young, man, woman, take, love, world, help, becomes, life, future, must, friend, home, get, personal\n",
      "1963 amid, dad, businessman, talented, support, 1960s, heir, dj, bringing, free-spirited, indonesian, cheer, easy, transport, stir\n",
      "1963 day, five, following, driver, wish, care, falling, suicide, torn, longtime, fulfill, possibility, enlists, egypt, going\n",
      "1963 become, york, rival, capture, track, magical, epic, mobster, adult, using, launch, manager, would, entire, disappeared\n",
      "1964 life, family, –, friend, get, must, home, save, meet, love, help, woman, take, world, personal\n",
      "1964 keep, attack, order, brutal, ring, returning, prisoner, tasked, alive, festival, inmate, peace, pick, organization, spoiled\n",
      "1964 young, man, woman, take, love, world, help, becomes, life, future, must, friend, home, get, personal\n",
      "1964 street, society, nothing, accidentally, disaster, retired, prepare, japanese, general, plane, forcing, ninja, candid, temple, shadowy\n",
      "1965 life, family, –, friend, get, must, home, save, meet, love, help, woman, take, world, personal\n",
      "1965 best, move, drama, tell, los, angeles, widow, bollywood, asks, reunion, hearing, athlete, situation, disease, refuse\n",
      "1965 become, york, rival, capture, track, magical, epic, mobster, adult, using, launch, manager, would, entire, disappeared\n",
      "1965 indian, taken, fame, beautiful, age, captain, called, 11-year-old, receives, producer, singh, nature, defy, theory, stealing\n",
      "1965 lord, danger, ”, african, “, also, japan, secretly, james, castle, decision, forest, prepares, theater, lady\n",
      "1965 form, friendship, fate, could, arrives, leading, con, despite, unique, sequel, vengeful, meaning, revolution, task, internet\n",
      "1965 young, man, woman, take, love, world, help, becomes, life, future, must, friend, home, get, personal\n",
      "1966 two, one, daughter, back, way, plan, gang, enemy, combat, smuggler, narcotic, cunning, ever, crime-fighting, aka\n",
      "1966 indian, taken, fame, beautiful, age, captain, called, 11-year-old, receives, producer, singh, nature, defy, theory, stealing\n",
      "1966 king, explore, owner, bheem, space, center, la, shark, match, halloween, fighting, defeat, cultural, hunting, huge\n",
      "1966 lord, danger, ”, african, “, also, japan, secretly, james, castle, decision, forest, prepares, theater, lady\n",
      "1966 journey, drug, may, people, plot, musical, song, dealer, building, trafficking, challenged, singer-songwriter, poignant, tortured, crack\n",
      "1966 young, man, woman, take, love, world, help, becomes, life, future, must, friend, home, get, personal\n",
      "1966 time, rescue, big, quest, little, baby, embark, kingdom, moment, version, adaptation, jesus, destined, heroic, s.s.\n",
      "1967 challenge, use, park, professional, george, greatest, super, really, accepts, unfolds, wave, toy, monsters, rediscover, dysfunctional\n",
      "1967 game, police, wa, play, violent, side, football, incident, legacy, trial, chris, ex-con, screen, idol, lived\n",
      "1967 young, man, woman, take, love, world, help, becomes, life, future, must, friend, home, get, personal\n",
      "1967 live, pal, tv, like, boyfriend, much, decide, six, tackle, delivers, lethal, witch, topic, filmed, highly\n",
      "1968 ha, three, set, turn, team, make, wife, mother, couple, child, soon, marriage, husband, together, thing\n",
      "1968 force, mysterious, crew, protect, ruthless, assassin, dy, colleague, mysteriously, location, unit, murderous, salesman, quirky, blockbuster\n",
      "1968 keep, attack, order, brutal, ring, returning, prisoner, tasked, alive, festival, inmate, peace, pick, organization, spoiled\n",
      "1968 become, york, rival, capture, track, magical, epic, mobster, adult, using, launch, manager, would, entire, disappeared\n",
      "1968 young, man, woman, take, love, world, help, becomes, life, future, must, friend, home, get, personal\n",
      "1968 hit, share, truth, living, brings, tension, yet, uncover, reconnect, authority, witness, abducted, innocence, twisted, catholic\n",
      "1969 identity, desperate, scheme, island, lover, kill, strange, newly, great, difference, engaged, millionaire, serving, unusual, state\n",
      "1969 ha, three, set, turn, team, make, wife, mother, couple, child, soon, marriage, husband, together, thing\n",
      "1969 father, son, fall, go, murder, fight, cop, missing, suspect, personal, investigating, avenge, pass, length, horribly\n",
      "1969 search, killer, series, powerful, marry, hand, connection, never, murdered, serial, lie, met, realize, deep, many\n",
      "1970 follows, soldier, classic, threat, survival, turned, clue, upside, program, modern-day, cocaine, abduction, guardian, fugitive, wounded\n",
      "1970 crime, mission, event, kid, money, property, cia, eager, eerie, site, paranormal, hour, shady, organized, broke\n",
      "1971 discovers, journalist, working, inspired, horror, reveals, problem, unaware, raise, realizes, cause, classmate, fbi, quiet, mistake\n",
      "1971 talent, farmer, later, rule, survivor, outside, kong, hong, led, patient, relative, hospital, arrival, psychiatrist, shake\n",
      "1971 hunt, letter, weekend, wind, robot, vicious, ready, england, radio, taxi, gather, tangled, spirited, brought, exchange\n",
      "1971 behind, forced, win, married, rich, gangster, long, making, 're, president, million, treasure, public, hatch, daring\n",
      "1972 break, teenager, test, scientist, company, navigate, among, step, eccentric, cousin, employee, quickly, spring, circumstance, develops\n",
      "1972 amid, dad, businessman, talented, support, 1960s, heir, dj, bringing, free-spirited, indonesian, cheer, easy, transport, stir\n",
      "1972 life, family, –, friend, get, must, home, save, meet, love, help, woman, take, world, personal\n",
      "1972 new, group, return, begin, war, relationship, town, dangerous, small, hometown, ex, loom, neighbor, atlanta, basque\n",
      "1973 bond, notorious, neighborhood, conspiracy, corrupt, tough, shocking, russian, conflict, forge, circus, loyalty, elephant, cowboy, planner\n",
      "1973 agent, evil, art, head, troubled, affair, martial, spy, destroy, orphan, continues, villain, safety, recruited, reclusive\n",
      "1973 lead, house, deadly, spirit, sinister, haunted, host, buddy, debt, supernatural, princess, trapped, bride, consequence, grandfather\n",
      "1973 film, star, actor, director, competition, movie, white, role, expose, hilarious, san, francisco, telling, image, backdrop\n",
      "1974 ha, three, set, turn, team, make, wife, mother, couple, child, soon, marriage, husband, together, thing\n",
      "1974 bond, notorious, neighborhood, conspiracy, corrupt, tough, shocking, russian, conflict, forge, circus, loyalty, elephant, cowboy, planner\n",
      "1974 impact, second, root, sensation, dealing, key, intense, author, store, played, incredible, wo, earthquake, possible, youtube\n",
      "1974 indian, taken, fame, beautiful, age, captain, called, 11-year-old, receives, producer, singh, nature, defy, theory, stealing\n",
      "1974 visit, good, fan, control, dating, upon, charming, killed, bill, robbery, instead, rare, condition, pursuit, smart\n",
      "1974 job, struggling, mumbai, chance, leader, memory, decides, still, aging, camera, prostitute, reunites, captured, reconnects, committed\n",
      "1975 identity, desperate, scheme, island, lover, kill, strange, newly, great, difference, engaged, millionaire, serving, unusual, state\n",
      "1975 legendary, monster, known, hunter, hot, mind, recruit, joke, universe, obsessed, creature, whole, drag, singham, approach\n",
      "1975 village, sport, top, point, without, traditional, date, traveling, union, reach, shop, breaking, australia, prey, 10\n",
      "1976 discovers, journalist, working, inspired, horror, reveals, problem, unaware, raise, realizes, cause, classmate, fbi, quiet, mistake\n",
      "1976 tour, crisis, success, planet, civil, trauma, mishap, armed, chicago, study, southern, explosive, midlife, awakens, tenacious\n",
      "1977 talent, farmer, later, rule, survivor, outside, kong, hong, led, patient, relative, hospital, arrival, psychiatrist, shake\n",
      "1977 stage, end, whose, tale, give, question, modern, finally, finding, arranged, pursues, abuse, domestic, talk, monty\n",
      "1977 life, family, –, friend, get, must, home, save, meet, love, help, woman, take, world, personal\n",
      "1977 detective, race, encounter, stranger, case, want, romantic, female, mystery, follow, guy, obsession, investigate, killing, solve\n",
      "1977 men, unexpected, holiday, thief, caught, offer, steal, global, fortune, warrior, dragon, carefree, involved, learning, diamond\n",
      "1978 stay, looking, mexican, recently, loved, healing, deceased, racial, dedicated, terror, wood, appears, week, arrested, injustice\n",
      "1978 christmas, popular, pay, ruin, eve, spend, stumble, stuck, office, serious, pose, broken, laugh, kevin, hart\n",
      "1978 london, army, left, us, dead, successful, thriller, designer, named, fashion, squad, triangle, reluctantly, potential, german\n",
      "1979 dream, india, earth, officer, explores, body, eye, loses, nightmare, seems, native, earn, ..., evade, lured\n",
      "1979 search, killer, series, powerful, marry, hand, connection, never, murdered, serial, lie, met, realize, deep, many\n",
      "1979 film, star, actor, director, competition, movie, white, role, expose, hilarious, san, francisco, telling, image, backdrop\n",
      "1979 keep, attack, order, brutal, ring, returning, prisoner, tasked, alive, festival, inmate, peace, pick, organization, spoiled\n",
      "1979 taking, ii, intimate, fighter, resort, training, threatened, rocky, attorney, france, australian, warsaw, klub, hybrydy, triumph\n",
      "1980 stay, looking, mexican, recently, loved, healing, deceased, racial, dedicated, terror, wood, appears, week, arrested, injustice\n",
      "1980 talent, farmer, later, rule, survivor, outside, kong, hong, led, patient, relative, hospital, arrival, psychiatrist, shake\n",
      "1980 lead, house, deadly, spirit, sinister, haunted, host, buddy, debt, supernatural, princess, trapped, bride, consequence, grandfather\n",
      "1980 village, sport, top, point, without, traditional, date, traveling, union, reach, shop, breaking, australia, prey, 10\n",
      "1981 wild, culture, reporter, blind, spotlight, parenting, turbulent, assault, behavior, solace, filipino, intertwined, alarming, en, hill\n",
      "1981 behind, forced, win, married, rich, gangster, long, making, 're, president, million, treasure, public, hatch, daring\n",
      "1981 parent, single, train, member, british, final, losing, ghost, tragedy, vacation, investigation, pressure, cope, poor, injury\n",
      "1982 join, revenge, human, professor, performance, ancient, vow, cat, investigates, fly, vampire, mouse, exact, third, sparks\n",
      "1982 young, man, woman, take, love, world, help, becomes, life, future, must, friend, home, get, personal\n",
      "1982 master, hired, sends, 've, 1980s, ability, status, effect, extreme, ideal, fu, kung, enough, chart, wrestling\n",
      "1983 challenge, use, park, professional, george, greatest, super, really, accepts, unfolds, wave, toy, monsters, rediscover, dysfunctional\n",
      "1983 life, family, –, friend, get, must, home, save, meet, love, help, woman, take, world, personal\n",
      "1983 young, man, woman, take, love, world, help, becomes, life, future, must, friend, home, get, personal\n",
      "1983 power, wealthy, john, younger, raising, turning, lot, observation, divorced, strict, household, disguise, mistakenly, kennedy, secure\n",
      "1984 break, teenager, test, scientist, company, navigate, among, step, eccentric, cousin, employee, quickly, spring, circumstance, develops\n",
      "1984 life, family, –, friend, get, must, home, save, meet, love, help, woman, take, world, personal\n",
      "1984 young, man, woman, take, love, world, help, becomes, life, future, must, friend, home, get, personal\n",
      "1985 amid, dad, businessman, talented, support, 1960s, heir, dj, bringing, free-spirited, indonesian, cheer, easy, transport, stir\n",
      "1985 day, five, following, driver, wish, care, falling, suicide, torn, longtime, fulfill, possibility, enlists, egypt, going\n",
      "1985 power, wealthy, john, younger, raising, turning, lot, observation, divorced, strict, household, disguise, mistakenly, kennedy, secure\n",
      "1986 away, need, bring, remote, justice, cancer, medical, might, several, michael, foe, caring, diagnosis, illness, responsible\n",
      "1986 search, killer, series, powerful, marry, hand, connection, never, murdered, serial, lie, met, realize, deep, many\n",
      "1986 best, move, drama, tell, los, angeles, widow, bollywood, asks, reunion, hearing, athlete, situation, disease, refuse\n",
      "1987 identity, desperate, scheme, island, lover, kill, strange, newly, great, difference, engaged, millionaire, serving, unusual, state\n",
      "1987 bos, inside, seeking, including, photographer, think, skill, part, tested, apartment, found, abandoned, increasingly, villager, perfect\n",
      "1987 attempt, interview, place, national, drawn, restaurant, championship, aim, glory, immigrant, aunt, difficult, heal, pain, hears\n",
      "1987 power, wealthy, john, younger, raising, turning, lot, observation, divorced, strict, household, disguise, mistakenly, kennedy, secure\n",
      "1988 break, teenager, test, scientist, company, navigate, among, step, eccentric, cousin, employee, quickly, spring, circumstance, develops\n",
      "1988 day, five, following, driver, wish, care, falling, suicide, torn, longtime, fulfill, possibility, enlists, egypt, going\n",
      "1988 becoming, major, club, small-town, queen, seemingly, stolen, pop, idea, chase, frank, retrieve, price, english, bet\n",
      "1988 master, hired, sends, 've, 1980s, ability, status, effect, extreme, ideal, fu, kung, enough, chart, wrestling\n",
      "1989 stay, looking, mexican, recently, loved, healing, deceased, racial, dedicated, terror, wood, appears, week, arrested, injustice\n",
      "1989 amid, dad, businessman, talented, support, 1960s, heir, dj, bringing, free-spirited, indonesian, cheer, easy, transport, stir\n",
      "1989 behind, forced, win, married, rich, gangster, long, making, 're, president, million, treasure, public, hatch, daring\n",
      "1989 keep, attack, order, brutal, ring, returning, prisoner, tasked, alive, festival, inmate, peace, pick, organization, spoiled\n",
      "1990 village, sport, top, point, without, traditional, date, traveling, union, reach, shop, breaking, australia, prey, 10\n",
      "1990 power, wealthy, john, younger, raising, turning, lot, observation, divorced, strict, household, disguise, mistakenly, kennedy, secure\n",
      "1991 bond, notorious, neighborhood, conspiracy, corrupt, tough, shocking, russian, conflict, forge, circus, loyalty, elephant, cowboy, planner\n",
      "1991 best, move, drama, tell, los, angeles, widow, bollywood, asks, reunion, hearing, athlete, situation, disease, refuse\n",
      "1991 power, wealthy, john, younger, raising, turning, lot, observation, divorced, strict, household, disguise, mistakenly, kennedy, secure\n",
      "1992 journey, drug, may, people, plot, musical, song, dealer, building, trafficking, challenged, singer-songwriter, poignant, tortured, crack\n",
      "1992 girlfriend, adventure, learns, real, terrorist, car, trouble, along, target, surprise, something, fake, beauty, action-packed, leaf\n",
      "1992 power, wealthy, john, younger, raising, turning, lot, observation, divorced, strict, household, disguise, mistakenly, kennedy, secure\n",
      "1993 challenge, use, park, professional, george, greatest, super, really, accepts, unfolds, wave, toy, monsters, rediscover, dysfunctional\n",
      "1993 taking, ii, intimate, fighter, resort, training, threatened, rocky, attorney, france, australian, warsaw, klub, hybrydy, triumph\n",
      "1993 crime, mission, event, kid, money, property, cia, eager, eerie, site, paranormal, hour, shady, organized, broke\n",
      "1993 power, wealthy, john, younger, raising, turning, lot, observation, divorced, strict, household, disguise, mistakenly, kennedy, secure\n",
      "1994 discovers, journalist, working, inspired, horror, reveals, problem, unaware, raise, realizes, cause, classmate, fbi, quiet, mistake\n",
      "1994 young, man, woman, take, love, world, help, becomes, life, future, must, friend, home, get, personal\n",
      "1994 crime, mission, event, kid, money, property, cia, eager, eerie, site, paranormal, hour, shady, organized, broke\n",
      "1995 break, teenager, test, scientist, company, navigate, among, step, eccentric, cousin, employee, quickly, spring, circumstance, develops\n",
      "1995 start, sex, right, politician, light, farm, decade, beyond, charge, getaway, petty, dive, commercial, shed, background\n",
      "1996 power, wealthy, john, younger, raising, turning, lot, observation, divorced, strict, household, disguise, mistakenly, kennedy, secure\n",
      "1997 romance, lawyer, dog, wrong, hotel, line, widowed, novelist, serf, budding, prank, blur, obsessive, reputation, formula\n",
      "1997 artist, teacher, complicated, grows, better, hoping, system, lesson, grieving, sexual, claim, record, unravel, california, watch\n",
      "1997 young, man, woman, take, love, world, help, becomes, life, future, must, friend, home, get, personal\n",
      "1998 stay, looking, mexican, recently, loved, healing, deceased, racial, dedicated, terror, wood, appears, week, arrested, injustice\n",
      "1998 rise, next, risk, confront, 'll, door, know, harrowing, presence, hiding, bar, inheritance, nigerian, gain, hitler\n",
      "1999 identity, desperate, scheme, island, lover, kill, strange, newly, great, difference, engaged, millionaire, serving, unusual, state\n",
      "1999 discovers, journalist, working, inspired, horror, reveals, problem, unaware, raise, realizes, cause, classmate, fbi, quiet, mistake\n",
      "1999 journey, drug, may, people, plot, musical, song, dealer, building, trafficking, challenged, singer-songwriter, poignant, tortured, crack\n",
      "2000 amid, dad, businessman, talented, support, 1960s, heir, dj, bringing, free-spirited, indonesian, cheer, easy, transport, stir\n",
      "2001 search, killer, series, powerful, marry, hand, connection, never, murdered, serial, lie, met, realize, deep, many\n",
      "2001 business, elite, famous, leave, dancer, pursue, score, bachelor, private, settle, hip-hop, celebration, rapper, prep, countryside\n",
      "2002 agent, evil, art, head, troubled, affair, martial, spy, destroy, orphan, continues, villain, safety, recruited, reclusive\n",
      "2003 join, revenge, human, professor, performance, ancient, vow, cat, investigates, fly, vampire, mouse, exact, third, sparks\n",
      "2005 government, u.s., alien, kidnapped, expert, veteran, resident, military, effort, nuclear, unconventional, mayor, therapist, americans, cut\n",
      "2005 village, sport, top, point, without, traditional, date, traveling, union, reach, shop, breaking, australia, prey, 10\n",
      "2006 hunt, letter, weekend, wind, robot, vicious, ready, england, radio, taxi, gather, tangled, spirited, brought, exchange\n",
      "2006 bos, inside, seeking, including, photographer, think, skill, part, tested, apartment, found, abandoned, increasingly, villager, perfect\n",
      "2007 demon, law, act, tragic, extraordinary, animated, handsome, call, voice, priest, charismatic, sudden, dying, simple, person\n",
      "2007 becoming, major, club, small-town, queen, seemingly, stolen, pop, idea, chase, frank, retrieve, price, english, bet\n",
      "2008 street, society, nothing, accidentally, disaster, retired, prepare, japanese, general, plane, forcing, ninja, candid, temple, shadowy\n",
      "2009 day, five, following, driver, wish, care, falling, suicide, torn, longtime, fulfill, possibility, enlists, egypt, going\n",
      "2009 indian, taken, fame, beautiful, age, captain, called, 11-year-old, receives, producer, singh, nature, defy, theory, stealing\n",
      "2010 talent, farmer, later, rule, survivor, outside, kong, hong, led, patient, relative, hospital, arrival, psychiatrist, shake\n",
      "2010 indian, taken, fame, beautiful, age, captain, called, 11-year-old, receives, producer, singh, nature, defy, theory, stealing\n",
      "2011 amid, dad, businessman, talented, support, 1960s, heir, dj, bringing, free-spirited, indonesian, cheer, easy, transport, stir\n",
      "2011 hunt, letter, weekend, wind, robot, vicious, ready, england, radio, taxi, gather, tangled, spirited, brought, exchange\n",
      "2016 school, teen, secret, high, old, land, uncovers, crush, contact, bus, surface, suburban, clique, discovery, fellow\n",
      "2017 story, girl, true, former, first, local, teenage, reflect, confession, sight, outspoken, gay, mermaid, fishing, perspective\n",
      "2019 life, family, –, friend, get, must, home, save, meet, love, help, woman, take, world, personal\n",
      "2020 young, man, woman, take, love, world, help, becomes, life, future, must, friend, home, get, personal\n"
     ]
    },
    {
     "name": "stderr",
     "output_type": "stream",
     "text": [
      "/usr/local/lib/python3.9/dist-packages/ipykernel/ipkernel.py:283: DeprecationWarning: `should_run_async` will not call `transform_cell` automatically in the future. Please pass the result to `transformed_cell` argument and any exception that happen during thetransform in `preprocessing_exc_tuple` in IPython 7.17 and above.\n",
      "  and should_run_async(code)\n"
     ]
    }
   ],
   "source": [
    "for modal_id, topic_id in ...:\n",
    "    print(unique_modal[modal_id], ', '.join(top_tokens[model.topic_names[topic_id]]))"
   ]
  }
 ],
 "metadata": {
  "colab": {
   "provenance": []
  },
  "kernelspec": {
   "display_name": "Python 3 (ipykernel)",
   "language": "python",
   "name": "python3"
  },
  "language_info": {
   "codemirror_mode": {
    "name": "ipython",
    "version": 3
   },
   "file_extension": ".py",
   "mimetype": "text/x-python",
   "name": "python",
   "nbconvert_exporter": "python",
   "pygments_lexer": "ipython3",
   "version": "3.9.13"
  }
 },
 "nbformat": 4,
 "nbformat_minor": 5
}
