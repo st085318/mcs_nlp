{
  "cells": [
    {
      "cell_type": "code",
      "execution_count": 1,
      "id": "8992347a",
      "metadata": {
        "id": "8992347a",
        "outputId": "392c11b4-2066-4654-f074-4b9a37c106b7",
        "colab": {
          "base_uri": "https://localhost:8080/"
        }
      },
      "outputs": [
        {
          "output_type": "stream",
          "name": "stdout",
          "text": [
            "Looking in indexes: https://pypi.org/simple, https://us-python.pkg.dev/colab-wheels/public/simple/\n",
            "Requirement already satisfied: sortedcontainers in /usr/local/lib/python3.9/dist-packages (2.4.0)\n"
          ]
        }
      ],
      "source": [
        "!pip install sortedcontainers"
      ]
    },
    {
      "cell_type": "code",
      "execution_count": 2,
      "id": "5dbac1bb",
      "metadata": {
        "id": "5dbac1bb"
      },
      "outputs": [],
      "source": [
        "import re\n",
        "import string\n",
        "\n",
        "from abc import ABC, abstractmethod\n",
        "from math import log2, sqrt\n",
        "from collections import Counter\n",
        "\n",
        "from tqdm import tqdm\n",
        "\n",
        "from nltk import bigrams, word_tokenize\n",
        "from sortedcontainers import SortedListWithKey"
      ]
    },
    {
      "cell_type": "code",
      "execution_count": 16,
      "id": "4b9e9ca2",
      "metadata": {
        "id": "4b9e9ca2"
      },
      "outputs": [],
      "source": [
        "class LanguageModel:\n",
        "    def __init__(self, ngram_size=2, lowercase=False):\n",
        "        \"\"\"\n",
        "            Initialization of N-gram model\n",
        "            :param ngram_size: size of n-gram, optional\n",
        "        \"\"\"\n",
        "\n",
        "        if ngram_size < 2:\n",
        "            raise Exception\n",
        "\n",
        "        self.ngram_size = ngram_size\n",
        "\n",
        "        self.unigram_counts = Counter()\n",
        "        self.bigram_counts = Counter()\n",
        "\n",
        "        #self.first_from_bigram_counts = Counter()\n",
        "        #self.last_from_bigram_counts = Counter()\n",
        "\n",
        "        self.words_set_size = None\n",
        "        self.n_tokens = None\n",
        "        self.lowercase = lowercase\n",
        "\n",
        "    def fit(self, data):\n",
        "        \"\"\"\n",
        "            Training of the model on texts\n",
        "            :param data: sentences list\n",
        "        \"\"\"\n",
        "\n",
        "        for text in tqdm(data, total=len(data)):\n",
        "\n",
        "          if self.lowercase:\n",
        "              text = text.lower()\n",
        "\n",
        "          tokens = word_tokenize(text)\n",
        "\n",
        "          self.words_set_size = len(set(tokens))\n",
        "          self.n_tokens = len(tokens)\n",
        "\n",
        "          self.unigram_counts += Counter(tokens)\n",
        "          self.bigram_counts += Counter(bigrams(tokens))\n",
        "\n",
        "        #for bigram, counts in tqdm(self.bigram_counts.items(), total=len(self.bigram_counts)):\n",
        "        #    self.first_from_bigram_counts[bigram[0]] += counts\n",
        "        #    self.last_from_bigram_counts[bigram[-1]] += counts\n",
        "        return self\n",
        "    \n",
        "    def get_vocab_size(self):\n",
        "        return self.words_set_size\n",
        "\n",
        "    def get_n_tokens(self):\n",
        "      return self.n_tokens\n",
        "    \n",
        "    def get_unigrams(self):\n",
        "        return self.unigram_counts\n",
        "    \n",
        "    def get_bigrams(self):\n",
        "        return self.bigram_counts\n",
        "\n",
        "    def get_first_words_of_bigrams(self):\n",
        "        return self.first_from_bigram_counts\n",
        "\n",
        "    def get_last_words_of_bigrams(self):\n",
        "        return self.last_from_bigram_counts"
      ]
    },
    {
      "cell_type": "markdown",
      "id": "25e26ed4",
      "metadata": {
        "id": "25e26ed4"
      },
      "source": [
        "#### Pointwise Mutual Information"
      ]
    },
    {
      "cell_type": "markdown",
      "source": [
        " $$PMI(w_1, w_2) = \\log_2{\\frac{P(w_1,w_2)}{P(w_1)P(w_2)}}$$"
      ],
      "metadata": {
        "id": "WFZ8UVYBCSCm"
      },
      "id": "WFZ8UVYBCSCm"
    },
    {
      "cell_type": "markdown",
      "source": [
        "$$P(W) = \\frac{freq(w)}{totalWordsCount}$$"
      ],
      "metadata": {
        "id": "3wukNLvkCmgF"
      },
      "id": "3wukNLvkCmgF"
    },
    {
      "cell_type": "markdown",
      "id": "ea925872",
      "metadata": {
        "id": "ea925872"
      },
      "source": [
        "#### T-Score"
      ]
    },
    {
      "cell_type": "markdown",
      "source": [
        "$$t = \\frac{\\overline{x} - \\mu}{\\frac{s}{\\sqrt{n}}}$$"
      ],
      "metadata": {
        "id": "48PnQNBpDzxO"
      },
      "id": "48PnQNBpDzxO"
    },
    {
      "cell_type": "markdown",
      "id": "ca000cab",
      "metadata": {
        "id": "ca000cab"
      },
      "source": [
        "Здесь предполагается, что биграмма $(x, y)$ сгенерирована из распределения Бернулли с вероятностью $p$.\n",
        "\n",
        "Матожидание $\\mu = p$, а дисперсия $\\sigma^2 = p(1-p)$. Поскольку $p$ достаточно мало, то для большинства биграмм $\\sigma^2 \\approx p$.\n",
        "\n",
        "Определим гипотезу $H_0$: вероятность биграммы равна произведению вероятностей отдельных слов. Альтернативная гипотеза $H_1$: вероятности не равны.\n",
        "\n",
        "Тогда мы можем посчитать величину $t$. Чем больше величина $t$, тем больше вероятность того, что мы отвергнем основную гипотезу $H_0$."
      ]
    },
    {
      "cell_type": "markdown",
      "source": [
        "$\\chi^2$-test"
      ],
      "metadata": {
        "id": "IZXTOMvGFiop"
      },
      "id": "IZXTOMvGFiop"
    },
    {
      "cell_type": "markdown",
      "source": [
        "$$\\chi_c ^2 = \\sum\\limits_i \\frac{(O_i - E_i)^2}{E_i}$$"
      ],
      "metadata": {
        "id": "nPGFcOd6Fi5O"
      },
      "id": "nPGFcOd6Fi5O"
    },
    {
      "cell_type": "markdown",
      "source": [
        "![expected-vs-observed.jpeg](data:image/jpeg;base64,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)"
      ],
      "metadata": {
        "id": "JScIo2jAFjY4"
      },
      "id": "JScIo2jAFjY4"
    },
    {
      "cell_type": "markdown",
      "id": "4eaf2b26",
      "metadata": {
        "id": "4eaf2b26"
      },
      "source": [
        "#### Dice Coefficient"
      ]
    },
    {
      "cell_type": "markdown",
      "id": "2fd6ea85",
      "metadata": {
        "id": "2fd6ea85"
      },
      "source": [
        "$$DICE(x, y)=\\frac{2 c(x, y)}{c(x) c(y)}$$"
      ]
    },
    {
      "cell_type": "markdown",
      "id": "0bd70788",
      "metadata": {
        "id": "0bd70788"
      },
      "source": [
        "Другие формулы и идеи: http://mlwiki.org/index.php/Collocation_Extraction"
      ]
    },
    {
      "cell_type": "code",
      "execution_count": 12,
      "id": "2a4591c4",
      "metadata": {
        "id": "2a4591c4"
      },
      "outputs": [],
      "source": [
        "class Metric(ABC):\n",
        "    @abstractmethod\n",
        "    def evaluate(self, freq_w1, freq_w2, freq_w12, vocab_size):\n",
        "        pass\n",
        "\n",
        "\n",
        "class ChiSquareScore(Metric):\n",
        "    def evaluate(self, freq_w1, freq_w2, freq_w12, vocab_size):\n",
        "        pass\n",
        "\n",
        "    def evaluate_(self, freq_w12, freq_nw1w2, freq_w1nw2, freq_nw1nw2):\n",
        "        \"\"\"\n",
        "        Напишите формулу для вычисления критерия X^2\n",
        "        \"\"\"\n",
        "        a, b, c, d = freq_w12, freq_nw1w2, freq_w1nw2, freq_nw1nw2\n",
        "        N = freq_w12 + freq_w1nw2 + freq_nw1w2 + freq_nw1nw2\n",
        "        \n",
        "        return N * ((a * d - b * c) ^ 2) / ((a + b) * (a + c) * (b + d) * (c + d))\n",
        "\n",
        "\n",
        "class PMI(Metric):\n",
        "    def evaluate(self, freq_w1, freq_w2, freq_w12, vocab_size):\n",
        "        \"\"\"\n",
        "        Напишите формулу для поточечной взаимной информации\n",
        "        \"\"\"\n",
        "        p_w1 = freq_w1 / vocab_size\n",
        "        p_w2 = freq_w2 / vocab_size\n",
        "        p_w12 = (freq_w12 + 1) / (freq_w1 + vocab_size)\n",
        "        return log2(p_w12 / (p_w1 * p_w2))\n",
        "\n",
        "\n",
        "class TScore(Metric):\n",
        "    def evaluate(self, freq_w1, freq_w2, freq_w12, vocab_size):\n",
        "        \"\"\"\n",
        "        Напишите формулу для t-теста\n",
        "        \"\"\"\n",
        "        p_w1 = freq_w1 / vocab_size\n",
        "        p_w2 = freq_w2 / vocab_size\n",
        "        p_w12 = (freq_w12 + 1) / (freq_w1 + vocab_size)\n",
        "        diff = p_w12 - p_w1 * p_w2\n",
        "        s = p_w12 * (1 - p_w12)\n",
        "        return diff / sqrt(s / vocab_size)\n",
        "\n",
        "\n",
        "class Dice(Metric):\n",
        "    def evaluate(self, freq_w1, freq_w2, freq_w12, vocab_size):\n",
        "        \"\"\"\n",
        "        Напишите формулу для коэффициента DICE\n",
        "        \"\"\"\n",
        "        return (2 * freq_w12) / (freq_w1 + freq_w2)"
      ]
    },
    {
      "cell_type": "code",
      "execution_count": 29,
      "id": "6a05dba7",
      "metadata": {
        "id": "6a05dba7"
      },
      "outputs": [],
      "source": [
        "class CollocationExtractor:\n",
        "    CONJ_RU = set('и а да но если б бы'.split())\n",
        "    PROPOSITIONS_RU = set('с со на из за в во к ко по про о у об обо под подо над надо от до после'.split())\n",
        "    PRONOUNS_RU = set('мне тебе мой моя моё мной я мы ты тобой тобою вы он она оно они те эти это этот тот та той ту ней ним'.split())\n",
        "    PUNCT = set(string.punctuation) | {'--', '...'}\n",
        "    INITIALS = re.compile(r'^[а-яa-z]\\.$', re.I)\n",
        "\n",
        "    def __init__(self, lm, exclude_punctuation=True, exclude_conj=True, exclude_props=True):\n",
        "        self.language_model = lm\n",
        "        self.exclude_punctuation = exclude_punctuation\n",
        "        self.exclude_conj = exclude_conj\n",
        "        self.exclude_props = exclude_props\n",
        "\n",
        "    def extract_collocations(self, metric_class):\n",
        "        \"\"\"\n",
        "        Напишите функцию, которая будет извлекать коллокации по полученной языковой модели.\n",
        "        :param metric_class: класс конкретной метрики, по которой считается значимость коллокации\n",
        "        :return collocations отсортированный список колокаций со значениями \n",
        "        # (значение_метрики, частота_w1, частота_w2, частота_биграммы, w1, w2)\n",
        "        \"\"\"\n",
        "        assert issubclass(metric_class, Metric)\n",
        "        metric = metric_class()\n",
        "        collocations = SortedListWithKey(key=lambda x: -x[0])\n",
        "        \n",
        "        unigram_counts = self.language_model.get_unigrams()\n",
        "        bigram_counts = self.language_model.get_bigrams()\n",
        "\n",
        "        N = sum(bigram_counts.values())\n",
        "\n",
        "        for (first, last), freq_bigram in tqdm(bigram_counts.items(), total=len(bigram_counts)):\n",
        "\n",
        "            if self.exclude_punctuation:\n",
        "                if first in self.PUNCT or last in self.PUNCT or \\\n",
        "                        self.INITIALS.match(first) or self.INITIALS.match(last):\n",
        "                    continue\n",
        "\n",
        "            if self.exclude_conj:\n",
        "                if first in self.CONJ_RU or last in self.CONJ_RU:\n",
        "                    continue\n",
        "\n",
        "            if self.exclude_props:\n",
        "                if first in self.PROPOSITIONS_RU | self.PRONOUNS_RU or \\\n",
        "                last in self.PROPOSITIONS_RU | self.PRONOUNS_RU:\n",
        "                    continue\n",
        "\n",
        "            freq_first, freq_last = unigram_counts[first], unigram_counts[last]\n",
        "\n",
        "            if isinstance(metric, ChiSquareScore):\n",
        "                a = freq_bigram\n",
        "                b = freq_last - freq_bigram\n",
        "                c = freq_first - freq_bigram\n",
        "                d = N - (a + b + c)\n",
        "                metric_val = metric.evaluate_(a, b, c, d)\n",
        "            else:\n",
        "                metric_val = metric.evaluate(freq_first, freq_last, freq_bigram,\n",
        "                                         self.language_model.get_vocab_size())\n",
        "            collocations.add((metric_val, freq_first,\n",
        "                              freq_last, freq_bigram,\n",
        "                              first, last))\n",
        "        return collocations"
      ]
    },
    {
      "cell_type": "code",
      "execution_count": 6,
      "id": "818c1865",
      "metadata": {
        "id": "818c1865"
      },
      "outputs": [],
      "source": [
        "fname = \"/content/Dostoevsky.txt\"\n",
        "with open(fname, 'r', encoding='utf-8') as fin:\n",
        "    data = ['^ ' + line.strip() + ' $' for line in fin.readlines() if not line.isspace()]"
      ]
    },
    {
      "cell_type": "code",
      "source": [
        "data[:5]"
      ],
      "metadata": {
        "colab": {
          "base_uri": "https://localhost:8080/"
        },
        "id": "k44VHbEwlVDK",
        "outputId": "d5b86655-a744-445c-c799-702731aefa15"
      },
      "id": "k44VHbEwlVDK",
      "execution_count": 7,
      "outputs": [
        {
          "output_type": "execute_result",
          "data": {
            "text/plain": [
              "['^ Федор Михайлович Достоевский $',\n",
              " '^ Бедные люди $',\n",
              " '^ РОМАН $',\n",
              " '^ Ох уж эти мне сказочники! $',\n",
              " '^ Нет чтобы написать что-нибудь полезное, приятное, усладительное, а то всю подноготную в земле вырывают!.. $']"
            ]
          },
          "metadata": {},
          "execution_count": 7
        }
      ]
    },
    {
      "cell_type": "code",
      "source": [
        "import nltk\n",
        "nltk.download('punkt')"
      ],
      "metadata": {
        "colab": {
          "base_uri": "https://localhost:8080/"
        },
        "id": "0BJ4JrhZy7n4",
        "outputId": "71e95411-4c1e-4b08-cf48-f93bc3fa544d"
      },
      "id": "0BJ4JrhZy7n4",
      "execution_count": 8,
      "outputs": [
        {
          "output_type": "stream",
          "name": "stderr",
          "text": [
            "[nltk_data] Downloading package punkt to /root/nltk_data...\n",
            "[nltk_data]   Unzipping tokenizers/punkt.zip.\n"
          ]
        },
        {
          "output_type": "execute_result",
          "data": {
            "text/plain": [
              "True"
            ]
          },
          "metadata": {},
          "execution_count": 8
        }
      ]
    },
    {
      "cell_type": "code",
      "execution_count": 17,
      "id": "f99c3a6d",
      "metadata": {
        "id": "f99c3a6d",
        "colab": {
          "base_uri": "https://localhost:8080/"
        },
        "outputId": "77c6f7ac-0e11-4e2f-cb7b-a9bebdec6067"
      },
      "outputs": [
        {
          "output_type": "stream",
          "name": "stderr",
          "text": [
            "100%|██████████| 31939/31939 [19:31<00:00, 27.27it/s]\n",
            "100%|██████████| 478281/478281 [00:00<00:00, 606148.19it/s]\n"
          ]
        },
        {
          "output_type": "execute_result",
          "data": {
            "text/plain": [
              "<__main__.LanguageModel at 0x7fa05c7599a0>"
            ]
          },
          "metadata": {},
          "execution_count": 17
        }
      ],
      "source": [
        "model = LanguageModel(lowercase=True)\n",
        "model.fit(data)"
      ]
    },
    {
      "cell_type": "code",
      "execution_count": 30,
      "id": "62a7597f",
      "metadata": {
        "id": "62a7597f"
      },
      "outputs": [],
      "source": [
        "collocations_extractor = CollocationExtractor(lm=model)"
      ]
    },
    {
      "cell_type": "code",
      "source": [
        "TOPN = 100"
      ],
      "metadata": {
        "id": "kRt8fGC2zaN-"
      },
      "id": "kRt8fGC2zaN-",
      "execution_count": 19,
      "outputs": []
    },
    {
      "cell_type": "code",
      "execution_count": 20,
      "id": "b0f2db8b",
      "metadata": {
        "id": "b0f2db8b",
        "colab": {
          "base_uri": "https://localhost:8080/"
        },
        "outputId": "be6eec7d-2984-46ee-f1bf-71c450712f2b"
      },
      "outputs": [
        {
          "output_type": "stream",
          "name": "stdout",
          "text": [
            "Mutual Information results...\n"
          ]
        },
        {
          "output_type": "stream",
          "name": "stderr",
          "text": [
            "100%|██████████| 478281/478281 [00:03<00:00, 131004.15it/s]"
          ]
        },
        {
          "output_type": "stream",
          "name": "stdout",
          "text": [
            "(6.088641032447621, 1, 1, 1, 'миловидного', 'личика-то')\n",
            "(6.088641032447621, 1, 1, 1, 'весенними', 'ароматами')\n",
            "(6.088641032447621, 1, 1, 1, 'птичкой', 'небесной')\n",
            "(6.088641032447621, 1, 1, 1, 'пунсовые', 'крестиками')\n",
            "(6.088641032447621, 1, 1, 1, 'аршинных', 'спицах')\n",
            "(6.088641032447621, 1, 1, 1, 'подопрет', 'ручонкой')\n",
            "(6.088641032447621, 1, 1, 1, 'ручонкой', 'розовую')\n",
            "(6.088641032447621, 1, 1, 1, 'розовую', 'щечку')\n",
            "(6.088641032447621, 1, 1, 1, 'покорнейшею', 'услужницей')\n",
            "(6.088641032447621, 1, 1, 1, 'шкафы', 'поломанные')\n",
            "(6.088641032447621, 1, 1, 1, 'яичною', 'скорлупою')\n",
            "(6.088641032447621, 1, 1, 1, 'рыбьими', 'пузырями')\n",
            "(6.088641032447621, 1, 1, 1, 'тульским', 'заседателем')\n",
            "(6.088641032447621, 1, 1, 1, 'благорастворение', 'воздухов')\n",
            "(6.088641032447621, 1, 1, 1, 'воздадим', 'благодарение')\n",
            "(6.088641032447621, 1, 1, 1, 'крикливые', 'стаи')\n",
            "(6.088641032447621, 1, 1, 1, 'лютом', 'жребии')\n",
            "(6.088641032447621, 1, 1, 1, 'поминутного', 'болтания')\n",
            "(6.088641032447621, 1, 1, 1, 'саше', 'пряничных')\n",
            "(6.088641032447621, 1, 1, 1, 'пряничных', 'петушков')\n",
            "(6.088641032447621, 1, 1, 1, 'попавшийся', 'запыленный')\n",
            "(6.088641032447621, 1, 1, 1, 'изъеденное', 'червями')\n",
            "(6.088641032447621, 1, 1, 1, 'червями', 'латинское')\n",
            "(6.088641032447621, 1, 1, 1, 'зноя', 'дневного')\n",
            "(6.088641032447621, 1, 1, 1, 'обильным', 'потоком')\n",
            "(6.088641032447621, 1, 1, 1, 'потоком', 'прихлынули')\n",
            "(6.088641032447621, 1, 1, 1, 'сладостнее', 'потрясали')\n",
            "(6.088641032447621, 1, 1, 1, 'букинист', 'навьючил')\n",
            "(6.088641032447621, 1, 1, 1, 'служебному', 'поприщу')\n",
            "(6.088641032447621, 1, 1, 1, 'пренегодная', 'книжонка')\n",
            "(6.088641032447621, 1, 1, 1, 'ратазяев-то', 'смекает')\n",
            "(6.088641032447621, 1, 1, 1, 'спанья-то', 'ненужного')\n",
            "(6.088641032447621, 1, 1, 1, 'казацкая', 'сабля')\n",
            "(6.088641032447621, 1, 1, 1, 'сабля', 'взовьется')\n",
            "(6.088641032447621, 1, 1, 1, 'нанесть', 'смертельный')\n",
            "(6.088641032447621, 1, 1, 1, 'шаркать', 'железом')\n",
            "(6.088641032447621, 1, 1, 1, 'точа', 'булатный')\n",
            "(6.088641032447621, 1, 1, 1, 'прокофьевича', 'желтопуза')\n",
            "(6.088641032447621, 1, 1, 1, 'пелагея', 'антоновна')\n",
            "(6.088641032447621, 1, 1, 1, 'пелагею', 'антоновну')\n",
            "(6.088641032447621, 1, 1, 1, 'ивиковы', 'журавли')\n",
            "(6.088641032447621, 1, 1, 1, 'самсонов', 'выриных')\n",
            "(6.088641032447621, 1, 1, 1, 'овчинным', 'тулупом')\n",
            "(6.088641032447621, 1, 1, 1, 'пуншиком', 'захлебывает')\n",
            "(6.088641032447621, 1, 1, 1, 'заблудшей', 'овечке')\n",
            "(6.088641032447621, 1, 1, 1, 'нарушении', 'общественного')\n",
            "(6.088641032447621, 1, 1, 1, 'пересуда', 'трепещешь')\n",
            "(6.088641032447621, 1, 1, 1, 'взором', 'поводит')\n",
            "(6.088641032447621, 1, 1, 1, 'воробьем', 'ощипанным')\n",
            "(6.088641032447621, 1, 1, 1, 'ниточках', 'мотаются')\n",
            "(6.088641032447621, 1, 1, 1, 'ножичек', 'надобился')\n",
            "(6.088641032447621, 1, 1, 1, 'надежды-то', 'полн')\n",
            "(6.088641032447621, 1, 1, 1, 'борта', 'обсыпалась')\n",
            "(6.088641032447621, 1, 1, 1, 'необходимостей', 'трехрублевик')\n",
            "(6.088641032447621, 1, 1, 1, 'полфунтика', 'табачку')\n",
            "(6.088641032447621, 1, 1, 1, 'удовольствиями', 'наслаждаюсь')\n",
            "(6.088641032447621, 1, 1, 1, 'испачканных', 'повстречалась')\n",
            "(6.088641032447621, 1, 1, 1, 'спросил-таки', 'будочника')\n",
            "(6.088641032447621, 1, 1, 1, 'гривенничку', 'христарадничаете')\n",
            "(6.088641032447621, 1, 1, 1, 'беспаспортному', 'бродяге')\n",
            "(6.088641032447621, 1, 1, 1, 'кровожадным', 'тигром')\n",
            "(6.088641032447621, 1, 1, 1, 'маковой', 'росинки')\n",
            "(6.088641032447621, 1, 1, 1, 'засветятся', 'огоньки')\n",
            "(6.088641032447621, 1, 1, 1, 'вязанка', 'хворосту')\n",
            "(6.088641032447621, 1, 1, 1, 'легонького', 'ветерка')\n",
            "(6.088641032447621, 1, 1, 1, 'резцом', 'обрезано')\n",
            "(6.088641032447621, 1, 1, 1, 'ветка', 'ракитовая')\n",
            "(6.088641032447621, 1, 1, 1, 'чайка', 'запоздалая')\n",
            "(6.088641032447621, 1, 1, 1, 'стелятся', 'тропами')\n",
            "(6.088641032447621, 1, 1, 1, 'чахлых', 'веток')\n",
            "(6.088641032447621, 1, 1, 1, 'шумною', 'стаей')\n",
            "(6.088641032447621, 1, 1, 1, 'жмемся', 'подружка')\n",
            "(6.088641032447621, 1, 1, 1, 'гудит', 'самопрялка')\n",
            "(6.088641032447621, 1, 1, 1, 'обнаженных', 'сучьях')\n",
            "(6.088641032447621, 1, 1, 1, 'судоходный', 'канал')\n",
            "(6.088641032447621, 1, 1, 1, 'канал', 'фонтанка')\n",
            "(6.088641032447621, 1, 1, 1, 'гнилыми', 'яблоками')\n",
            "(6.088641032447621, 1, 1, 1, 'женам', 'дарят')\n",
            "(6.088641032447621, 1, 1, 1, 'они-де', 'назойливы')\n",
            "(6.088641032447621, 1, 1, 1, 'зрелищем', 'умалишься')\n",
            "(6.088641032447621, 1, 1, 1, 'сплутовал', 'подрядом')\n",
            "(6.088641032447621, 1, 1, 1, 'оторванным', 'ниткам')\n",
            "(6.088641032447621, 1, 1, 1, 'вынимают', 'книжник')\n",
            "(6.088641032447621, 1, 1, 1, 'впечатления-то', 'утренние')\n",
            "(6.088641032447621, 1, 1, 1, 'аксентием', 'михайловичем')\n",
            "(6.088641032447621, 1, 1, 1, 'настасьин', 'двоюродный')\n",
            "(6.088641032447621, 1, 1, 1, 'окончательную', 'резолюцию')\n",
            "(6.088641032447621, 1, 1, 1, 'рубашек', 'голландского')\n",
            "(6.088641032447621, 1, 1, 1, 'голландского', 'полотна')\n",
            "(6.088641032447621, 1, 1, 1, 'шины', 'кордонне')\n",
            "(6.088641032447621, 1, 1, 1, 'дерев', 'осыпались')\n",
            "(6.088641032447621, 1, 1, 1, 'мертвенное', 'восьмидесятилетнее')\n",
            "(6.088641032447621, 1, 1, 1, 'иллюстрированного', 'гаварни')\n",
            "(6.088641032447621, 1, 1, 1, 'ходячих', 'афишек')\n",
            "(6.088641032447621, 1, 1, 1, 'наблюдалась', 'патриархальность')\n",
            "(6.088641032447621, 1, 1, 1, 'белокуренькой', 'немочкой')\n",
            "(6.088641032447621, 1, 1, 1, 'остроумца', 'сафира')\n",
            "(6.088641032447621, 1, 1, 1, 'ободрительно', 'трепля')\n",
            "(6.088641032447621, 1, 1, 1, 'ше-стой', 'ли-нии')\n",
            "(6.088641032447621, 1, 1, 1, 'высовывалась', 'мочала')\n"
          ]
        },
        {
          "output_type": "stream",
          "name": "stderr",
          "text": [
            "\n"
          ]
        }
      ],
      "source": [
        "print(\"Mutual Information results...\")\n",
        "collocations_list = collocations_extractor.extract_collocations(PMI)\n",
        "for collocation in collocations_list[:TOPN]:\n",
        "    print(collocation)"
      ]
    },
    {
      "cell_type": "code",
      "execution_count": 21,
      "id": "8fb2ed1d",
      "metadata": {
        "id": "8fb2ed1d",
        "colab": {
          "base_uri": "https://localhost:8080/"
        },
        "outputId": "8f9e3cb4-46fa-42a6-d526-9a1bcd74809a"
      },
      "outputs": [
        {
          "output_type": "stream",
          "name": "stdout",
          "text": [
            "T-Score results...\n"
          ]
        },
        {
          "output_type": "stream",
          "name": "stderr",
          "text": [
            "100%|██████████| 478281/478281 [00:04<00:00, 102060.22it/s]"
          ]
        },
        {
          "output_type": "stream",
          "name": "stdout",
          "text": [
            "(2.222320186052034, 6, 6, 6, 'мистером', 'астлеем')\n",
            "(2.222320186052034, 6, 6, 6, 'авдотью', 'романовну')\n",
            "(2.1471212742162913, 5, 5, 5, 'авдотьей', 'романовной')\n",
            "(2.1471212742162913, 5, 5, 5, 'степане', 'трофимовиче')\n",
            "(2.1471212742162913, 5, 5, 5, 'арины', 'прохоровны')\n",
            "(2.1289061670293923, 10, 11, 10, 'смертном', 'одре')\n",
            "(2.101482469931303, 7, 6, 6, 'cinq', 'sous')\n",
            "(2.039575132766401, 6, 5, 5, 'mille', 'francs')\n",
            "(2.0375821047202605, 4, 4, 4, 'никодиму', 'фомичу')\n",
            "(2.0375821047202605, 4, 4, 4, 'премудрый', 'змий')\n",
            "(1.9440101192141028, 5, 4, 4, 'бараний', 'рог')\n",
            "(1.9440101192141028, 5, 4, 4, 'алексеем', 'нилычем')\n",
            "(1.8875688432170428, 3, 3, 3, 'ноев', 'ковчег')\n",
            "(1.8875688432170428, 3, 3, 3, 'синильная', 'кислота')\n",
            "(1.8875688432170428, 3, 3, 3, 'стопки', 'паньски')\n",
            "(1.8875688432170428, 3, 3, 3, 'никодимом', 'фомичом')\n",
            "(1.8875688432170428, 3, 3, 3, 'благим', 'матом')\n",
            "(1.8875688432170428, 3, 3, 3, 'toutes', 'lettres')\n",
            "(1.8875688432170428, 3, 3, 3, 'морген', 'фри')\n",
            "(1.8875688432170428, 3, 3, 3, 'è', 'vero')\n",
            "(1.8875688432170428, 3, 3, 3, 'солнечном', 'луче')\n",
            "(1.8875688432170428, 3, 3, 3, 'хоре', 'участница')\n",
            "(1.8875688432170428, 3, 3, 3, 'антон', 'лаврентьевич')\n",
            "(1.8875688432170428, 3, 3, 3, 'activité', 'dévorante')\n",
            "(1.8875688432170428, 3, 3, 3, 'mein', 'lieber')\n",
            "(1.8875688432170428, 3, 3, 3, 'ариной', 'прохоровной')\n",
            "(1.8875688432170428, 3, 3, 3, 'арину', 'прохоровну')\n",
            "(1.8756938585441898, 14, 14, 14, 'степаном', 'трофимовичем')\n",
            "(1.8709956546426814, 5, 5, 4, 'макаре', 'ивановиче')\n",
            "(1.8709956546426814, 5, 5, 4, 'лорд', 'байрон')\n",
            "(1.8692009531478002, 12, 12, 11, 'маврикием', 'николаевичем')\n",
            "(1.864233908936025, 4, 7, 4, 'козловых', 'башмаках')\n",
            "(1.8625029307001766, 13, 14, 13, 'мистеру', 'астлею')\n",
            "(1.8505860530861307, 6, 4, 4, \"m'en\", 'souviens')\n",
            "(1.8505860530861307, 6, 4, 4, 'ангелу', 'лаодикийской')\n",
            "(1.8403589160282003, 3, 4, 3, 'чайный', 'прибор')\n",
            "(1.8403589160282003, 3, 4, 3, 'аус', 'берлин')\n",
            "(1.8403589160282003, 3, 4, 3, 'правому', 'виску')\n",
            "(1.8403589160282003, 3, 4, 3, 'рядовой', 'колпаков')\n",
            "(1.8355914809577316, 8, 10, 7, 'юлией', 'михайловной')\n",
            "(1.824861215722738, 8, 5, 5, 'афанасием', 'матвеичем')\n",
            "(1.8207507075296916, 13, 11, 11, 'авдотьи', 'романовны')\n",
            "(1.814693877551021, 9, 11, 8, 'маврикию', 'николаевичу')\n",
            "(1.808991939694041, 5, 10, 5, 'смертную', 'казнь')\n",
            "(1.8089795918367346, 4, 3, 3, 'коллежский', 'асессор')\n",
            "(1.7936263667563352, 6, 8, 5, 'шестую', 'линию')\n",
            "(1.7931489888393584, 3, 5, 3, 'полиньку', 'сакс')\n",
            "(1.7459390616505162, 3, 6, 3, 'cinquante', 'mille')\n",
            "(1.7459390616505162, 3, 6, 3, 'сороковых', 'годов')\n",
            "(1.7459390616505162, 3, 6, 3, 'захожий', 'монашек')\n",
            "(1.7459390616505162, 3, 6, 3, 'светозерскую', 'пустынь')\n",
            "(1.7453061224489794, 4, 4, 3, 'as-tu', 'vu')\n",
            "(1.7453061224489794, 4, 4, 3, 'иеромонаху', 'мисаилу')\n",
            "(1.7362925646486376, 12, 13, 11, 'quelque', 'chose')\n",
            "(1.730553950158391, 5, 3, 3, 'осаду', 'карса')\n",
            "(1.730553950158391, 5, 3, 3, 'евгении', 'павлыче')\n",
            "(1.730553950158391, 5, 3, 3, 'антона', 'горемыку')\n",
            "(1.730553950158391, 5, 3, 3, 'танцевал', 'краковяк')\n",
            "(1.724966725499838, 5, 7, 4, 'разинули', 'рты')\n",
            "(1.724966725499838, 5, 7, 4, 'здравому', 'смыслу')\n",
            "(1.724375782048298, 13, 15, 13, 'никодим', 'фомич')\n",
            "(1.7116434447529798, 6, 9, 5, 'адам', 'иваныч')\n",
            "(1.7116434447529798, 6, 9, 5, 'soit', 'dit')\n",
            "(1.698729134461674, 3, 7, 3, 'хрустальный', 'дворец')\n",
            "(1.698729134461674, 3, 7, 3, 'пятнадцатого', 'ноября')\n",
            "(1.6865658689608203, 2, 2, 2, 'всяки', 'превосходны')\n",
            "(1.6865658689608203, 2, 2, 2, 'злодеи', 'жестокосердые')\n",
            "(1.6865658689608203, 2, 2, 2, 'алексее', 'михайловиче')\n",
            "(1.6865658689608203, 2, 2, 2, 'горловую', 'спазму')\n",
            "(1.6865658689608203, 2, 2, 2, 'tiers', 'état')\n",
            "(1.6865658689608203, 2, 2, 2, 'юлий', 'цезарь')\n",
            "(1.6865658689608203, 2, 2, 2, 'фридрих', 'барбаруса')\n",
            "(1.6865658689608203, 2, 2, 2, 'карпа', 'васильича')\n",
            "(1.6865658689608203, 2, 2, 2, 'начинающихся', 'реформах')\n",
            "(1.6865658689608203, 2, 2, 2, 'пряничного', 'петушка')\n",
            "(1.6865658689608203, 2, 2, 2, 'beau', 'matin')\n",
            "(1.6865658689608203, 2, 2, 2, \"l'herbe\", 'fraîche')\n",
            "(1.6865658689608203, 2, 2, 2, 'мистере', 'астлее')\n",
            "(1.6865658689608203, 2, 2, 2, 'северный', 'полюс')\n",
            "(1.6865658689608203, 2, 2, 2, 'желтому', 'билету')\n",
            "(1.6865658689608203, 2, 2, 2, 'табачного', 'дыма')\n",
            "(1.6865658689608203, 2, 2, 2, 'преблагополучно', 'прокатимся')\n",
            "(1.6865658689608203, 2, 2, 2, 'никодима', 'фомича')\n",
            "(1.6865658689608203, 2, 2, 2, 'гертруды', 'карловны')\n",
            "(1.6865658689608203, 2, 2, 2, 'помойных', 'ямах')\n",
            "(1.6865658689608203, 2, 2, 2, 'расфуфыренных', 'шлепохвостниц')\n",
            "(1.6865658689608203, 2, 2, 2, 'потомственного', 'почетного')\n",
            "(1.6865658689608203, 2, 2, 2, 'игумена', 'пафнутия')\n",
            "(1.6865658689608203, 2, 2, 2, 'каминные', 'щипцы')\n",
            "(1.6865658689608203, 2, 2, 2, 'оленьим', 'черенком')\n",
            "(1.6865658689608203, 2, 2, 2, 'прехладнокровно', 'исключить')\n",
            "(1.6865658689608203, 2, 2, 2, 'мамелюк', 'рустан')\n",
            "(1.6865658689608203, 2, 2, 2, 'биографии', 'многочтимого')\n",
            "(1.6865658689608203, 2, 2, 2, 'подготовительных', 'материалов')\n",
            "(1.6865658689608203, 2, 2, 2, 'исцелился', 'бесновавшийся')\n",
            "(1.6865658689608203, 2, 2, 2, 'ses', 'veaux')\n",
            "(1.6865658689608203, 2, 2, 2, 'перламутровыми', 'пуговками')\n",
            "(1.6865658689608203, 2, 2, 2, 'forèat', 'évadé')\n",
            "(1.6865658689608203, 2, 2, 2, 'раскаявшийся', 'вольнодумец')\n",
            "(1.6865658689608203, 2, 2, 2, 'sang', 'impur')\n"
          ]
        },
        {
          "output_type": "stream",
          "name": "stderr",
          "text": [
            "\n"
          ]
        }
      ],
      "source": [
        "print(\"T-Score results...\")\n",
        "collocations_list = collocations_extractor.extract_collocations(TScore)\n",
        "for collocation in collocations_list[:TOPN]:\n",
        "    print(collocation)"
      ]
    },
    {
      "cell_type": "code",
      "source": [
        "model.get_unigrams()['часочек-другой'], model.get_bigrams()[('часочек-другой', 'люблю')]"
      ],
      "metadata": {
        "colab": {
          "base_uri": "https://localhost:8080/"
        },
        "id": "Bp-QcRxnFSXw",
        "outputId": "002a3ebe-2476-4e19-bcea-b1041b433412"
      },
      "id": "Bp-QcRxnFSXw",
      "execution_count": 22,
      "outputs": [
        {
          "output_type": "execute_result",
          "data": {
            "text/plain": [
              "(1, 1)"
            ]
          },
          "metadata": {},
          "execution_count": 22
        }
      ]
    },
    {
      "cell_type": "code",
      "source": [
        "model.get_unigrams()['что-то'], sum(1 for t in model.get_bigrams() if t[0] == 'что-то')"
      ],
      "metadata": {
        "colab": {
          "base_uri": "https://localhost:8080/"
        },
        "id": "mPI95PRGjeRw",
        "outputId": "04be3370-55c0-4339-9b00-31419de48bd7"
      },
      "id": "mPI95PRGjeRw",
      "execution_count": 23,
      "outputs": [
        {
          "output_type": "execute_result",
          "data": {
            "text/plain": [
              "(806, 402)"
            ]
          },
          "metadata": {},
          "execution_count": 23
        }
      ]
    },
    {
      "cell_type": "code",
      "source": [
        "model.get_first_words_of_bigrams()['что-то'], model.get_last_words_of_bigrams()['что-то']"
      ],
      "metadata": {
        "colab": {
          "base_uri": "https://localhost:8080/"
        },
        "id": "kf6hrzxYmSjx",
        "outputId": "e9505f18-fd8b-49e8-a889-9f8287649461"
      },
      "id": "kf6hrzxYmSjx",
      "execution_count": 26,
      "outputs": [
        {
          "output_type": "execute_result",
          "data": {
            "text/plain": [
              "(806, 806)"
            ]
          },
          "metadata": {},
          "execution_count": 26
        }
      ]
    },
    {
      "cell_type": "code",
      "source": [
        "print(\"ChiSquare-Score results...\")\n",
        "collocations_list = collocations_extractor.extract_collocations(ChiSquareScore)\n",
        "for collocation in collocations_list[:TOPN]:\n",
        "    print(collocation)"
      ],
      "metadata": {
        "colab": {
          "base_uri": "https://localhost:8080/"
        },
        "id": "uoajy-88NPir",
        "outputId": "003eb5b2-a97e-43bf-932b-41dc83139079"
      },
      "id": "uoajy-88NPir",
      "execution_count": 31,
      "outputs": [
        {
          "output_type": "stream",
          "name": "stdout",
          "text": [
            "ChiSquare-Score results...\n"
          ]
        },
        {
          "output_type": "stream",
          "name": "stderr",
          "text": [
            "100%|██████████| 478281/478281 [00:04<00:00, 102406.60it/s]\n"
          ]
        },
        {
          "output_type": "stream",
          "name": "stdout",
          "text": [
            "(1.0000022060115776, 1, 1, 1, 'миловидного', 'личика-то')\n",
            "(1.0000022060115776, 1, 1, 1, 'весенними', 'ароматами')\n",
            "(1.0000022060115776, 1, 1, 1, 'птичкой', 'небесной')\n",
            "(1.0000022060115776, 1, 1, 1, 'пунсовые', 'крестиками')\n",
            "(1.0000022060115776, 1, 1, 1, 'аршинных', 'спицах')\n",
            "(1.0000022060115776, 1, 1, 1, 'подопрет', 'ручонкой')\n",
            "(1.0000022060115776, 1, 1, 1, 'ручонкой', 'розовую')\n",
            "(1.0000022060115776, 1, 1, 1, 'розовую', 'щечку')\n",
            "(1.0000022060115776, 1, 1, 1, 'покорнейшею', 'услужницей')\n",
            "(1.0000022060115776, 1, 1, 1, 'шкафы', 'поломанные')\n",
            "(1.0000022060115776, 1, 1, 1, 'яичною', 'скорлупою')\n",
            "(1.0000022060115776, 1, 1, 1, 'рыбьими', 'пузырями')\n",
            "(1.0000022060115776, 1, 1, 1, 'тульским', 'заседателем')\n",
            "(1.0000022060115776, 1, 1, 1, 'благорастворение', 'воздухов')\n",
            "(1.0000022060115776, 1, 1, 1, 'воздадим', 'благодарение')\n",
            "(1.0000022060115776, 1, 1, 1, 'крикливые', 'стаи')\n",
            "(1.0000022060115776, 1, 1, 1, 'лютом', 'жребии')\n",
            "(1.0000022060115776, 1, 1, 1, 'поминутного', 'болтания')\n",
            "(1.0000022060115776, 1, 1, 1, 'саше', 'пряничных')\n",
            "(1.0000022060115776, 1, 1, 1, 'пряничных', 'петушков')\n",
            "(1.0000022060115776, 1, 1, 1, 'попавшийся', 'запыленный')\n",
            "(1.0000022060115776, 1, 1, 1, 'изъеденное', 'червями')\n",
            "(1.0000022060115776, 1, 1, 1, 'червями', 'латинское')\n",
            "(1.0000022060115776, 1, 1, 1, 'зноя', 'дневного')\n",
            "(1.0000022060115776, 1, 1, 1, 'обильным', 'потоком')\n",
            "(1.0000022060115776, 1, 1, 1, 'потоком', 'прихлынули')\n",
            "(1.0000022060115776, 1, 1, 1, 'сладостнее', 'потрясали')\n",
            "(1.0000022060115776, 1, 1, 1, 'букинист', 'навьючил')\n",
            "(1.0000022060115776, 1, 1, 1, 'служебному', 'поприщу')\n",
            "(1.0000022060115776, 1, 1, 1, 'пренегодная', 'книжонка')\n",
            "(1.0000022060115776, 1, 1, 1, 'ратазяев-то', 'смекает')\n",
            "(1.0000022060115776, 1, 1, 1, 'спанья-то', 'ненужного')\n",
            "(1.0000022060115776, 1, 1, 1, 'казацкая', 'сабля')\n",
            "(1.0000022060115776, 1, 1, 1, 'сабля', 'взовьется')\n",
            "(1.0000022060115776, 1, 1, 1, 'нанесть', 'смертельный')\n",
            "(1.0000022060115776, 1, 1, 1, 'шаркать', 'железом')\n",
            "(1.0000022060115776, 1, 1, 1, 'точа', 'булатный')\n",
            "(1.0000022060115776, 1, 1, 1, 'прокофьевича', 'желтопуза')\n",
            "(1.0000022060115776, 1, 1, 1, 'пелагея', 'антоновна')\n",
            "(1.0000022060115776, 1, 1, 1, 'пелагею', 'антоновну')\n",
            "(1.0000022060115776, 1, 1, 1, 'ивиковы', 'журавли')\n",
            "(1.0000022060115776, 1, 1, 1, 'самсонов', 'выриных')\n",
            "(1.0000022060115776, 1, 1, 1, 'овчинным', 'тулупом')\n",
            "(1.0000022060115776, 1, 1, 1, 'пуншиком', 'захлебывает')\n",
            "(1.0000022060115776, 1, 1, 1, 'заблудшей', 'овечке')\n",
            "(1.0000022060115776, 1, 1, 1, 'нарушении', 'общественного')\n",
            "(1.0000022060115776, 1, 1, 1, 'пересуда', 'трепещешь')\n",
            "(1.0000022060115776, 1, 1, 1, 'взором', 'поводит')\n",
            "(1.0000022060115776, 1, 1, 1, 'воробьем', 'ощипанным')\n",
            "(1.0000022060115776, 1, 1, 1, 'ниточках', 'мотаются')\n",
            "(1.0000022060115776, 1, 1, 1, 'ножичек', 'надобился')\n",
            "(1.0000022060115776, 1, 1, 1, 'надежды-то', 'полн')\n",
            "(1.0000022060115776, 1, 1, 1, 'борта', 'обсыпалась')\n",
            "(1.0000022060115776, 1, 1, 1, 'необходимостей', 'трехрублевик')\n",
            "(1.0000022060115776, 1, 1, 1, 'полфунтика', 'табачку')\n",
            "(1.0000022060115776, 1, 1, 1, 'удовольствиями', 'наслаждаюсь')\n",
            "(1.0000022060115776, 1, 1, 1, 'испачканных', 'повстречалась')\n",
            "(1.0000022060115776, 1, 1, 1, 'спросил-таки', 'будочника')\n",
            "(1.0000022060115776, 1, 1, 1, 'гривенничку', 'христарадничаете')\n",
            "(1.0000022060115776, 1, 1, 1, 'беспаспортному', 'бродяге')\n",
            "(1.0000022060115776, 1, 1, 1, 'кровожадным', 'тигром')\n",
            "(1.0000022060115776, 1, 1, 1, 'маковой', 'росинки')\n",
            "(1.0000022060115776, 1, 1, 1, 'засветятся', 'огоньки')\n",
            "(1.0000022060115776, 1, 1, 1, 'вязанка', 'хворосту')\n",
            "(1.0000022060115776, 1, 1, 1, 'легонького', 'ветерка')\n",
            "(1.0000022060115776, 1, 1, 1, 'резцом', 'обрезано')\n",
            "(1.0000022060115776, 1, 1, 1, 'ветка', 'ракитовая')\n",
            "(1.0000022060115776, 1, 1, 1, 'чайка', 'запоздалая')\n",
            "(1.0000022060115776, 1, 1, 1, 'стелятся', 'тропами')\n",
            "(1.0000022060115776, 1, 1, 1, 'чахлых', 'веток')\n",
            "(1.0000022060115776, 1, 1, 1, 'шумною', 'стаей')\n",
            "(1.0000022060115776, 1, 1, 1, 'жмемся', 'подружка')\n",
            "(1.0000022060115776, 1, 1, 1, 'гудит', 'самопрялка')\n",
            "(1.0000022060115776, 1, 1, 1, 'обнаженных', 'сучьях')\n",
            "(1.0000022060115776, 1, 1, 1, 'судоходный', 'канал')\n",
            "(1.0000022060115776, 1, 1, 1, 'канал', 'фонтанка')\n",
            "(1.0000022060115776, 1, 1, 1, 'гнилыми', 'яблоками')\n",
            "(1.0000022060115776, 1, 1, 1, 'женам', 'дарят')\n",
            "(1.0000022060115776, 1, 1, 1, 'они-де', 'назойливы')\n",
            "(1.0000022060115776, 1, 1, 1, 'зрелищем', 'умалишься')\n",
            "(1.0000022060115776, 1, 1, 1, 'сплутовал', 'подрядом')\n",
            "(1.0000022060115776, 1, 1, 1, 'оторванным', 'ниткам')\n",
            "(1.0000022060115776, 1, 1, 1, 'вынимают', 'книжник')\n",
            "(1.0000022060115776, 1, 1, 1, 'впечатления-то', 'утренние')\n",
            "(1.0000022060115776, 1, 1, 1, 'аксентием', 'михайловичем')\n",
            "(1.0000022060115776, 1, 1, 1, 'настасьин', 'двоюродный')\n",
            "(1.0000022060115776, 1, 1, 1, 'окончательную', 'резолюцию')\n",
            "(1.0000022060115776, 1, 1, 1, 'рубашек', 'голландского')\n",
            "(1.0000022060115776, 1, 1, 1, 'голландского', 'полотна')\n",
            "(1.0000022060115776, 1, 1, 1, 'шины', 'кордонне')\n",
            "(1.0000022060115776, 1, 1, 1, 'дерев', 'осыпались')\n",
            "(1.0000022060115776, 1, 1, 1, 'мертвенное', 'восьмидесятилетнее')\n",
            "(1.0000022060115776, 1, 1, 1, 'иллюстрированного', 'гаварни')\n",
            "(1.0000022060115776, 1, 1, 1, 'ходячих', 'афишек')\n",
            "(1.0000022060115776, 1, 1, 1, 'наблюдалась', 'патриархальность')\n",
            "(1.0000022060115776, 1, 1, 1, 'белокуренькой', 'немочкой')\n",
            "(1.0000022060115776, 1, 1, 1, 'остроумца', 'сафира')\n",
            "(1.0000022060115776, 1, 1, 1, 'ободрительно', 'трепля')\n",
            "(1.0000022060115776, 1, 1, 1, 'ше-стой', 'ли-нии')\n",
            "(1.0000022060115776, 1, 1, 1, 'высовывалась', 'мочала')\n"
          ]
        }
      ]
    },
    {
      "cell_type": "code",
      "execution_count": 32,
      "id": "f2fd6218",
      "metadata": {
        "id": "f2fd6218",
        "colab": {
          "base_uri": "https://localhost:8080/"
        },
        "outputId": "2e807933-985e-46d0-ceb3-a1d8b8ca3ec7"
      },
      "outputs": [
        {
          "output_type": "stream",
          "name": "stdout",
          "text": [
            "Dice results...\n"
          ]
        },
        {
          "output_type": "stream",
          "name": "stderr",
          "text": [
            "100%|██████████| 478281/478281 [00:04<00:00, 107046.75it/s]"
          ]
        },
        {
          "output_type": "stream",
          "name": "stdout",
          "text": [
            "(1.0, 1, 1, 1, 'миловидного', 'личика-то')\n",
            "(1.0, 1, 1, 1, 'весенними', 'ароматами')\n",
            "(1.0, 1, 1, 1, 'птичкой', 'небесной')\n",
            "(1.0, 3, 3, 3, 'ноев', 'ковчег')\n",
            "(1.0, 1, 1, 1, 'пунсовые', 'крестиками')\n",
            "(1.0, 1, 1, 1, 'аршинных', 'спицах')\n",
            "(1.0, 1, 1, 1, 'подопрет', 'ручонкой')\n",
            "(1.0, 1, 1, 1, 'ручонкой', 'розовую')\n",
            "(1.0, 1, 1, 1, 'розовую', 'щечку')\n",
            "(1.0, 1, 1, 1, 'покорнейшею', 'услужницей')\n",
            "(1.0, 1, 1, 1, 'шкафы', 'поломанные')\n",
            "(1.0, 1, 1, 1, 'яичною', 'скорлупою')\n",
            "(1.0, 1, 1, 1, 'рыбьими', 'пузырями')\n",
            "(1.0, 1, 1, 1, 'тульским', 'заседателем')\n",
            "(1.0, 1, 1, 1, 'благорастворение', 'воздухов')\n",
            "(1.0, 1, 1, 1, 'воздадим', 'благодарение')\n",
            "(1.0, 1, 1, 1, 'крикливые', 'стаи')\n",
            "(1.0, 1, 1, 1, 'лютом', 'жребии')\n",
            "(1.0, 1, 1, 1, 'поминутного', 'болтания')\n",
            "(1.0, 1, 1, 1, 'саше', 'пряничных')\n",
            "(1.0, 1, 1, 1, 'пряничных', 'петушков')\n",
            "(1.0, 1, 1, 1, 'попавшийся', 'запыленный')\n",
            "(1.0, 1, 1, 1, 'изъеденное', 'червями')\n",
            "(1.0, 1, 1, 1, 'червями', 'латинское')\n",
            "(1.0, 1, 1, 1, 'зноя', 'дневного')\n",
            "(1.0, 1, 1, 1, 'обильным', 'потоком')\n",
            "(1.0, 1, 1, 1, 'потоком', 'прихлынули')\n",
            "(1.0, 1, 1, 1, 'сладостнее', 'потрясали')\n",
            "(1.0, 1, 1, 1, 'букинист', 'навьючил')\n",
            "(1.0, 1, 1, 1, 'служебному', 'поприщу')\n",
            "(1.0, 1, 1, 1, 'пренегодная', 'книжонка')\n",
            "(1.0, 1, 1, 1, 'ратазяев-то', 'смекает')\n",
            "(1.0, 1, 1, 1, 'спанья-то', 'ненужного')\n",
            "(1.0, 1, 1, 1, 'казацкая', 'сабля')\n",
            "(1.0, 1, 1, 1, 'сабля', 'взовьется')\n",
            "(1.0, 1, 1, 1, 'нанесть', 'смертельный')\n",
            "(1.0, 1, 1, 1, 'шаркать', 'железом')\n",
            "(1.0, 1, 1, 1, 'точа', 'булатный')\n",
            "(1.0, 1, 1, 1, 'прокофьевича', 'желтопуза')\n",
            "(1.0, 1, 1, 1, 'пелагея', 'антоновна')\n",
            "(1.0, 1, 1, 1, 'пелагею', 'антоновну')\n",
            "(1.0, 1, 1, 1, 'ивиковы', 'журавли')\n",
            "(1.0, 1, 1, 1, 'самсонов', 'выриных')\n",
            "(1.0, 1, 1, 1, 'овчинным', 'тулупом')\n",
            "(1.0, 1, 1, 1, 'пуншиком', 'захлебывает')\n",
            "(1.0, 1, 1, 1, 'заблудшей', 'овечке')\n",
            "(1.0, 1, 1, 1, 'нарушении', 'общественного')\n",
            "(1.0, 1, 1, 1, 'пересуда', 'трепещешь')\n",
            "(1.0, 1, 1, 1, 'взором', 'поводит')\n",
            "(1.0, 1, 1, 1, 'воробьем', 'ощипанным')\n",
            "(1.0, 1, 1, 1, 'ниточках', 'мотаются')\n",
            "(1.0, 1, 1, 1, 'ножичек', 'надобился')\n",
            "(1.0, 1, 1, 1, 'надежды-то', 'полн')\n",
            "(1.0, 1, 1, 1, 'борта', 'обсыпалась')\n",
            "(1.0, 1, 1, 1, 'необходимостей', 'трехрублевик')\n",
            "(1.0, 1, 1, 1, 'полфунтика', 'табачку')\n",
            "(1.0, 1, 1, 1, 'удовольствиями', 'наслаждаюсь')\n",
            "(1.0, 1, 1, 1, 'испачканных', 'повстречалась')\n",
            "(1.0, 1, 1, 1, 'спросил-таки', 'будочника')\n",
            "(1.0, 1, 1, 1, 'гривенничку', 'христарадничаете')\n",
            "(1.0, 1, 1, 1, 'беспаспортному', 'бродяге')\n",
            "(1.0, 1, 1, 1, 'кровожадным', 'тигром')\n",
            "(1.0, 1, 1, 1, 'маковой', 'росинки')\n",
            "(1.0, 1, 1, 1, 'засветятся', 'огоньки')\n",
            "(1.0, 1, 1, 1, 'вязанка', 'хворосту')\n",
            "(1.0, 1, 1, 1, 'легонького', 'ветерка')\n",
            "(1.0, 1, 1, 1, 'резцом', 'обрезано')\n",
            "(1.0, 1, 1, 1, 'ветка', 'ракитовая')\n",
            "(1.0, 1, 1, 1, 'чайка', 'запоздалая')\n",
            "(1.0, 1, 1, 1, 'стелятся', 'тропами')\n",
            "(1.0, 1, 1, 1, 'чахлых', 'веток')\n",
            "(1.0, 1, 1, 1, 'шумною', 'стаей')\n",
            "(1.0, 1, 1, 1, 'жмемся', 'подружка')\n",
            "(1.0, 1, 1, 1, 'гудит', 'самопрялка')\n",
            "(1.0, 1, 1, 1, 'обнаженных', 'сучьях')\n",
            "(1.0, 1, 1, 1, 'судоходный', 'канал')\n",
            "(1.0, 1, 1, 1, 'канал', 'фонтанка')\n",
            "(1.0, 1, 1, 1, 'гнилыми', 'яблоками')\n",
            "(1.0, 1, 1, 1, 'женам', 'дарят')\n",
            "(1.0, 1, 1, 1, 'они-де', 'назойливы')\n",
            "(1.0, 1, 1, 1, 'зрелищем', 'умалишься')\n",
            "(1.0, 1, 1, 1, 'сплутовал', 'подрядом')\n",
            "(1.0, 1, 1, 1, 'оторванным', 'ниткам')\n",
            "(1.0, 1, 1, 1, 'вынимают', 'книжник')\n",
            "(1.0, 1, 1, 1, 'впечатления-то', 'утренние')\n",
            "(1.0, 1, 1, 1, 'аксентием', 'михайловичем')\n",
            "(1.0, 1, 1, 1, 'настасьин', 'двоюродный')\n",
            "(1.0, 1, 1, 1, 'окончательную', 'резолюцию')\n",
            "(1.0, 1, 1, 1, 'рубашек', 'голландского')\n",
            "(1.0, 1, 1, 1, 'голландского', 'полотна')\n",
            "(1.0, 1, 1, 1, 'шины', 'кордонне')\n",
            "(1.0, 1, 1, 1, 'дерев', 'осыпались')\n",
            "(1.0, 1, 1, 1, 'мертвенное', 'восьмидесятилетнее')\n",
            "(1.0, 1, 1, 1, 'иллюстрированного', 'гаварни')\n",
            "(1.0, 1, 1, 1, 'ходячих', 'афишек')\n",
            "(1.0, 1, 1, 1, 'наблюдалась', 'патриархальность')\n",
            "(1.0, 1, 1, 1, 'белокуренькой', 'немочкой')\n",
            "(1.0, 1, 1, 1, 'остроумца', 'сафира')\n",
            "(1.0, 1, 1, 1, 'ободрительно', 'трепля')\n",
            "(1.0, 2, 2, 2, 'всяки', 'превосходны')\n"
          ]
        },
        {
          "output_type": "stream",
          "name": "stderr",
          "text": [
            "\n"
          ]
        }
      ],
      "source": [
        "print(\"Dice results...\")\n",
        "collocations_list = collocations_extractor.extract_collocations(Dice)\n",
        "for collocation in collocations_list[:TOPN]:\n",
        "    print(collocation)"
      ]
    }
  ],
  "metadata": {
    "kernelspec": {
      "display_name": "Python 3 (ipykernel)",
      "language": "python",
      "name": "python3"
    },
    "language_info": {
      "codemirror_mode": {
        "name": "ipython",
        "version": 3
      },
      "file_extension": ".py",
      "mimetype": "text/x-python",
      "name": "python",
      "nbconvert_exporter": "python",
      "pygments_lexer": "ipython3",
      "version": "3.9.13"
    },
    "colab": {
      "provenance": []
    }
  },
  "nbformat": 4,
  "nbformat_minor": 5
}