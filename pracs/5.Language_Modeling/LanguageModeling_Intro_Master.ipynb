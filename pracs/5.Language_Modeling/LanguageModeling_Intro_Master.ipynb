{
  "nbformat": 4,
  "nbformat_minor": 0,
  "metadata": {
    "colab": {
      "provenance": []
    },
    "kernelspec": {
      "name": "python3",
      "display_name": "Python 3"
    },
    "language_info": {
      "name": "python"
    }
  },
  "cells": [
    {
      "cell_type": "code",
      "execution_count": 1,
      "metadata": {
        "id": "U8Ru4po4cVGm"
      },
      "outputs": [],
      "source": [
        "from collections import defaultdict\n",
        "\n",
        "import math\n",
        "\n",
        "import numpy as np\n",
        "import pandas as pd\n",
        "from sklearn.feature_extraction.text import CountVectorizer"
      ]
    },
    {
      "cell_type": "markdown",
      "source": [
        "Научимся отделять предложения на естественном языке от икусственных."
      ],
      "metadata": {
        "id": "7DuBIn1Xg71B"
      }
    },
    {
      "cell_type": "code",
      "source": [
        "df_train = pd.read_csv(\"/content/train.tsv\", sep='\\t')\n",
        "df_test = pd.read_csv(\"/content/task.tsv\", sep='\\t')"
      ],
      "metadata": {
        "id": "mmkldVUFhv_S"
      },
      "execution_count": 2,
      "outputs": []
    },
    {
      "cell_type": "code",
      "source": [
        "print(\"Read \", df_train.shape, df_test.shape)"
      ],
      "metadata": {
        "id": "hM56qHq0hxji",
        "colab": {
          "base_uri": "https://localhost:8080/"
        },
        "outputId": "b7fa2305-f88d-4407-9590-01c56517df97"
      },
      "execution_count": 3,
      "outputs": [
        {
          "output_type": "stream",
          "name": "stdout",
          "text": [
            "Read  (15119, 2) (7048, 3)\n"
          ]
        }
      ]
    },
    {
      "cell_type": "code",
      "source": [
        "df_train.head()"
      ],
      "metadata": {
        "id": "AFzKyQAzhybF",
        "colab": {
          "base_uri": "https://localhost:8080/",
          "height": 206
        },
        "outputId": "d3c6309e-5136-4b0e-8c16-920d23366bf2"
      },
      "execution_count": 4,
      "outputs": [
        {
          "output_type": "execute_result",
          "data": {
            "text/plain": [
              "   id                                               text\n",
              "0   0  старый запустить палаццо с высокий лепной плаф...\n",
              "1   1       на угол он встретить спешить ночное извозчик\n",
              "2   2  он стоялый держаться рука за перевязь швейцар ...\n",
              "3   3  если разбирать она черта она несмотря на болез...\n",
              "4   4  я считать что для я обязанность отправляться н..."
            ],
            "text/html": [
              "\n",
              "  <div id=\"df-60f0e1d6-ffbb-44b5-89b0-160f7ee2f862\">\n",
              "    <div class=\"colab-df-container\">\n",
              "      <div>\n",
              "<style scoped>\n",
              "    .dataframe tbody tr th:only-of-type {\n",
              "        vertical-align: middle;\n",
              "    }\n",
              "\n",
              "    .dataframe tbody tr th {\n",
              "        vertical-align: top;\n",
              "    }\n",
              "\n",
              "    .dataframe thead th {\n",
              "        text-align: right;\n",
              "    }\n",
              "</style>\n",
              "<table border=\"1\" class=\"dataframe\">\n",
              "  <thead>\n",
              "    <tr style=\"text-align: right;\">\n",
              "      <th></th>\n",
              "      <th>id</th>\n",
              "      <th>text</th>\n",
              "    </tr>\n",
              "  </thead>\n",
              "  <tbody>\n",
              "    <tr>\n",
              "      <th>0</th>\n",
              "      <td>0</td>\n",
              "      <td>старый запустить палаццо с высокий лепной плаф...</td>\n",
              "    </tr>\n",
              "    <tr>\n",
              "      <th>1</th>\n",
              "      <td>1</td>\n",
              "      <td>на угол он встретить спешить ночное извозчик</td>\n",
              "    </tr>\n",
              "    <tr>\n",
              "      <th>2</th>\n",
              "      <td>2</td>\n",
              "      <td>он стоялый держаться рука за перевязь швейцар ...</td>\n",
              "    </tr>\n",
              "    <tr>\n",
              "      <th>3</th>\n",
              "      <td>3</td>\n",
              "      <td>если разбирать она черта она несмотря на болез...</td>\n",
              "    </tr>\n",
              "    <tr>\n",
              "      <th>4</th>\n",
              "      <td>4</td>\n",
              "      <td>я считать что для я обязанность отправляться н...</td>\n",
              "    </tr>\n",
              "  </tbody>\n",
              "</table>\n",
              "</div>\n",
              "      <button class=\"colab-df-convert\" onclick=\"convertToInteractive('df-60f0e1d6-ffbb-44b5-89b0-160f7ee2f862')\"\n",
              "              title=\"Convert this dataframe to an interactive table.\"\n",
              "              style=\"display:none;\">\n",
              "        \n",
              "  <svg xmlns=\"http://www.w3.org/2000/svg\" height=\"24px\"viewBox=\"0 0 24 24\"\n",
              "       width=\"24px\">\n",
              "    <path d=\"M0 0h24v24H0V0z\" fill=\"none\"/>\n",
              "    <path d=\"M18.56 5.44l.94 2.06.94-2.06 2.06-.94-2.06-.94-.94-2.06-.94 2.06-2.06.94zm-11 1L8.5 8.5l.94-2.06 2.06-.94-2.06-.94L8.5 2.5l-.94 2.06-2.06.94zm10 10l.94 2.06.94-2.06 2.06-.94-2.06-.94-.94-2.06-.94 2.06-2.06.94z\"/><path d=\"M17.41 7.96l-1.37-1.37c-.4-.4-.92-.59-1.43-.59-.52 0-1.04.2-1.43.59L10.3 9.45l-7.72 7.72c-.78.78-.78 2.05 0 2.83L4 21.41c.39.39.9.59 1.41.59.51 0 1.02-.2 1.41-.59l7.78-7.78 2.81-2.81c.8-.78.8-2.07 0-2.86zM5.41 20L4 18.59l7.72-7.72 1.47 1.35L5.41 20z\"/>\n",
              "  </svg>\n",
              "      </button>\n",
              "      \n",
              "  <style>\n",
              "    .colab-df-container {\n",
              "      display:flex;\n",
              "      flex-wrap:wrap;\n",
              "      gap: 12px;\n",
              "    }\n",
              "\n",
              "    .colab-df-convert {\n",
              "      background-color: #E8F0FE;\n",
              "      border: none;\n",
              "      border-radius: 50%;\n",
              "      cursor: pointer;\n",
              "      display: none;\n",
              "      fill: #1967D2;\n",
              "      height: 32px;\n",
              "      padding: 0 0 0 0;\n",
              "      width: 32px;\n",
              "    }\n",
              "\n",
              "    .colab-df-convert:hover {\n",
              "      background-color: #E2EBFA;\n",
              "      box-shadow: 0px 1px 2px rgba(60, 64, 67, 0.3), 0px 1px 3px 1px rgba(60, 64, 67, 0.15);\n",
              "      fill: #174EA6;\n",
              "    }\n",
              "\n",
              "    [theme=dark] .colab-df-convert {\n",
              "      background-color: #3B4455;\n",
              "      fill: #D2E3FC;\n",
              "    }\n",
              "\n",
              "    [theme=dark] .colab-df-convert:hover {\n",
              "      background-color: #434B5C;\n",
              "      box-shadow: 0px 1px 3px 1px rgba(0, 0, 0, 0.15);\n",
              "      filter: drop-shadow(0px 1px 2px rgba(0, 0, 0, 0.3));\n",
              "      fill: #FFFFFF;\n",
              "    }\n",
              "  </style>\n",
              "\n",
              "      <script>\n",
              "        const buttonEl =\n",
              "          document.querySelector('#df-60f0e1d6-ffbb-44b5-89b0-160f7ee2f862 button.colab-df-convert');\n",
              "        buttonEl.style.display =\n",
              "          google.colab.kernel.accessAllowed ? 'block' : 'none';\n",
              "\n",
              "        async function convertToInteractive(key) {\n",
              "          const element = document.querySelector('#df-60f0e1d6-ffbb-44b5-89b0-160f7ee2f862');\n",
              "          const dataTable =\n",
              "            await google.colab.kernel.invokeFunction('convertToInteractive',\n",
              "                                                     [key], {});\n",
              "          if (!dataTable) return;\n",
              "\n",
              "          const docLinkHtml = 'Like what you see? Visit the ' +\n",
              "            '<a target=\"_blank\" href=https://colab.research.google.com/notebooks/data_table.ipynb>data table notebook</a>'\n",
              "            + ' to learn more about interactive tables.';\n",
              "          element.innerHTML = '';\n",
              "          dataTable['output_type'] = 'display_data';\n",
              "          await google.colab.output.renderOutput(dataTable, element);\n",
              "          const docLink = document.createElement('div');\n",
              "          docLink.innerHTML = docLinkHtml;\n",
              "          element.appendChild(docLink);\n",
              "        }\n",
              "      </script>\n",
              "    </div>\n",
              "  </div>\n",
              "  "
            ]
          },
          "metadata": {},
          "execution_count": 4
        }
      ]
    },
    {
      "cell_type": "markdown",
      "source": [
        "**Основные формулы семинара**"
      ],
      "metadata": {
        "id": "45OIoQHMD0Ai"
      }
    },
    {
      "cell_type": "markdown",
      "source": [
        "Сглаживание по Лапласу"
      ],
      "metadata": {
        "id": "e6GpwIQsELuU"
      }
    },
    {
      "cell_type": "markdown",
      "source": [
        "![O0tna.png](data:image/png;base64,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)"
      ],
      "metadata": {
        "id": "_MBsCrDiEDWC"
      }
    },
    {
      "cell_type": "markdown",
      "source": [
        "Перплексия модели"
      ],
      "metadata": {
        "id": "MphovsgXEVzb"
      }
    },
    {
      "cell_type": "markdown",
      "source": [
        "![0evWa.png](data:image/png;base64,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)"
      ],
      "metadata": {
        "id": "JR_Wo-C-ExSg"
      }
    },
    {
      "cell_type": "markdown",
      "source": [
        "![preplexity2.png](data:image/png;base64,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)"
      ],
      "metadata": {
        "id": "nYzHDhOwE8Wf"
      }
    },
    {
      "cell_type": "markdown",
      "source": [
        "Напишем нашу первую языковую модель."
      ],
      "metadata": {
        "id": "lXCDm17rCbOI"
      }
    },
    {
      "cell_type": "code",
      "source": [
        "from nltk import bigrams\n",
        "\n",
        "\n",
        "class LanguageModel(object):\n",
        "    \"\"\"\n",
        "    Реализуйте n-граммную модель со сглаживанием Лапласа\n",
        "    \"\"\"\n",
        "\n",
        "    def __init__(self, ngram_size=2, alpha=1):\n",
        "\n",
        "        if ngram_size < 2:\n",
        "            raise Exception\n",
        "\n",
        "        self.ngram_size = ngram_size\n",
        "\n",
        "        self.bigram_vectorizer = CountVectorizer(token_pattern='(\\\\S+)', ngram_range=(ngram_size, ngram_size))\n",
        "        self.context_vectorizer = CountVectorizer(token_pattern='(\\\\S+)', ngram_range=(ngram_size - 1, ngram_size - 1))\n",
        "        self.ngram_counts = defaultdict(lambda: 0)\n",
        "        self.unigram_counts = defaultdict(lambda: 0)\n",
        "        self.words_set_size = None\n",
        "\n",
        "        self.alpha = alpha\n",
        "\n",
        "    def fit(self, sentences):\n",
        "        \"\"\"\n",
        "        Обучение модели на тексте, разбитом на предложения\n",
        "        :param sentences: список предложений\n",
        "        \"\"\"\n",
        "\n",
        "        print(\"Fitting sentences\")\n",
        "\n",
        "        counts_matrix = self.bigram_vectorizer.fit_transform(sentences)\n",
        "        counts_context_matrix = self.context_vectorizer.fit_transform(sentences)\n",
        "        self.words_set_size = len(\n",
        "            set([key for bigram in self.bigram_vectorizer.vocabulary_.keys() for key in bigram.split()])\n",
        "        )\n",
        "\n",
        "        print(\"Summing...\")\n",
        "\n",
        "        sum_ngram = np.sum(counts_matrix, axis=0).A1\n",
        "        sum_context = np.sum(counts_context_matrix, axis=0).A1\n",
        "\n",
        "        print(\"shapes: \", sum_ngram.shape, sum_context.shape)\n",
        "        print(\"Iterating through ngrams...\")\n",
        "\n",
        "        V = self.words_set_size\n",
        "        for ngram in self.bigram_vectorizer.vocabulary_:\n",
        "            context = ' '.join(ngram.split()[:-1]) # context = ngram.split()[0]\n",
        "            bigram_total = sum_ngram[self.bigram_vectorizer.vocabulary_[ngram]]\n",
        "            context_total = sum_context[self.context_vectorizer.vocabulary_[context]]\n",
        "\n",
        "            self.unigram_counts[context] = np.log2(1 / (context_total + (V * self.alpha)))\n",
        "\n",
        "            prob = (bigram_total + self.alpha) / (context_total + (V * self.alpha))\n",
        "            self.ngram_counts[ngram] = np.log2(prob)\n",
        "\n",
        "        self.ngram_counts.default_factory = lambda: np.log2( self.alpha / (V * self.alpha) )\n",
        "        return self\n",
        "\n",
        "    def perplexity(self):\n",
        "        \"\"\"\n",
        "        Напишите функцию, вычисляющую perplexity полученной модели\n",
        "        :return значение float\n",
        "        \"\"\"\n",
        "        V = self.words_set_size\n",
        "        return math.pow(2, (-1/V) * sum(self.ngram_counts.values()))\n",
        "\n",
        "    def __log_prob_sentence(self, sentence):\n",
        "        \"\"\"\n",
        "        Оцениваем логарифм вероятности предложения частотами в рамках данной модели\n",
        "        :param sentence:\n",
        "        :return: логарифм вероятности\n",
        "        \"\"\"\n",
        "        sum_log = 1.0\n",
        "\n",
        "        for ngram in bigrams(sentence.split()):\n",
        "          bigram = ' '.join(ngram)\n",
        "          if bigram in self.ngram_counts:\n",
        "              sum_log += self.ngram_counts[bigram]\n",
        "          elif bigram.split()[0] in self.unigram_counts:\n",
        "              sum_log += self.unigram_counts[bigram.split()[0]]\n",
        "          else:\n",
        "              sum_log += self.ngram_counts['<UNK>']\n",
        "\n",
        "        return sum_log\n",
        "\n",
        "    def log_prob(self, sentence_list):\n",
        "        \"\"\"\n",
        "        Логарифм вероятности каждого из предложений в списке\n",
        "        \"\"\"\n",
        "        return list(map(lambda x: self.__log_prob_sentence(x), sentence_list))"
      ],
      "metadata": {
        "id": "zIhafomLg4gj"
      },
      "execution_count": 31,
      "outputs": []
    },
    {
      "cell_type": "markdown",
      "source": [
        "Обучим получившуюся модель"
      ],
      "metadata": {
        "id": "GMufq-uLBrUn"
      }
    },
    {
      "cell_type": "code",
      "source": [
        "sentences_train = df_train[\"text\"].tolist()\n",
        "sentences_train = [' '.join(['^', sentence, '$']) for sentence in sentences_train]"
      ],
      "metadata": {
        "id": "-jtwEWsGg4n_"
      },
      "execution_count": 7,
      "outputs": []
    },
    {
      "cell_type": "code",
      "source": [
        "basic_lm = LanguageModel()"
      ],
      "metadata": {
        "id": "HFtcgC4jg4jF"
      },
      "execution_count": 32,
      "outputs": []
    },
    {
      "cell_type": "code",
      "source": [
        "basic_lm.fit(sentences=sentences_train)"
      ],
      "metadata": {
        "id": "3j5lpWNYg4qU",
        "colab": {
          "base_uri": "https://localhost:8080/"
        },
        "outputId": "0f34328c-2eb1-4cc1-cb4c-b11ca52a8bd3"
      },
      "execution_count": 33,
      "outputs": [
        {
          "output_type": "stream",
          "name": "stdout",
          "text": [
            "Fitting sentences\n",
            "Summing...\n",
            "shapes:  (117870,) (12781,)\n",
            "Iterating through ngrams...\n"
          ]
        },
        {
          "output_type": "execute_result",
          "data": {
            "text/plain": [
              "<__main__.LanguageModel at 0x7fb581254cd0>"
            ]
          },
          "metadata": {},
          "execution_count": 33
        }
      ]
    },
    {
      "cell_type": "code",
      "source": [
        "basic_lm.perplexity()"
      ],
      "metadata": {
        "colab": {
          "base_uri": "https://localhost:8080/"
        },
        "id": "0oPG3ZdcygYt",
        "outputId": "d51d4c29-257d-4cbf-ce66-5704fbd68a51"
      },
      "execution_count": 34,
      "outputs": [
        {
          "output_type": "execute_result",
          "data": {
            "text/plain": [
              "4.195349915012236e+34"
            ]
          },
          "metadata": {},
          "execution_count": 34
        }
      ]
    },
    {
      "cell_type": "markdown",
      "source": [
        "Запустим на тесте"
      ],
      "metadata": {
        "id": "mIVUHYUZBp0U"
      }
    },
    {
      "cell_type": "code",
      "source": [
        "df_test.head()"
      ],
      "metadata": {
        "id": "F8XuO34cg4l7",
        "colab": {
          "base_uri": "https://localhost:8080/",
          "height": 250
        },
        "outputId": "c4d1735c-5755-4c45-984b-1cdeea0c36fc"
      },
      "execution_count": 14,
      "outputs": [
        {
          "output_type": "execute_result",
          "data": {
            "text/plain": [
              "   id                                              text1  \\\n",
              "0   0  играть перед уже в лужок горелка скосить после...   \n",
              "1   1               — крикнуть старуха на стоять в дверь   \n",
              "2   2  женщина миловидный женщина румяный — голубой д...   \n",
              "3   3  председатель быть удивлённый тем что присяжный...   \n",
              "4   4  да надо тут в суд узнать где жить фанарин или ...   \n",
              "\n",
              "                                               text2  \n",
              "0  после чай стать по скосить уже лужок перед дом...  \n",
              "1               на стоять — старуха крикнуть в дверь  \n",
              "2  три шить женщина быть федосья — феничек как он...  \n",
              "3  не умысел что « » два лишить оговорить жизнь н...  \n",
              "4  тут суд где в надо микишина фанарин » или жить...  "
            ],
            "text/html": [
              "\n",
              "  <div id=\"df-a1ad790c-bae2-4117-9bdf-603ae7a059e2\">\n",
              "    <div class=\"colab-df-container\">\n",
              "      <div>\n",
              "<style scoped>\n",
              "    .dataframe tbody tr th:only-of-type {\n",
              "        vertical-align: middle;\n",
              "    }\n",
              "\n",
              "    .dataframe tbody tr th {\n",
              "        vertical-align: top;\n",
              "    }\n",
              "\n",
              "    .dataframe thead th {\n",
              "        text-align: right;\n",
              "    }\n",
              "</style>\n",
              "<table border=\"1\" class=\"dataframe\">\n",
              "  <thead>\n",
              "    <tr style=\"text-align: right;\">\n",
              "      <th></th>\n",
              "      <th>id</th>\n",
              "      <th>text1</th>\n",
              "      <th>text2</th>\n",
              "    </tr>\n",
              "  </thead>\n",
              "  <tbody>\n",
              "    <tr>\n",
              "      <th>0</th>\n",
              "      <td>0</td>\n",
              "      <td>играть перед уже в лужок горелка скосить после...</td>\n",
              "      <td>после чай стать по скосить уже лужок перед дом...</td>\n",
              "    </tr>\n",
              "    <tr>\n",
              "      <th>1</th>\n",
              "      <td>1</td>\n",
              "      <td>— крикнуть старуха на стоять в дверь</td>\n",
              "      <td>на стоять — старуха крикнуть в дверь</td>\n",
              "    </tr>\n",
              "    <tr>\n",
              "      <th>2</th>\n",
              "      <td>2</td>\n",
              "      <td>женщина миловидный женщина румяный — голубой д...</td>\n",
              "      <td>три шить женщина быть федосья — феничек как он...</td>\n",
              "    </tr>\n",
              "    <tr>\n",
              "      <th>3</th>\n",
              "      <td>3</td>\n",
              "      <td>председатель быть удивлённый тем что присяжный...</td>\n",
              "      <td>не умысел что « » два лишить оговорить жизнь н...</td>\n",
              "    </tr>\n",
              "    <tr>\n",
              "      <th>4</th>\n",
              "      <td>4</td>\n",
              "      <td>да надо тут в суд узнать где жить фанарин или ...</td>\n",
              "      <td>тут суд где в надо микишина фанарин » или жить...</td>\n",
              "    </tr>\n",
              "  </tbody>\n",
              "</table>\n",
              "</div>\n",
              "      <button class=\"colab-df-convert\" onclick=\"convertToInteractive('df-a1ad790c-bae2-4117-9bdf-603ae7a059e2')\"\n",
              "              title=\"Convert this dataframe to an interactive table.\"\n",
              "              style=\"display:none;\">\n",
              "        \n",
              "  <svg xmlns=\"http://www.w3.org/2000/svg\" height=\"24px\"viewBox=\"0 0 24 24\"\n",
              "       width=\"24px\">\n",
              "    <path d=\"M0 0h24v24H0V0z\" fill=\"none\"/>\n",
              "    <path d=\"M18.56 5.44l.94 2.06.94-2.06 2.06-.94-2.06-.94-.94-2.06-.94 2.06-2.06.94zm-11 1L8.5 8.5l.94-2.06 2.06-.94-2.06-.94L8.5 2.5l-.94 2.06-2.06.94zm10 10l.94 2.06.94-2.06 2.06-.94-2.06-.94-.94-2.06-.94 2.06-2.06.94z\"/><path d=\"M17.41 7.96l-1.37-1.37c-.4-.4-.92-.59-1.43-.59-.52 0-1.04.2-1.43.59L10.3 9.45l-7.72 7.72c-.78.78-.78 2.05 0 2.83L4 21.41c.39.39.9.59 1.41.59.51 0 1.02-.2 1.41-.59l7.78-7.78 2.81-2.81c.8-.78.8-2.07 0-2.86zM5.41 20L4 18.59l7.72-7.72 1.47 1.35L5.41 20z\"/>\n",
              "  </svg>\n",
              "      </button>\n",
              "      \n",
              "  <style>\n",
              "    .colab-df-container {\n",
              "      display:flex;\n",
              "      flex-wrap:wrap;\n",
              "      gap: 12px;\n",
              "    }\n",
              "\n",
              "    .colab-df-convert {\n",
              "      background-color: #E8F0FE;\n",
              "      border: none;\n",
              "      border-radius: 50%;\n",
              "      cursor: pointer;\n",
              "      display: none;\n",
              "      fill: #1967D2;\n",
              "      height: 32px;\n",
              "      padding: 0 0 0 0;\n",
              "      width: 32px;\n",
              "    }\n",
              "\n",
              "    .colab-df-convert:hover {\n",
              "      background-color: #E2EBFA;\n",
              "      box-shadow: 0px 1px 2px rgba(60, 64, 67, 0.3), 0px 1px 3px 1px rgba(60, 64, 67, 0.15);\n",
              "      fill: #174EA6;\n",
              "    }\n",
              "\n",
              "    [theme=dark] .colab-df-convert {\n",
              "      background-color: #3B4455;\n",
              "      fill: #D2E3FC;\n",
              "    }\n",
              "\n",
              "    [theme=dark] .colab-df-convert:hover {\n",
              "      background-color: #434B5C;\n",
              "      box-shadow: 0px 1px 3px 1px rgba(0, 0, 0, 0.15);\n",
              "      filter: drop-shadow(0px 1px 2px rgba(0, 0, 0, 0.3));\n",
              "      fill: #FFFFFF;\n",
              "    }\n",
              "  </style>\n",
              "\n",
              "      <script>\n",
              "        const buttonEl =\n",
              "          document.querySelector('#df-a1ad790c-bae2-4117-9bdf-603ae7a059e2 button.colab-df-convert');\n",
              "        buttonEl.style.display =\n",
              "          google.colab.kernel.accessAllowed ? 'block' : 'none';\n",
              "\n",
              "        async function convertToInteractive(key) {\n",
              "          const element = document.querySelector('#df-a1ad790c-bae2-4117-9bdf-603ae7a059e2');\n",
              "          const dataTable =\n",
              "            await google.colab.kernel.invokeFunction('convertToInteractive',\n",
              "                                                     [key], {});\n",
              "          if (!dataTable) return;\n",
              "\n",
              "          const docLinkHtml = 'Like what you see? Visit the ' +\n",
              "            '<a target=\"_blank\" href=https://colab.research.google.com/notebooks/data_table.ipynb>data table notebook</a>'\n",
              "            + ' to learn more about interactive tables.';\n",
              "          element.innerHTML = '';\n",
              "          dataTable['output_type'] = 'display_data';\n",
              "          await google.colab.output.renderOutput(dataTable, element);\n",
              "          const docLink = document.createElement('div');\n",
              "          docLink.innerHTML = docLinkHtml;\n",
              "          element.appendChild(docLink);\n",
              "        }\n",
              "      </script>\n",
              "    </div>\n",
              "  </div>\n",
              "  "
            ]
          },
          "metadata": {},
          "execution_count": 14
        }
      ]
    },
    {
      "cell_type": "code",
      "source": [
        "test1, test2 = df_test[\"text1\"], df_test[\"text2\"]"
      ],
      "metadata": {
        "id": "Hl8SIo-zg4ss"
      },
      "execution_count": 15,
      "outputs": []
    },
    {
      "cell_type": "code",
      "source": [
        "logprob1, logprob2 = np.array(basic_lm.log_prob(test1)), np.array(basic_lm.log_prob(test2))"
      ],
      "metadata": {
        "id": "i79523NQg4vg"
      },
      "execution_count": 35,
      "outputs": []
    },
    {
      "cell_type": "code",
      "source": [
        "logprob1[0], logprob2[0]"
      ],
      "metadata": {
        "colab": {
          "base_uri": "https://localhost:8080/"
        },
        "id": "_4phWRxuC0l2",
        "outputId": "7cf53672-c884-407f-b308-b11de29f723d"
      },
      "execution_count": 36,
      "outputs": [
        {
          "output_type": "execute_result",
          "data": {
            "text/plain": [
              "(-144.96434704210736, -141.2890943332662)"
            ]
          },
          "metadata": {},
          "execution_count": 36
        }
      ]
    },
    {
      "cell_type": "code",
      "source": [
        "int(logprob1[0] > logprob2[0])"
      ],
      "metadata": {
        "colab": {
          "base_uri": "https://localhost:8080/"
        },
        "id": "eBjkO6meC6hI",
        "outputId": "ea7b935c-cc07-4c1f-c5c0-363fadfa91df"
      },
      "execution_count": 18,
      "outputs": [
        {
          "output_type": "execute_result",
          "data": {
            "text/plain": [
              "0"
            ]
          },
          "metadata": {},
          "execution_count": 18
        }
      ]
    },
    {
      "cell_type": "code",
      "source": [
        "df_pred = pd.DataFrame()\n",
        "df_pred[\"id\"] = df_test[\"id\"]\n",
        "df_pred[\"which\"] = 0\n",
        "df_pred.loc[logprob2 >= logprob1, [\"which\"]] = 1"
      ],
      "metadata": {
        "id": "cidJDhO0J-hM"
      },
      "execution_count": 37,
      "outputs": []
    },
    {
      "cell_type": "markdown",
      "source": [
        "Возьмём разметку первых 100 примеров и протестируем на ней получившуюся модель "
      ],
      "metadata": {
        "id": "pITWOcyMJiZh"
      }
    },
    {
      "cell_type": "code",
      "source": [
        "df_true = pd.read_csv(\"markup.csv\", sep=',')\n",
        "df_pred = df_pred.head(101)"
      ],
      "metadata": {
        "id": "xVI9xzqeC6q5"
      },
      "execution_count": 38,
      "outputs": []
    },
    {
      "cell_type": "code",
      "source": [
        "def compute_lm_accuracy(y_true, y_pred):\n",
        "  accur = np.array([y_true == y_pred], dtype=int)\n",
        "  print(float(np.sum(accur) / 101))"
      ],
      "metadata": {
        "id": "bEygEhHiC6uC"
      },
      "execution_count": 39,
      "outputs": []
    },
    {
      "cell_type": "code",
      "source": [
        "compute_lm_accuracy(df_true['which'], df_pred['which'])"
      ],
      "metadata": {
        "colab": {
          "base_uri": "https://localhost:8080/"
        },
        "id": "IwcHpcipKhAO",
        "outputId": "b659ecb2-d130-489e-b929-7e880cfe25e0"
      },
      "execution_count": 40,
      "outputs": [
        {
          "output_type": "stream",
          "name": "stdout",
          "text": [
            "0.9306930693069307\n"
          ]
        }
      ]
    },
    {
      "cell_type": "markdown",
      "source": [
        "Попробуем применить любое другое значение $\\alpha$ в обучении модели"
      ],
      "metadata": {
        "id": "054KiBRNK6Aq"
      }
    },
    {
      "cell_type": "code",
      "source": [
        "another_lm = LanguageModel(alpha=0.05)"
      ],
      "metadata": {
        "id": "0WcW7wkuK2BJ"
      },
      "execution_count": 41,
      "outputs": []
    },
    {
      "cell_type": "code",
      "source": [
        "another_lm.fit(sentences=sentences_train)"
      ],
      "metadata": {
        "colab": {
          "base_uri": "https://localhost:8080/"
        },
        "id": "SOTwKsakLd9S",
        "outputId": "f6ba7347-ee1f-42db-ecda-f069c4562875"
      },
      "execution_count": 42,
      "outputs": [
        {
          "output_type": "stream",
          "name": "stdout",
          "text": [
            "Fitting sentences\n",
            "Summing...\n",
            "shapes:  (117870,) (12781,)\n",
            "Iterating through ngrams...\n"
          ]
        },
        {
          "output_type": "execute_result",
          "data": {
            "text/plain": [
              "<__main__.LanguageModel at 0x7fb581254a60>"
            ]
          },
          "metadata": {},
          "execution_count": 42
        }
      ]
    },
    {
      "cell_type": "code",
      "source": [
        "another_lm.perplexity()"
      ],
      "metadata": {
        "colab": {
          "base_uri": "https://localhost:8080/"
        },
        "id": "B4tkL0kJypAx",
        "outputId": "fc9756f6-9929-4d9d-96e4-de08a4568abd"
      },
      "execution_count": 43,
      "outputs": [
        {
          "output_type": "execute_result",
          "data": {
            "text/plain": [
              "9.078430401874258e+26"
            ]
          },
          "metadata": {},
          "execution_count": 43
        }
      ]
    },
    {
      "cell_type": "code",
      "source": [
        "another_lm.perplexity() < basic_lm.perplexity()"
      ],
      "metadata": {
        "colab": {
          "base_uri": "https://localhost:8080/"
        },
        "id": "u-fg2oTL0J6u",
        "outputId": "60b7249f-66e4-4b4e-f891-99cd56956c42"
      },
      "execution_count": 44,
      "outputs": [
        {
          "output_type": "execute_result",
          "data": {
            "text/plain": [
              "True"
            ]
          },
          "metadata": {},
          "execution_count": 44
        }
      ]
    },
    {
      "cell_type": "code",
      "source": [
        "logprob1, logprob2 = np.array(another_lm.log_prob(test1)), np.array(another_lm.log_prob(test2))"
      ],
      "metadata": {
        "id": "N8B0OommLeCz"
      },
      "execution_count": 45,
      "outputs": []
    },
    {
      "cell_type": "code",
      "source": [
        "df_pred = pd.DataFrame()\n",
        "df_pred[\"id\"] = df_test[\"id\"]\n",
        "df_pred[\"which\"] = 0\n",
        "df_pred.loc[logprob2 >= logprob1, [\"which\"]] = 1"
      ],
      "metadata": {
        "id": "jIWV_JZmLeKN"
      },
      "execution_count": 46,
      "outputs": []
    },
    {
      "cell_type": "code",
      "source": [
        "df_pred = df_pred.head(101)"
      ],
      "metadata": {
        "id": "3UYcasWRMvmq"
      },
      "execution_count": 47,
      "outputs": []
    },
    {
      "cell_type": "code",
      "source": [
        "compute_lm_accuracy(df_true['which'], df_pred['which'])"
      ],
      "metadata": {
        "colab": {
          "base_uri": "https://localhost:8080/"
        },
        "id": "5JU3pXnYMoZu",
        "outputId": "5385d18a-6df6-4c49-bc35-793488bafddb"
      },
      "execution_count": 48,
      "outputs": [
        {
          "output_type": "stream",
          "name": "stdout",
          "text": [
            "0.9306930693069307\n"
          ]
        }
      ]
    }
  ]
}